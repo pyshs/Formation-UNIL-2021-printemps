{
 "cells": [
  {
   "cell_type": "markdown",
   "id": "fantastic-leeds",
   "metadata": {},
   "source": [
    "# Statistiques et visualisations\n",
    "\n",
    "Partons d'un jeu de donnée déjà mis en forme et réalisons des statistiques"
   ]
  },
  {
   "cell_type": "markdown",
   "id": "planned-restoration",
   "metadata": {},
   "source": [
    "## Chargeons le jeu de données"
   ]
  },
  {
   "cell_type": "code",
   "execution_count": null,
   "id": "quarterly-diversity",
   "metadata": {},
   "outputs": [],
   "source": [
    "import pandas as pd\n",
    "import numpy as np\n",
    "data = pd.read_excel(\"./Data/tableau_statistiques.xlsx\")"
   ]
  },
  {
   "cell_type": "code",
   "execution_count": null,
   "id": "juvenile-recycling",
   "metadata": {},
   "outputs": [],
   "source": [
    "data.head()"
   ]
  },
  {
   "cell_type": "markdown",
   "id": "overall-chart",
   "metadata": {},
   "source": [
    "## Statistiques descriptives"
   ]
  },
  {
   "cell_type": "markdown",
   "id": "bacterial-thesis",
   "metadata": {},
   "source": [
    "### Indicateurs classiques : médiane, moyenne, écart-type, etc."
   ]
  },
  {
   "cell_type": "markdown",
   "id": "representative-harris",
   "metadata": {},
   "source": [
    "Nous pouvons sélectionner la colonne que nous désisons, et utiliser des méthodes présente:"
   ]
  },
  {
   "cell_type": "code",
   "execution_count": null,
   "id": "fundamental-coast",
   "metadata": {},
   "outputs": [],
   "source": [
    "s = data['nombre_ig']\n"
   ]
  },
  {
   "cell_type": "markdown",
   "id": "boolean-disposition",
   "metadata": {},
   "source": [
    "Si les méthodes ne sont pas disponnibles, on peut utiliser des function extérieures:"
   ]
  },
  {
   "cell_type": "code",
   "execution_count": null,
   "id": "embedded-editor",
   "metadata": {},
   "outputs": [],
   "source": [
    "import numpy as np\n",
    "np.min(s), np.max(s)"
   ]
  },
  {
   "cell_type": "markdown",
   "id": "cardiovascular-maker",
   "metadata": {},
   "source": [
    "Nous pouvons aussi essayer de faire une opération sur tout le tableau..."
   ]
  },
  {
   "cell_type": "code",
   "execution_count": null,
   "id": "geographic-occurrence",
   "metadata": {},
   "outputs": [],
   "source": [
    "np.mean(data), data.mean()"
   ]
  },
  {
   "cell_type": "code",
   "execution_count": null,
   "id": "comfortable-tower",
   "metadata": {},
   "outputs": [],
   "source": [
    "data['Titre'].apply(type).unique()"
   ]
  },
  {
   "cell_type": "markdown",
   "id": "varying-luther",
   "metadata": {},
   "source": [
    "# Détour: dtypes"
   ]
  },
  {
   "cell_type": "markdown",
   "id": "internal-insulin",
   "metadata": {},
   "source": [
    "## Visualiser"
   ]
  },
  {
   "cell_type": "markdown",
   "id": "critical-chosen",
   "metadata": {},
   "source": [
    "### Faire des visualisations simples avec Pandas"
   ]
  },
  {
   "cell_type": "markdown",
   "id": "victorian-punishment",
   "metadata": {},
   "source": [
    "#### Diagramme en barres (tri à plat journaux)"
   ]
  },
  {
   "cell_type": "markdown",
   "id": "hybrid-lotus",
   "metadata": {},
   "source": [
    "#### Histogramme"
   ]
  },
  {
   "cell_type": "markdown",
   "id": "conceptual-tradition",
   "metadata": {},
   "source": [
    "Exercice : lookt at `plot.kde` "
   ]
  },
  {
   "cell_type": "markdown",
   "id": "outside-islam",
   "metadata": {},
   "source": [
    "#### Nuage de points"
   ]
  },
  {
   "cell_type": "markdown",
   "id": "external-acquisition",
   "metadata": {},
   "source": [
    "#### Evolution temporelle"
   ]
  },
  {
   "cell_type": "markdown",
   "id": "retained-kennedy",
   "metadata": {},
   "source": [
    "## Boxplot"
   ]
  },
  {
   "cell_type": "markdown",
   "id": "statistical-theme",
   "metadata": {},
   "source": [
    "### Violin plot"
   ]
  },
  {
   "cell_type": "code",
   "execution_count": null,
   "id": "utility-photography",
   "metadata": {},
   "outputs": [],
   "source": [
    "import seaborn as sns\n"
   ]
  },
  {
   "cell_type": "code",
   "execution_count": null,
   "id": "collect-journalism",
   "metadata": {},
   "outputs": [],
   "source": [
    "from IPython.display import Image\n",
    "Image('Data/BoxViolinSmaller.gif')"
   ]
  },
  {
   "cell_type": "markdown",
   "id": "aquatic-therapist",
   "metadata": {},
   "source": [
    "# intermede groupby."
   ]
  },
  {
   "cell_type": "markdown",
   "id": "proof-current",
   "metadata": {},
   "source": [
    "### Mettre en forme ses graphiques avec Matplotlib"
   ]
  },
  {
   "cell_type": "markdown",
   "id": "ordered-meditation",
   "metadata": {},
   "source": [
    "#### Quelques mots sur la philosophie de matplotlib"
   ]
  },
  {
   "cell_type": "markdown",
   "id": "rising-adaptation",
   "metadata": {},
   "source": [
    "Vous pouvez _tout_ controler. Mais vous devez tout controler. Il y a peu de 'Magie'.\n",
    "\n",
    "Creer une figure et un ou des `Axes`.\n",
    "  - sur chaque `Axes`, faire le graph correspondant avec les donnees voulues.\n"
   ]
  },
  {
   "cell_type": "markdown",
   "id": "requested-teens",
   "metadata": {},
   "source": [
    "#### Dimension, couleurs, etc."
   ]
  },
  {
   "cell_type": "markdown",
   "id": "heated-johnston",
   "metadata": {},
   "source": [
    "### Aller vers des visualisations plus complexes"
   ]
  },
  {
   "cell_type": "markdown",
   "id": "announced-success",
   "metadata": {},
   "source": [
    "#### Ajouter des annotations sur un graphique"
   ]
  },
  {
   "cell_type": "markdown",
   "id": "union-litigation",
   "metadata": {},
   "source": [
    "#### Mettre plusieurs graphiques ensemble"
   ]
  },
  {
   "cell_type": "markdown",
   "id": "patient-housing",
   "metadata": {},
   "source": [
    "# note on data format"
   ]
  },
  {
   "cell_type": "code",
   "execution_count": null,
   "id": "exterior-philip",
   "metadata": {},
   "outputs": [],
   "source": []
  }
 ],
 "metadata": {
  "kernelspec": {
   "display_name": "Python 3",
   "language": "python",
   "name": "python3"
  },
  "language_info": {
   "codemirror_mode": {
    "name": "ipython",
    "version": 3
   },
   "file_extension": ".py",
   "mimetype": "text/x-python",
   "name": "python",
   "nbconvert_exporter": "python",
   "pygments_lexer": "ipython3",
   "version": "3.8.5"
  }
 },
 "nbformat": 4,
 "nbformat_minor": 5
}
