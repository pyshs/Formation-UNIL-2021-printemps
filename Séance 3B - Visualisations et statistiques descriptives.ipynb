{
 "cells": [
  {
   "cell_type": "markdown",
   "id": "patient-burden",
   "metadata": {},
   "source": [
    "# Statistiques et visualisations\n",
    "\n",
    "Partons d'un jeu de donnée déjà mis en forme et réalisons des statistiques"
   ]
  },
  {
   "cell_type": "markdown",
   "id": "leading-ensemble",
   "metadata": {},
   "source": [
    "## Chargeons le jeu de données"
   ]
  },
  {
   "cell_type": "code",
   "execution_count": 3,
   "id": "bored-grass",
   "metadata": {},
   "outputs": [
    {
     "data": {
      "text/html": [
       "<div>\n",
       "<style scoped>\n",
       "    .dataframe tbody tr th:only-of-type {\n",
       "        vertical-align: middle;\n",
       "    }\n",
       "\n",
       "    .dataframe tbody tr th {\n",
       "        vertical-align: top;\n",
       "    }\n",
       "\n",
       "    .dataframe thead th {\n",
       "        text-align: right;\n",
       "    }\n",
       "</style>\n",
       "<table border=\"1\" class=\"dataframe\">\n",
       "  <thead>\n",
       "    <tr style=\"text-align: right;\">\n",
       "      <th></th>\n",
       "      <th>Unnamed: 0</th>\n",
       "      <th>Unnamed: 0.1</th>\n",
       "      <th>Date</th>\n",
       "      <th>Titre</th>\n",
       "      <th>Journal</th>\n",
       "      <th>Contenu</th>\n",
       "      <th>Auteur</th>\n",
       "      <th>nombre_ig</th>\n",
       "      <th>nombre_mots</th>\n",
       "      <th>densite</th>\n",
       "    </tr>\n",
       "  </thead>\n",
       "  <tbody>\n",
       "    <tr>\n",
       "      <th>0</th>\n",
       "      <td>0</td>\n",
       "      <td>0</td>\n",
       "      <td>Le Figaro,  vendredi 26 février 2021 736 mots...</td>\n",
       "      <td>ISLAMO-GAUCHISME</td>\n",
       "      <td>Figaro</td>\n",
       "      <td>- « Fantasme » pour les uns, « slogan d'ext...</td>\n",
       "      <td>Bastié, Eugénie</td>\n",
       "      <td>8</td>\n",
       "      <td>793</td>\n",
       "      <td>0.010088</td>\n",
       "    </tr>\n",
       "    <tr>\n",
       "      <th>1</th>\n",
       "      <td>1</td>\n",
       "      <td>1</td>\n",
       "      <td>jeudi 18 février 2021 1480 mots, p. 2,3,4</td>\n",
       "      <td>Sa maison brûle et Vidal regarde l'«islamo-ga...</td>\n",
       "      <td>Libération</td>\n",
       "      <td>Qu'arrive-t-il à Frédérique Vidal ? Des étud...</td>\n",
       "      <td>Par SIMON BLIN et BERNADETTE SAUVAGET</td>\n",
       "      <td>7</td>\n",
       "      <td>1407</td>\n",
       "      <td>0.004975</td>\n",
       "    </tr>\n",
       "    <tr>\n",
       "      <th>2</th>\n",
       "      <td>2</td>\n",
       "      <td>2</td>\n",
       "      <td>Le Figaro,  samedi 20 février 2021 932 mots, ...</td>\n",
       "      <td>« L'université est l'otage des idéologues rad...</td>\n",
       "      <td>Figaro</td>\n",
       "      <td>XAVIER-LAURENT SALVADOR, maître de conféren...</td>\n",
       "      <td>Devecchio, Alexandre</td>\n",
       "      <td>7</td>\n",
       "      <td>963</td>\n",
       "      <td>0.007269</td>\n",
       "    </tr>\n",
       "    <tr>\n",
       "      <th>3</th>\n",
       "      <td>3</td>\n",
       "      <td>3</td>\n",
       "      <td>Le Figaro,  vendredi 12 février 2021 1486 mot...</td>\n",
       "      <td>L'islamo-gauchisme prospère dans les universi...</td>\n",
       "      <td>Figaro</td>\n",
       "      <td>DIFFAMÉ car qualifié d'islamo-gauchiste ? L...</td>\n",
       "      <td>Beyer, Caroline</td>\n",
       "      <td>4</td>\n",
       "      <td>1585</td>\n",
       "      <td>0.002524</td>\n",
       "    </tr>\n",
       "    <tr>\n",
       "      <th>4</th>\n",
       "      <td>4</td>\n",
       "      <td>4</td>\n",
       "      <td>vendredi 26 février 2021 992 mots, p. 16,17</td>\n",
       "      <td>Sur l'«islamogauchisme», les chercheurs s'éch...</td>\n",
       "      <td>Libération</td>\n",
       "      <td>Pendant que les étudiants grossissent les fi...</td>\n",
       "      <td>Par SIMON BLIN</td>\n",
       "      <td>6</td>\n",
       "      <td>934</td>\n",
       "      <td>0.006424</td>\n",
       "    </tr>\n",
       "    <tr>\n",
       "      <th>...</th>\n",
       "      <td>...</td>\n",
       "      <td>...</td>\n",
       "      <td>...</td>\n",
       "      <td>...</td>\n",
       "      <td>...</td>\n",
       "      <td>...</td>\n",
       "      <td>...</td>\n",
       "      <td>...</td>\n",
       "      <td>...</td>\n",
       "      <td>...</td>\n",
       "    </tr>\n",
       "    <tr>\n",
       "      <th>166</th>\n",
       "      <td>166</td>\n",
       "      <td>166</td>\n",
       "      <td>Le Figaro,  vendredi 5 mars 2021 1031 mots, p...</td>\n",
       "      <td>Pourquoi la diabolisation n'effraie plus</td>\n",
       "      <td>Figaro</td>\n",
       "      <td>Panique à gauche. La diabolisation ne foncti...</td>\n",
       "      <td>Rioufol, Ivan</td>\n",
       "      <td>1</td>\n",
       "      <td>1082</td>\n",
       "      <td>0.000924</td>\n",
       "    </tr>\n",
       "    <tr>\n",
       "      <th>167</th>\n",
       "      <td>167</td>\n",
       "      <td>167</td>\n",
       "      <td>Le Figaro,  samedi 6 mars 2021 561 mots, p. 14</td>\n",
       "      <td>Deux profs de l'IEP de Grenoble menacés Placa...</td>\n",
       "      <td>Figaro</td>\n",
       "      <td>ENSEIGNEMENT  « Des fascistes dans nos amphi...</td>\n",
       "      <td>Sugy, Paul</td>\n",
       "      <td>1</td>\n",
       "      <td>567</td>\n",
       "      <td>0.001764</td>\n",
       "    </tr>\n",
       "    <tr>\n",
       "      <th>168</th>\n",
       "      <td>168</td>\n",
       "      <td>168</td>\n",
       "      <td>mercredi 3 mars 2021 46 mots, p. 24</td>\n",
       "      <td>Bonnet d'âne</td>\n",
       "      <td>L'Humanité</td>\n",
       "      <td>« Si ça n'existe pas, regardons-le ensemble....</td>\n",
       "      <td>NaN</td>\n",
       "      <td>1</td>\n",
       "      <td>47</td>\n",
       "      <td>0.021277</td>\n",
       "    </tr>\n",
       "    <tr>\n",
       "      <th>169</th>\n",
       "      <td>169</td>\n",
       "      <td>169</td>\n",
       "      <td>Le Figaro,  mardi 2 mars 2021 558 mots, p. 4</td>\n",
       "      <td>Jacques Maire (LREM) : « Cette coalition doit...</td>\n",
       "      <td>Figaro</td>\n",
       "      <td>UNE DIFFÉRENCE de points de vue «   normale...</td>\n",
       "      <td>Cohen, Dinah</td>\n",
       "      <td>1</td>\n",
       "      <td>591</td>\n",
       "      <td>0.001692</td>\n",
       "    </tr>\n",
       "    <tr>\n",
       "      <th>170</th>\n",
       "      <td>170</td>\n",
       "      <td>170</td>\n",
       "      <td>Le Figaro,  samedi 6 mars 2021 774 mots, p. 19</td>\n",
       "      <td>La gauche arbitre des élégances</td>\n",
       "      <td>Figaro</td>\n",
       "      <td>Alors que la polémique sur l'islamo-gauchism...</td>\n",
       "      <td>Bastié, Eugénie</td>\n",
       "      <td>1</td>\n",
       "      <td>816</td>\n",
       "      <td>0.001225</td>\n",
       "    </tr>\n",
       "  </tbody>\n",
       "</table>\n",
       "<p>171 rows × 10 columns</p>\n",
       "</div>"
      ],
      "text/plain": [
       "     Unnamed: 0  Unnamed: 0.1  \\\n",
       "0             0             0   \n",
       "1             1             1   \n",
       "2             2             2   \n",
       "3             3             3   \n",
       "4             4             4   \n",
       "..          ...           ...   \n",
       "166         166           166   \n",
       "167         167           167   \n",
       "168         168           168   \n",
       "169         169           169   \n",
       "170         170           170   \n",
       "\n",
       "                                                  Date  \\\n",
       "0     Le Figaro,  vendredi 26 février 2021 736 mots...   \n",
       "1           jeudi 18 février 2021 1480 mots, p. 2,3,4    \n",
       "2     Le Figaro,  samedi 20 février 2021 932 mots, ...   \n",
       "3     Le Figaro,  vendredi 12 février 2021 1486 mot...   \n",
       "4         vendredi 26 février 2021 992 mots, p. 16,17    \n",
       "..                                                 ...   \n",
       "166   Le Figaro,  vendredi 5 mars 2021 1031 mots, p...   \n",
       "167    Le Figaro,  samedi 6 mars 2021 561 mots, p. 14    \n",
       "168               mercredi 3 mars 2021 46 mots, p. 24    \n",
       "169      Le Figaro,  mardi 2 mars 2021 558 mots, p. 4    \n",
       "170    Le Figaro,  samedi 6 mars 2021 774 mots, p. 19    \n",
       "\n",
       "                                                 Titre         Journal  \\\n",
       "0                                    ISLAMO-GAUCHISME           Figaro   \n",
       "1     Sa maison brûle et Vidal regarde l'«islamo-ga...   Libération      \n",
       "2     « L'université est l'otage des idéologues rad...          Figaro   \n",
       "3     L'islamo-gauchisme prospère dans les universi...          Figaro   \n",
       "4     Sur l'«islamogauchisme», les chercheurs s'éch...   Libération      \n",
       "..                                                 ...             ...   \n",
       "166          Pourquoi la diabolisation n'effraie plus           Figaro   \n",
       "167   Deux profs de l'IEP de Grenoble menacés Placa...          Figaro   \n",
       "168                                      Bonnet d'âne       L'Humanité   \n",
       "169   Jacques Maire (LREM) : « Cette coalition doit...          Figaro   \n",
       "170                   La gauche arbitre des élégances           Figaro   \n",
       "\n",
       "                                               Contenu  \\\n",
       "0       - « Fantasme » pour les uns, « slogan d'ext...   \n",
       "1      Qu'arrive-t-il à Frédérique Vidal ? Des étud...   \n",
       "2       XAVIER-LAURENT SALVADOR, maître de conféren...   \n",
       "3       DIFFAMÉ car qualifié d'islamo-gauchiste ? L...   \n",
       "4      Pendant que les étudiants grossissent les fi...   \n",
       "..                                                 ...   \n",
       "166    Panique à gauche. La diabolisation ne foncti...   \n",
       "167    ENSEIGNEMENT  « Des fascistes dans nos amphi...   \n",
       "168    « Si ça n'existe pas, regardons-le ensemble....   \n",
       "169     UNE DIFFÉRENCE de points de vue «   normale...   \n",
       "170    Alors que la polémique sur l'islamo-gauchism...   \n",
       "\n",
       "                                    Auteur  nombre_ig  nombre_mots   densite  \n",
       "0                          Bastié, Eugénie          8          793  0.010088  \n",
       "1    Par SIMON BLIN et BERNADETTE SAUVAGET          7         1407  0.004975  \n",
       "2                     Devecchio, Alexandre          7          963  0.007269  \n",
       "3                          Beyer, Caroline          4         1585  0.002524  \n",
       "4                           Par SIMON BLIN          6          934  0.006424  \n",
       "..                                     ...        ...          ...       ...  \n",
       "166                          Rioufol, Ivan          1         1082  0.000924  \n",
       "167                             Sugy, Paul          1          567  0.001764  \n",
       "168                                    NaN          1           47  0.021277  \n",
       "169                           Cohen, Dinah          1          591  0.001692  \n",
       "170                        Bastié, Eugénie          1          816  0.001225  \n",
       "\n",
       "[171 rows x 10 columns]"
      ]
     },
     "execution_count": 3,
     "metadata": {},
     "output_type": "execute_result"
    }
   ],
   "source": [
    "import pandas as pd\n",
    "data = pd.read_excel(\"./Data/tableau_statistiques.xls\")\n",
    "data"
   ]
  },
  {
   "cell_type": "markdown",
   "id": "square-configuration",
   "metadata": {},
   "source": [
    "## Statistiques descriptives"
   ]
  },
  {
   "cell_type": "markdown",
   "id": "defined-alaska",
   "metadata": {},
   "source": [
    "### Indicateurs classiques : médiane, moyenne, écart-type, etc."
   ]
  },
  {
   "cell_type": "markdown",
   "id": "competitive-advocacy",
   "metadata": {},
   "source": [
    "## Visualiser"
   ]
  },
  {
   "cell_type": "markdown",
   "id": "fiscal-soccer",
   "metadata": {},
   "source": [
    "### Faire des visualisations simples avec Pandas"
   ]
  },
  {
   "cell_type": "markdown",
   "id": "modern-display",
   "metadata": {},
   "source": [
    "#### Diagramme en barres (tri à plat journaux)"
   ]
  },
  {
   "cell_type": "markdown",
   "id": "eleven-spanking",
   "metadata": {},
   "source": [
    "#### Histogramme"
   ]
  },
  {
   "cell_type": "markdown",
   "id": "australian-dayton",
   "metadata": {},
   "source": [
    "#### Evolution temporelle"
   ]
  },
  {
   "cell_type": "markdown",
   "id": "moderate-section",
   "metadata": {},
   "source": [
    "#### Nuage de points"
   ]
  },
  {
   "cell_type": "markdown",
   "id": "controlled-peeing",
   "metadata": {},
   "source": [
    "#### Visualisation d'un tableau croisé"
   ]
  },
  {
   "cell_type": "markdown",
   "id": "brown-hollywood",
   "metadata": {},
   "source": [
    "### Mettre en forme ses graphiques avec Matplotlib"
   ]
  },
  {
   "cell_type": "markdown",
   "id": "beneficial-cotton",
   "metadata": {},
   "source": [
    "#### Quelques mots sur la philosophie de matplotlib"
   ]
  },
  {
   "cell_type": "markdown",
   "id": "helpful-adapter",
   "metadata": {},
   "source": [
    "#### Dimension, couleurs, etc."
   ]
  },
  {
   "cell_type": "markdown",
   "id": "entertaining-boulder",
   "metadata": {},
   "source": [
    "### Aller vers des visualisations plus complexes"
   ]
  },
  {
   "cell_type": "markdown",
   "id": "hazardous-drama",
   "metadata": {},
   "source": [
    "#### Ajouter des annotations sur un graphique"
   ]
  },
  {
   "cell_type": "markdown",
   "id": "macro-basics",
   "metadata": {},
   "source": [
    "#### Mettre plusieurs graphiques ensemble"
   ]
  }
 ],
 "metadata": {
  "kernelspec": {
   "display_name": "Python 3",
   "language": "python",
   "name": "python3"
  },
  "language_info": {
   "codemirror_mode": {
    "name": "ipython",
    "version": 3
   },
   "file_extension": ".py",
   "mimetype": "text/x-python",
   "name": "python",
   "nbconvert_exporter": "python",
   "pygments_lexer": "ipython3",
   "version": "3.7.10"
  }
 },
 "nbformat": 4,
 "nbformat_minor": 5
}
