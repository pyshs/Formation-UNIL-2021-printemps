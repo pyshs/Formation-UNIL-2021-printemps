{
 "cells": [
  {
   "cell_type": "markdown",
   "metadata": {},
   "source": [
    "# Premiers pas avec Python\n",
    "\n",
    "Cette séance est dédiée à comprendre les bases du langage, sa synthaxe, mais aussi tous les éléments associés permettant d'exécuter du code.\n",
    "\n",
    "Nous allons le faire de manière appliquée (cela correspondra aux chapitres 2 et 3 du manuel Python pour les SHS).\n",
    "\n",
    "La démarche sera donc d'avancer ensemble sur les différentes manipulations et d'échanger au fur et à mesure sur la base de vos questions.\n",
    "\n",
    "Moi je serais un peu l'utilisateur de base, Matthias a une vision un peu plus avancée.\n",
    "\n",
    "Le fil directeur sera les débats franco-français autour de la pseudo-notion d'islamo-gauchisme dans la presse. Cela nous permettra de manipuler des données réelles et se familiariser progressivement aux traitements.\n",
    "\n",
    "**corpus** : requête sur Europresse TEXT= islamo & (gauchisme | gauchiste) du 03/02 au 03/03\n",
    "\n",
    "Nous allons procéder interactivement à partir de ce document\n",
    "\n",
    "Deux manières de suivre le cours :\n",
    "- suivre avec nous les étapes\n",
    "- directement partir sur l'exercice de fin et interagir avec Matthias ou Emilien dans la salle complémentaire pour débugguer.\n",
    "\n",
    "**Objectif final de la séance**: Écrire un script qui permet de compter le nombre de mots d'articles collectés dans des documents textes.\n",
    "\n",
    "Au passage, ce sera aussi l'occasion de nous poser plein de questions sur les données, le fonctionnement de l'ordinateur, etc.\n",
    "\n",
    "**Première séance : cette formation est donnée pour la première fois donc vous êtes appelés à la faire évoluer pour l'adapter au mieux à vos besoins**"
   ]
  },
  {
   "cell_type": "markdown",
   "metadata": {},
   "source": [
    "## 0. Quelques petits points de départs\n",
    "\n",
    "Petit tour de table des objectifs : **dans l'idéal, en une phrase, qu'est-ce que vous voudriez faire ?**\n",
    "\n",
    "- Un bon code est un code écrit\n",
    "- Testez pour voir si ça marche\n",
    "- Vous allez faire des erreurs bêtes\n",
    "- Vous allez devoir chercher de l'aide\n",
    "- N'hésitez jamais à poser une question\n",
    "\n",
    "**Attention : apprendre prend du temps, ne soyez pas découragés**"
   ]
  },
  {
   "cell_type": "markdown",
   "metadata": {},
   "source": [
    "## 1. Exécuter un morceau de code\n",
    "\n",
    "- Où faire du Python ?\n",
    "- Comment le langage est transformé en un traitement ?\n",
    "- Pourquoi utiliser le Jupyter Notebook ?\n",
    "\n",
    "Aller sur le Github, récupérer le code dans le fichier code.py et le copier ci-dessous pour l'exécuter"
   ]
  },
  {
   "cell_type": "markdown",
   "metadata": {},
   "source": [
    "## 2. Les bases de la syntaxe :\n",
    "\n",
    "Prenons une-à-une les lignes du code précédent pour plonger dans Python\n",
    "\n",
    "- variables et types\n",
    "  - les nombres\n",
    "  - les listes et dictionnaires\n",
    "  - les chaînes de caractères\n",
    "  - et tellement d'autres...\n",
    "- les fonctions et les méthodes\n",
    "- les erreurs, les commentaires et l'aide\n",
    "- les blocs du code\n",
    "  - les conditions avec if\n",
    "  - les boucles avec for\n",
    "  - définir une fonction\n",
    "  - ouvrir et fermer un fichier"
   ]
  },
  {
   "cell_type": "markdown",
   "metadata": {},
   "source": [
    "## 3. Les bibliothèques"
   ]
  },
  {
   "cell_type": "markdown",
   "metadata": {},
   "source": [
    "### 3.1 Principe de base & usage de la bibliothèque math"
   ]
  },
  {
   "cell_type": "markdown",
   "metadata": {},
   "source": [
    "### 2.3 Installer une bibliothèque"
   ]
  },
  {
   "cell_type": "markdown",
   "metadata": {},
   "source": [
    "### 3.2 Mettre en forme le tableau avec Pandas, une bibliothèque que l'on retrouvera"
   ]
  },
  {
   "cell_type": "markdown",
   "metadata": {},
   "source": [
    "## 4. Mettre les mains dans la pâte\n",
    "\n",
    "Dans le fichier articles.zip, il y a le texte des articles. L'objectif est de les ouvrir et d'en faire un tableau."
   ]
  }
 ],
 "metadata": {
  "kernelspec": {
   "display_name": "Python 3",
   "language": "python",
   "name": "python3"
  },
  "language_info": {
   "codemirror_mode": {
    "name": "ipython",
    "version": 3
   },
   "file_extension": ".py",
   "mimetype": "text/x-python",
   "name": "python",
   "nbconvert_exporter": "python",
   "pygments_lexer": "ipython3",
   "version": "3.7.7"
  }
 },
 "nbformat": 4,
 "nbformat_minor": 4
}
