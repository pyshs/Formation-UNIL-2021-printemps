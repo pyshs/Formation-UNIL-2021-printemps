{
 "cells": [
  {
   "cell_type": "markdown",
   "metadata": {},
   "source": [
    "# Premiers pas avec Python\n",
    "\n",
    "Cette séance est dédiée à comprendre les bases du langage, sa synthaxe, mais aussi tous les éléments associés permettant d'exécuter du code.\n",
    "\n",
    "Nous allons le faire de manière appliquée (cela correspondra aux chapitres 2 et 3 du manuel Python pour les SHS).\n",
    "\n",
    "Le fil directeur sera les débats franco-français autour de la pseudo-notion d'islamo-gauchisme dans la presse. Cela nous permettra de manipuler des données réelles et se familiariser progressivement aux traitements.\n",
    "\n",
    "**corpus** : requête sur Europresse TEXT= islamo & (gauchisme | gauchiste) du 03/02 au 03/03"
   ]
  },
  {
   "cell_type": "markdown",
   "metadata": {},
   "source": [
    "## 0. Petit mantra pour bien commencer\n",
    "\n",
    "Petit tour de table des objectifs\n",
    "\n",
    "- Un bon code est un code écrit\n",
    "- Testez pour voir si ça marche\n",
    "- Vous allez faire des erreurs bêtes\n",
    "- Vous allez devoir chercher de l'aide\n",
    "- N'hésitez jamais à poser une question"
   ]
  },
  {
   "cell_type": "markdown",
   "metadata": {},
   "source": [
    "## 1. Exécuter un morceau de code\n",
    "\n",
    "- Où faire du Python ?\n",
    "- Comment le langage est transformé en un traitement ?\n",
    "- Pourquoi utiliser le Jupyter Notebook ?\n",
    "\n",
    "Aller sur le Github, récupérer le code dans le fichier code.py et le copier ci-dessous pour l'exécuter"
   ]
  },
  {
   "cell_type": "markdown",
   "metadata": {},
   "source": [
    "## 2. Les bases de la syntaxe :\n",
    "\n",
    "Prenons une-à-une les lignes du code précédent pour plonger dans Python\n",
    "\n",
    "- variables et types\n",
    "  - les nombres\n",
    "  - les listes et dictionnaires\n",
    "  - les chaînes de caractères\n",
    "  - et tellement d'autres...\n",
    "- les fonctions et les méthodes\n",
    "- les erreurs, les commentaires et l'aide\n",
    "- les blocs du code\n",
    "  - les conditions avec if\n",
    "  - les boucles avec for\n",
    "  - définir une fonction"
   ]
  },
  {
   "cell_type": "markdown",
   "metadata": {},
   "source": [
    "### 2.1 Les différents types de variables"
   ]
  },
  {
   "cell_type": "markdown",
   "metadata": {},
   "source": [
    "### 2.2 Les fonctions de base de Python\n"
   ]
  },
  {
   "cell_type": "markdown",
   "metadata": {},
   "source": [
    "### 2.3 Les principaux blocs"
   ]
  },
  {
   "cell_type": "markdown",
   "metadata": {},
   "source": [
    "### 2.4 Ouvrir un fichier pour lire l'information"
   ]
  },
  {
   "cell_type": "markdown",
   "metadata": {},
   "source": [
    "## 3. Les bibliothèques"
   ]
  },
  {
   "cell_type": "markdown",
   "metadata": {},
   "source": [
    "### 3.1 Faisons des statistiques \"de base\" avec math"
   ]
  },
  {
   "cell_type": "markdown",
   "metadata": {},
   "source": [
    "### 3.2 Mettre en forme le tableau avec Pandas"
   ]
  },
  {
   "cell_type": "markdown",
   "metadata": {},
   "source": [
    "## 4. Mettre les mains dans la pâte\n",
    "\n",
    "Dans le fichier articles.zip, il y a le texte des articles. L'objectif est de les ouvrir et d'en faire un tableau."
   ]
  }
 ],
 "metadata": {
  "kernelspec": {
   "display_name": "Python 3",
   "language": "python",
   "name": "python3"
  },
  "language_info": {
   "codemirror_mode": {
    "name": "ipython",
    "version": 3
   },
   "file_extension": ".py",
   "mimetype": "text/x-python",
   "name": "python",
   "nbconvert_exporter": "python",
   "pygments_lexer": "ipython3",
   "version": "3.7.7"
  }
 },
 "nbformat": 4,
 "nbformat_minor": 4
}
