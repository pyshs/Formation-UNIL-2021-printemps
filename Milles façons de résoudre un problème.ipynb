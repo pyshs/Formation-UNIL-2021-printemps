{
 "cells": [
  {
   "cell_type": "markdown",
   "metadata": {},
   "source": [
    "# Résoudre un problème\n",
    "\n",
    "Écrire une fonction qui compte le nombre de mots qui apparaissent une seule fois dans un texte (cela signifie détecter les apax)."
   ]
  },
  {
   "cell_type": "markdown",
   "metadata": {},
   "source": [
    "Face à un tel objectif, il existe de nombreuses solutions. Certaines vont être évidentes. D'autres plus compliquées. Certaines vont nécessiter beaucoup de lignes de code avec des commandes simples. D'autres utilisent des formulation plus compactes spécifiques au langage Python ou à des bibliothèques.\n",
    "\n",
    "En dernier recours, l'important est d'écrire une solution qui fonctionne."
   ]
  },
  {
   "cell_type": "markdown",
   "metadata": {},
   "source": [
    "## Première solution\n",
    "\n",
    "Une première étape est de faire étape par étape ce que l'on souhaite"
   ]
  },
  {
   "cell_type": "markdown",
   "metadata": {},
   "source": [
    "D'abord se donner une phrase"
   ]
  },
  {
   "cell_type": "code",
   "execution_count": 8,
   "metadata": {},
   "outputs": [],
   "source": [
    "phrase = \"Je vais décomposer cette phrase, puis je vais compter le nombre de mots dans cette phrase.\""
   ]
  },
  {
   "cell_type": "markdown",
   "metadata": {},
   "source": [
    "Puis trouver une manière d'identifier les mots. Le plus simple est de considérer qu'un espace sépare deux mots, donc :"
   ]
  },
  {
   "cell_type": "code",
   "execution_count": 6,
   "metadata": {},
   "outputs": [],
   "source": [
    "mots = phrase.split(\" \")"
   ]
  },
  {
   "cell_type": "code",
   "execution_count": 7,
   "metadata": {},
   "outputs": [
    {
     "data": {
      "text/plain": [
       "['Je',\n",
       " 'vais',\n",
       " 'décomposer',\n",
       " 'cette',\n",
       " 'phrase',\n",
       " 'puis',\n",
       " 'je',\n",
       " 'vais',\n",
       " 'compter',\n",
       " 'le',\n",
       " 'nombre',\n",
       " 'de',\n",
       " 'mots',\n",
       " 'dans',\n",
       " 'cette',\n",
       " 'phrase.']"
      ]
     },
     "execution_count": 7,
     "metadata": {},
     "output_type": "execute_result"
    }
   ],
   "source": [
    "mots"
   ]
  },
  {
   "cell_type": "markdown",
   "metadata": {},
   "source": [
    "On remarque qu'il y a des majuscules qui font que deux mots identiques sont identifiés différemment. Et aussi qu'il y a de la ponctuation. Peut-être sera-t-il nécessaire de modifier la phrase initiale pour avoir un résultat plus homogène. Par exemple, mettre en minuscule"
   ]
  },
  {
   "cell_type": "code",
   "execution_count": 14,
   "metadata": {},
   "outputs": [],
   "source": [
    "phrase = phrase.lower()\n",
    "phrase = phrase.replace(\".\",\"\")\n",
    "phrase = phrase.replace(\",\",\"\")\n",
    "\n",
    "mots = phrase.split(\" \")"
   ]
  },
  {
   "cell_type": "markdown",
   "metadata": {},
   "source": [
    "Maintenant, je veux trouver uniquement les mots uniques dans ma phrase. Comment faire ? Une idée simple est de se dire : je vais prendre chaque mot de la phrase, regarder combien de fois il apparaît, s'il n'apparaît qu'une fois, le garder. \n",
    "\n",
    "Cela est facile avec la méthode *count* des chaînes de caractères"
   ]
  },
  {
   "cell_type": "code",
   "execution_count": 20,
   "metadata": {},
   "outputs": [
    {
     "data": {
      "text/plain": [
       "['décomposer', 'puis', 'compter', 'le', 'nombre', 'de', 'mots', 'dans']"
      ]
     },
     "execution_count": 20,
     "metadata": {},
     "output_type": "execute_result"
    }
   ],
   "source": [
    "# définir une liste vide\n",
    "mots_uniques = []\n",
    "\n",
    "# faire une boucle sur les mots et ajouter uniquement une fois chaque mots\n",
    "for mot in mots:\n",
    "    nombre_presence = phrase.count(mot)\n",
    "    if nombre_presence == 1:\n",
    "        mots_uniques.append(mot)\n",
    "mots_uniques"
   ]
  },
  {
   "cell_type": "markdown",
   "metadata": {},
   "source": [
    "## Deuxième solution\n",
    "\n",
    "Une solution plus compacte peut être fait avec la notation de compréhension de liste"
   ]
  },
  {
   "cell_type": "code",
   "execution_count": 21,
   "metadata": {},
   "outputs": [
    {
     "data": {
      "text/plain": [
       "['décomposer', 'puis', 'compter', 'le', 'nombre', 'de', 'mots', 'dans']"
      ]
     },
     "execution_count": 21,
     "metadata": {},
     "output_type": "execute_result"
    }
   ],
   "source": [
    "[mot for mot in mots if phrase.count(mot)==1]"
   ]
  },
  {
   "cell_type": "markdown",
   "metadata": {},
   "source": [
    "## Troisième solution\n",
    "\n",
    "Vous vous dites que cette situation est un cas particulier d'une situation plus générale : compter le nombre de fois où un mots est présent dans un texte, et filtrer ensuite suivant un critère (une fois).\n",
    "\n",
    "Donc peut-être est-il intéressant de construire une structure qui récapitule pour chaque mot sa fréquence. Un lien entre une entrée et une valeur peut se mettre sous la forme d'un dictionnaire."
   ]
  },
  {
   "cell_type": "code",
   "execution_count": 22,
   "metadata": {},
   "outputs": [
    {
     "data": {
      "text/plain": [
       "{'je': 2,\n",
       " 'vais': 2,\n",
       " 'décomposer': 1,\n",
       " 'cette': 2,\n",
       " 'phrase': 2,\n",
       " 'puis': 1,\n",
       " 'compter': 1,\n",
       " 'le': 1,\n",
       " 'nombre': 1,\n",
       " 'de': 1,\n",
       " 'mots': 1,\n",
       " 'dans': 1}"
      ]
     },
     "execution_count": 22,
     "metadata": {},
     "output_type": "execute_result"
    }
   ],
   "source": [
    "frequence_mots = {}\n",
    "for mot in mots:\n",
    "    # Si le mot n'est pas dans le dictionnaire, le mettre\n",
    "    if not mot in frequence_mots:\n",
    "        frequence_mots[mot] = 1\n",
    "    else:\n",
    "        frequence_mots[mot] += 1\n",
    "\n",
    "frequence_mots"
   ]
  },
  {
   "cell_type": "markdown",
   "metadata": {},
   "source": [
    "Il reste plus qu'a garder les mots qui ont une apparition de 1"
   ]
  },
  {
   "cell_type": "code",
   "execution_count": 24,
   "metadata": {},
   "outputs": [
    {
     "data": {
      "text/plain": [
       "['décomposer', 'puis', 'compter', 'le', 'nombre', 'de', 'mots', 'dans']"
      ]
     },
     "execution_count": 24,
     "metadata": {},
     "output_type": "execute_result"
    }
   ],
   "source": [
    "[mot for mot in frequence_mots if frequence_mots[mot]==1]"
   ]
  },
  {
   "cell_type": "markdown",
   "metadata": {},
   "source": [
    "## Quatrième solution\n",
    "\n",
    "Finalement, compter le nombre d'éléments dans un ensemble, c'est une opération assez basique. Sûrement qu'il existe une manière de le faire avec une bibliothèque. C'est le cas."
   ]
  },
  {
   "cell_type": "code",
   "execution_count": 27,
   "metadata": {},
   "outputs": [
    {
     "data": {
      "text/plain": [
       "Counter({'je': 2,\n",
       "         'vais': 2,\n",
       "         'décomposer': 1,\n",
       "         'cette': 2,\n",
       "         'phrase': 2,\n",
       "         'puis': 1,\n",
       "         'compter': 1,\n",
       "         'le': 1,\n",
       "         'nombre': 1,\n",
       "         'de': 1,\n",
       "         'mots': 1,\n",
       "         'dans': 1})"
      ]
     },
     "execution_count": 27,
     "metadata": {},
     "output_type": "execute_result"
    }
   ],
   "source": [
    "from collections import Counter\n",
    "frequence_mots = Counter(mots)\n",
    "frequence_mots"
   ]
  },
  {
   "cell_type": "markdown",
   "metadata": {},
   "source": [
    "J'ai directement le dictionnaire (enveloppé dans un objet de type Counter)."
   ]
  },
  {
   "cell_type": "markdown",
   "metadata": {},
   "source": [
    "## Mettre tout ça sous une fonction\n",
    "\n",
    "Pour pouvoir l'utiliser ensuite plus systématiquement"
   ]
  },
  {
   "cell_type": "code",
   "execution_count": 30,
   "metadata": {},
   "outputs": [],
   "source": [
    "def apax(texte):\n",
    "    mots = texte.lower().replace(\".\",\"\").replace(\",\",\"\").split(\" \")\n",
    "    frequence_mots = Counter(mots)\n",
    "    return [mot for mot in frequence_mots if frequence_mots[mot]==1]"
   ]
  },
  {
   "cell_type": "markdown",
   "metadata": {},
   "source": [
    "Utiliser la fonction"
   ]
  },
  {
   "cell_type": "code",
   "execution_count": 33,
   "metadata": {},
   "outputs": [
    {
     "data": {
      "text/plain": [
       "['arrivé', 'parti']"
      ]
     },
     "execution_count": 33,
     "metadata": {},
     "output_type": "execute_result"
    }
   ],
   "source": [
    "apax(\"Il est arrivé. Il est parti.\")"
   ]
  }
 ],
 "metadata": {
  "kernelspec": {
   "display_name": "Python 3",
   "language": "python",
   "name": "python3"
  },
  "language_info": {
   "codemirror_mode": {
    "name": "ipython",
    "version": 3
   },
   "file_extension": ".py",
   "mimetype": "text/x-python",
   "name": "python",
   "nbconvert_exporter": "python",
   "pygments_lexer": "ipython3",
   "version": "3.7.10"
  }
 },
 "nbformat": 4,
 "nbformat_minor": 4
}
