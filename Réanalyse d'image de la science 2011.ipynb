{
 "cells": [
  {
   "cell_type": "markdown",
   "metadata": {},
   "source": [
    "# Réanalyse données images de la science"
   ]
  },
  {
   "cell_type": "code",
   "execution_count": 2,
   "metadata": {},
   "outputs": [
    {
     "name": "stdout",
     "output_type": "stream",
     "text": [
      "/Users/emilien/Dropbox/Python pour les SHS/Formations/Formation-unil/Data\n"
     ]
    }
   ],
   "source": [
    "cd Data"
   ]
  },
  {
   "cell_type": "code",
   "execution_count": 4,
   "metadata": {},
   "outputs": [
    {
     "name": "stdout",
     "output_type": "stream",
     "text": [
      "Requirement already satisfied: pyreadstat in /Users/emilien/anaconda3/envs/p37/lib/python3.7/site-packages (1.0.0)\n",
      "Requirement already satisfied: pandas>0.24.0 in /Users/emilien/anaconda3/envs/p37/lib/python3.7/site-packages (from pyreadstat) (1.0.3)\n",
      "Requirement already satisfied: numpy>=1.13.3 in /Users/emilien/anaconda3/envs/p37/lib/python3.7/site-packages (from pandas>0.24.0->pyreadstat) (1.18.2)\n",
      "Requirement already satisfied: pytz>=2017.2 in /Users/emilien/anaconda3/envs/p37/lib/python3.7/site-packages (from pandas>0.24.0->pyreadstat) (2019.3)\n",
      "Requirement already satisfied: python-dateutil>=2.6.1 in /Users/emilien/anaconda3/envs/p37/lib/python3.7/site-packages (from pandas>0.24.0->pyreadstat) (2.8.1)\n",
      "Requirement already satisfied: six>=1.5 in /Users/emilien/anaconda3/envs/p37/lib/python3.7/site-packages (from python-dateutil>=2.6.1->pandas>0.24.0->pyreadstat) (1.14.0)\n"
     ]
    }
   ],
   "source": [
    "!pip install pyreadstat"
   ]
  },
  {
   "cell_type": "code",
   "execution_count": 1,
   "metadata": {},
   "outputs": [],
   "source": [
    "import pyreadstat"
   ]
  },
  {
   "cell_type": "code",
   "execution_count": 4,
   "metadata": {},
   "outputs": [
    {
     "data": {
      "text/plain": [
       "(1027, 188)"
      ]
     },
     "execution_count": 4,
     "metadata": {},
     "output_type": "execute_result"
    }
   ],
   "source": [
    "data,meta = pyreadstat.read_sav(\"Data/fr.cdsp.ddi.sav\")\n",
    "data.shape"
   ]
  },
  {
   "cell_type": "code",
   "execution_count": 10,
   "metadata": {},
   "outputs": [
    {
     "data": {
      "text/plain": [
       "{'ident': 'Identifiant répondant',\n",
       " 'poids1': 'Poids',\n",
       " 'in06': 'Département',\n",
       " 'regsof': 'Région de résidence (Régions Sofop)',\n",
       " 'habp': \"Catégorie d'agglomération\",\n",
       " 'rs1': 'Sexe du répondant',\n",
       " 'rs2': 'Age du répondant',\n",
       " 'age': 'Age du répondant (Recodage en 5 tranches)',\n",
       " 'rs3': 'Situation professionnelle du répondant',\n",
       " 'rs5': 'Statut professionnel du répondant',\n",
       " 'rs6': 'PCS du répondant',\n",
       " 'pcsip': 'Profession du répondant',\n",
       " 'rs6b': 'Le répondant est/était enseignant',\n",
       " 'rs7': 'Le répondant est le chef du ménage',\n",
       " 'rs7b': 'Situation professionnelle du chef du ménage',\n",
       " 'pcsp': 'Profession du chef du ménage',\n",
       " 'rs9': 'PCS du chef du ménage',\n",
       " 'rs9b': 'Le chef du ménage est/était enseignant (répondant exclu)',\n",
       " 'rs69b': 'Le chef du ménage est/était enseignant (répondant inclu)',\n",
       " 'q1_1': 'Confiance dans : La justice',\n",
       " 'q1_2': 'Confiance dans : Les médias',\n",
       " 'q1_3': 'Confiance dans : La police',\n",
       " 'q1_4': \"Confiance dans : L'Assemblée nationale\",\n",
       " 'q1_5': \"Confiance dans : L'administration\",\n",
       " 'q1_6': 'Confiance dans : La science',\n",
       " 'q1_7': 'Confiance dans : Les grandes entreprises',\n",
       " 'q1_8': 'Confiance dans : Les associations',\n",
       " 'q1_9': 'Confiance dans : Le Gouvernement',\n",
       " 'q1_10': 'Confiance dans : Les agences gouvernementales',\n",
       " 'q2': 'Intérêt pour la science',\n",
       " 'm_q29_1': 'Mot \"Science\" : Opinions négatives',\n",
       " 'm_q29_2': 'Mot \"Science\" : L\\'avenir / le futur',\n",
       " 'm_q29_3': 'Mot \"Science\" : La recherche (chercheurs, laboratoires)',\n",
       " 'm_q29_4': 'Mot \"Science\" : Le savoir / la connaissance / l\\'intelligence / les études',\n",
       " 'm_q29_5': 'Mot \"Science\" : Les expériences, les tests, les essais',\n",
       " 'm_q29_6': 'Mot \"Science\" : Les découvertes et inventions',\n",
       " 'm_q29_7': 'Mot \"Science\" : Le progrès / les avancées / le développement',\n",
       " 'm_q29_8': 'Mot \"Science\" : Les mathématiques',\n",
       " 'm_q29_9': 'Mot \"Science\" : La physique',\n",
       " 'm_q29_10': 'Mot \"Science\" : La chimie',\n",
       " 'm_q29_11': 'Mot \"Science\" : La biologie',\n",
       " 'm_q29_12': 'Mot \"Science\" : La génétique',\n",
       " 'm_q29_13': 'Mot \"Science\" : L\\'anatomie / le corps humain',\n",
       " 'm_q29_14': 'Mot \"Science\" : Les sciences humaines / la sociologie',\n",
       " 'm_q29_15': 'Mot \"Science\" : La météorologie',\n",
       " 'm_q29_16': 'Mot \"Science\" : Les sciences de la terre',\n",
       " 'm_q29_17': 'Mot \"Science\" : L\\'astronomie',\n",
       " 'm_q29_18': 'Mot \"Science\" : La médecine',\n",
       " 'm_q29_19': 'Mot \"Science\" : La santé / la longévité',\n",
       " 'm_q29_20': 'Mot \"Science\" : La maladie / le cancer',\n",
       " 'm_q29_21': 'Mot \"Science\" : Les médicaments / les soins / les traitements',\n",
       " 'm_q29_22': 'Mot \"Science\" : L\\'environnement',\n",
       " 'm_q29_23': 'Mot \"Science\" : Autres citations nature',\n",
       " 'm_q29_24': 'Mot \"Science\" : La technologie',\n",
       " 'm_q29_25': 'Mot \"Science\" : La technique',\n",
       " 'm_q29_26': 'Mot \"Science\" : L\\'énergie',\n",
       " 'm_q29_27': 'Mot \"Science\" : Le nucléaire / l\\'atome',\n",
       " 'm_q29_28': 'Mot \"Science\" : Autres citations',\n",
       " 'm_q29_29': 'Mot \"Science\" : Ne sait pas',\n",
       " 'q3_1': \"Intérêts : La conquête de l'espace\",\n",
       " 'q3_2': 'Intérêts : La recherche médicale',\n",
       " 'q3_3': 'Intérêts : Les grandes réalisations techniques',\n",
       " 'q3_4': 'Intérêts : Les grandes explorations (volcans, océans)',\n",
       " 'q3_5': 'Intérêts : Les recherches sur la matière',\n",
       " 'q3_6': 'Intérêts : Les recherches sur la vie',\n",
       " 'q3_7': \"Intérêts : Les recherches sur l'environnement\",\n",
       " 'q3_8': 'Intérêts : Les recherches sur le climat',\n",
       " 'q3_9': 'Intérêts : Les nouveautés technologiques',\n",
       " 'q3_10': 'Intérêts : Les recherches sur les énergies nouvelles',\n",
       " 'q3_11': 'Intérêts : Les risques liés aux découvertes scientifiques',\n",
       " 'q4': 'Applications pratiques des recherches scientifiques',\n",
       " 'q5_1': \"On devrait cesser d'utiliser les engrais chimiques\",\n",
       " 'q5_2': \"A long terme, le progrès technique crée plus d'emplois qu'il n'en supprime\",\n",
       " 'q5_3': 'Continuer les recherches scientifiques même si remise en cause de principes moraux',\n",
       " 'q5_4': \"La science n'a pas le droit de faire certaines choses\",\n",
       " 'q6_1': \"Risque pour la santé : Les excédents d'engrais\",\n",
       " 'q6_2': 'Risque pour la santé : Les pesticides',\n",
       " 'q6_3': \"Risque pour la santé : La pollution de l'air créée par les voitures\",\n",
       " 'q6_4': 'Risque pour la santé : Le voisinage des centrales nucléaires',\n",
       " 'q6_5': 'Risque pour la santé : Les aliments génétiquement modifiés',\n",
       " 'q6_6': \"Risque pour la santé : Le voisinage d'une ligne à haute tension\",\n",
       " 'q6_7': \"Risque pour la santé : L'utilisation des téléphones mobiles\",\n",
       " 'q6_8': 'Risque pour la santé : La consommation de médicaments',\n",
       " 'q7': \"Deux solutions pour l'énergie\",\n",
       " 'q8': 'Opinion sur le nucléaire',\n",
       " 'q10': 'Confiance pour une enquête sur le risque nucléaire',\n",
       " 'q11': 'Énergies renouvelables suffisantes dans 10 ans',\n",
       " 'q12': \"Attitude à l'égards des aliments fabriqués avec des plantes génétiquement modifiées\",\n",
       " 'q13': 'Plantes génétiquement modifiées peuvent combattre la faim dans le monde',\n",
       " 'q14_1': 'Les chercheurs sont dévoués',\n",
       " 'q14_2': 'Les chercheurs peuvent être dangereux',\n",
       " 'q15': \"Apport de la science à l'Homme\",\n",
       " 'q16_1': 'Actions militantes : Fauchage des champs OGM',\n",
       " 'q16_2': 'Actions militantes : Boycott des produits OGM',\n",
       " 'q16_3': 'Actions militantes : Lutte contre le stockage de déchets nucléaires',\n",
       " 'q16_4': 'Actions militantes : Lutte contre antenne de téléphonie mobile',\n",
       " 'q16_5': 'Actions militantes : Lutte contre les nanotechnologies',\n",
       " 'q31': 'Opinion sur certaines vaccinations',\n",
       " 'q17': \"Utilisation d'un ordinateur à votre domicile\",\n",
       " 'q18': \"Utilisation d'Internet au domicile ou au travail\",\n",
       " 'q19': 'Qui finance la recherche scientifique',\n",
       " 'q20': 'Qui devrait financer la recherche scientifique',\n",
       " 'q21_1': \"Crédits de la recherche : L'environnement\",\n",
       " 'q21_2': \"Crédits de la recherche : Les applications civiles de l'énergie atomique\",\n",
       " 'q21_3': \"Crédits de la recherche : La conquête de l'espace\",\n",
       " 'q21_4': 'Crédits de la recherche : Les sciences humaines',\n",
       " 'q21_5': 'Crédits de la recherche : Les nanotechnologies',\n",
       " 'q21_6': 'Crédits de la recherche : La recherche médicale',\n",
       " 'q21_7': 'Crédits de la recherche : Les transports',\n",
       " 'q21_8': 'Crédits de la recherche : Les énergies nouvelles',\n",
       " 'q22': \"Qui a le plus d'influence sur la recherche\",\n",
       " 'q22bis': \"Qui a le plus d'influence sur la recherche en second\",\n",
       " 'm_q2222b_1': 'Influence sur la recherche : Gouvernement',\n",
       " 'm_q2222b_2': 'Influence sur la recherche : Chercheurs',\n",
       " 'm_q2222b_3': 'Influence sur la recherche : Militaires',\n",
       " 'm_q2222b_4': 'Influence sur la recherche : Ensemble de la population',\n",
       " 'm_q2222b_5': 'Influence sur la recherche : Entreprises',\n",
       " 'm_q2222b_6': 'Influence sur la recherche : Ne sait pas',\n",
       " 'q23': \"Qui devrait avoir le plus d'influence\",\n",
       " 'q24_1': 'Informations : le journal quotidien',\n",
       " 'q24_2': \"Informations : Une revue d'information hebdomadaire\",\n",
       " 'q24_3': 'Informations : Les informations à la télévision',\n",
       " 'q24_4': 'Informations : Les informations à la radio',\n",
       " 'q24_5': 'Informations : Les émissions scientifiques à la télévision',\n",
       " 'q24_6': 'Informations : Internet, les réseaux sociaux',\n",
       " 'q25': 'Utilisation des connaissances scientifiques au travail',\n",
       " 'q25bis': 'Utilisation des connaissances techniques au travail',\n",
       " 'q26': \"Sentiment d'information sur l'énergie nucléaire\",\n",
       " 'q9': \"Opinion sur le recours à l'énergie nucléaire\",\n",
       " 'q27_1': 'Effet de la science : Niveau de vie',\n",
       " 'q27_2': 'Effet de la science : Conditions de travail',\n",
       " 'q27_3': 'Effet de la science : Santé',\n",
       " 'q27_4': 'Effet de la science : Sens moral',\n",
       " 'q27_5': 'Effet de la science : Rapports entre les gens',\n",
       " 'q27_6': 'Effet de la science : Environnement',\n",
       " 'splitQ28': 'Variable de split libellé Q28',\n",
       " 'q28': \"A qui s'adresser pour un doute sur un risque technologique\",\n",
       " 'q28bis': \"A qui s'adresser en second pour un doute sur un risque technologique\",\n",
       " 'm_q2828b_1': 'Total confiance : CNRS',\n",
       " 'm_q2828b_2': 'Total confiance : Association de consommateurs',\n",
       " 'm_q2828b_3': 'Total confiance : Agence gouvernementale',\n",
       " 'm_q2828b_4': 'Total confiance : Internet',\n",
       " 'm_q2828b_5': 'Total confiance : Revues scientifiques',\n",
       " 'm_q2828b_6': 'Total confiance : Proches ou collègues',\n",
       " 'm_q2828b_7': 'Total confiance : Ne sait pas',\n",
       " 'q54a': \"L'interviewé a complété le questionnaire auto-administré\",\n",
       " 'q54_1': 'Auto-administré : Le centre de la Terre est très chaud',\n",
       " 'q54_2': \"Auto-administré : L'oxygène que nous respirons vient des plantes\",\n",
       " 'q54_3': 'Auto-administré : Du lait radioactif devient inoffensif si on le fait bouillir',\n",
       " 'q54_4': 'Auto-administré : Les électrons sont plus petit que les atomes',\n",
       " 'q54_5': \"Auto-administré : Les continents sur lesquels nous vivons se sont déplacés durant des millions d'années et continueront encore à se déplacer\",\n",
       " 'q54_6': \"Auto-administré : Ce sont les gènes du père qui déterminent le sexe de l'enfant\",\n",
       " 'q54_7': 'Auto-administré : Les premiers êtres humains vivaient à la même époque que les dinosaures',\n",
       " 'q54_8': 'Auto-administré : Les antibiotiques détruisent les virus ainsi que les bactéries',\n",
       " 'q54_9': \"Auto-administré : Le laser fonctionne par une concentration d'ondes sonores\",\n",
       " 'q54_10': \"Auto-administré : Toute la radioactivité est produite par l'Homme\",\n",
       " 'q54_11': 'Auto-administré : Les êtres humains se sont développés à partir des premières espèces animales',\n",
       " 'degre': 'Degré de connaissance scientifique (recodage en 4 postes du questionnaire auto-administré)',\n",
       " 'rs16a': 'Diplôme le plus élevé du répondant',\n",
       " 'rs10b': \"Discipline d'étude du répondant\",\n",
       " 'rs11': \"Age d'arrêt des études du répondant\",\n",
       " 'rs14': 'Revenus mensuels du foyer du répondant',\n",
       " 'rs101': 'Nombre de personnes dans le foyer',\n",
       " 'rs102': \"Nombre d'enfants de moins de 14 ans dans le foyer\",\n",
       " 'rs15': 'Intérêt pour la politique',\n",
       " 'rs16': \"Auto-positionnement sur l'échelle gauche/droite\",\n",
       " 'rs11a': 'Proximité avec un parti politique',\n",
       " 'rs17': 'Religion du répondant',\n",
       " 'rs18b': 'Fréquentation messe, culte',\n",
       " 'relig': 'Pratique religieuse',\n",
       " 'rs20': \"Sentiment d'appartenance à une catégorie\",\n",
       " 'formation': \"Discipline d'études du répondant (recodage)\",\n",
       " 'nivet6': \"Niveau d'études du répondant (recodage en 6 postes)\",\n",
       " 'nivet5': \"Niveau d'études du répondant (recodage en 5 postes)\",\n",
       " 'cns11': 'Nombre de bonnes réponses au questionnaire auto-administré',\n",
       " 'cns4': 'Nombre de bonnes réponses au questionnaire auto-administré (recodage en 4 postes)',\n",
       " 'PPI13': 'PCS du chef ménage en 13 modalités',\n",
       " 'PPI8': 'PCS du chef ménage en 8 modalités',\n",
       " 'intedom': \"Nombre de domaines d'intérêt (Recodage Intérêts)\",\n",
       " 'infonuc': \"Sentiment d'information nucléaire (Recodage)\",\n",
       " 'imache': 'Image des chercheurs (Recodage)',\n",
       " 'RecQ7': 'Solutions pour le nucléaire (Recodage)',\n",
       " 'RecQ8': 'Opinion nucléaire (Recodage)',\n",
       " 'recQ9': 'Énergie nucléaire (Recodage)',\n",
       " 'Q7Q8Q9': \"Échelle d'attitude par rapport au nucléaire\",\n",
       " 'typonuc': 'Typologie attitude nucléaire (Recodage Q7Q8Q9)',\n",
       " 'risque': 'Nombre de risques perçus (Recodage Risque pour la santé)',\n",
       " 'fxdate': 'Date de passation'}"
      ]
     },
     "execution_count": 10,
     "metadata": {},
     "output_type": "execute_result"
    }
   ],
   "source": [
    "meta.column_names_to_labels"
   ]
  },
  {
   "cell_type": "code",
   "execution_count": 21,
   "metadata": {},
   "outputs": [
    {
     "data": {
      "text/plain": [
       "{'labels0': {1.0: 'Ain',\n",
       "  2.0: 'Aisne',\n",
       "  3.0: 'Allier',\n",
       "  7.0: 'Ardèche',\n",
       "  9.0: 'Ariège',\n",
       "  10.0: 'Aube',\n",
       "  11.0: 'Aude',\n",
       "  12.0: 'Aveyron',\n",
       "  13.0: 'Bouches-du-Rhône',\n",
       "  14.0: 'Calvados',\n",
       "  15.0: 'Cantal',\n",
       "  16.0: 'Charente',\n",
       "  17.0: 'Charente-Maritime',\n",
       "  18.0: 'Cher',\n",
       "  19.0: 'Corrèze',\n",
       "  21.0: \"Côte-d'Or\",\n",
       "  22.0: \"Côtes-d'Armor\",\n",
       "  23.0: 'Creuse',\n",
       "  24.0: 'Dordogne',\n",
       "  25.0: 'Doubs',\n",
       "  26.0: 'Drôme',\n",
       "  27.0: 'Eure',\n",
       "  29.0: 'Finistère',\n",
       "  30.0: 'Gard',\n",
       "  31.0: 'Haute-Garonne',\n",
       "  32.0: 'Gers',\n",
       "  33.0: 'Gironde',\n",
       "  34.0: 'Hérault',\n",
       "  35.0: 'Ille-et-Vilaine',\n",
       "  37.0: 'Indre-et-Loire',\n",
       "  38.0: 'Isère',\n",
       "  39.0: 'Jura',\n",
       "  40.0: 'Landes',\n",
       "  41.0: 'Loir-et-Cher',\n",
       "  42.0: 'Loire',\n",
       "  43.0: 'Haute-Loire',\n",
       "  44.0: 'Loire-Atlantique',\n",
       "  45.0: 'Loiret',\n",
       "  47.0: 'Lot-et-Garonne',\n",
       "  49.0: 'Maine-et-Loire',\n",
       "  50.0: 'Manche',\n",
       "  51.0: 'Marne',\n",
       "  52.0: 'Haute-Marne',\n",
       "  53.0: 'Mayenne',\n",
       "  54.0: 'Meurthe-et-Moselle',\n",
       "  55.0: 'Meuse',\n",
       "  56.0: 'Morbihan',\n",
       "  57.0: 'Moselle',\n",
       "  58.0: 'Nièvre',\n",
       "  59.0: 'Nord',\n",
       "  60.0: 'Oise',\n",
       "  61.0: 'Orne',\n",
       "  62.0: 'Pas-de-Calais',\n",
       "  63.0: 'Puy-de-Dôme',\n",
       "  64.0: 'Pyrénées-Atlantiques',\n",
       "  66.0: 'Pyrénées-Orientales',\n",
       "  67.0: 'Bas-Rhin',\n",
       "  68.0: 'Haut-Rhin',\n",
       "  69.0: 'Rhône',\n",
       "  71.0: 'Saône-et-Loire',\n",
       "  72.0: 'Sarthe',\n",
       "  73.0: 'Savoie',\n",
       "  74.0: 'Haute-Savoie',\n",
       "  75.0: 'Paris',\n",
       "  76.0: 'Seine-Maritime',\n",
       "  77.0: 'Seine-et-Marne',\n",
       "  78.0: 'Yvelines',\n",
       "  79.0: 'Deux-Sèvres',\n",
       "  80.0: 'Somme',\n",
       "  81.0: 'Tarn',\n",
       "  82.0: 'Tarn-et-Garonne',\n",
       "  83.0: 'Var',\n",
       "  84.0: 'Vaucluse',\n",
       "  85.0: 'Vendée',\n",
       "  86.0: 'Vienne',\n",
       "  87.0: 'Haute-Vienne',\n",
       "  88.0: 'Vosges',\n",
       "  89.0: 'Yonne',\n",
       "  90.0: 'Territoire de Belfort',\n",
       "  91.0: 'Essonne',\n",
       "  92.0: 'Hauts-de-Seine',\n",
       "  93.0: 'Seine-Saint-Denis',\n",
       "  94.0: 'Val-de-Marne',\n",
       "  95.0: \"Val-d'Oise\"},\n",
       " 'labels1': {1.0: 'Nord',\n",
       "  2.0: 'Ouest',\n",
       "  3.0: 'Sud Ouest',\n",
       "  4.0: 'Sud Est',\n",
       "  5.0: 'Centre',\n",
       "  6.0: 'Est',\n",
       "  7.0: 'Paris'},\n",
       " 'labels2': {1.0: 'Moins de 2 000 habitants',\n",
       "  2.0: '2 000 à 20 000 habitants',\n",
       "  3.0: '20 000 à 100 000 habitants',\n",
       "  4.0: 'Plus de 100 000 habitants',\n",
       "  5.0: 'Agglomération parisienne'},\n",
       " 'labels3': {1.0: 'Homme', 2.0: 'Femme'},\n",
       " 'labels4': {18.0: '18',\n",
       "  19.0: '19',\n",
       "  20.0: '20',\n",
       "  21.0: '21',\n",
       "  22.0: '22',\n",
       "  23.0: '23',\n",
       "  24.0: '24',\n",
       "  25.0: '25',\n",
       "  26.0: '26',\n",
       "  27.0: '27',\n",
       "  28.0: '28',\n",
       "  29.0: '29',\n",
       "  30.0: '30',\n",
       "  31.0: '31',\n",
       "  32.0: '32',\n",
       "  33.0: '33',\n",
       "  34.0: '34',\n",
       "  35.0: '35',\n",
       "  36.0: '36',\n",
       "  37.0: '37',\n",
       "  38.0: '38',\n",
       "  39.0: '39',\n",
       "  40.0: '40',\n",
       "  41.0: '41',\n",
       "  42.0: '42',\n",
       "  43.0: '43',\n",
       "  44.0: '44',\n",
       "  45.0: '45',\n",
       "  46.0: '46',\n",
       "  47.0: '47',\n",
       "  48.0: '48',\n",
       "  49.0: '49',\n",
       "  50.0: '50',\n",
       "  51.0: '51',\n",
       "  52.0: '52',\n",
       "  53.0: '53',\n",
       "  54.0: '54',\n",
       "  55.0: '55',\n",
       "  56.0: '56',\n",
       "  57.0: '57',\n",
       "  58.0: '58',\n",
       "  59.0: '59',\n",
       "  60.0: '60',\n",
       "  61.0: '61',\n",
       "  62.0: '62',\n",
       "  63.0: '63',\n",
       "  64.0: '64',\n",
       "  65.0: '65',\n",
       "  66.0: '66',\n",
       "  67.0: '67',\n",
       "  68.0: '68',\n",
       "  69.0: '69',\n",
       "  70.0: '70',\n",
       "  71.0: '71',\n",
       "  72.0: '72',\n",
       "  73.0: '73',\n",
       "  74.0: '74',\n",
       "  75.0: '75',\n",
       "  76.0: '76',\n",
       "  77.0: '77',\n",
       "  78.0: '78',\n",
       "  79.0: '79',\n",
       "  80.0: '80',\n",
       "  81.0: '81',\n",
       "  82.0: '82',\n",
       "  83.0: '83',\n",
       "  84.0: '84',\n",
       "  85.0: '85',\n",
       "  86.0: '86',\n",
       "  87.0: '87',\n",
       "  88.0: '88 et plus'},\n",
       " 'labels5': {1.0: '18 à 24 ans',\n",
       "  2.0: '25 à 34 ans',\n",
       "  3.0: '35 à 49 ans',\n",
       "  4.0: '50 à 64 ans',\n",
       "  5.0: '65 ans et+'},\n",
       " 'labels6': {1.0: \"J'ai un travail\",\n",
       "  2.0: 'Je suis au chômage ou ayant déjà travaillé, je suis à la rec',\n",
       "  3.0: 'Je suis à la retraite ou pré-retraite',\n",
       "  4.0: 'Je suis femme au foyer mais ayant déjà travaillé',\n",
       "  5.0: \"Je suis femme au foyer mais n'ayant jamais travaillé\",\n",
       "  6.0: \"Je suis à la recherche d'un premier emploi\",\n",
       "  7.0: 'Je suis étudiant ou lycéen',\n",
       "  8.0: 'Autre sans profession'},\n",
       " 'labels7': {1.0: 'Travailleur indépendant, à votre compte',\n",
       "  2.0: \"Salarié de l'Etat ou d'une collectivité locale\",\n",
       "  3.0: \"Salarié d'une entreprise publique ou nationalisée\",\n",
       "  4.0: \"Salarié d'une entreprise privée\",\n",
       "  666.0: 'Non concerné'},\n",
       " 'labels8': {10.0: 'Agriculteurs exploitants',\n",
       "  21.0: 'Artisans',\n",
       "  22.0: 'Commerçants et assimilés',\n",
       "  23.0: \"Chefs d'entreprise de 10 salariés ou plus\",\n",
       "  31.0: 'Professions libérales et assimilés',\n",
       "  32.0: 'Cadres de la fonction publique, professions intellectuelles',\n",
       "  36.0: \"Cadres d'entreprise\",\n",
       "  41.0: \"Professions intermédiaires de l'enseignement, de la santé, d\",\n",
       "  46.0: 'Professions intermédiaires administratives et commerciales d',\n",
       "  47.0: 'Techniciens',\n",
       "  48.0: 'Contremaîtres',\n",
       "  49.0: 'Agents de maîtrise',\n",
       "  51.0: 'Employés de la fonction publique',\n",
       "  54.0: \"Employés administratifs d'entreprise\",\n",
       "  55.0: 'Employés de commerce',\n",
       "  56.0: 'Personnels des services directs aux particuliers',\n",
       "  61.0: 'Ouvriers qualifiés',\n",
       "  66.0: 'Ouvriers non qualifiés',\n",
       "  69.0: 'Ouvriers agricoles',\n",
       "  666.0: 'Non concerné'},\n",
       " 'labels9': {1.0: 'Agriculteurs exploitants',\n",
       "  2.0: \"Artisans, Commercants et Chefs d'entreprises\",\n",
       "  3.0: 'Professions libérales et Cadres',\n",
       "  4.0: 'Professions intermédiaires, Techniciens, Contremaitres et Ag',\n",
       "  5.0: 'Employés et Personnels de services',\n",
       "  6.0: 'Ouvriers',\n",
       "  7.0: 'Retraités / Autres inactifs'},\n",
       " 'labels10': {1.0: 'Oui, instituteur(trice)',\n",
       "  2.0: 'Oui, professeur',\n",
       "  3.0: 'Non',\n",
       "  666.0: 'Non concerné'},\n",
       " 'labels11': {0.0: 'Non', 1.0: 'Oui'},\n",
       " 'labels12': {1.0: 'Il (elle) travaille',\n",
       "  2.0: 'Il (elle) est au chômage ou ayant déjà travaillé, est à la r',\n",
       "  3.0: 'Il (elle) est à la retraite ou pré-retraite',\n",
       "  4.0: 'Elle est femme au foyer ayant déjà travaillé',\n",
       "  5.0: \"Elle est femme au foyer n'ayant jamais travaillé\",\n",
       "  6.0: \"Il (elle) est à la recherche d'un premier emploi\",\n",
       "  7.0: 'Il (elle) est étudiant ou lycéen',\n",
       "  8.0: 'Autre sans profession',\n",
       "  666.0: 'Non concerné'},\n",
       " 'labels13': {1.0: 'Oui, instituteur(trice)',\n",
       "  2.0: 'Oui, professeur',\n",
       "  3.0: 'Non',\n",
       "  888.0: 'Ne sait pas',\n",
       "  999.0: 'Valeur manquante'},\n",
       " 'labels14': {1.0: 'Oui, instituteur(trice)',\n",
       "  2.0: 'Oui, professeur',\n",
       "  3.0: 'Non',\n",
       "  888.0: 'Ne sait pas'},\n",
       " 'labels15': {1.0: 'Très confiance',\n",
       "  2.0: 'Plutôt confiance',\n",
       "  3.0: 'Plutôt pas confiance',\n",
       "  4.0: 'Pas du tout confiance',\n",
       "  888.0: 'Ne sait pas'},\n",
       " 'labels16': {1.0: 'Beaucoup',\n",
       "  2.0: 'Assez',\n",
       "  3.0: 'Peu',\n",
       "  4.0: 'Pas du tout',\n",
       "  888.0: 'Ne sait pas'},\n",
       " 'labels17': {0.0: 'Non cité', 1.0: 'Cité'},\n",
       " 'labels18': {1.0: 'Beaucoup',\n",
       "  2.0: 'Un peu',\n",
       "  3.0: 'Pas du tout',\n",
       "  888.0: 'Ne sait pas'},\n",
       " 'labels19': {1.0: 'Il faut développer les recherches scientifiques seulement qu',\n",
       "  2.0: 'Il faut développer les recherches scientifiques même quand o',\n",
       "  888.0: 'Ne sait pas'},\n",
       " 'labels20': {1.0: \"Tout à fait d'accord\",\n",
       "  2.0: \"Plutôt d'accord\",\n",
       "  3.0: \"Plutôt pas d'accord\",\n",
       "  4.0: \"Pas d'accord du tout\",\n",
       "  888.0: 'Ne sait pas'},\n",
       " 'labels21': {1.0: 'Très grand',\n",
       "  2.0: 'Assez grand',\n",
       "  3.0: 'Pas très grand',\n",
       "  4.0: 'Pas grand du tout',\n",
       "  888.0: 'Ne sait pas'},\n",
       " 'labels22': {1.0: 'Remplacer au fur et à mesure les anciennes centrales nucléai',\n",
       "  2.0: 'Ne pas remplacer ces centrales et abandonner peu à peu cette',\n",
       "  888.0: 'Ne sait pas'},\n",
       " 'labels23': {1.0: 'Vraiment contre',\n",
       "  2.0: '2',\n",
       "  3.0: '3',\n",
       "  4.0: '4',\n",
       "  5.0: '5',\n",
       "  6.0: 'Vraiment pour',\n",
       "  888.0: 'Ne sait pas'},\n",
       " 'labels24': {1.0: \"Un représentant de l'Autorité de Sûreté nucléaire\",\n",
       "  2.0: 'Un scientifique travaillant pour une association de défense',\n",
       "  3.0: 'Un scientifique travaillant pour le CNRS',\n",
       "  4.0: \"Un représentant du ministère de l'environnement\",\n",
       "  888.0: 'Ne sait pas'},\n",
       " 'labels25': {1.0: 'Oui certainement',\n",
       "  2.0: 'Oui, probablement',\n",
       "  3.0: 'Non, probablement pas',\n",
       "  4.0: 'Non, certainement pas',\n",
       "  888.0: 'Ne sait pas'},\n",
       " 'labels26': {1.0: 'Je n y fais pas attention car je ne crois pas que cela soit',\n",
       "  2.0: 'Dans la mesure du possible j essaie de les éviter',\n",
       "  3.0: 'Je prends toutes les précautions pour essayer d éviter ce ty',\n",
       "  888.0: 'Ne sait pas'},\n",
       " 'labels27': {1.0: 'Oui, sûrement',\n",
       "  2.0: 'Oui, peut-être',\n",
       "  3.0: 'Non, sans doute pas',\n",
       "  4.0: 'Non, sûrement pas',\n",
       "  888.0: 'Ne sait pas'},\n",
       " 'labels28': {1.0: \"Tout à fait d'accord\",\n",
       "  2.0: \"Plutôt d'accord\",\n",
       "  3.0: \"Plutôt pas d'accord\",\n",
       "  4.0: \"Pas du tout d'accord\",\n",
       "  888.0: 'Ne sait pas'},\n",
       " 'labels29': {1.0: 'Plus de bien que de mal',\n",
       "  2.0: 'Plus de mal que de bien',\n",
       "  3.0: 'A peu près autant de bien que de mal',\n",
       "  888.0: 'Ne sait pas'},\n",
       " 'labels30': {1.0: 'Tout à fait acceptable',\n",
       "  2.0: 'Assez acceptable',\n",
       "  3.0: 'Assez inacceptable',\n",
       "  4.0: 'Tout à fait inacceptable',\n",
       "  888.0: 'Ne sait pas'},\n",
       " 'labels31': {1.0: 'Ces vaccinations doivent rester obligatoires si les scientif',\n",
       "  2.0: 'On devrait laisser à chacun la liberté de faire vacciner ou',\n",
       "  3.0: 'Sans opinion',\n",
       "  888.0: 'Ne sait pas'},\n",
       " 'labels32': {1.0: 'Tous les jours ou presque',\n",
       "  2.0: 'Une ou deux fois par semaine',\n",
       "  3.0: 'Moins souvent',\n",
       "  4.0: 'Jamais'},\n",
       " 'labels33': {1.0: 'Tous les jours ou presque',\n",
       "  2.0: 'Une ou deux fois par semaine',\n",
       "  3.0: 'Moins souvent',\n",
       "  4.0: 'Jamais',\n",
       "  888.0: 'Ne sait pas'},\n",
       " 'labels34': {1.0: \"Plutôt par l'Etat\",\n",
       "  2.0: 'Plutôt par les entreprises',\n",
       "  3.0: \"A parts égales par l'Etat et les entreprises\",\n",
       "  888.0: 'Ne sait pas'},\n",
       " 'labels35': {1.0: 'Les augmenter',\n",
       "  2.0: 'Les diminuer',\n",
       "  3.0: 'Les laisser comme ils sont',\n",
       "  888.0: 'Ne sait pas'},\n",
       " 'labels36': {1.0: 'Le gouvernement',\n",
       "  2.0: 'Les chercheurs scientifiques',\n",
       "  3.0: 'Les militaires',\n",
       "  4.0: \"L'ensemble de la population\",\n",
       "  5.0: 'Les entreprises privées',\n",
       "  888.0: 'Ne sait pas'},\n",
       " 'labels37': {1.0: 'Le gouvernement',\n",
       "  2.0: 'Les chercheurs scientifiques',\n",
       "  3.0: 'Les militaires',\n",
       "  4.0: \"L'ensemble de la population\",\n",
       "  5.0: 'Les entreprises privées',\n",
       "  666.0: 'Non concerné',\n",
       "  888.0: 'Ne sait pas'},\n",
       " 'labels38': {1.0: 'Très souvent',\n",
       "  2.0: 'Assez souvent',\n",
       "  3.0: 'Rarement',\n",
       "  4.0: 'Jamais',\n",
       "  888.0: 'Ne sait pas'},\n",
       " 'labels39': {1.0: 'Très bien informé',\n",
       "  2.0: 'Plutôt bien informé',\n",
       "  3.0: 'Plutôt mal informé',\n",
       "  4.0: 'Très mal informé',\n",
       "  888.0: 'Ne sait pas'},\n",
       " 'labels40': {1.0: 'Vous y êtes favorable',\n",
       "  2.0: 'Vous êtes hésitant',\n",
       "  3.0: 'Vous y êtes opposé',\n",
       "  4.0: \"Vous n'avez pas vraiment d'opinion sur le sujet\",\n",
       "  5.0: 'Sans opinion',\n",
       "  888.0: 'Ne sait pas'},\n",
       " 'labels41': {1.0: 'Plutôt favorable',\n",
       "  2.0: 'Plutôt défavorable',\n",
       "  3.0: \"Ni l'un ni l'autre\",\n",
       "  888.0: 'Ne sait pas'},\n",
       " 'labels42': {1.0: 'un objet fabriqué avec des nanotechnologies',\n",
       "  2.0: 'un aliment dans lequel il y aurait des OGM'},\n",
       " 'labels43': {1.0: 'En consultant un organisme scientifique comme le CNRS',\n",
       "  2.0: 'En consultant une association de consommateurs',\n",
       "  3.0: 'En consultant une agence gouvernementale',\n",
       "  4.0: 'En consultant les informations sur internet',\n",
       "  5.0: 'En consultant des revues scientifiques',\n",
       "  6.0: 'En consultant des proches ou des collègues',\n",
       "  888.0: 'Ne sait pas'},\n",
       " 'labels44': {1.0: 'En consultant un organisme scientifique comme le CNRS',\n",
       "  2.0: 'En consultant une association de consommateurs',\n",
       "  3.0: 'En consultant une agence gouvernementale',\n",
       "  4.0: 'En consultant les informations sur internet',\n",
       "  5.0: 'En consultant des revues scientifiques',\n",
       "  6.0: 'En consultant des proches ou des collègues',\n",
       "  666.0: 'Non concerné',\n",
       "  888.0: 'Ne sait pas'},\n",
       " 'labels45': {1.0: 'Oui', 2.0: 'Non'},\n",
       " 'labels46': {1.0: 'Vrai',\n",
       "  2.0: 'Faux',\n",
       "  3.0: \"N'a rien coché / A coché 'Vrai' et 'Faux'\",\n",
       "  666.0: 'Non concerné',\n",
       "  888.0: 'Ne sait pas'},\n",
       " 'labels47': {1.0: 'Très faible',\n",
       "  2.0: 'Assez faible',\n",
       "  3.0: 'Assez bon',\n",
       "  4.0: 'Très bon',\n",
       "  666.0: 'Non concerné',\n",
       "  888.0: 'Ne sait pas'},\n",
       " 'labels48': {1.0: 'Sans diplôme',\n",
       "  2.0: 'Certificat d études primaires',\n",
       "  3.0: 'Ancien brevet, B.E.P.C',\n",
       "  4.0: \"Certificat d'aptitude professionnelle (C.A.P)\",\n",
       "  5.0: \"Brevet d'enseignement professionnel (B.E.P)\",\n",
       "  6.0: \"BAC  d'enseignement technique\",\n",
       "  7.0: \"BAC  d'enseignement général\",\n",
       "  8.0: 'BAC+2 ou niveau BAC+2 (D.U.T, B.T.S)',\n",
       "  9.0: \"Diplôme de l'enseignement supérieur (2ème, 3ème cycles, gran\",\n",
       "  888.0: 'Ne sait pas'},\n",
       " 'labels49': {1.0: 'Scientifique (physique, chimie, mathémathique, biologie, inf',\n",
       "  2.0: 'Juridique (droit, sciences économiques ou politiques)',\n",
       "  3.0: 'Economique (commerce, gestion, économie)',\n",
       "  4.0: 'Médicale et para-médicale (médecine, pharmacie)',\n",
       "  5.0: 'Littérature (lettres, psychologie, sociologie)',\n",
       "  6.0: 'Autre',\n",
       "  888.0: 'Ne sait pas'},\n",
       " 'labels50': {1.0: 'Moins de 14 ans',\n",
       "  15.0: '14 ans',\n",
       "  16.0: '15 ans',\n",
       "  17.0: '16 ans',\n",
       "  18.0: '17 ans',\n",
       "  19.0: '18 ans',\n",
       "  20.0: '19 ans',\n",
       "  21.0: '20 ans',\n",
       "  22.0: '21 ans',\n",
       "  23.0: '22 ans',\n",
       "  24.0: '23 ans',\n",
       "  25.0: '24 ans',\n",
       "  26.0: '25 ans',\n",
       "  27.0: '26 ans',\n",
       "  28.0: '27 ans',\n",
       "  29.0: 'Plus de 27 ans',\n",
       "  555.0: 'Etudes en cours',\n",
       "  888.0: 'Ne sait pas'},\n",
       " 'labels51': {1.0: 'C - Moins de 500 euros (moins de 3300 francs)',\n",
       "  2.0: 'E - De 500 à 800 euros (de 3301 à 5200 francs)',\n",
       "  3.0: 'H - De 801 à 1200 euros (de 5201 à 8000 francs)',\n",
       "  4.0: 'A - De 1201 à 1500 euros (de 8001 à 10 000 francs)',\n",
       "  5.0: 'J - De 1501 à 2300 euros (de 10 001 à 15 000 francs)',\n",
       "  6.0: 'L - De 2301 à 3000 euros (de 15 001 à 20000 francs)',\n",
       "  7.0: 'K - De 3001 à 4500 euros (de 20001 à 30000 francs)',\n",
       "  8.0: 'I - De 4501 à 7500 euros (de 30001 à 50000 francs)',\n",
       "  9.0: 'G - Plus de 7500 euros (Plus de 50 000 francs)',\n",
       "  888.0: 'Ne sait pas'},\n",
       " 'labels52': {1.0: 'Une seule personne',\n",
       "  2.0: 'Deux personnes',\n",
       "  3.0: 'Trois personnes',\n",
       "  4.0: 'Quatre personnes',\n",
       "  5.0: 'Cinq personnes et plus'},\n",
       " 'labels53': {0.0: 'Aucun enfant',\n",
       "  1.0: 'Un enfant',\n",
       "  2.0: 'Deux enfants',\n",
       "  3.0: 'Trois enfants',\n",
       "  4.0: '4 enfants et plus',\n",
       "  666.0: 'Non concerné'},\n",
       " 'labels54': {1.0: 'Beaucoup',\n",
       "  2.0: 'Un peu',\n",
       "  3.0: 'Très peu',\n",
       "  4.0: 'Pas du tout',\n",
       "  888.0: 'Ne sait pas'},\n",
       " 'labels55': {1.0: 'Extrême gauche',\n",
       "  2.0: '2',\n",
       "  3.0: '3',\n",
       "  4.0: '4',\n",
       "  5.0: '5',\n",
       "  6.0: '6',\n",
       "  7.0: 'Extrême droite',\n",
       "  888.0: 'Ne sait pas'},\n",
       " 'labels56': {1.0: 'Le N.P.A. (Nouveau Parti Anticapitaliste)',\n",
       "  2.0: 'Lutte ouvrière (de Nathalie Arthaud)',\n",
       "  3.0: 'Parti communiste',\n",
       "  4.0: 'Parti de Gauche (de Jean-Luc Mélenchon)',\n",
       "  5.0: 'Parti socialiste',\n",
       "  6.0: 'Parti radical de Gauche',\n",
       "  7.0: 'Verts',\n",
       "  8.0: 'Un autre Mouvement écologiste',\n",
       "  9.0: 'Le MoDem (Mouvement Démocrate de François Bayrou)',\n",
       "  10.0: 'Le Parti radical (de Jean-Louis Borloo)',\n",
       "  11.0: \"Le Nouveau centre (d'Hervé Morin)\",\n",
       "  12.0: 'U.M.P',\n",
       "  13.0: 'Mouvement pour la France (de Philippe de Villiers)',\n",
       "  14.0: 'Front National (de Jean-Marie Le Pen)',\n",
       "  888.0: 'Ne sait pas'},\n",
       " 'labels57': {1.0: 'Catholique',\n",
       "  2.0: 'Protestante',\n",
       "  3.0: 'Juive',\n",
       "  4.0: 'Musulmane',\n",
       "  5.0: 'Autre religion',\n",
       "  6.0: 'Sans religion',\n",
       "  777.0: 'Refus',\n",
       "  888.0: 'Ne sait pas'},\n",
       " 'labels58': {1.0: 'Plusieurs fois par semaine',\n",
       "  2.0: 'Une fois par semaine',\n",
       "  3.0: 'Une ou deux fois par mois',\n",
       "  4.0: 'De temps en temps, aux grandes fêtes',\n",
       "  5.0: 'Uniquement pour les cérémonies, les baptêmes ou les mariages',\n",
       "  6.0: 'Jamais',\n",
       "  666.0: 'Non concerné',\n",
       "  888.0: 'Ne sait pas'},\n",
       " 'labels59': {1.0: 'Catholiques réguliers',\n",
       "  2.0: 'Catholiques occasionnels',\n",
       "  3.0: 'Catholiques non pratiquants',\n",
       "  4.0: 'Autres religions',\n",
       "  5.0: 'Sans religion',\n",
       "  6.0: 'Sans opinion',\n",
       "  888.0: 'Ne sait pas'},\n",
       " 'labels60': {1.0: 'Les privilégiés',\n",
       "  2.0: 'Les gens aisés',\n",
       "  3.0: 'La classe moyenne supérieure',\n",
       "  4.0: 'La classe moyenne inférieure',\n",
       "  5.0: 'La classe populaire',\n",
       "  6.0: 'Les défavorisés',\n",
       "  888.0: 'Ne sait pas'},\n",
       " 'labels61': {0.0: 'Autres',\n",
       "  1.0: 'Scientifique',\n",
       "  2.0: 'Médical',\n",
       "  3.0: 'Autres études supérieures'},\n",
       " 'labels62': {1.0: 'Primaire',\n",
       "  2.0: 'Intermédiaire',\n",
       "  3.0: 'Secondaire',\n",
       "  4.0: 'Supérieur',\n",
       "  5.0: 'Supérieur médical',\n",
       "  6.0: 'Supérieur scientifique',\n",
       "  888.0: 'Ne sait pas'},\n",
       " 'labels63': {1.0: 'Primaire',\n",
       "  2.0: 'Intermédiaire',\n",
       "  3.0: 'Secondaire',\n",
       "  4.0: 'Supérieur',\n",
       "  5.0: 'Supérieur Scientifique',\n",
       "  888.0: 'Ne sait pas'},\n",
       " 'labels64': {0.0: 'Aucune bonne réponse',\n",
       "  1.0: 'Une bonne réponse',\n",
       "  2.0: 'Deux bonnes réponses',\n",
       "  3.0: 'Trois bonnes réponses',\n",
       "  4.0: 'Quatre bonnes réponses',\n",
       "  5.0: 'Cinq bonnes réponses',\n",
       "  6.0: 'Six bonnes réponses',\n",
       "  7.0: 'Sept bonnes réponses',\n",
       "  8.0: 'Huit bonnes réponses',\n",
       "  9.0: 'Neuf bonnes réponses',\n",
       "  10.0: 'Dix bonnes réponses',\n",
       "  11.0: 'Onze bonnes réponses'},\n",
       " 'labels65': {1.0: '5 bonnes réponses ou moins',\n",
       "  2.0: '6 à 7 bonnes réponses',\n",
       "  3.0: '8 à 9 bonnes réponses',\n",
       "  4.0: '10 bonnes réponses ou plus'},\n",
       " 'labels66': {1.0: 'Agriculteur',\n",
       "  2.0: 'Artisan commerçant',\n",
       "  3.0: 'Cadres et PL',\n",
       "  4.0: 'Cadre public',\n",
       "  5.0: 'Intermédiaire public',\n",
       "  6.0: 'Intermédiaire privé',\n",
       "  7.0: 'Technicien CMI',\n",
       "  8.0: 'Employé public',\n",
       "  9.0: 'Employé privé',\n",
       "  10.0: 'Service',\n",
       "  11.0: 'Ouvrier',\n",
       "  12.0: 'Etudiant',\n",
       "  13.0: 'Inactif'},\n",
       " 'labels67': {1.0: 'Agriculteur',\n",
       "  2.0: 'Artisan commerçant',\n",
       "  3.0: 'Cadres et PL',\n",
       "  4.0: 'Intermédiaire',\n",
       "  5.0: 'Employé',\n",
       "  6.0: 'Ouvrier service',\n",
       "  7.0: 'Etudiant',\n",
       "  8.0: 'Inactif'},\n",
       " 'labels68': {0.0: \"Aucun domaine d'intérêt\",\n",
       "  1.0: 'Un domaine',\n",
       "  2.0: 'Deux domaines',\n",
       "  3.0: 'Trois domaines',\n",
       "  4.0: 'Quatre domaines',\n",
       "  5.0: 'Cinq domaines',\n",
       "  6.0: 'Six domaines',\n",
       "  7.0: 'Sept domaines',\n",
       "  8.0: 'Huit domaines',\n",
       "  9.0: 'Neuf domaines',\n",
       "  10.0: 'Dix domaines',\n",
       "  11.0: 'Onze domaines'},\n",
       " 'labels69': {1.0: 'Très ou plutôt bien informé',\n",
       "  2.0: 'Plutôt mal informé',\n",
       "  3.0: 'Très mal informé',\n",
       "  999.0: 'Valeur manquante'},\n",
       " 'labels70': {0.0: 'Autres', 1.0: 'Ambigu', 2.0: 'Positif', 3.0: 'Négatif'},\n",
       " 'labels71': {0.0: 'Autre',\n",
       "  1.0: 'Pour',\n",
       "  2.0: 'Pour et hésite',\n",
       "  3.0: 'Contre',\n",
       "  4.0: 'Contre et hésite',\n",
       "  5.0: 'Hésitants'},\n",
       " 'labels72': {0.0: 'Aucun risque',\n",
       "  1.0: 'Un risque',\n",
       "  2.0: 'Deux risques',\n",
       "  3.0: 'Trois risques',\n",
       "  4.0: 'Quatre risques',\n",
       "  5.0: 'Cinq risques',\n",
       "  6.0: 'Six risques',\n",
       "  7.0: 'Sept risques'}}"
      ]
     },
     "execution_count": 21,
     "metadata": {},
     "output_type": "execute_result"
    }
   ],
   "source": [
    "meta.value_labels"
   ]
  },
  {
   "cell_type": "code",
   "execution_count": 5,
   "metadata": {},
   "outputs": [],
   "source": [
    "def question(code,meta):\n",
    "    return meta.column_names_to_labels[code]\n",
    "\n",
    "def modalites(q,meta):\n",
    "    return meta.value_labels[meta.variable_to_label[q]]"
   ]
  },
  {
   "cell_type": "code",
   "execution_count": 19,
   "metadata": {},
   "outputs": [
    {
     "data": {
      "text/plain": [
       "'Profession du répondant'"
      ]
     },
     "execution_count": 19,
     "metadata": {},
     "output_type": "execute_result"
    }
   ],
   "source": [
    "question(\"pcsip\",meta)"
   ]
  },
  {
   "cell_type": "code",
   "execution_count": 23,
   "metadata": {},
   "outputs": [
    {
     "data": {
      "text/plain": [
       "{1.0: 'Agriculteurs exploitants',\n",
       " 2.0: \"Artisans, Commercants et Chefs d'entreprises\",\n",
       " 3.0: 'Professions libérales et Cadres',\n",
       " 4.0: 'Professions intermédiaires, Techniciens, Contremaitres et Ag',\n",
       " 5.0: 'Employés et Personnels de services',\n",
       " 6.0: 'Ouvriers',\n",
       " 7.0: 'Retraités / Autres inactifs'}"
      ]
     },
     "execution_count": 23,
     "metadata": {},
     "output_type": "execute_result"
    }
   ],
   "source": [
    "modalites(\"pcsip\",meta)"
   ]
  },
  {
   "cell_type": "markdown",
   "metadata": {},
   "source": [
    "Objectif de la recherche :\n",
    "\n",
    "- 'q15': \"Apport de la science à l'Homme\"\n",
    "\n",
    "Variables indépendantes :\n",
    "\n",
    "-  'rs1': 'Sexe du répondant',\n",
    "-  'rs2': 'Age du répondant',\n",
    "-  'rs14': 'Revenus mensuels du foyer du répondant',\n",
    "-  'q1_1': 'Confiance dans : La justice',\n",
    " 'q1_2': 'Confiance dans : Les médias',\n",
    " 'q1_3': 'Confiance dans : La police',\n",
    " 'q1_4': \"Confiance dans : L'Assemblée nationale\",\n",
    " 'q1_5': \"Confiance dans : L'administration\",\n",
    " 'q1_6': 'Confiance dans : La science',\n",
    " 'q1_7': 'Confiance dans : Les grandes entreprises',\n",
    " 'q1_8': 'Confiance dans : Les associations',\n",
    " 'q1_9': 'Confiance dans : Le Gouvernement',\n",
    " 'q1_10': 'Confiance dans : Les agences gouvernementales'"
   ]
  },
  {
   "cell_type": "markdown",
   "metadata": {},
   "source": [
    "## Explorer les données"
   ]
  },
  {
   "cell_type": "code",
   "execution_count": 7,
   "metadata": {},
   "outputs": [],
   "source": [
    "import pandas as pd"
   ]
  },
  {
   "cell_type": "markdown",
   "metadata": {},
   "source": [
    "### Recodage"
   ]
  },
  {
   "cell_type": "code",
   "execution_count": 8,
   "metadata": {},
   "outputs": [],
   "source": [
    "nouvelles_modalites = modalites(\"q15\",meta)\n",
    "data[\"apportscience\"] = data[\"q15\"].replace(nouvelles_modalites)\n",
    "data[\"sexe\"] = data[\"rs1\"].replace(modalites(\"rs1\",meta))\n",
    "\n",
    "# indicateur synthétique de confiance\n",
    "questions = [\"q1_{}\".format(i) for i in range(1,11)]\n",
    "dic = {1:1,2:1,3:0,4:0}\n",
    "data[\"confiance_g\"] = data[questions].replace(dic).fillna(0).sum(axis=1)/10\n",
    "\n",
    "# confiance en quartiles\n",
    "data[\"confiance_g_q\"] = pd.qcut(data[\"confiance_g\"],[0,0.25,0.5,0.75,1],[\"Q1\",\"Q2\",\"Q3\",'Q4'])"
   ]
  },
  {
   "cell_type": "code",
   "execution_count": 36,
   "metadata": {},
   "outputs": [
    {
     "data": {
      "text/plain": [
       "A peu près autant de bien que de mal    0.521908\n",
       "Plus de bien que de mal                 0.400195\n",
       "Plus de mal que de bien                 0.064265\n",
       "Name: apportscience, dtype: float64"
      ]
     },
     "execution_count": 36,
     "metadata": {},
     "output_type": "execute_result"
    }
   ],
   "source": [
    "data[\"apportscience\"].value_counts()/len(data)"
   ]
  },
  {
   "cell_type": "code",
   "execution_count": 42,
   "metadata": {},
   "outputs": [
    {
     "data": {
      "text/html": [
       "<div>\n",
       "<style scoped>\n",
       "    .dataframe tbody tr th:only-of-type {\n",
       "        vertical-align: middle;\n",
       "    }\n",
       "\n",
       "    .dataframe tbody tr th {\n",
       "        vertical-align: top;\n",
       "    }\n",
       "\n",
       "    .dataframe thead th {\n",
       "        text-align: right;\n",
       "    }\n",
       "</style>\n",
       "<table border=\"1\" class=\"dataframe\">\n",
       "  <thead>\n",
       "    <tr style=\"text-align: right;\">\n",
       "      <th></th>\n",
       "      <th>apportscience</th>\n",
       "    </tr>\n",
       "  </thead>\n",
       "  <tbody>\n",
       "    <tr>\n",
       "      <th>A peu près autant de bien que de mal</th>\n",
       "      <td>536</td>\n",
       "    </tr>\n",
       "    <tr>\n",
       "      <th>Plus de bien que de mal</th>\n",
       "      <td>411</td>\n",
       "    </tr>\n",
       "    <tr>\n",
       "      <th>Plus de mal que de bien</th>\n",
       "      <td>66</td>\n",
       "    </tr>\n",
       "  </tbody>\n",
       "</table>\n",
       "</div>"
      ],
      "text/plain": [
       "                                      apportscience\n",
       "A peu près autant de bien que de mal            536\n",
       "Plus de bien que de mal                         411\n",
       "Plus de mal que de bien                          66"
      ]
     },
     "execution_count": 42,
     "metadata": {},
     "output_type": "execute_result"
    }
   ],
   "source": [
    "tableau = pd.DataFrame(data[\"apportscience\"].value_counts())\n",
    "tableau"
   ]
  },
  {
   "cell_type": "code",
   "execution_count": 44,
   "metadata": {},
   "outputs": [],
   "source": [
    "tableau[\"%\"] = tableau[\"apportscience\"].apply(lambda x : round(100*x/len(data),2))"
   ]
  },
  {
   "cell_type": "code",
   "execution_count": 45,
   "metadata": {},
   "outputs": [
    {
     "data": {
      "text/html": [
       "<div>\n",
       "<style scoped>\n",
       "    .dataframe tbody tr th:only-of-type {\n",
       "        vertical-align: middle;\n",
       "    }\n",
       "\n",
       "    .dataframe tbody tr th {\n",
       "        vertical-align: top;\n",
       "    }\n",
       "\n",
       "    .dataframe thead th {\n",
       "        text-align: right;\n",
       "    }\n",
       "</style>\n",
       "<table border=\"1\" class=\"dataframe\">\n",
       "  <thead>\n",
       "    <tr style=\"text-align: right;\">\n",
       "      <th></th>\n",
       "      <th>apportscience</th>\n",
       "      <th>%</th>\n",
       "    </tr>\n",
       "  </thead>\n",
       "  <tbody>\n",
       "    <tr>\n",
       "      <th>A peu près autant de bien que de mal</th>\n",
       "      <td>536</td>\n",
       "      <td>52.19</td>\n",
       "    </tr>\n",
       "    <tr>\n",
       "      <th>Plus de bien que de mal</th>\n",
       "      <td>411</td>\n",
       "      <td>40.02</td>\n",
       "    </tr>\n",
       "    <tr>\n",
       "      <th>Plus de mal que de bien</th>\n",
       "      <td>66</td>\n",
       "      <td>6.43</td>\n",
       "    </tr>\n",
       "  </tbody>\n",
       "</table>\n",
       "</div>"
      ],
      "text/plain": [
       "                                      apportscience      %\n",
       "A peu près autant de bien que de mal            536  52.19\n",
       "Plus de bien que de mal                         411  40.02\n",
       "Plus de mal que de bien                          66   6.43"
      ]
     },
     "execution_count": 45,
     "metadata": {},
     "output_type": "execute_result"
    }
   ],
   "source": [
    "tableau"
   ]
  },
  {
   "cell_type": "code",
   "execution_count": 46,
   "metadata": {
    "scrolled": true
   },
   "outputs": [
    {
     "name": "stdout",
     "output_type": "stream",
     "text": [
      "Requirement already satisfied: pyshs in /Users/emilien/anaconda3/envs/p37/lib/python3.7/site-packages (0.1.4)\n",
      "Requirement already satisfied: scipy in /Users/emilien/anaconda3/envs/p37/lib/python3.7/site-packages (from pyshs) (1.4.1)\n",
      "Requirement already satisfied: numpy in /Users/emilien/anaconda3/envs/p37/lib/python3.7/site-packages (from pyshs) (1.18.2)\n",
      "Requirement already satisfied: pandas in /Users/emilien/anaconda3/envs/p37/lib/python3.7/site-packages (from pyshs) (1.0.3)\n",
      "Requirement already satisfied: python-dateutil>=2.6.1 in /Users/emilien/anaconda3/envs/p37/lib/python3.7/site-packages (from pandas->pyshs) (2.8.1)\n",
      "Requirement already satisfied: pytz>=2017.2 in /Users/emilien/anaconda3/envs/p37/lib/python3.7/site-packages (from pandas->pyshs) (2019.3)\n",
      "Requirement already satisfied: six>=1.5 in /Users/emilien/anaconda3/envs/p37/lib/python3.7/site-packages (from python-dateutil>=2.6.1->pandas->pyshs) (1.14.0)\n"
     ]
    }
   ],
   "source": [
    "!pip install pyshs"
   ]
  },
  {
   "cell_type": "code",
   "execution_count": 47,
   "metadata": {},
   "outputs": [],
   "source": [
    "import pyshs"
   ]
  },
  {
   "cell_type": "code",
   "execution_count": 49,
   "metadata": {},
   "outputs": [
    {
     "data": {
      "text/html": [
       "<div>\n",
       "<style scoped>\n",
       "    .dataframe tbody tr th:only-of-type {\n",
       "        vertical-align: middle;\n",
       "    }\n",
       "\n",
       "    .dataframe tbody tr th {\n",
       "        vertical-align: top;\n",
       "    }\n",
       "\n",
       "    .dataframe thead th {\n",
       "        text-align: right;\n",
       "    }\n",
       "</style>\n",
       "<table border=\"1\" class=\"dataframe\">\n",
       "  <thead>\n",
       "    <tr style=\"text-align: right;\">\n",
       "      <th></th>\n",
       "      <th>Effectif</th>\n",
       "      <th>Pourcentage (%)</th>\n",
       "    </tr>\n",
       "  </thead>\n",
       "  <tbody>\n",
       "    <tr>\n",
       "      <th>A peu près autant de bien que de mal</th>\n",
       "      <td>536.0</td>\n",
       "      <td>52.9</td>\n",
       "    </tr>\n",
       "    <tr>\n",
       "      <th>Plus de bien que de mal</th>\n",
       "      <td>411.0</td>\n",
       "      <td>40.6</td>\n",
       "    </tr>\n",
       "    <tr>\n",
       "      <th>Plus de mal que de bien</th>\n",
       "      <td>66.0</td>\n",
       "      <td>6.5</td>\n",
       "    </tr>\n",
       "  </tbody>\n",
       "</table>\n",
       "</div>"
      ],
      "text/plain": [
       "                                      Effectif  Pourcentage (%)\n",
       "A peu près autant de bien que de mal     536.0             52.9\n",
       "Plus de bien que de mal                  411.0             40.6\n",
       "Plus de mal que de bien                   66.0              6.5"
      ]
     },
     "execution_count": 49,
     "metadata": {},
     "output_type": "execute_result"
    }
   ],
   "source": [
    "pyshs.tri_a_plat(data,\"apportscience\")"
   ]
  },
  {
   "cell_type": "code",
   "execution_count": 54,
   "metadata": {},
   "outputs": [
    {
     "data": {
      "text/html": [
       "<div>\n",
       "<style scoped>\n",
       "    .dataframe tbody tr th:only-of-type {\n",
       "        vertical-align: middle;\n",
       "    }\n",
       "\n",
       "    .dataframe tbody tr th {\n",
       "        vertical-align: top;\n",
       "    }\n",
       "\n",
       "    .dataframe thead th {\n",
       "        text-align: right;\n",
       "    }\n",
       "</style>\n",
       "<table border=\"1\" class=\"dataframe\">\n",
       "  <thead>\n",
       "    <tr style=\"text-align: right;\">\n",
       "      <th></th>\n",
       "      <th>Effectif redressé</th>\n",
       "      <th>Pourcentage (%)</th>\n",
       "    </tr>\n",
       "    <tr>\n",
       "      <th>sexe</th>\n",
       "      <th></th>\n",
       "      <th></th>\n",
       "    </tr>\n",
       "  </thead>\n",
       "  <tbody>\n",
       "    <tr>\n",
       "      <th>Femme</th>\n",
       "      <td>538.1</td>\n",
       "      <td>52.4</td>\n",
       "    </tr>\n",
       "    <tr>\n",
       "      <th>Homme</th>\n",
       "      <td>488.9</td>\n",
       "      <td>47.6</td>\n",
       "    </tr>\n",
       "  </tbody>\n",
       "</table>\n",
       "</div>"
      ],
      "text/plain": [
       "       Effectif redressé  Pourcentage (%)\n",
       "sexe                                     \n",
       "Femme              538.1             52.4\n",
       "Homme              488.9             47.6"
      ]
     },
     "execution_count": 54,
     "metadata": {},
     "output_type": "execute_result"
    }
   ],
   "source": [
    "tableau = pyshs.tri_a_plat(data,\"sexe\",\"poids1\")\n",
    "tableau"
   ]
  },
  {
   "cell_type": "code",
   "execution_count": 57,
   "metadata": {},
   "outputs": [
    {
     "data": {
      "text/html": [
       "<div>\n",
       "<style scoped>\n",
       "    .dataframe tbody tr th:only-of-type {\n",
       "        vertical-align: middle;\n",
       "    }\n",
       "\n",
       "    .dataframe tbody tr th {\n",
       "        vertical-align: top;\n",
       "    }\n",
       "\n",
       "    .dataframe thead th {\n",
       "        text-align: right;\n",
       "    }\n",
       "</style>\n",
       "<table border=\"1\" class=\"dataframe\">\n",
       "  <thead>\n",
       "    <tr style=\"text-align: right;\">\n",
       "      <th></th>\n",
       "      <th>Effectif redressé</th>\n",
       "      <th>Pourcentage (%)</th>\n",
       "    </tr>\n",
       "    <tr>\n",
       "      <th>apportscience</th>\n",
       "      <th></th>\n",
       "      <th></th>\n",
       "    </tr>\n",
       "  </thead>\n",
       "  <tbody>\n",
       "    <tr>\n",
       "      <th>A peu près autant de bien que de mal</th>\n",
       "      <td>531.7</td>\n",
       "      <td>52.5</td>\n",
       "    </tr>\n",
       "    <tr>\n",
       "      <th>Plus de bien que de mal</th>\n",
       "      <td>420.7</td>\n",
       "      <td>41.5</td>\n",
       "    </tr>\n",
       "    <tr>\n",
       "      <th>Plus de mal que de bien</th>\n",
       "      <td>60.4</td>\n",
       "      <td>6.0</td>\n",
       "    </tr>\n",
       "  </tbody>\n",
       "</table>\n",
       "</div>"
      ],
      "text/plain": [
       "                                      Effectif redressé  Pourcentage (%)\n",
       "apportscience                                                           \n",
       "A peu près autant de bien que de mal              531.7             52.5\n",
       "Plus de bien que de mal                           420.7             41.5\n",
       "Plus de mal que de bien                            60.4              6.0"
      ]
     },
     "execution_count": 57,
     "metadata": {},
     "output_type": "execute_result"
    }
   ],
   "source": [
    "tableau = pyshs.tri_a_plat(data,\"apportscience\",\"poids1\")\n",
    "tableau"
   ]
  },
  {
   "cell_type": "code",
   "execution_count": 59,
   "metadata": {},
   "outputs": [
    {
     "data": {
      "text/plain": [
       "<matplotlib.axes._subplots.AxesSubplot at 0x12c350550>"
      ]
     },
     "execution_count": 59,
     "metadata": {},
     "output_type": "execute_result"
    },
    {
     "data": {
      "image/png": "[encoded data removed]",
      "text/plain": [
       "<Figure size 432x288 with 1 Axes>"
      ]
     },
     "metadata": {},
     "output_type": "display_data"
    }
   ],
   "source": [
    "tableau[\"Pourcentage (%)\"].plot(kind=\"pie\")"
   ]
  },
  {
   "cell_type": "markdown",
   "metadata": {},
   "source": [
    "### Construire un nouvel indicateur de confiance\n",
    "\n",
    "Proportion de réponse Oui aux différentes dimensions de confiance (justice, science, etc...)"
   ]
  },
  {
   "cell_type": "code",
   "execution_count": 9,
   "metadata": {},
   "outputs": [],
   "source": [
    "questions = [\"q1_{}\".format(i) for i in range(1,11)]\n",
    "\n",
    "dic = {1:1,2:1,3:0,4:0}\n",
    "\n",
    "data[\"confiance_g\"] = data[questions].replace(dic).fillna(0).sum(axis=1)/10"
   ]
  },
  {
   "cell_type": "code",
   "execution_count": 73,
   "metadata": {},
   "outputs": [
    {
     "data": {
      "text/plain": [
       "<matplotlib.axes._subplots.AxesSubplot at 0x12ceefe90>"
      ]
     },
     "execution_count": 73,
     "metadata": {},
     "output_type": "execute_result"
    },
    {
     "data": {
      "image/png": "[encoded data removed]",
      "text/plain": [
       "<Figure size 432x288 with 1 Axes>"
      ]
     },
     "metadata": {
      "needs_background": "light"
     },
     "output_type": "display_data"
    }
   ],
   "source": [
    "data[\"confiance_g\"].hist(bins=8)"
   ]
  },
  {
   "cell_type": "code",
   "execution_count": 10,
   "metadata": {},
   "outputs": [],
   "source": [
    "data[\"confiance_g_q\"] = pd.qcut(data[\"confiance_g\"],[0,0.25,0.5,0.75,1],[\"Q1\",\"Q2\",\"Q3\",'Q4'])"
   ]
  },
  {
   "cell_type": "code",
   "execution_count": 89,
   "metadata": {},
   "outputs": [],
   "source": [
    "data[\"age_reco\"] = pd.cut(data[\"rs2\"],[0,35,55,65,100],\n",
    "       labels = [\"[0-34]\",\"[35-54]\",\"[55-64]\",\"[65-+]\"])"
   ]
  },
  {
   "cell_type": "code",
   "execution_count": 91,
   "metadata": {},
   "outputs": [
    {
     "data": {
      "text/plain": [
       "{1.0: 'C - Moins de 500 euros (moins de 3300 francs)',\n",
       " 2.0: 'E - De 500 à 800 euros (de 3301 à 5200 francs)',\n",
       " 3.0: 'H - De 801 à 1200 euros (de 5201 à 8000 francs)',\n",
       " 4.0: 'A - De 1201 à 1500 euros (de 8001 à 10 000 francs)',\n",
       " 5.0: 'J - De 1501 à 2300 euros (de 10 001 à 15 000 francs)',\n",
       " 6.0: 'L - De 2301 à 3000 euros (de 15 001 à 20000 francs)',\n",
       " 7.0: 'K - De 3001 à 4500 euros (de 20001 à 30000 francs)',\n",
       " 8.0: 'I - De 4501 à 7500 euros (de 30001 à 50000 francs)',\n",
       " 9.0: 'G - Plus de 7500 euros (Plus de 50 000 francs)',\n",
       " 888.0: 'Ne sait pas'}"
      ]
     },
     "execution_count": 91,
     "metadata": {},
     "output_type": "execute_result"
    }
   ],
   "source": [
    "modalites(\"rs14\",meta)"
   ]
  },
  {
   "cell_type": "code",
   "execution_count": 93,
   "metadata": {},
   "outputs": [],
   "source": [
    "dic = {1:\"Moins de 1200\",2:\"Moins de 1200\",3:\"Moins de 1200\",\n",
    "       4:\"De 1200 à 3000\",5:\"De 1200 à 3000\",6:\"De 1200 à 3000\",\n",
    "       7:\"Plus de 3000\",8:\"Plus de 3000\",9:\"Plus de 3000\"\n",
    "      }"
   ]
  },
  {
   "cell_type": "code",
   "execution_count": 99,
   "metadata": {},
   "outputs": [
    {
     "data": {
      "text/plain": [
       "{1: 'Moins de 1200',\n",
       " 2: 'Moins de 1200',\n",
       " 3: 'Moins de 1200',\n",
       " 4: 'De 1200 à 3000',\n",
       " 5: 'De 1200 à 3000',\n",
       " 6: 'De 1200 à 3000',\n",
       " 7: 'Plus de 3000',\n",
       " 8: 'Plus de 3000',\n",
       " 9: 'Plus de 3000'}"
      ]
     },
     "execution_count": 99,
     "metadata": {},
     "output_type": "execute_result"
    }
   ],
   "source": [
    "dic = {}\n",
    "for i in range(1,10):\n",
    "    if i <= 3:\n",
    "        dic[i] = \"Moins de 1200\"\n",
    "    elif i <=6:\n",
    "        dic[i] = \"De 1200 à 3000\"\n",
    "    else:\n",
    "        dic[i] = \"Plus de 3000\"\n",
    "dic"
   ]
  },
  {
   "cell_type": "code",
   "execution_count": 95,
   "metadata": {},
   "outputs": [],
   "source": [
    "data[\"revenus\"] = data[\"rs14\"].replace(dic)"
   ]
  },
  {
   "cell_type": "markdown",
   "metadata": {},
   "source": [
    "## Analyse bivariée"
   ]
  },
  {
   "cell_type": "code",
   "execution_count": 109,
   "metadata": {},
   "outputs": [
    {
     "name": "stdout",
     "output_type": "stream",
     "text": [
      "0.008884109953621426\n"
     ]
    },
    {
     "data": {
      "text/html": [
       "<div>\n",
       "<style scoped>\n",
       "    .dataframe tbody tr th:only-of-type {\n",
       "        vertical-align: middle;\n",
       "    }\n",
       "\n",
       "    .dataframe tbody tr th {\n",
       "        vertical-align: top;\n",
       "    }\n",
       "\n",
       "    .dataframe thead th {\n",
       "        text-align: right;\n",
       "    }\n",
       "</style>\n",
       "<table border=\"1\" class=\"dataframe\">\n",
       "  <thead>\n",
       "    <tr style=\"text-align: right;\">\n",
       "      <th>apportscience</th>\n",
       "      <th>A peu près autant de bien que de mal</th>\n",
       "      <th>Plus de bien que de mal</th>\n",
       "      <th>Plus de mal que de bien</th>\n",
       "      <th>All</th>\n",
       "    </tr>\n",
       "    <tr>\n",
       "      <th>sexe</th>\n",
       "      <th></th>\n",
       "      <th></th>\n",
       "      <th></th>\n",
       "      <th></th>\n",
       "    </tr>\n",
       "  </thead>\n",
       "  <tbody>\n",
       "    <tr>\n",
       "      <th>Femme</th>\n",
       "      <td>301.0 (57.1%)</td>\n",
       "      <td>196.3 (37.2%)</td>\n",
       "      <td>30.1 (5.7%)</td>\n",
       "      <td>527.4</td>\n",
       "    </tr>\n",
       "    <tr>\n",
       "      <th>Homme</th>\n",
       "      <td>230.7 (47.5%)</td>\n",
       "      <td>224.4 (46.2%)</td>\n",
       "      <td>30.3 (6.2%)</td>\n",
       "      <td>485.4</td>\n",
       "    </tr>\n",
       "    <tr>\n",
       "      <th>All</th>\n",
       "      <td>531.7</td>\n",
       "      <td>420.7</td>\n",
       "      <td>60.4</td>\n",
       "      <td>1012.8</td>\n",
       "    </tr>\n",
       "  </tbody>\n",
       "</table>\n",
       "</div>"
      ],
      "text/plain": [
       "apportscience A peu près autant de bien que de mal Plus de bien que de mal  \\\n",
       "sexe                                                                         \n",
       "Femme                                301.0 (57.1%)           196.3 (37.2%)   \n",
       "Homme                                230.7 (47.5%)           224.4 (46.2%)   \n",
       "All                                          531.7                   420.7   \n",
       "\n",
       "apportscience Plus de mal que de bien     All  \n",
       "sexe                                           \n",
       "Femme                     30.1 (5.7%)   527.4  \n",
       "Homme                     30.3 (6.2%)   485.4  \n",
       "All                              60.4  1012.8  "
      ]
     },
     "execution_count": 109,
     "metadata": {},
     "output_type": "execute_result"
    }
   ],
   "source": [
    "tab,p = pyshs.tableau_croise(data,\"sexe\",\"apportscience\",\"poids1\",p=True)\n",
    "print(p)\n",
    "tab"
   ]
  },
  {
   "cell_type": "code",
   "execution_count": 105,
   "metadata": {},
   "outputs": [
    {
     "data": {
      "text/html": [
       "<div>\n",
       "<style scoped>\n",
       "    .dataframe tbody tr th:only-of-type {\n",
       "        vertical-align: middle;\n",
       "    }\n",
       "\n",
       "    .dataframe tbody tr th {\n",
       "        vertical-align: top;\n",
       "    }\n",
       "\n",
       "    .dataframe thead th {\n",
       "        text-align: right;\n",
       "    }\n",
       "</style>\n",
       "<table border=\"1\" class=\"dataframe\">\n",
       "  <thead>\n",
       "    <tr style=\"text-align: right;\">\n",
       "      <th>apportscience</th>\n",
       "      <th>A peu près autant de bien que de mal</th>\n",
       "      <th>Plus de bien que de mal</th>\n",
       "      <th>Plus de mal que de bien</th>\n",
       "      <th>All</th>\n",
       "    </tr>\n",
       "    <tr>\n",
       "      <th>revenus</th>\n",
       "      <th></th>\n",
       "      <th></th>\n",
       "      <th></th>\n",
       "      <th></th>\n",
       "    </tr>\n",
       "  </thead>\n",
       "  <tbody>\n",
       "    <tr>\n",
       "      <th>De 1200 à 3000</th>\n",
       "      <td>283 (56.9%)</td>\n",
       "      <td>185 (37.2%)</td>\n",
       "      <td>29 (5.8%)</td>\n",
       "      <td>497</td>\n",
       "    </tr>\n",
       "    <tr>\n",
       "      <th>Moins de 1200</th>\n",
       "      <td>108 (60.7%)</td>\n",
       "      <td>55 (30.9%)</td>\n",
       "      <td>15 (8.4%)</td>\n",
       "      <td>178</td>\n",
       "    </tr>\n",
       "    <tr>\n",
       "      <th>Plus de 3000</th>\n",
       "      <td>92 (41.8%)</td>\n",
       "      <td>121 (55.0%)</td>\n",
       "      <td>7 (3.2%)</td>\n",
       "      <td>220</td>\n",
       "    </tr>\n",
       "    <tr>\n",
       "      <th>All</th>\n",
       "      <td>483</td>\n",
       "      <td>361</td>\n",
       "      <td>51</td>\n",
       "      <td>895</td>\n",
       "    </tr>\n",
       "  </tbody>\n",
       "</table>\n",
       "</div>"
      ],
      "text/plain": [
       "apportscience  A peu près autant de bien que de mal Plus de bien que de mal  \\\n",
       "revenus                                                                       \n",
       "De 1200 à 3000                          283 (56.9%)             185 (37.2%)   \n",
       "Moins de 1200                           108 (60.7%)              55 (30.9%)   \n",
       "Plus de 3000                             92 (41.8%)             121 (55.0%)   \n",
       "All                                             483                     361   \n",
       "\n",
       "apportscience  Plus de mal que de bien  All  \n",
       "revenus                                      \n",
       "De 1200 à 3000               29 (5.8%)  497  \n",
       "Moins de 1200                15 (8.4%)  178  \n",
       "Plus de 3000                  7 (3.2%)  220  \n",
       "All                                 51  895  "
      ]
     },
     "execution_count": 105,
     "metadata": {},
     "output_type": "execute_result"
    }
   ],
   "source": [
    "pyshs.tableau_croise(data,\"revenus\",\"apportscience\")"
   ]
  },
  {
   "cell_type": "code",
   "execution_count": 108,
   "metadata": {},
   "outputs": [
    {
     "data": {
      "text/html": [
       "<div>\n",
       "<style scoped>\n",
       "    .dataframe tbody tr th:only-of-type {\n",
       "        vertical-align: middle;\n",
       "    }\n",
       "\n",
       "    .dataframe tbody tr th {\n",
       "        vertical-align: top;\n",
       "    }\n",
       "\n",
       "    .dataframe thead th {\n",
       "        text-align: right;\n",
       "    }\n",
       "</style>\n",
       "<table border=\"1\" class=\"dataframe\">\n",
       "  <thead>\n",
       "    <tr style=\"text-align: right;\">\n",
       "      <th>apportscience</th>\n",
       "      <th>A peu près autant de bien que de mal</th>\n",
       "      <th>Plus de bien que de mal</th>\n",
       "      <th>Plus de mal que de bien</th>\n",
       "      <th>All</th>\n",
       "    </tr>\n",
       "    <tr>\n",
       "      <th>confiance_g_q</th>\n",
       "      <th></th>\n",
       "      <th></th>\n",
       "      <th></th>\n",
       "      <th></th>\n",
       "    </tr>\n",
       "  </thead>\n",
       "  <tbody>\n",
       "    <tr>\n",
       "      <th>Q1</th>\n",
       "      <td>214 (62.8%)</td>\n",
       "      <td>92 (27.0%)</td>\n",
       "      <td>35 (10.3%)</td>\n",
       "      <td>341</td>\n",
       "    </tr>\n",
       "    <tr>\n",
       "      <th>Q2</th>\n",
       "      <td>161 (52.8%)</td>\n",
       "      <td>124 (40.7%)</td>\n",
       "      <td>20 (6.6%)</td>\n",
       "      <td>305</td>\n",
       "    </tr>\n",
       "    <tr>\n",
       "      <th>Q3</th>\n",
       "      <td>61 (41.8%)</td>\n",
       "      <td>79 (54.1%)</td>\n",
       "      <td>6 (4.1%)</td>\n",
       "      <td>146</td>\n",
       "    </tr>\n",
       "    <tr>\n",
       "      <th>Q4</th>\n",
       "      <td>100 (45.2%)</td>\n",
       "      <td>116 (52.5%)</td>\n",
       "      <td>5 (2.3%)</td>\n",
       "      <td>221</td>\n",
       "    </tr>\n",
       "    <tr>\n",
       "      <th>All</th>\n",
       "      <td>536</td>\n",
       "      <td>411</td>\n",
       "      <td>66</td>\n",
       "      <td>1013</td>\n",
       "    </tr>\n",
       "  </tbody>\n",
       "</table>\n",
       "</div>"
      ],
      "text/plain": [
       "apportscience A peu près autant de bien que de mal Plus de bien que de mal  \\\n",
       "confiance_g_q                                                                \n",
       "Q1                                     214 (62.8%)              92 (27.0%)   \n",
       "Q2                                     161 (52.8%)             124 (40.7%)   \n",
       "Q3                                      61 (41.8%)              79 (54.1%)   \n",
       "Q4                                     100 (45.2%)             116 (52.5%)   \n",
       "All                                            536                     411   \n",
       "\n",
       "apportscience Plus de mal que de bien   All  \n",
       "confiance_g_q                                \n",
       "Q1                         35 (10.3%)   341  \n",
       "Q2                          20 (6.6%)   305  \n",
       "Q3                           6 (4.1%)   146  \n",
       "Q4                           5 (2.3%)   221  \n",
       "All                                66  1013  "
      ]
     },
     "execution_count": 108,
     "metadata": {},
     "output_type": "execute_result"
    }
   ],
   "source": [
    "pyshs.tableau_croise(data,\"confiance_g_q\",\"apportscience\")"
   ]
  },
  {
   "cell_type": "code",
   "execution_count": 117,
   "metadata": {},
   "outputs": [],
   "source": [
    "from scipy.stats import chi2_contingency"
   ]
  },
  {
   "cell_type": "code",
   "execution_count": 118,
   "metadata": {},
   "outputs": [
    {
     "name": "stdout",
     "output_type": "stream",
     "text": [
      "0.013889830526662587\n"
     ]
    }
   ],
   "source": [
    "tableau = pd.crosstab(data[\"sexe\"],data[\"apportscience\"])\n",
    "chi2,p,dof,ex_tableau = chi2_contingency(tableau)\n",
    "print(p)"
   ]
  },
  {
   "cell_type": "code",
   "execution_count": 116,
   "metadata": {},
   "outputs": [
    {
     "data": {
      "text/plain": [
       "array([[277.25962488, 212.60019743,  34.14017769],\n",
       "       [258.74037512, 198.39980257,  31.85982231]])"
      ]
     },
     "execution_count": 116,
     "metadata": {},
     "output_type": "execute_result"
    }
   ],
   "source": [
    "ex_tableau"
   ]
  },
  {
   "cell_type": "markdown",
   "metadata": {},
   "source": [
    "## Régression logistique binomiale sur l'attitude positive à l'apport de la science"
   ]
  },
  {
   "cell_type": "markdown",
   "metadata": {},
   "source": [
    "Variable dépendante :\n",
    "\n",
    "- apport positif à la science\n",
    "\n",
    "Variables indépendantes :\n",
    "\n",
    "- sexe\n",
    "- revenus\n",
    "- confiance en quartile"
   ]
  },
  {
   "cell_type": "code",
   "execution_count": 13,
   "metadata": {},
   "outputs": [],
   "source": [
    "data[\"apportscienceB\"] = data[\"apportscience\"].apply(lambda x : 1 if x == \"Plus de bien que de mal\" else 0)"
   ]
  },
  {
   "cell_type": "code",
   "execution_count": 130,
   "metadata": {},
   "outputs": [],
   "source": [
    "data[\"apportscienceB\"] = data[\"apportscienceB\"].fillna(0)"
   ]
  },
  {
   "cell_type": "code",
   "execution_count": 11,
   "metadata": {},
   "outputs": [],
   "source": [
    "import statsmodels.api as sm\n",
    "import statsmodels.formula.api as smf"
   ]
  },
  {
   "cell_type": "code",
   "execution_count": 16,
   "metadata": {},
   "outputs": [
    {
     "ename": "PatsyError",
     "evalue": "error tokenizing input (maybe an unclosed string?)\n    apportscienceB ~~ sexe\n                     ^",
     "output_type": "error",
     "traceback": [
      "\u001b[0;31m---------------------------------------------------------------------------\u001b[0m",
      "\u001b[0;31mPatsyError\u001b[0m                                Traceback (most recent call last)",
      "\u001b[0;32m<ipython-input-16-90a71f9a8444>\u001b[0m in \u001b[0;36m<module>\u001b[0;34m\u001b[0m\n\u001b[1;32m      1\u001b[0m modele = smf.glm(formula=\"apportscienceB ~~ sexe\",\n\u001b[0;32m----> 2\u001b[0;31m                  data=data,family=sm.families.Binomial())\n\u001b[0m",
      "\u001b[0;32m~/anaconda3/envs/p37/lib/python3.7/site-packages/statsmodels/base/model.py\u001b[0m in \u001b[0;36mfrom_formula\u001b[0;34m(cls, formula, data, subset, drop_cols, *args, **kwargs)\u001b[0m\n\u001b[1;32m    167\u001b[0m \u001b[0;34m\u001b[0m\u001b[0m\n\u001b[1;32m    168\u001b[0m         tmp = handle_formula_data(data, None, formula, depth=eval_env,\n\u001b[0;32m--> 169\u001b[0;31m                                   missing=missing)\n\u001b[0m\u001b[1;32m    170\u001b[0m         \u001b[0;34m(\u001b[0m\u001b[0;34m(\u001b[0m\u001b[0mendog\u001b[0m\u001b[0;34m,\u001b[0m \u001b[0mexog\u001b[0m\u001b[0;34m)\u001b[0m\u001b[0;34m,\u001b[0m \u001b[0mmissing_idx\u001b[0m\u001b[0;34m,\u001b[0m \u001b[0mdesign_info\u001b[0m\u001b[0;34m)\u001b[0m \u001b[0;34m=\u001b[0m \u001b[0mtmp\u001b[0m\u001b[0;34m\u001b[0m\u001b[0;34m\u001b[0m\u001b[0m\n\u001b[1;32m    171\u001b[0m         \u001b[0mmax_endog\u001b[0m \u001b[0;34m=\u001b[0m \u001b[0mcls\u001b[0m\u001b[0;34m.\u001b[0m\u001b[0m_formula_max_endog\u001b[0m\u001b[0;34m\u001b[0m\u001b[0;34m\u001b[0m\u001b[0m\n",
      "\u001b[0;32m~/anaconda3/envs/p37/lib/python3.7/site-packages/statsmodels/formula/formulatools.py\u001b[0m in \u001b[0;36mhandle_formula_data\u001b[0;34m(Y, X, formula, depth, missing)\u001b[0m\n\u001b[1;32m     63\u001b[0m         \u001b[0;32mif\u001b[0m \u001b[0mdata_util\u001b[0m\u001b[0;34m.\u001b[0m\u001b[0m_is_using_pandas\u001b[0m\u001b[0;34m(\u001b[0m\u001b[0mY\u001b[0m\u001b[0;34m,\u001b[0m \u001b[0;32mNone\u001b[0m\u001b[0;34m)\u001b[0m\u001b[0;34m:\u001b[0m\u001b[0;34m\u001b[0m\u001b[0;34m\u001b[0m\u001b[0m\n\u001b[1;32m     64\u001b[0m             result = dmatrices(formula, Y, depth, return_type='dataframe',\n\u001b[0;32m---> 65\u001b[0;31m                                NA_action=na_action)\n\u001b[0m\u001b[1;32m     66\u001b[0m         \u001b[0;32melse\u001b[0m\u001b[0;34m:\u001b[0m\u001b[0;34m\u001b[0m\u001b[0;34m\u001b[0m\u001b[0m\n\u001b[1;32m     67\u001b[0m             result = dmatrices(formula, Y, depth, return_type='dataframe',\n",
      "\u001b[0;32m~/anaconda3/envs/p37/lib/python3.7/site-packages/patsy/highlevel.py\u001b[0m in \u001b[0;36mdmatrices\u001b[0;34m(formula_like, data, eval_env, NA_action, return_type)\u001b[0m\n\u001b[1;32m    308\u001b[0m     \u001b[0meval_env\u001b[0m \u001b[0;34m=\u001b[0m \u001b[0mEvalEnvironment\u001b[0m\u001b[0;34m.\u001b[0m\u001b[0mcapture\u001b[0m\u001b[0;34m(\u001b[0m\u001b[0meval_env\u001b[0m\u001b[0;34m,\u001b[0m \u001b[0mreference\u001b[0m\u001b[0;34m=\u001b[0m\u001b[0;36m1\u001b[0m\u001b[0;34m)\u001b[0m\u001b[0;34m\u001b[0m\u001b[0;34m\u001b[0m\u001b[0m\n\u001b[1;32m    309\u001b[0m     (lhs, rhs) = _do_highlevel_design(formula_like, data, eval_env,\n\u001b[0;32m--> 310\u001b[0;31m                                       NA_action, return_type)\n\u001b[0m\u001b[1;32m    311\u001b[0m     \u001b[0;32mif\u001b[0m \u001b[0mlhs\u001b[0m\u001b[0;34m.\u001b[0m\u001b[0mshape\u001b[0m\u001b[0;34m[\u001b[0m\u001b[0;36m1\u001b[0m\u001b[0;34m]\u001b[0m \u001b[0;34m==\u001b[0m \u001b[0;36m0\u001b[0m\u001b[0;34m:\u001b[0m\u001b[0;34m\u001b[0m\u001b[0;34m\u001b[0m\u001b[0m\n\u001b[1;32m    312\u001b[0m         \u001b[0;32mraise\u001b[0m \u001b[0mPatsyError\u001b[0m\u001b[0;34m(\u001b[0m\u001b[0;34m\"model is missing required outcome variables\"\u001b[0m\u001b[0;34m)\u001b[0m\u001b[0;34m\u001b[0m\u001b[0;34m\u001b[0m\u001b[0m\n",
      "\u001b[0;32m~/anaconda3/envs/p37/lib/python3.7/site-packages/patsy/highlevel.py\u001b[0m in \u001b[0;36m_do_highlevel_design\u001b[0;34m(formula_like, data, eval_env, NA_action, return_type)\u001b[0m\n\u001b[1;32m    163\u001b[0m         \u001b[0;32mreturn\u001b[0m \u001b[0miter\u001b[0m\u001b[0;34m(\u001b[0m\u001b[0;34m[\u001b[0m\u001b[0mdata\u001b[0m\u001b[0;34m]\u001b[0m\u001b[0;34m)\u001b[0m\u001b[0;34m\u001b[0m\u001b[0;34m\u001b[0m\u001b[0m\n\u001b[1;32m    164\u001b[0m     design_infos = _try_incr_builders(formula_like, data_iter_maker, eval_env,\n\u001b[0;32m--> 165\u001b[0;31m                                       NA_action)\n\u001b[0m\u001b[1;32m    166\u001b[0m     \u001b[0;32mif\u001b[0m \u001b[0mdesign_infos\u001b[0m \u001b[0;32mis\u001b[0m \u001b[0;32mnot\u001b[0m \u001b[0;32mNone\u001b[0m\u001b[0;34m:\u001b[0m\u001b[0;34m\u001b[0m\u001b[0;34m\u001b[0m\u001b[0m\n\u001b[1;32m    167\u001b[0m         return build_design_matrices(design_infos, data,\n",
      "\u001b[0;32m~/anaconda3/envs/p37/lib/python3.7/site-packages/patsy/highlevel.py\u001b[0m in \u001b[0;36m_try_incr_builders\u001b[0;34m(formula_like, data_iter_maker, eval_env, NA_action)\u001b[0m\n\u001b[1;32m     60\u001b[0m                 \"ascii-only, or else upgrade to Python 3.\")\n\u001b[1;32m     61\u001b[0m     \u001b[0;32mif\u001b[0m \u001b[0misinstance\u001b[0m\u001b[0;34m(\u001b[0m\u001b[0mformula_like\u001b[0m\u001b[0;34m,\u001b[0m \u001b[0mstr\u001b[0m\u001b[0;34m)\u001b[0m\u001b[0;34m:\u001b[0m\u001b[0;34m\u001b[0m\u001b[0;34m\u001b[0m\u001b[0m\n\u001b[0;32m---> 62\u001b[0;31m         \u001b[0mformula_like\u001b[0m \u001b[0;34m=\u001b[0m \u001b[0mModelDesc\u001b[0m\u001b[0;34m.\u001b[0m\u001b[0mfrom_formula\u001b[0m\u001b[0;34m(\u001b[0m\u001b[0mformula_like\u001b[0m\u001b[0;34m)\u001b[0m\u001b[0;34m\u001b[0m\u001b[0;34m\u001b[0m\u001b[0m\n\u001b[0m\u001b[1;32m     63\u001b[0m         \u001b[0;31m# fallthrough\u001b[0m\u001b[0;34m\u001b[0m\u001b[0;34m\u001b[0m\u001b[0;34m\u001b[0m\u001b[0m\n\u001b[1;32m     64\u001b[0m     \u001b[0;32mif\u001b[0m \u001b[0misinstance\u001b[0m\u001b[0;34m(\u001b[0m\u001b[0mformula_like\u001b[0m\u001b[0;34m,\u001b[0m \u001b[0mModelDesc\u001b[0m\u001b[0;34m)\u001b[0m\u001b[0;34m:\u001b[0m\u001b[0;34m\u001b[0m\u001b[0;34m\u001b[0m\u001b[0m\n",
      "\u001b[0;32m~/anaconda3/envs/p37/lib/python3.7/site-packages/patsy/desc.py\u001b[0m in \u001b[0;36mfrom_formula\u001b[0;34m(cls, tree_or_string)\u001b[0m\n\u001b[1;32m    162\u001b[0m             \u001b[0mtree\u001b[0m \u001b[0;34m=\u001b[0m \u001b[0mtree_or_string\u001b[0m\u001b[0;34m\u001b[0m\u001b[0;34m\u001b[0m\u001b[0m\n\u001b[1;32m    163\u001b[0m         \u001b[0;32melse\u001b[0m\u001b[0;34m:\u001b[0m\u001b[0;34m\u001b[0m\u001b[0;34m\u001b[0m\u001b[0m\n\u001b[0;32m--> 164\u001b[0;31m             \u001b[0mtree\u001b[0m \u001b[0;34m=\u001b[0m \u001b[0mparse_formula\u001b[0m\u001b[0;34m(\u001b[0m\u001b[0mtree_or_string\u001b[0m\u001b[0;34m)\u001b[0m\u001b[0;34m\u001b[0m\u001b[0;34m\u001b[0m\u001b[0m\n\u001b[0m\u001b[1;32m    165\u001b[0m         \u001b[0mvalue\u001b[0m \u001b[0;34m=\u001b[0m \u001b[0mEvaluator\u001b[0m\u001b[0;34m(\u001b[0m\u001b[0;34m)\u001b[0m\u001b[0;34m.\u001b[0m\u001b[0meval\u001b[0m\u001b[0;34m(\u001b[0m\u001b[0mtree\u001b[0m\u001b[0;34m,\u001b[0m \u001b[0mrequire_evalexpr\u001b[0m\u001b[0;34m=\u001b[0m\u001b[0;32mFalse\u001b[0m\u001b[0;34m)\u001b[0m\u001b[0;34m\u001b[0m\u001b[0;34m\u001b[0m\u001b[0m\n\u001b[1;32m    166\u001b[0m         \u001b[0;32massert\u001b[0m \u001b[0misinstance\u001b[0m\u001b[0;34m(\u001b[0m\u001b[0mvalue\u001b[0m\u001b[0;34m,\u001b[0m \u001b[0mcls\u001b[0m\u001b[0;34m)\u001b[0m\u001b[0;34m\u001b[0m\u001b[0;34m\u001b[0m\u001b[0m\n",
      "\u001b[0;32m~/anaconda3/envs/p37/lib/python3.7/site-packages/patsy/parse_formula.py\u001b[0m in \u001b[0;36mparse_formula\u001b[0;34m(code, extra_operators)\u001b[0m\n\u001b[1;32m    146\u001b[0m     tree = infix_parse(_tokenize_formula(code, operator_strings),\n\u001b[1;32m    147\u001b[0m                        \u001b[0moperators\u001b[0m\u001b[0;34m,\u001b[0m\u001b[0;34m\u001b[0m\u001b[0;34m\u001b[0m\u001b[0m\n\u001b[0;32m--> 148\u001b[0;31m                        _atomic_token_types)\n\u001b[0m\u001b[1;32m    149\u001b[0m     \u001b[0;32mif\u001b[0m \u001b[0;32mnot\u001b[0m \u001b[0misinstance\u001b[0m\u001b[0;34m(\u001b[0m\u001b[0mtree\u001b[0m\u001b[0;34m,\u001b[0m \u001b[0mParseNode\u001b[0m\u001b[0;34m)\u001b[0m \u001b[0;32mor\u001b[0m \u001b[0mtree\u001b[0m\u001b[0;34m.\u001b[0m\u001b[0mtype\u001b[0m \u001b[0;34m!=\u001b[0m \u001b[0;34m\"~\"\u001b[0m\u001b[0;34m:\u001b[0m\u001b[0;34m\u001b[0m\u001b[0;34m\u001b[0m\u001b[0m\n\u001b[1;32m    150\u001b[0m         \u001b[0mtree\u001b[0m \u001b[0;34m=\u001b[0m \u001b[0mParseNode\u001b[0m\u001b[0;34m(\u001b[0m\u001b[0;34m\"~\"\u001b[0m\u001b[0;34m,\u001b[0m \u001b[0;32mNone\u001b[0m\u001b[0;34m,\u001b[0m \u001b[0;34m[\u001b[0m\u001b[0mtree\u001b[0m\u001b[0;34m]\u001b[0m\u001b[0;34m,\u001b[0m \u001b[0mtree\u001b[0m\u001b[0;34m.\u001b[0m\u001b[0morigin\u001b[0m\u001b[0;34m)\u001b[0m\u001b[0;34m\u001b[0m\u001b[0;34m\u001b[0m\u001b[0m\n",
      "\u001b[0;32m~/anaconda3/envs/p37/lib/python3.7/site-packages/patsy/infix_parser.py\u001b[0m in \u001b[0;36minfix_parse\u001b[0;34m(tokens, operators, atomic_types, trace)\u001b[0m\n\u001b[1;32m    208\u001b[0m \u001b[0;34m\u001b[0m\u001b[0m\n\u001b[1;32m    209\u001b[0m     \u001b[0mwant_noun\u001b[0m \u001b[0;34m=\u001b[0m \u001b[0;32mTrue\u001b[0m\u001b[0;34m\u001b[0m\u001b[0;34m\u001b[0m\u001b[0m\n\u001b[0;32m--> 210\u001b[0;31m     \u001b[0;32mfor\u001b[0m \u001b[0mtoken\u001b[0m \u001b[0;32min\u001b[0m \u001b[0mtoken_source\u001b[0m\u001b[0;34m:\u001b[0m\u001b[0;34m\u001b[0m\u001b[0;34m\u001b[0m\u001b[0m\n\u001b[0m\u001b[1;32m    211\u001b[0m         \u001b[0;32mif\u001b[0m \u001b[0mc\u001b[0m\u001b[0;34m.\u001b[0m\u001b[0mtrace\u001b[0m\u001b[0;34m:\u001b[0m\u001b[0;34m\u001b[0m\u001b[0;34m\u001b[0m\u001b[0m\n\u001b[1;32m    212\u001b[0m             \u001b[0mprint\u001b[0m\u001b[0;34m(\u001b[0m\u001b[0;34m\"Reading next token (want_noun=%r)\"\u001b[0m \u001b[0;34m%\u001b[0m \u001b[0;34m(\u001b[0m\u001b[0mwant_noun\u001b[0m\u001b[0;34m,\u001b[0m\u001b[0;34m)\u001b[0m\u001b[0;34m)\u001b[0m\u001b[0;34m\u001b[0m\u001b[0;34m\u001b[0m\u001b[0m\n",
      "\u001b[0;32m~/anaconda3/envs/p37/lib/python3.7/site-packages/patsy/parse_formula.py\u001b[0m in \u001b[0;36m_tokenize_formula\u001b[0;34m(code, operator_strings)\u001b[0m\n\u001b[1;32m     87\u001b[0m \u001b[0;34m\u001b[0m\u001b[0m\n\u001b[1;32m     88\u001b[0m     \u001b[0mit\u001b[0m \u001b[0;34m=\u001b[0m \u001b[0mPushbackAdapter\u001b[0m\u001b[0;34m(\u001b[0m\u001b[0mpython_tokenize\u001b[0m\u001b[0;34m(\u001b[0m\u001b[0mcode\u001b[0m\u001b[0;34m)\u001b[0m\u001b[0;34m)\u001b[0m\u001b[0;34m\u001b[0m\u001b[0;34m\u001b[0m\u001b[0m\n\u001b[0;32m---> 89\u001b[0;31m     \u001b[0;32mfor\u001b[0m \u001b[0mpytype\u001b[0m\u001b[0;34m,\u001b[0m \u001b[0mtoken_string\u001b[0m\u001b[0;34m,\u001b[0m \u001b[0morigin\u001b[0m \u001b[0;32min\u001b[0m \u001b[0mit\u001b[0m\u001b[0;34m:\u001b[0m\u001b[0;34m\u001b[0m\u001b[0;34m\u001b[0m\u001b[0m\n\u001b[0m\u001b[1;32m     90\u001b[0m         \u001b[0;32mif\u001b[0m \u001b[0mtoken_string\u001b[0m \u001b[0;32min\u001b[0m \u001b[0mmagic_token_types\u001b[0m\u001b[0;34m:\u001b[0m\u001b[0;34m\u001b[0m\u001b[0;34m\u001b[0m\u001b[0m\n\u001b[1;32m     91\u001b[0m             \u001b[0;32myield\u001b[0m \u001b[0mToken\u001b[0m\u001b[0;34m(\u001b[0m\u001b[0mmagic_token_types\u001b[0m\u001b[0;34m[\u001b[0m\u001b[0mtoken_string\u001b[0m\u001b[0;34m]\u001b[0m\u001b[0;34m,\u001b[0m \u001b[0morigin\u001b[0m\u001b[0;34m)\u001b[0m\u001b[0;34m\u001b[0m\u001b[0;34m\u001b[0m\u001b[0m\n",
      "\u001b[0;32m~/anaconda3/envs/p37/lib/python3.7/site-packages/patsy/util.py\u001b[0m in \u001b[0;36mnext\u001b[0;34m(self)\u001b[0m\n\u001b[1;32m    347\u001b[0m         \u001b[0;32melse\u001b[0m\u001b[0;34m:\u001b[0m\u001b[0;34m\u001b[0m\u001b[0;34m\u001b[0m\u001b[0m\n\u001b[1;32m    348\u001b[0m             \u001b[0;31m# May raise StopIteration\u001b[0m\u001b[0;34m\u001b[0m\u001b[0;34m\u001b[0m\u001b[0;34m\u001b[0m\u001b[0m\n\u001b[0;32m--> 349\u001b[0;31m             \u001b[0;32mreturn\u001b[0m \u001b[0msix\u001b[0m\u001b[0;34m.\u001b[0m\u001b[0madvance_iterator\u001b[0m\u001b[0;34m(\u001b[0m\u001b[0mself\u001b[0m\u001b[0;34m.\u001b[0m\u001b[0m_it\u001b[0m\u001b[0;34m)\u001b[0m\u001b[0;34m\u001b[0m\u001b[0;34m\u001b[0m\u001b[0m\n\u001b[0m\u001b[1;32m    350\u001b[0m     \u001b[0m__next__\u001b[0m \u001b[0;34m=\u001b[0m \u001b[0mnext\u001b[0m\u001b[0;34m\u001b[0m\u001b[0;34m\u001b[0m\u001b[0m\n\u001b[1;32m    351\u001b[0m \u001b[0;34m\u001b[0m\u001b[0m\n",
      "\u001b[0;32m~/anaconda3/envs/p37/lib/python3.7/site-packages/patsy/tokens.py\u001b[0m in \u001b[0;36mpython_tokenize\u001b[0;34m(code)\u001b[0m\n\u001b[1;32m     40\u001b[0m                 raise PatsyError(\"error tokenizing input \"\n\u001b[1;32m     41\u001b[0m                                  \u001b[0;34m\"(maybe an unclosed string?)\"\u001b[0m\u001b[0;34m,\u001b[0m\u001b[0;34m\u001b[0m\u001b[0;34m\u001b[0m\u001b[0m\n\u001b[0;32m---> 42\u001b[0;31m                                  origin)\n\u001b[0m\u001b[1;32m     43\u001b[0m             \u001b[0;32mif\u001b[0m \u001b[0mpytype\u001b[0m \u001b[0;34m==\u001b[0m \u001b[0mtokenize\u001b[0m\u001b[0;34m.\u001b[0m\u001b[0mCOMMENT\u001b[0m\u001b[0;34m:\u001b[0m\u001b[0;34m\u001b[0m\u001b[0;34m\u001b[0m\u001b[0m\n\u001b[1;32m     44\u001b[0m                 \u001b[0;32mraise\u001b[0m \u001b[0mPatsyError\u001b[0m\u001b[0;34m(\u001b[0m\u001b[0;34m\"comments are not allowed\"\u001b[0m\u001b[0;34m,\u001b[0m \u001b[0morigin\u001b[0m\u001b[0;34m)\u001b[0m\u001b[0;34m\u001b[0m\u001b[0;34m\u001b[0m\u001b[0m\n",
      "\u001b[0;31mPatsyError\u001b[0m: error tokenizing input (maybe an unclosed string?)\n    apportscienceB ~~ sexe\n                     ^"
     ]
    }
   ],
   "source": [
    "modele = smf.glm(formula=\"apportscienceB ~~ sexe\",\n",
    "                 data=data,family=sm.families.Binomial())"
   ]
  }
 ],
 "metadata": {
  "kernelspec": {
   "display_name": "Python 3",
   "language": "python",
   "name": "python3"
  },
  "language_info": {
   "codemirror_mode": {
    "name": "ipython",
    "version": 3
   },
   "file_extension": ".py",
   "mimetype": "text/x-python",
   "name": "python",
   "nbconvert_exporter": "python",
   "pygments_lexer": "ipython3",
   "version": "3.7.7"
  }
 },
 "nbformat": 4,
 "nbformat_minor": 4
}
