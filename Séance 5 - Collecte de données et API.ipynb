{
 "cells": [
  {
   "cell_type": "markdown",
   "metadata": {},
   "source": [
    "# Séance 5 - Collecte de données et API\n",
    "\n",
    "L'objectif de la séance est de voir un peu de la collecte de données sur internet, et pour cela de commencer à se familiariser avec la notion d'API.\n",
    "\n",
    "L'idée étant que beaucoup de données existantes doivent être acquises en s'interfaçant avec différents systèmes : serveurs, bases de données, etc. Tout cela conduit à devoir maîtriser différentes formes d'API\n",
    "\n",
    "Quatre moments :\n",
    "- Ce qu'est une API\n",
    "- Une API avec clé d'accès : le cas de Twitter\n",
    "- Traiter des données du web sans API\n",
    "- Quelques notions plus avancées sur les API\n",
    "\n",
    "https://medium.com/@perrysetgo/what-exactly-is-an-api-69f36968a41f"
   ]
  },
  {
   "cell_type": "markdown",
   "metadata": {},
   "source": [
    "## Moment 1 - Ce qu'est une API (Matthias, 30 min)"
   ]
  },
  {
   "cell_type": "markdown",
   "metadata": {},
   "source": [
    "C'est quoi une API web, les données sur internet, etc.\n",
    "\n",
    "Une API (interface de programmation d’application) est un ensemble de conventions explitite ou implicite permettant a des ordinateurs ou programmes de communiquer. \n",
    "\n",
    "Ces conventions sont importantes pour pouvoir developper en isolation relative.\n",
    "Ce qui fait (ou ne fait pas partie) d'une API peut parfois sembler subjectif.\n",
    "\n",
    "Example \"d'API\" dans la vie de tous les jours.\n",
    " - Boulons/Écroux : Le filetage est standard\n",
    " - 220V \n",
    " - On conduit a droite (du moins en europe)\n",
    " - Hocher la tête pour dire \"oui\"\n",
    " - Vert genéralement Positif, Rouge généralement Négatif\n",
    " - Les pièces de monaies sont standardisés.\n",
    " - ...\n",
    " \n",
    " \n",
    "Bien qu'aucune des conventions si-dessus soit nécéssaire pour une société bien huilée, il est généralement préférable de suivre ces conventions. Quelles conventions sont suivies peut parvois dépendre du milieux socila, et des personnes avec qui on interagis.\n",
    "\n",
    "Une API en programation est similaire dans le sens ou :\n",
    "  - La définition exacte va dépendre du context ou l'on se place vec qui où quoi on communique\n",
    "      - Aux US la notion de se \"faire la bise\" est une notion boolean\n",
    "      - En Europe, ça fait être combien, par quel coté en commence.\n",
    "  - Tant que possible change peu\n",
    "  \n",
    "Cependant un API en programation was souvent avoir beaucoup plus de detail, et beaucoup plus strict; étant prévu majoritairement pour communication machine <-> machine, (avec parfois le programmeur), la verbosité n'est pas un problème.\n",
    "\n",
    "Une API va souvent aussi contenir les donnés brutes, par example \"2020-05-09T13:49:54+00:00\" au lieu de \"9 May 2020\"."
   ]
  },
  {
   "cell_type": "markdown",
   "metadata": {},
   "source": [
    "## API web\n",
    "\n",
    "Lorsque vous cherchez a acceder à des donnés sur le web, il peut être plus facile de chercher si le service a une API; Le code que vous allez écrire pour parler avec une API sera souvent plus simple, et robuste que de parler directement au site-web. \n",
    "\n",
    "Les API permettent souvent de faire plus de choses que d'interagir directement avec le site web.\n",
    "\n",
    "Contrairement aux site web où l'on va souvent parler de \"pages\", les API seront structurés en requetes et réponses, dont les paramètres sont strictes. \n",
    "\n",
    "Les réponse sont rarement prévues pour être directement lues par l'humain.\n",
    "\n",
    "Nous verrons aussi que les API sont souvent classés en categories, avec des acronymes ou non de technologies, (SOAP, RPC, RST, graphql)"
   ]
  },
  {
   "cell_type": "code",
   "execution_count": 42,
   "metadata": {},
   "outputs": [
    {
     "name": "stdout",
     "output_type": "stream",
     "text": [
      "200\n",
      "b'[\"social\",[\"Social\",\"Socialism\",\"Social media\",\"Socialist Federal Republic of Yugoslavia\",\"Social democracy\",\"Societal collapse\",\"Sociology\",\"Social networking service\",\"Social issue\",\"Social science\"],[\"\",\"\",\"\",\"\",\"\",\"\",\"\",\"\",\"\",\"\"],[\"https://en.wikipedia.org/wiki/Social\",\"https://en.wikipedia.org/wiki/Socialism\",\"https://en.wikipedia.org/wiki/Social_media\",\"https://en.wikipedia.org/wiki/Socialist_Federal_Republic_of_Yugoslavia\",\"https://en.wikipedia.org/wiki/Social_democracy\",\"https://en.wikipedia.org/wiki/Societal_collapse\",\"https://en.wikipedia.org/wiki/Sociology\",\"https://en.wikipedia.org/wiki/Social_networking_service\",\"https://en.wikipedia.org/wiki/Social_issue\",\"https://en.wikipedia.org/wiki/Social_science\"]]'\n"
     ]
    }
   ],
   "source": [
    "# examples de requètes et réponses\n",
    "\n",
    "import requests\n",
    "\n",
    "\n",
    "response = requests.get('https://en.wikipedia.org/w/api.php?action=opensearch&search=social&limit=10')\n",
    "# https://en.wikipedia.org/w/api.php\n",
    "#   ?\n",
    "#   action=opensearch\n",
    "#   &\n",
    "#   search=social\n",
    "#   &\n",
    "#   limit=10\n",
    "print(response.status_code) # 200 all is fine\n",
    "print(response.content) # note it's bytes (actually json)"
   ]
  },
  {
   "cell_type": "markdown",
   "metadata": {},
   "source": [
    "On est content, wikipedia retourne du json, c'est \"facile\" a parsé"
   ]
  },
  {
   "cell_type": "code",
   "execution_count": 8,
   "metadata": {},
   "outputs": [
    {
     "data": {
      "text/plain": [
       "['social',\n",
       " ['Social',\n",
       "  'Socialism',\n",
       "  'Social media',\n",
       "  'Socialist Federal Republic of Yugoslavia',\n",
       "  'Social democracy',\n",
       "  'Societal collapse',\n",
       "  'Sociology',\n",
       "  'Social networking service',\n",
       "  'Social issue',\n",
       "  'Social science'],\n",
       " ['', '', '', '', '', '', '', '', '', ''],\n",
       " ['https://en.wikipedia.org/wiki/Social',\n",
       "  'https://en.wikipedia.org/wiki/Socialism',\n",
       "  'https://en.wikipedia.org/wiki/Social_media',\n",
       "  'https://en.wikipedia.org/wiki/Socialist_Federal_Republic_of_Yugoslavia',\n",
       "  'https://en.wikipedia.org/wiki/Social_democracy',\n",
       "  'https://en.wikipedia.org/wiki/Societal_collapse',\n",
       "  'https://en.wikipedia.org/wiki/Sociology',\n",
       "  'https://en.wikipedia.org/wiki/Social_networking_service',\n",
       "  'https://en.wikipedia.org/wiki/Social_issue',\n",
       "  'https://en.wikipedia.org/wiki/Social_science']]"
      ]
     },
     "execution_count": 8,
     "metadata": {},
     "output_type": "execute_result"
    }
   ],
   "source": [
    "response.json()"
   ]
  },
  {
   "cell_type": "code",
   "execution_count": 13,
   "metadata": {
    "scrolled": false
   },
   "outputs": [
    {
     "data": {
      "text/plain": [
       "{'batchcomplete': True,\n",
       " 'query': {'pages': [{'pageid': 18717981,\n",
       "    'ns': 0,\n",
       "    'title': 'Sociology',\n",
       "    'revisions': [{'slots': {'main': {'contentmodel': 'wikitext',\n",
       "        'contentformat': 'text/x-wiki',\n",
       "        'content': '{{short description|Scientific study of human society and its development}}\\n{{About|the broad discipline of sociology}}\\n{{pp-move-indef}}\\n{{Sociology}}\\n{{Use dmy dates|date=March 2021}}\\n{{Use British English Oxford spelling|date=August 2016}}\\n\\n\\'\\'\\'Sociology\\'\\'\\' is the study of [[society]], human [[social behaviour]], patterns of social relationships, [[social interaction]], and [[culture]] that surrounds everyday life.<ref>The American Heritage Science Dictionary. 2011. \"[https://www.dictionary.com/browse/sociology sociology].\" \\'\\'[[Dictionary.com]]\\'\\'. Random House. Retrieved 20 April 2020.</ref><ref>{{cite web|url=http://www.asanet.org/introtosociology/Documents/Field%20of%20sociology033108.htm#whatissociology|title=Sociology|last=Dictionary of the Social Sciences|date=2008|editor-last=Calhoun|editor-first=Craig|publisher=Oxford University Press|location=New York|orig-year=2002|via=[[American Sociological Association]]}}</ref><ref>{{cite web|url=https://www.colgate.edu/docs/default-source/default-document-library/sociology-a-21st-century-major.pdf?sfvrsn=0|title=Sociology: A 21st Century Major|website=Colgate University|publisher=American Sociological Association|access-date=19 July 2017|archive-date=18 October 2017|archive-url=https://web.archive.org/web/20171018181236/https://www.colgate.edu/docs/default-source/default-document-library/sociology-a-21st-century-major.pdf?sfvrsn=0|url-status=dead}}</ref> It is a [[social science]] that uses various methods of [[Empirical method|empirical investigation]] and [[critical analysis]]<ref name=\":0\">Ashley, David, and David M. Orenstein. 2005. \\'\\'Sociological Theory: Classical Statements\\'\\' (6th ed.). Boston: [[Pearson Education]].</ref>{{Rp|3–5}} to develop a body of knowledge about [[social order]] and [[social change]].<ref name=\":0\" />{{Rp|32–40}} Sociology can also be defined as the general science of society. While some sociologists conduct research that may be applied directly to [[social policy]] and [[welfare]], others focus primarily on refining the [[Theory|theoretical]] understanding of social processes. Subject matter can range from [[Microsociology|micro]]-level analyses of society (i.e., of individual interaction and [[agency (sociology)|agency]]) to [[Macrosociology|macro]]-level analyses (i.e., of systems and the [[social structure]]).<ref name=\"Giddens Intro\" />\\n\\nTraditional focuses of sociology include [[social stratification]], [[social class]], [[social mobility]], [[sociology of religion|religion]], [[secularization]], [[Sociology of law|law]], [[sexuality]], [[gender]], and [[deviance (sociology)|deviance]]. As all spheres of human activity are affected by the interplay between [[structure and agency|social structure and individual agency]], sociology has gradually expanded its focus to other subjects and [[institution]]s, such as [[sociology of health|health]] and the [[medical sociology|institution of medicine]]; [[economic sociology|economy]]; [[military sociology|military]]; [[sociology of punishment|punishment]] and systems of [[Control theory (sociology)|control]]; [[sociology of the Internet|the Internet]]; [[Sociology of Education (journal)|education]]; [[social capital]]; and the role of social activity in the development of [[sociology of scientific knowledge|scientific knowledge]].\\n\\nThe range of social scientific methods has also expanded, as [[social research]]ers draw upon a variety of [[qualitative research|qualitative]] and [[quantitative research|quantitative]] techniques. The [[linguistic turn|linguistic]] and [[cultural turn]]s of the mid-20th century, especially, have led to increasingly [[verstehen|interpretative]], [[hermeneutic]], and [[philosophic]] approaches towards the analysis of society. Conversely, the turn of the 21st century has seen the rise of new [[analytical sociology|analytically]], [[Mathematical sociology|mathematically]], and [[computational sociology|computationally]] rigorous techniques, such as [[agent-based model]]ling and [[social network|social network analysis]].<ref name=MW/><ref name=\"Computational Social Science\"/>\\n\\nSocial research has influence throughout various industries and sectors of life, such as among [[politician]]s, [[public policy|policy makers]], and [[legislator]]s; [[education|educators]]; [[urban planner|planners]]; [[Public administration|administrators]]; [[Real estate development|developers]]; [[business magnate]]s and managers; [[social worker]]s; [[non-governmental organization]]s; and [[non-profit organization]]s, as well as individuals interested in resolving [[social issues]] in general. As such, there is often a great deal of crossover between social research, [[market research]], and other [[statistics|statistical]] fields.<ref>\\n{{cite book|author1=Kahle|first=Lynn R.|title=Marketplace Lifestyles in an Age of Social Media|last2=Valette-Florence|first2=Pierre|publisher=M.E. Sharpe, Inc.|year=2012|isbn=978-0-7656-2561-8|location=New York}}\\n</ref>\\n\\n== Origins ==\\n{{Main|History of sociology}}\\n{{Further|List of sociologists|Timeline of sociology}}\\n\\n[[File:Ibn Khaldoun-Kassus.jpg|thumb|upright|[[Ibn Khaldun]] statue in [[Tunis]], [[Tunisia]] (1332–1406)]]\\n\\nSociological reasoning predates the foundation of the discipline itself. [[Social analysis]] has origins in the common stock of [[Western culture|Western knowledge]] and [[philosophy]], having been carried out from as far back as the time of [[Old Comedy|Old comic poetry]] which features social and political criticism,<ref>H Nettleship, \\'\\'A Dictionary of Classical Antiquities\\'\\' (London 1894) p. 67</ref> and [[Ancient Greek philosophy|ancient Greek philosophers]] [[Socrates]], [[Plato]], and [[Aristotle]], if not earlier. For instance, the origin of the [[Statistical survey|survey]] (i.e., the collection of information from a sample of individuals) can be traced back to at least the [[Domesday Book]] in 1086,<ref>[[A. H. Halsey|Halsey, A. H.]] 2004. \\'\\'A History of Sociology in Britain: Science, Literature, and Society.\\'\\' p.&nbsp;34.</ref><ref>Mitchell, Geoffrey Duncan. 1970. \\'\\'A New Dictionary of Sociology\\'\\'. p.&nbsp;201.</ref> while ancient philosophers such as [[Confucius]] wrote about the importance of social roles.\\n\\nThere is evidence of early sociology in medieval Arabic writings as well. Some sources consider [[Ibn Khaldun]], a 14th-century [[List of pre-modern Arab scientists and scholars|Arab-Islamic scholar]] from [[Tunisia]],{{NoteTag|See [[Early Islamic philosophy#Branches|Branches of the early Islamic philosophy]].}} to have been the father of sociology although there is no reference to his work in the work of major founders of modern sociology.<ref>{{cite journal |last = Wardī |first = ʻAlī |year = 1950 |title = A sociological analysis of Ibn Khaldun\\'s theory: A study in the sociology of knowledge |url = https://repositories.lib.utexas.edu/handle/2152/15127 |journal=UT Electronic Theses and Dissertations |publisher=University of Texas at Austin |via=University of Texas Libraries}}</ref><ref>{{cite journal |last=Dhaouadi|first=Mahmoud |year=1990 |title=Ibn Khaldun: The founding father of eastern sociology |journal=[[International Sociology]] |volume=5|issue=3|pages=319–35|doi=10.1177/026858090005003007 |s2cid=143508326 }}</ref><ref>{{cite journal |last1=Hassan |first1=Faridah Hj |publisher = Universiti Teknologi Mara |title=Ibn Khaldun and Jane Addams: The Real Father of Sociology and the Mother of Social Works |journal=Faculty of Business Management |citeseerx=10.1.1.510.3556 }}</ref><ref>Soyer, Mehmet, and Paul Gilbert. 2012. \"[https://www.researchgate.net/publication/264385117_Debating_the_Origins_of_Sociology_Ibn_Khaldun_as_a_Founding_Father_of_Sociology Debating the Origins of Sociology Ibn Khaldun as a Founding Father of Sociology].\" \\'\\'International Journal of Sociological Research\\'\\' 5(2):13–30. — via \\'\\'[[ResearchGate]]\\'\\'.</ref> Khaldun\\'s \\'\\'[[Muqaddimah]]\\'\\' was perhaps the first work to advance social-scientific reasoning on [[social cohesion]] and [[social conflict]].<ref name=\"Akhtar\" /><ref name=\"Psychology from Islamic Perspective: Contributions of Early Muslim Scholars and Challenges to Contemporary Muslim Psychologists\" /><ref name=\"Enan\" /><ref name=\"The Autonomous, the Universal and the Future of Sociology\" /><ref name=\"Gates\" /><ref name=\"Mowlana\" />\\n\\n=== Etymology ===\\nThe word \\'\\'[[wikt:sociology|sociology]]\\'\\' (or \\'\\'\"sociologie\"\\'\\') derives part of its name from the [[Latin]] word [[wiktionary:socius|socius]] (\"companion\"). The suffix \\'\\'[[wikt:-logy|-logy]]\\'\\' (\"the study of\\'\") comes from that of the [[Greek language|Greek]] [[wikt:-λογία|-λογία]], derived from [[Logos|λόγος]] (\\'\\'lógos\\'\\', \"word\" or \"knowledge\").\\n\\n==== Sieyès ====\\nThe term \"sociology\" was first coined in 1780 by the French essayist [[Emmanuel-Joseph Sieyès]] in an unpublished [[manuscript]].<ref>[[Emmanuel Joseph Sieyès|Sieyès, Emmanuel-Joseph]]. 1999 & 2007 [1773–1799]. \\'\\'Des Manuscrits de Sieyès. 1773–1799\\'\\' 1 & 2, edited by C. Fauré. Paris: Champion. {{ISBN|978-2745302601}}.</ref>{{NoteTag|See also Fauré, Christine, and Jacques Guilhaumou. 2006. \"Sieyès et le non-dit de la sociologie: du mot à la chose.\" \\'\\'Revue d\\'histoire des sciences humaines\\'\\' 15. Naissances de la science sociale.\\n\\nSee also the article [[:fr:sociologie|\\'sociologie\\']] in the French-language Wikipedia.}}\\n\\n==== Comte ====\\n\"Sociology\" was later defined independently by French [[philosopher of science]] [[Auguste Comte]] in 1838<ref>Scott, John, and Gordon Marshall. 2015 [2009]. \"[https://www.oxfordreference.com/view/10.1093/acref/9780199533008.001.0001/acref-9780199533008-e-357 Comte, Auguste]\" in \\'\\'A Dictionary of Sociology.\\'\\' New York: Oxford University Press. e<nowiki/>{{ISBN|9780191726842}}.{{Subscription required||via=Oxford References}}</ref> as a new way of looking at society.<ref name=\":3\" />{{Rp|10}} Comte had earlier used the term \"social physics\", but it had been subsequently appropriated by others, most notably the Belgian statistician [[Adolphe Quetelet]]. Comte endeavoured to unify history, psychology, and economics through the scientific understanding of social life. Writing shortly after the malaise of the [[French Revolution]], he proposed that social ills could be remedied through sociological [[positivism]], an [[Epistemology|epistemological]] approach outlined in the \\'\\'[[Course of Positive Philosophy|Course in Positive Philosophy]]\\'\\' (1830–1842), later included in \\'\\'[[A General View of Positivism]]\\'\\' (1848). Comte believed a [[Law of three stages|positivist stage]] would mark the final era, after conjectural [[theological]] and [[metaphysics|metaphysical]] phases, in the progression of human understanding.<ref name=\"comte\" /> In observing the circular dependence of theory and observation in science, and having classified the sciences, Comte may be regarded as the first [[philosopher of science]] in the modern sense of the term.<ref>{{cite web|url=http://plato.stanford.edu/entries/comte/|title=Auguste Comte|last=Bourdeau|first=Michel|date=2018|website=Stanford Encyclopaedia of Philosophy|publisher=Metaphysics Research Lab, Stanford University|orig-year=2008|issn=1095-5054|access-date=4 November 2011}}</ref><ref>Copleson, Frederick S.J. 1994 [1974]. \\'\\'A History of Philosophy: IX Modern Philosophy\\'\\'. New York: Image Books. p. 118.</ref>\\n\\n[[File:Auguste Comte2.jpg|thumb|right|upright|[[Auguste Comte]] (1798–1857)]]\\n{{Quote|Comte gave a powerful impetus to the development of sociology, an impetus which bore fruit in the later decades of the nineteenth century. To say this is certainly not to claim that French sociologists such as [[Durkheim]] were devoted disciples of the high priest of positivism. But by insisting on the irreducibility of each of his basic sciences to the particular science of sciences which it presupposed in the hierarchy and by emphasizing the nature of sociology as the scientific study of social phenomena Comte put sociology on the map. To be sure, [its] beginnings can be traced back well beyond [[Montesquieu]], for example, and to [[Condorcet]], not to speak of [[Claude Henri de Rouvroy, comte de Saint-Simon|Saint-Simon]], Comte\\'s immediate predecessor. But Comte\\'s clear recognition of sociology as a particular science, with a character of its own, justified Durkheim in regarding him as the father or founder of this science, in spite of the fact that Durkheim did not accept the idea of the three states and criticized Comte\\'s approach to sociology.|[[Frederick Copleston]]|\\'\\'A History of Philosophy: IX Modern Philosophy\\'\\' (1974)|source=p. 118}} [[File:Karl Marx.jpg|thumb|upright|[[Karl Marx]] (1818–1883)]]\\n\\n==== Marx ====\\nBoth Comte and [[Karl Marx]] set out to develop scientifically justified systems in the wake of European [[industrialization]] and [[secularization]], informed by various key movements in the [[Philosophy of history|philosophies of history]] [[Philosophy of science|and science]]. Marx rejected Comtean positivism<ref>{{Cite book|last=Calhoun|first=Craig J.|url=https://books.google.com/books?id=6mq-H3EcUx8C|title=Classical Sociological Theory|publisher=Wiley-Blackwell|year=2002|isbn=978-0-631-21348-2|location=Oxford|page=19|author-link=Craig Calhoun}}</ref> but in attempting to develop a \"science of society\" nevertheless came to be recognized as a founder of sociology as the word gained wider meaning. For [[Isaiah Berlin]] (1967), even though Marx did not consider himself to be a sociologist, he may be regarded as the \"true father\" of modern sociology, \"in so far as anyone can claim the title.\"<ref name=\":1\">Berlin, Isaiah. 1967 [1937]. \\'\\'Karl Marx: His Life and Environment\\'\\' (3rd ed.). New York: Time Inc Book Division.</ref>{{Rp|130}}<blockquote>To have given clear and unified answers in familiar empirical terms to those theoretical questions which most occupied men\\'s minds at the time, and to have deduced from them clear practical directives without creating obviously artificial links between the two, was the principal achievement of Marx\\'s theory. The sociological treatment of historical and moral problems, which Comte and after him, [[Herbert Spencer|Spencer]] and [[Hippolyte Taine|Taine]], had discussed and mapped, became a precise and concrete study only when the attack of militant Marxism made its conclusions a burning issue, and so made the search for evidence more zealous and the attention to method more intense.<ref name=\":1\" />{{Rp|13–14}}</blockquote>\\n\\n==== Spencer ====\\n[[File:Spencer-detail.png|upright|thumb|right|[[Herbert Spencer]] (1820–1903)]]\\n[[Herbert Spencer]] (1820–1903) was one of the most popular and influential 19th-century sociologists. It is estimated that he sold one million books in his lifetime, far more than any other sociologist at the time. So strong was his influence that many other 19th-century thinkers, including [[Émile Durkheim]], defined their ideas in relation to his. Durkheim\\'s \\'\\'[[Division of Labour in Society]]\\'\\' is to a large extent an extended debate with Spencer from whose sociology, many commentators now agree, Durkheim borrowed extensively.<ref name=\"Émile Durkheim\\'s Division of Labor and the Shadow of Herbert Spencer\"/> Also a notable [[biologist]], Spencer coined the term \\'\\'[[survival of the fittest]]\\'\\'. While Marxian ideas defined one strand of sociology, Spencer was a critic of socialism as well as a strong advocate for a [[laissez-faire]] style of government. His ideas were closely observed by conservative political circles, especially in the [[United States]] and [[England]].<ref name=Commanger/>\\n\\n=== Positivism and antipositivism ===\\n\\n====Positivism====\\n{{Main|Positivism}}\\nThe overarching [[methodology|methodological]] principle of [[positivism]] is to conduct sociology in broadly the same manner as [[natural science]]. An emphasis on [[empiricism]] and the [[scientific method]] is sought to provide a tested foundation for sociological research based on the assumption that the only authentic knowledge is scientific knowledge, and that such knowledge can only arrive by positive affirmation through scientific methodology.\\n\\n{{quote|Our main goal is to extend scientific rationalism to human conduct.... What has been called our positivism is but a consequence of this rationalism.<ref name=\"DinW\"/>|[[Émile Durkheim]]|\\'\\'The Rules of Sociological Method\\'\\' (1895)}}\\n\\nThe term has long since ceased to carry this meaning; there are no fewer than twelve distinct epistemologies that are referred to as positivism.<ref name=\"Wacquant\" /><ref name=\"Halfpenny\" /> Many of these approaches do not self-identify as \"positivist\", some because they themselves arose in opposition to older forms of positivism, and some because the label has over time become a pejorative term<ref name=\"Wacquant\" /> by being mistakenly linked with a theoretical [[empiricism]]. The extent of [[antipositivism|antipositivist]] criticism has also diverged, with many rejecting the scientific method and others only seeking to amend it to reflect 20th-century developments in the philosophy of science. However, positivism (broadly understood as a scientific approach to the study of society) remains dominant in contemporary sociology, especially in the United States.<ref name=\"Wacquant\" />\\n\\n[[Loïc Wacquant]] distinguishes three major strains of positivism: [[Durkheimian]], Logical, and Instrumental.<ref name=\"Wacquant\" /> None of these are the same as that set forth by Comte, who was unique in advocating such a rigid (and perhaps optimistic) version.<ref name=\"autogenerated2005\" /><ref name=\":0\" />{{Rp|94–8, 100–4}} While Émile Durkheim rejected much of the detail of Comte\\'s philosophy, he retained and refined its method. Durkheim maintained that the social sciences are a logical continuation of the natural ones into the realm of human activity, and insisted that they should retain the same objectivity, rationalism, and approach to causality.<ref name=\"Wacquant\" /> He developed the notion of objective \\'\\'sui generis\\'\\' \"social facts\" to serve as unique empirical objects for the science of sociology to study.<ref name=\"Wacquant\" />\\n\\nThe variety of positivism that remains dominant today is termed \\'\\'instrumental positivism\\'\\'. This approach eschews epistemological and metaphysical concerns (such as the nature of social facts) in favour of methodological clarity, [[replicability]], [[reliabilism|reliability]] and [[Validity (logic)|validity]].<ref name=\"Gartell\" /> This positivism is more or less synonymous with [[quantitative research]], and so only resembles older positivism in practice. Since it carries no explicit philosophical commitment, its practitioners may not belong to any particular school of thought. Modern sociology of this type is often credited to [[Paul Lazarsfeld]],<ref name=\"Wacquant\" /> who pioneered large-scale survey studies and developed statistical techniques for analysing them. This approach lends itself to what [[Robert K. Merton]] called [[Middle range theory (sociology)|middle-range theory]]: abstract statements that generalize from segregated hypotheses and empirical regularities rather than starting with an abstract idea of a social whole.<ref name=\"Boudon\" />\\n\\n==== Anti-positivism ====\\n{{Main|Anti-positivism}}\\nReactions against social empiricism began when German philosopher [[Hegel]] voiced opposition to both empiricism, which he rejected as uncritical, and determinism, which he viewed as overly mechanistic.<ref name=\":0\" />{{Rp|169}} [[Karl Marx]]\\'s methodology borrowed from [[Hegelian dialectic]]ism but also a rejection of positivism in favour of critical analysis, seeking to supplement the empirical acquisition of \"facts\" with the elimination of illusions.<ref name=\":0\" />{{Rp|202–3}} He maintained that appearances need to be critiqued rather than simply documented. Early [[Hermeneutics|hermeneuticians]] such as [[Wilhelm Dilthey]] pioneered the distinction between natural and social science (\\'[[Geisteswissenschaft]]\\'). Various [[neo-Kantian]] philosophers, [[Phenomenology (philosophy)|phenomenologists]] and [[Human science|human scientists]] further theorized how the analysis of the [[social reality|social world]] differs to that of the [[natural environment|natural world]] due to the irreducibly complex aspects of human society, [[culture]], and [[being]].<ref>Rickman, H.P. (1960) \\'\\'The Reaction against Positivism and Dilthey\\'s Concept of Understanding\\'\\', The London School of Economics and Political Science. p. 307</ref><ref>{{Cite book|last=Weber|first=Max|title=From Max Weber: essays in sociology|publisher=Oxford University Press|year=1946|location=New York}}</ref>\\n\\nIn the Italian context of development of social sciences and of sociology in particular, there are oppositions to the first foundation of the discipline, sustained by speculative philosophy in accordance with the antiscientific tendencies matured by critique of positivism and evolutionism, so a tradition Progressist struggles to establish itself.<ref>{{Cite book|last=Guglielmo.|first=Rinzivillo|title=La scienza e l\\'oggetto : autocritica del sapere strategico|date=2010|publisher=Angeli|isbn=9788856824872|location=Milano|pages=52+|oclc=894975209}}</ref>\\n\\nAt the turn of the 20th century the first generation of German sociologists formally introduced methodological [[anti-positivism]], proposing that research should concentrate on human cultural [[norm (sociology)|norms]], [[value (personal and cultural)|values]], [[symbol]]s, and social processes viewed from a resolutely [[subject (philosophy)|subjective]] perspective. Max Weber argued that sociology may be loosely described as a science as it is able to identify [[causality|causal relationships]] of human \"[[social action]]\"—especially among \"[[ideal type]]s\", or hypothetical simplifications of complex social phenomena.<ref name=\":0\" />{{Rp|239–40}} As a non-positivist, however, Weber sought relationships that are not as \"historical, invariant, or generalisable\"<ref name=\":0\" />{{Rp|241}} as those pursued by natural scientists. Fellow German sociologist, [[Ferdinand Tönnies]], theorised on two crucial abstract concepts with his work on \"[[Gemeinschaft and Gesellschaft|\\'\\'gemeinschaft\\'\\' and \\'\\'gesellschaft\\'\\']]\" ({{Literal translation|community\\' and \\'society}}). Tönnies marked a sharp line between the realm of concepts and the reality of social action: the first must be treated axiomatically and in a deductive way (\"pure sociology\"), whereas the second empirically and inductively (\"applied sociology\").<ref>[[Ferdinand Tönnies|Tönnies, Ferdinand]]. 2001. \\'\\'Community and Civil Society\\'\\', edited by J. Harris. Cambridge: [[Cambridge University Press]]. {{ISBN|0-521-56782-3}}.</ref>\\n\\n[[File:Max Weber 1894.jpg|thumb|upright|[[Max Weber]]]]\\n{{Quote|[Sociology is] ... the science whose object is to interpret \\'\\'the meaning of social action\\'\\' and thereby give a \\'\\'causal explanation\\'\\' of the way in which the \\'\\'action proceeds\\'\\' and the \\'\\'effects which it produces\\'\\'. By \\'action\\' in this definition is meant the human behaviour when and to the extent that the agent or agents see it as \\'\\'subjectively meaningful\\'\\' ... the meaning to which we refer may be either (a) the meaning actually intended either by an individual agent on a particular historical occasion or by a number of agents on an approximate average in a given set of cases, or (b) the meaning attributed to the agent or agents, as types, in a pure type constructed in the abstract. In neither case is the \\'meaning\\' to be thought of as somehow objectively \\'correct\\' or \\'true\\' by some metaphysical criterion. This is the difference between the empirical sciences of action, such as sociology and history, and any kind of \\'\\'prior\\'\\' discipline, such as jurisprudence, logic, ethics, or aesthetics whose aim is to extract from their subject-matter \\'correct\\' or \\'valid\\' meaning.<ref>Weber, Max. 1991 [1922]. \"The Nature of Social Action.\" In \\'\\'Weber: Selections in Translation\\'\\', edited by W.G. Runciman. Cambridge: Cambridge University Press.</ref>|[[Max Weber]]|\\'\\'The Nature of Social Action\\'\\' (1922)|source=p. 7}}\\n\\nBoth Weber and [[Georg Simmel]] pioneered the \"\\'\\'[[Verstehen]]\\'\\'\" (or \\'interpretative\\') method in social science; a systematic process by which an outside observer attempts to relate to a particular cultural group, or indigenous people, on their own terms and from their own point of view.<ref>Kaern, Michael, Bernard S. Phillips, and Robert S. Cohen, eds. 1990. \\'\\'Georg Simmel and Contemporary Sociology\\'\\'. Springer Publishing. {{ISBN|978-0-7923-0407-4}}. p. 15.</ref> Through the work of Simmel, in particular, sociology acquired a possible character beyond positivist data-collection or grand, deterministic systems of structural law. Relatively isolated from the sociological academy throughout his lifetime, Simmel presented idiosyncratic analyses of modernity more reminiscent of the [[phenomenology (philosophy)|phenomenological]] and [[existentialism|existential]] writers than of Comte or Durkheim, paying particular concern to the forms of, and possibilities for, social individuality.<ref name=\"autogenerated1971\" /> His sociology engaged in a neo-Kantian inquiry into the limits of perception, asking \\'What is society?\\' in a direct allusion to Kant\\'s question \\'What is nature?\\'<ref>Levine, Donald. ed. 1971. \\'\\'Simmel: On individuality and social forms.\\'\\' Chicago: Chicago University Press. p. 6.</ref>\\n\\n[[File:Simmel 01.JPG|upright|thumb|[[Georg Simmel]]]]\\n{{Quote|The deepest problems of modern life flow from the attempt of the individual to maintain the independence and individuality of his existence against the sovereign powers of society, against the weight of the historical heritage and the external culture and technique of life. The antagonism represents the most modern form of the conflict which primitive man must carry on with nature for his own bodily existence. The eighteenth century may have called for liberation from all the ties which grew up historically in politics, in religion, in morality and in economics in order to permit the original natural virtue of man, which is equal in everyone, to develop without inhibition; the nineteenth century may have sought to promote, in addition to man\\'s freedom, his individuality (which is connected with the division of labor) and his achievements which make him unique and indispensable but which at the same time make him so much the more dependent on the complementary activity of others; Nietzsche may have seen the relentless struggle of the individual as the prerequisite for his full development, while socialism found the same thing in the suppression of all competition&nbsp;– but in each of these the same fundamental motive was at work, namely the resistance of the individual to being leveled, swallowed up in the social-technological mechanism.<ref>Simmel, Georg. 1971 [1903]. \"The Metropolis and Mental Life.\" In \\'\\'Simmel: On individuality and social forms\\'\\', edited by D. Levine. Chicago: Chicago University Press. p. 324.</ref>|[[Georg Simmel]]|\\'\\'[[The Metropolis and Mental Life]]\\'\\' (1903)|source=}}\\n\\n===Foundations of the academic discipline===\\n{{Main|Émile Durkheim|Social facts}}\\n[[File:Emile Durkheim.jpg|thumb|upright|[[Émile Durkheim]]]]\\nThe first formal Department of Sociology in the world was established in 1892 by [[Albion Woodbury Small|Albion Small]]—from the invitation of [[William Rainey Harper]]—at the [[University of Chicago]]. The [[American Journal of Sociology]] was founded shortly thereafter in 1895 by Small as well.<ref>Dibble, Vernonk. 1975. \\'\\'The Legacy of Albion Small\\'\\'. Chicago: University of Chicago Press.</ref>\\n\\nThe institutionalization of sociology as an academic discipline, however, was chiefly led by [[Émile Durkheim]], who developed [[positivism]] as a foundation for practical [[social research]]. While Durkheim rejected much of the detail of Comte\\'s philosophy, he retained and refined its method, maintaining that the social sciences are a logical continuation of the natural ones into the realm of human activity, and insisting that they may retain the same objectivity, rationalism, and approach to causality.<ref name=\"Wacquant\" /> Durkheim set up the first European department of sociology at the [[University of Bordeaux]] in 1895, publishing his \\'\\'[[Rules of the Sociological Method]]\\'\\' (1895).<ref name=\"Poggi\" /> For Durkheim, sociology could be described as the \"science of [[institution]]s, their genesis and their functioning.\"<ref>Durkheim, Émile. 1964 [1895] \\'\\'[[The Rules of Sociological Method]]\\'\\' (8th ed.), translated by S. A. Solovay and J. M. Mueller, edited by [[George Catlin (political scientist)|G. E. G. Catlin]]. p. 45.</ref>\\n\\nDurkheim\\'s monograph \\'\\'[[Suicide (Durkheim book)|Suicide]]\\'\\' (1897) is considered a seminal work in statistical analysis by contemporary sociologists. \\'\\'Suicide\\'\\' is a case study of variations in suicide rates among [[Catholic]] and [[Protestant]] populations, and served to distinguish sociological analysis from [[psychology]] or philosophy. It also marked a major contribution to the theoretical concept of [[structural functionalism]]. By carefully examining suicide statistics in different police districts, he attempted to demonstrate that Catholic communities have a lower suicide rate than that of Protestants, something he attributed to social (as opposed to individual or [[psychological]]) causes. He developed the notion of objective \\'\\'[[sui generis]],\\'\\' \"social facts\", to delineate a unique empirical object for the science of sociology to study.<ref name=\"Wacquant\" /> Through such studies he posited that sociology would be able to determine whether any given society is \\'healthy\\' or \\'pathological\\', and seek social reform to negate organic breakdown or \"[[anomie|social anomie]]\".\\n\\nSociology quickly evolved as an academic response to the perceived challenges of [[modernity]], such as [[industrialization]], [[urbanization]], [[secularization]], and the process of \"[[rationalization (sociology)|rationalization]]\".<ref>Habermas, Jürgen. 1990. \\'\\'[[The Philosophical Discourse of Modernity]]: Modernity\\'s Consciousness of Time.\\'\\' Polity Press. {{ISBN|0-7456-0830-2}}. p. 2.</ref> The field predominated in [[continental Europe]], with British [[anthropology]] and [[statistics]] generally following on a separate trajectory. By the turn of the 20th century, however, many theorists were active in the [[English-speaking world]]. Few early sociologists were confined strictly to the subject, interacting also with [[economics]], [[jurisprudence]], psychology and [[philosophy]], with theories being appropriated in a variety of different fields. Since its inception, sociological epistemology, methods, and frames of inquiry, have significantly expanded and diverged.<ref name=\"Giddens Intro\"/>\\n\\nDurkheim, Marx, and the German theorist [[Max Weber]] are typically cited as the three principal architects of sociology.<ref name=\"Max Weber&nbsp;– Stanford Encyclopaedia of Philosophy\"/> [[Herbert Spencer]], [[William Graham Sumner]], [[Lester F. Ward]], [[W.E.B. Du Bois]], [[Vilfredo Pareto]], [[Alexis de Tocqueville]], [[Werner Sombart]], [[Thorstein Veblen]], [[Ferdinand Tönnies]], [[Georg Simmel]], [[Jane Addams]] and [[Karl Mannheim]] are often included on academic curricula as founding theorists. Curricula also may include [[Charlotte Perkins Gilman]], [[Marianne Weber]], and [[Friedrich Engels]] as founders of the feminist tradition in sociology. Each key figure is associated with a particular theoretical perspective and orientation.<ref name=\"transformation325\"/>\\n\\n{{Quote|Marx and Engels associated the emergence of modern society above all with the development of capitalism; for Durkheim it was connected in particular with industrialization and the new social division of labor which this brought about; for Weber it had to do with the emergence of a distinctive way of thinking, the rational calculation which he associated with the Protestant Ethic (more or less what Marx and Engels speak of in terms of those \\'icy waves of egotistical calculation\\'). Together the works of these great classical sociologists suggest what Giddens has recently described as \\'a multidimensional view of institutions of modernity\\' and which emphasises not only capitalism and industrialism as key institutions of modernity, but also \\'surveillance\\' (meaning \\'control of information and social supervision\\') and \\'military power\\' (control of the means of violence in the context of the industrialisation of war).<ref name=\"transformation325\"/>|[[John Harriss]]|\\'\\'The Second Great Transformation? Capitalism at the End of the Twentieth Century\\'\\' (1992)|source=}}\\n\\n====Further developments====\\n[[File:Ferdinand Toennies Bueste Husum-Ausschnitt.jpg|thumb|upright|left|[[bust (sculpture)|Bust]] of [[Ferdinand Tönnies]] in [[Husum]], Germany]]\\nThe first college course entitled \"Sociology\" was taught in the United States at [[Yale]] in 1875 by [[William Graham Sumner]].<ref>{{cite encyclopedia|url=http://www.encyclopedia.com/doc/1O119-Sociology.html |title=Sociology&nbsp;– History of Sociology &#124; Encyclopedia.com: Oxford Companion to United States History |encyclopedia=Encyclopedia.com |access-date=5 January 2010 |url-status=dead |archive-url=https://web.archive.org/web/20100705113641/http://www.encyclopedia.com/doc/1O119-Sociology.html |archive-date=5 July 2010 }}</ref> In 1883 [[Lester F. Ward]], who later became the first president of the [[American Sociological Association]] (ASA), published \\'\\'Dynamic Sociology—Or Applied social science as based upon statical sociology and the less complex sciences\\'\\', attacking the laissez-faire sociology of [[Herbert Spencer]] and Sumner.<ref name=Commanger/> Ward\\'s 1200-page book was used as core material in many early American sociology courses. In 1890, the oldest continuing American course in the modern tradition began at the [[University of Kansas]], lectured by [[Frank W. Blackmar]].<ref name=\"University of Kansas Sociology Department Webpage\"/> The Department of Sociology at the [[University of Chicago]] was established in 1892 by [[Albion Woodbury Small|Albion Small]], who also published the first sociology textbook: An introduction to the study of society 1894.<ref name=\"uchicago1970\"/> [[George Herbert Mead]] and [[Charles Cooley]], who had met at the [[University of Michigan]] in 1891 (along with [[John Dewey]]), moved to Chicago in 1894.<ref>Miller, David (2009). George Herbert Mead: \\'\\'Self, Language, and the World\\'\\'. University of Texas Press. {{ISBN|0-292-72700-3}}.</ref> Their influence gave rise to [[social psychology]] and the [[symbolic interactionism]] of the modern [[Chicago school (sociology)|Chicago School]].<ref>1930: The \\'\\'Development of Sociology at Michigan\\'\\'. pp. 3–14 in Sociological Theory and Research, being Selected papers of Charles Horton Cooley, edited by Robert Cooley Angell, New York: Henry Holt</ref> The \\'\\'[[American Journal of Sociology]]\\'\\' was founded in 1895, followed by the ASA in 1905.<ref name=\"uchicago1970\"/>\\n\\nThe sociological \"canon of classics\" with Durkheim and [[Max Weber]] at the top owes in part to [[Talcott Parsons]], who is largely credited with introducing both to American audiences.<ref name=\"camic\" /> Parsons consolidated the sociological tradition and set the agenda for American sociology at the point of its fastest disciplinary growth. Sociology in the United States was less historically influenced by [[Marxism]] than its European counterpart, and to this day broadly remains more statistical in its approach.<ref>Morrison, Ken. 2006 \\'\\'Marx, Durkheim, Weber\\'\\' (2nd ed.). Sage. pp. 1–7.</ref>\\n\\nThe first sociology department to be established in the United Kingdom was at the [[London School of Economics|London School of Economics and Political Science]] (home of the \\'\\'[[British Journal of Sociology]]\\'\\') in 1904.<ref name=\"British Journal of Sociology Website\"/> [[Leonard Trelawny Hobhouse]] and [[Edvard Westermarck]] became the lecturers in the discipline at the [[University of London]] in 1907.<ref>{{cite book|url=http://www.bookrags.com/biography/leonard-trelawny-hobhouse/ |title=Leonard Trelawny Hobhouse |publisher=Bookrags |access-date=4 November 2011}}</ref><ref>{{cite web |url=http://www2.lse.ac.uk/researchAndExpertise/PioneersOfTheSocialSciences/sociology.aspx/ |title=Pioneers of the social sciences |publisher=The London School of Economics and Political Science |date=11 February 2013 |access-date=18 December 2014}}</ref> [[Harriet Martineau]], an English translator of Comte, has been cited as the first female sociologist.<ref>Hill, Michael R. (2002) \"Harriet Martineau: theoretical and methodological perspectives\" Routledge. {{ISBN|0-415-94528-3}}</ref> In 1909 the \\'\\'Deutsche Gesellschaft für Soziologie\\'\\' ([[German Sociological Association]]) was founded by [[Ferdinand Tönnies]] and Max Weber, among others. Weber established the first department in Germany at the [[Ludwig Maximilian University of Munich]] in 1919, having presented an influential new [[antipositivist]] sociology.<ref name=\"Bendix1\"/> In 1920, [[Florian Znaniecki]] set up the first department [[Sociology in Poland|in Poland]]. The \\'\\'[[Institute for Social Research]]\\'\\' at the [[Goethe University Frankfurt|University of Frankfurt]] (later to become the [[Frankfurt School]] of [[critical theory]]) was founded in 1923.<ref name=\"britannica\"/> International co-operation in sociology began in 1893, when [[René Worms]] founded the \\'\\'[[:fr:René Worms|Institut International de Sociologie]]\\'\\', an institution later eclipsed by the much larger [[International Sociological Association]] (ISA), founded in 1949.<ref>{{cite web|url=http://www.isa-sociology.org/|title=Home {{!}} International Sociological Association|last=ISA|website=International Sociological Association|access-date=4 November 2011}}</ref>\\n\\n==Theoretical traditions==\\n{{Main|Sociological theory}}\\n\\n===Classical theory===\\nThe contemporary discipline of sociology is theoretically multi-paradigmatic<ref name=\"Abend\">{{cite journal|last = Abend|first = Gabriel |date = June 2008|title =The Meaning of \\'Theory\\'|journal = Sociological Theory|volume = 26|pages = 173–199 |number = 2|url = https://tirl.org/pc/readings/abend--meaning-of-theory.pdf |doi = 10.1111/j.1467-9558.2008.00324.x |s2cid = 6885329 }}</ref> in line with the contentions of classical social theory. [[Randall Collins]]\\' well-cited survey of sociological theory<ref>{{cite book|url=https://archive.org/details/foursociological0000unse|title=library.wur.nl|last=Collins|first=R.|publisher=Oxford University Press|year=1994|isbn=978-0-19-508702-4|location=New York}}</ref> retroactively labels various theorists as belonging to four theoretical traditions: Functionalism, Conflict, Symbolic Interactionism, and Utilitarianism.<ref>{{cite book |author=Steven E. Barkan |author-link=Steven Barkan|title=Sociology: Understanding and Changing the Social World, Brief Edition |chapter=Theoretical Perspectives in Sociology |chapter-url=http://catalog.flatworldknowledge.com/bookhub/reader/2?e=barkbrief-ch01_s03 |access-date=18 December 2014}}</ref>\\n\\nAccordingly, modern sociological theory predominantly descends from functionalist (Durkheim) and conflict (Marx and Weber) approaches to social structure, as well as from symbolic-interactionist approaches to social interaction, such as micro-level structural ([[Georg Simmel|Simmel]]) and [[pragmatism|pragmatist]] ([[George Herbert Mead|Mead]], [[Charles Cooley|Cooley]]) perspectives. [[Utilitarianism]] (aka rational choice or social exchange), although often associated with [[economics]], is an established tradition within sociological theory.<ref>{{cite journal |author=Michael Hechter |author2=Satoshi Kanazawa |title=Sociological Rational Choice Theory |journal=Annual Review of Sociology |year=1997 |volume=23 |pages=191–214 |jstor=2952549 |doi=10.1146/annurev.soc.23.1.191 |s2cid=14439597 |url=https://semanticscholar.org/paper/c088533b7a3ddfb5a49575ae35cb61a33d1ceab0 }}</ref><ref>Coleman, James S., and Thomas J. Fararo. 1992. \\'\\'Rational Choice Theory\\'\\'. New York: Sage.</ref>\\n\\nLastly, as argued by [[Raewyn Connell]], a tradition that is often forgotten is that of [[Social Darwinism]], which applies the logic of Darwinian biological evolution to people and societies.<ref>{{cite book |author=Raewyn Connell |title=Southern theory: the global dynamics of knowledge in social science |year=2007 |publisher=Polity |isbn=978-0-7456-4248-2 |url=https://books.google.com/books?id=QZ_rAAAAMAAJ}}{{page needed|date=December 2014}}</ref> This tradition often aligns with classical functionalism, and was once the dominant theoretical stance in American sociology, from {{Circa|1881|1915}},<ref>{{cite journal |title=Reconstructing the History of Sociological Theory |author=Roscoe C. Hinkle |journal=Mid-American Review of Sociology |year=1982 |volume=7 |issue=1|pages=37–53 |url=https://kuscholarworks.ku.edu/dspace/bitstream/1808/4915/1/MARSV7N1A3.pdf |access-date=18 December 2014|doi=10.17161/STR.1808.4915|doi-access=free}}</ref> associated with several founders of sociology, primarily [[Herbert Spencer]], [[Lester F. Ward]], and [[William Graham Sumner]].\\n\\nContemporary sociological theory retains traces of each of these traditions and they are by no means mutually exclusive.\\n\\n====Functionalism====\\n{{Main|Structural functionalism}}\\nA broad historical paradigm in both sociology and [[anthropology]], functionalism addresses the [[social structure]]—referred to as \"[[social organization]]\" by the classical theorists—with respect to the whole as well as the necessary function of the whole\\'s constituent elements. A common analogy (popularized by [[Herbert Spencer]]) is to regard [[norm (sociology)|norms]] and [[institution]]s as \\'organs\\' that work towards the proper-functioning of the entire \\'body\\' of society.<ref name=\"Sociology beyond societies: mobilities for the twenty-first century\"/> The perspective was implicit in the original sociological positivism of Comte but was theorized in full by Durkheim, again with respect to observable, structural laws.\\n\\nFunctionalism also has an anthropological basis in the work of theorists such as [[Marcel Mauss]], [[Bronisław Malinowski]], and [[Radcliffe-Brown]]. It is in latter\\'s specific usage that the prefix \"structural\" emerged.<ref>{{cite web |author=Eric Porth |author2=Kimberley Neutzling |author3=Jessica Edwards |url=http://anthropology.ua.edu/cultures/cultures.php?culture=Functionalism |publisher=Department of Anthropology College of Arts and Sciences The University of Alabama |title=Anthropological Theories: A Guide Prepared by Students for Students: Anthropological theories: Functionalism |access-date=4 November 2011}}</ref> Classical functionalist theory is generally united by its tendency towards biological analogy and notions of [[social evolutionism]], in that the basic form of society would increase in complexity and those forms of social organization that promoted solidarity would eventually overcome social disorganization. As [[Anthony Giddens|Giddens]] states:<ref>{{cite book|last=Giddens|first=Anthony|title=The Giddens Reader|publisher=MacMillan Press|editor=Philip Cassell|page=88|chapter=The Constitution of Society}}</ref><blockquote>Functionalist thought, from Comte onwards, has looked particularly towards biology as the science providing the closest and most compatible model for social science. Biology has been taken to provide a guide to conceptualizing the structure and the function of social systems and to analyzing processes of evolution via mechanisms of adaptation. Functionalism strongly emphasizes the pre-eminence of the social world over its individual parts (i.e. its constituent actors, human subjects).</blockquote>\\n\\n====Conflict theory====\\n{{Main|Conflict theory}}\\nFunctionalist theories emphasize \"cohesive systems\" and are often contrasted with \"conflict theories\", which critique the overarching socio-political system or emphasize the inequality between particular groups. The following quotes from Durkheim<ref>Durkheim, Émile. 1984 [1893]. \\'\\'The Division of Labor in Society.\\'\\' New York: The Free Press.</ref> and Marx<ref>[[Karl Marx|Marx, Karl]], and [[Friedrich Engels]]. 1998 [1848]. \\'\\'The Communist Manifesto\\'\\', introduction by [[Martin Malia|M. Malia]]. New York: [[Penguin Group]]. p. 35. {{ISBN|0-451-52710-0}}.</ref> epitomize the political, as well as theoretical, disparities, between functionalist and conflict thought respectively:\\n\\n{{Quotation|To aim for a civilization beyond that made possible by the nexus of the surrounding environment will result in unloosing sickness into the very society we live in. Collective activity cannot be encouraged beyond the point set by the condition of the social organism without undermining health.|Émile Durkheim|\\'\\'[[The Division of Labour in Society]]\\'\\' (1893)|source=}}\\n\\n{{Quotation|The history of all hitherto existing society is the history of class struggles.\\nFreeman and slave, patrician and plebeian, lord and serf, guild-master and journeyman, in a word, oppressor and oppressed, stood in constant opposition to one another, carried on an uninterrupted, now hidden, now open fight, a fight that each time ended, either in a revolutionary re-constitution of society at large, or in the common ruin of the contending classes.|[[Karl Marx]] & [[Friedrich Engels]]|\\'\\'[[The Communist Manifesto]]\\'\\' (1848)|source=}}\\n\\n====Symbolic Interactionism====\\n{{Main|Symbolic interactionism|Dramaturgy (sociology)|Interpretive sociology|Phenomenological sociology}}\\n[[Symbolic interaction]]—often associated with [[interactionism]], [[Phenomenology (sociology)|phenomenology]], [[Dramaturgy (sociology)|dramaturgy]], [[Antipositivism|interpretivism]]—is a sociological approach that places emphasis on subjective meanings and the empirical unfolding of social processes, generally accessed through micro-analysis.<ref>Macionis, John J. 2012. \\'\\'Sociology\\'\\' (14th ed.). Boston: Pearson. p. 16. {{ISBN|978-0-205-11671-3}}</ref> This tradition emerged in the [[Chicago school (sociology)|Chicago School]] of the 1920s and 1930s, which, prior to World War II, \"had been \\'\\'the\\'\\' center of sociological research and graduate study.\"<ref name=\"Second Chicago School\">Fine, Gary Alan, ed. 1995. [https://books.google.com/?id=SIZog56cAHEC&lpg=PR9&dq=A%20Second%20Chicago%20School%3F%20&pg=PR9#v=onepage&q=A%20Second%20Chicago%20School?&f=false \\'\\'A Second Chicago School?: The Development of a Postwar American Sociology\\'\\']. Chicago: University of Chicago Press. {{ISBN|978-0-226-24938-4}}.{{page needed|date=December 2014}}</ref> The approach focuses on creating a framework for building a theory that sees society as the product of the everyday interactions of individuals. Society is nothing more than the shared reality that people construct as they interact with one another. This approach sees people interacting in countless settings using symbolic communications to accomplish the tasks at hand. Therefore, society is a complex, ever-changing mosaic of subjective meanings.<ref name=\":3\">Macionis, John, and Linda Gerber. 2010. \\'\\'Sociology\\'\\' (7th Canadian ed.). Toronto: [[Pearson Canada]]. {{ISBN|978-0-13-700161-3}}.</ref>{{Rp|19}} Some critics of this approach argue that it only looks at what is happening in a particular social situation, and disregards the effects that culture, race or gender (i.e. social-historical structures) may have in that situation.<ref name=\":3\" /> Some important sociologists associated with this approach include [[Max Weber]], [[George Herbert Mead]], [[Erving Goffman]], [[George Homans]], and [[Peter Blau]]. It is also in this tradition that the radical-empirical approach of [[ethnomethodology]] emerges from the work of [[Harold Garfinkel]].\\n\\n====Utilitarianism====\\n{{Main| Utilitarianism|Rational choice theory|Exchange theory}}\\n\\nUtilitarianism is often referred to as [[exchange theory]] or [[rational choice theory]] in the context of sociology. This tradition tends to privilege the agency of individual rational actors and assumes that within interactions individuals always seek to maximize their own self-interest. As argued by [[Josh Whitford]], rational actors are assumed to have four basic elements:<ref>[[Josh Whitford|Whitford, Josh]]. 2002. \"Pragmatism and the untenable dualism of means and ends: Why rational choice theory does not deserve paradigmatic privilege.\" \\'\\'[[Theory & Society]]\\'\\' 31:325–63.</ref>\\n\\n# \"a knowledge of alternatives;\"\\n# \"a knowledge of, or beliefs about the consequences of the various alternatives;\"\\n# \"an ordering of preferences over outcomes;\" and \\n# \"a decision rule, to select among the possible alternatives\"\\n\\nExchange theory is specifically attributed to the work of [[George C. Homans]], [[Peter Blau]] and [[Richard Emerson]].<ref>{{cite journal | last1 = Emerson | first1 = R.M. | year = 1976 | title = Social Exchange Theory | journal = Annual Review of Sociology | volume = 2 | issue = 1| pages = 335–62 | doi = 10.1146/annurev.so.02.080176.002003 }}</ref> Organizational sociologists [[James G. March]] and [[Herbert A. Simon]] noted that an individual\\'s [[bounded rationality|rationality is bounded]] by the context or organizational setting. The utilitarian perspective in sociology was, most notably, revitalized in the late 20th century by the work of former [[American Sociological Association|ASA]] president [[James Samuel Coleman|James Coleman]].\\n\\n===20th-century social theory===\\nFollowing the decline of theories of sociocultural evolution in the United States, the interactionist thought of the [[Chicago school (sociology)|Chicago School]] dominated American sociology. As [[Anselm Strauss]] describes, \"we didn\\'t think symbolic interaction was a perspective in sociology; we thought it was sociology.\"<ref name=\"Second Chicago School\"/> Moreover, philosophical and psychological pragmatism grounded this tradition.<ref>{{cite book |title=Jacques Lacan and American Sociology |author=Duane Rousselle |date=24 May 2019 |publisher=Palgrave MacMillan |isbn= 9783030197261|page=4 |url=https://books.google.com/books?id=ORaaDwAAQBAJ |access-date=28 February 2021}}</ref> After World War II, mainstream sociology shifted to the survey-research of [[Paul Lazarsfeld]] at [[Columbia University]] and the general theorizing of [[Pitirim Sorokin]], followed by [[Talcott Parsons]] at [[Harvard University]]. Ultimately, \"the failure of the Chicago, Columbia, and Wisconsin [sociology] departments to produce a significant number of graduate students interested in and committed to general theory in the years 1936–45 was to the advantage of the Harvard department.\"<ref>{{cite book |title=Developments in American Sociological Theory, 1915–1950 |author=Roscoe C. Hinkle |publisher=SUNY Press |isbn=978-1-4384-0677-0 |page=335 |url=https://books.google.com/books?id=1VY5jI2pVTgC&pg=PA335 |access-date=18 December 2014}}</ref> As Parsons began to dominate general theory, his work primarily referenced European sociology—almost entirely omitting citations of both the American tradition of sociocultural-evolution as well as pragmatism. In addition to Parsons\\' revision of the sociological canon (which included Marshall, Pareto, Weber and Durkheim), the lack of theoretical challenges from other departments nurtured the rise of the Parsonian structural-functionalist movement, which reached its crescendo in the 1950s, but by the 1960s was in rapid decline.<ref name=\"Coakley\"/>\\n\\nBy the 1980s, most functionalist perspectives in Europe had broadly been replaced by [[conflict theory|conflict]]-oriented approaches,<ref name=\"Slattery\"/> and to many in the discipline, functionalism was considered \"as dead as a dodo:\"<ref name=\"Barnes\"/> According to [[Anthony Giddens|Giddens]]:<ref>Cassell, Philip. 1993. \\'\\'The Giddens Reader.\\'\\' [[The Macmillan Press]]. p. 6.</ref><blockquote>The orthodox consensus terminated in the late 1960s and 1970s as the middle ground shared by otherwise competing perspectives gave way and was replaced by a baffling variety of competing perspectives. This third \\'generation\\' of social theory includes phenomenologically inspired approaches, critical theory, [[ethnomethodology]], [[symbolic interactionism]], [[structuralism]], [[post-structuralism]], and theories written in the tradition of [[hermeneutics]] and ordinary [[Philosophy of language|language philosophy]].</blockquote>\\n\\n====Pax Wisconsana====\\nWhile some conflict approaches also gained popularity in the United States, the mainstream of the discipline instead shifted to a variety of empirically oriented [[Middle range theory (sociology)|middle-range theories]] with no single overarching, or \"grand\", theoretical orientation. [[John Levi Martin]] refers to this \"golden age of methodological unity and theoretical calm\" as the \\'\\'[[Pax Wisconsana]]\\'\\',<ref>{{cite book|last1=Martin|first1=John Levi|title=The Explanation of Social Action|date=2011|publisher=Oxford University Press}}</ref> as it reflected the composition of the sociology department at the [[University of Wisconsin–Madison]]: numerous scholars working on separate projects with little contention.<ref>{{cite book |title=The Sacred Project of American Sociology |author=Christian Smith |publisher=Oxford University Press |year=2014 |page=142 |isbn=978-0-19-937714-5 |url=https://books.google.com/books?id=8l6yAwAAQBAJ&q=Pax%20Wisconsana%20john%20levi%20martin&pg=PA142 |access-date=18 December 2014}}</ref> [[Omar Lizardo]] describes the \\'\\'pax wisconsana\\'\\' as \"a Midwestern flavored, [[Robert K. Merton|Mertonian]] resolution of the theory/method wars in which [sociologists] all agreed on at least two working hypotheses: (1) [[grand theory]] is a waste of time; [and] (2) good theory has to be good to think with or goes in the trash bin.\"<ref>http://www3.nd.edu/~olizardo/syllabi/SOC63922-syllabus-spring11.pdf{{Dead link|date=December 2014}} {{Dead link|date=April 2020}}</ref> Despite the aversion to grand theory in the latter half of the 20th century, several new traditions have emerged that propose various syntheses: structuralism, post-structuralism, cultural sociology and systems theory.[[File:Anthony Giddens at the Progressive Governance Converence, Budapest, Hungary, 2004 October.jpg|thumb|upright=0.7|[[Anthony Giddens]]|alt=]]\\n\\n====Structuralism====\\nThe [[structural linguistics|structuralist]] movement originated primarily from the work of Durkheim as interpreted by two European scholars: [[Anthony Giddens]], a sociologist, whose theory of structuration draws on the [[linguistics|linguistic]] theory of [[Ferdinand de Saussure]]; and [[Claude Lévi-Strauss]], an anthropologist. In this context, \\'structure\\' does not refer to \\'social structure\\', but to the [[semiotic]] understanding of human culture as a [[sign (semiotics)|system of signs]]. One may delineate four central tenets of structuralism:<ref>{{cite journal |last1=Assiter |first1=Alison |title=Althusser and Structuralism |journal=[[The British Journal of Sociology]] |date=1984 |volume=35 |issue=2 |pages=272–296 |doi=10.2307/590235|jstor=590235}}</ref>\\n\\n# Structure is what determines the structure of a whole.\\n# Structuralists believe that every system has a structure.\\n# Structuralists are interested in \\'structural\\' laws that deal with coexistence rather than changes.\\n# Structures are the \\'real things\\' beneath the surface or the appearance of meaning.\\n\\nThe second tradition of structuralist thought, contemporaneous with Giddens, emerges from the American School of [[social network analysis]] in the 1970s and 1980s,<ref>Turner, Jonathan H. 1991. \"[https://people.uvawise.edu/pww8y/Supplement/TMSup/Turner%20StrucSociTh%201991/27Turner%20StrucSociTh%20NetwkAn.pdf Part 5: Structural Theorizing]\" in \\'\\'The Structure of Sociological Theory\\'\\' (5th ed.). Belmont, CA: [[Wadsworth publishing|Wadsworth Publishing]].{{page needed|date=December 2014}}</ref> spearheaded by the [[Harvard Department of Social Relations]] led by [[Harrison White]] and his students. This tradition of structuralist thought argues that, rather than semiotics, social structure is networks of patterned social relations. And, rather than Levi-Strauss, this school of thought draws on the notions of structure as theorized by Levi-Strauss\\' contemporary anthropologist, [[Radcliffe-Brown]].<ref name=\"Lizardo, Omar 2010\">{{cite journal | last1 = Lizardo | first1 = Omar | year = 2010 | title = Beyond the antinomies of structure: Levi-Strauss, Giddens, Bourdieu, and Sewell | journal = Theory and Society | volume = 39 | issue = 6| pages = 651–88 | doi = 10.1007/s11186-010-9125-1 | s2cid = 145106592 }}</ref> Some<ref>{{cite journal | last1 = Fararo | first1 = Thomas J. | last2 = Butts | first2 = Carter T. | year = 1999 | title = Advances in generative structuralism: structured agency and multilevel dynamics | journal = Journal of Mathematical Sociology | volume = 24 | issue = 1| pages = 1–65 | doi = 10.1080/0022250x.1999.9990228 }}</ref> refer to this as \"network structuralism\", and equate it to \"British structuralism\" as opposed to the \"French structuralism\" of Levi-Strauss.\\n\\n====Post-structuralism====\\n[[Post-structuralist]] thought has tended to [[antihumanism|reject \\'humanist\\' assumptions]] in the construction of social [[theory]].<ref>Giddens, Anthony. \"The Constitution of Society\" in \\'\\'The Giddens Reader\\'\\', edited by P. Cassell. MacMillan Press. p. 89.</ref> [[Michel Foucault]] provides an important critique in his \\'\\'[[the Order of Things|Archaeology of the Human Sciences]]\\'\\', though [[Jürgen Habermas|Habermas]] (1986) and [[Richard Rorty|Rorty]] (1986) have both argued that Foucault merely replaces one such system of thought with another.<ref>[[Jürgen Habermas|Habermas, Jürgen]]. 1986. \"Taking Aim at the Heart of the Present.\" In \\'\\'Foucault: A Critical Reader\\'\\', edited by D. Hoy. Oxford: [[Basil Blackwell]].</ref><ref>[[Richard Rorty|Rorty, Richard]]. 1986. \"Foucault and Epistemology.\" In \\'\\'Foucault: A Critical Reader\\'\\', edited by D. Hoy. Oxford: [[Basil Blackwell]].</ref> The dialogue between these intellectuals highlights a trend in recent years for certain schools of sociology and philosophy to intersect. The [[anti-humanist]] position has been associated with \"[[postmodernism]]\", a term used in specific contexts to describe an \\'\\'era\\'\\' or \\'\\'phenomena\\'\\', but occasionally construed as a \\'\\'method\\'\\'.\\n\\n==Central theoretical problems==\\nOverall, there is a strong consensus regarding the central problems of sociological theory, which are largely inherited from the classical theoretical traditions. This consensus is: how to link, transcend or cope with the following \"big three\" dichotomies:<ref>[[Margaret Archer|Archer, Margaret S.]], and Jonathan Q. Tritt. 2013. \\'\\'[https://books.google.com/books?id=vQbjnVBKRAkC&lpg=PP1&dq=editions%3AW22YGhd2I3YC&pg=PP1#v=snippet&q=otherwise%20cope%20with%20the%20dichotomies%20represented%20by%20\\'subjectivism%20and%20objectivism\\',%20\\'agency%20and%20structure\\'%20&f=false Rational Choice Theory: Resisting Colonisation]\\'\\', edited by J. Q. Tritt. Routledge. {{ISBN|978-0-415-24271-4}}.{{page needed|date=December 2014}}</ref>\\n\\n# [[subjectivity and objectivity]], which deal with \\'\\'knowledge\\'\\';\\n# [[structure and agency]], which deal with \\'\\'action\\'\\'; \\n# and [[synchrony and diachrony]], which deal with \\'\\'time\\'\\'.\\n\\nLastly, sociological theory often grapples with the problem of integrating or transcending the divide between micro, meso, and macro-scale social phenomena, which is a subset of all three central problems.\\n\\n===Subjectivity and objectivity===\\n{{Main|Objectivity (science)|Objectivity (philosophy)|Subjectivity}}\\n\\nThe problem of subjectivity and objectivity can be divided into two parts: a concern over the general possibilities of social actions, and the specific problem of social scientific knowledge. In the former, the subjective is often equated (though not necessarily) with the individual, and the individual\\'s intentions and interpretations of the objective. The objective is often considered any public or external action or outcome, on up to society writ large. A primary question for social theorists, then, is how knowledge reproduces along the chain of subjective-objective-subjective, that is to say: how is \\'\\'[[intersubjectivity]]\\'\\' achieved? While, historically, qualitative methods have attempted to tease out subjective interpretations, quantitative survey methods also attempt to capture individual subjectivities. Also, some qualitative methods take a radical approach to objective description [[in situ]].\\n\\nThe latter concern with scientific knowledge results from the fact that a sociologist is part of the very object they seek to explain, as Bourdieu explains:\\n\\n{{quote| How can the sociologist effect in practice this radical doubting which is indispensable for bracketing all the presuppositions inherent in the fact that she is a social being, that she is therefore socialised and led to feel \"like a fish in water\" within that social world whose structures she has internalised? How can she prevent the social world itself from carrying out the construction of the object, in a sense, through her, through these unself-conscious operations or operations unaware of themselves of which she is the apparent subject| Pierre Bourdieu|\"The Problem of Reflexive Sociology\"|source=\\'\\'An Invitation to Reflexive Sociology\\'\\' (1992), p. 235}}\\n\\n===Structure and agency===\\n{{Main|Structure and agency}}\\nStructure and agency, sometimes referred to as \\'\\'\\'determinism\\'\\'\\' versus \\'\\'\\'voluntarism\\'\\'\\',<ref name=\"ArcherArcher1995\">{{cite book|first=Margaret Scotford |last= Archer|title=Realist Social Theory: The Morphogenetic Approach|url=https://books.google.com/books?id=SMbNRp5EseMC&pg=PA65|date= 1995|publisher=Cambridge University Press|isbn=978-0-521-48442-8|page=65}}</ref> form an enduring ontological debate in social theory: \"Do social structures determine an individual\\'s behaviour or does human agency?\" In this context, [[agency (sociology)|\\'\\'agency\\'\\']] refers to the capacity of individuals to act independently and make free choices, whereas [[social structure|\\'\\'structure\\'\\']] relates to factors that limit or affect the choices and actions of individuals (e.g. social class, religion, gender, ethnicity, etc.). Discussions over the primacy of either structure or agency relate to the core of sociological [[epistemology]] (i.e., \"what is the social world made of?\", \"what is a cause in the social world, and what is an effect?\").<ref name=\"The Constitution of Society\"/> A perennial question within this debate is that of \"[[social reproduction]]\": how are structures (specifically, structures producing inequality) reproduced through the choices of individuals?\\n\\n===Synchrony and diachrony===\\nSynchrony and diachrony (or \\'\\'\\'statics\\'\\'\\' and \\'\\'\\'dynamics\\'\\'\\') within social theory are terms that refer to a distinction that emerged through the work of [[Levi-Strauss]] who inherited it from the linguistics of [[Ferdinand de Saussure]].<ref name=\"Lizardo, Omar 2010\"/> Synchrony slices moments of time for analysis, thus it is an analysis of static social reality. Diachrony, on the other hand, attempts to analyse dynamic sequences. Following Saussure, synchrony would refer to social phenomena as a static concept like a \\'\\'language\\'\\', while diachrony would refer to unfolding processes like actual \\'\\'speech\\'\\'. In Anthony Giddens\\' introduction to \\'\\'Central Problems in Social Theory\\'\\', he states that, \"in order to show the interdependence of action and structure…we must grasp the time space relations inherent in the constitution of all social interaction.\" And like structure and agency, time is integral to discussion of [[social reproduction]].\\n\\nIn terms of sociology, historical sociology is often better positioned to analyse social life as diachronic, while survey research takes a snapshot of social life and is thus better equipped to understand social life as synchronized. Some argue that the synchrony of social structure is a methodological perspective rather than an ontological claim.<ref name=\"Lizardo, Omar 2010\" /> Nonetheless, the problem for theory is how to integrate the two manners of recording and thinking about social data.\\n\\n==Research methodology==\\n{{Main|Social research}}\\nMany people divide sociological research methods into two broad categories, although many others see research methods as a continuum:<ref>{{cite web|url=http://siteresources.worldbank.org/INTGENDERTRANSPORT/Resources/quantitative_qualitative.htm|title=Opportunities and Challenges for Integrating Quantitative and Qualitative Research|last1=Bamberger|first1=Michael|website=INTGENDERTRANSPORT|publisher=World Bank Group}}</ref>\\n* [[Quantitative method|Quantitative designs]] approach social phenomena through quantifiable evidence, and often rely on statistical analysis of many cases (or across intentionally designed treatments in an experiment) to establish valid and reliable general claims.\\n* [[Qualitative research|Qualitative designs]] emphasize understanding of social phenomena through direct observation, communication with participants, or analysis of texts, and may stress contextual and subjective accuracy over generality.\\n\\nSociologists are often divided into camps of support for particular research techniques. These disputes relate to the epistemological debates at the historical core of social theory. While very different in many aspects, both qualitative and quantitative approaches involve a systematic interaction between [[social theory|theory]] and data.<ref name=\"Methods\"/> Quantitative methodologies hold the dominant position in sociology, especially in the United States.<ref name=\"Wacquant\"/> In the discipline\\'s two most cited journals, quantitative articles have historically outnumbered qualitative ones by a factor of two.<ref name=\"Hunter\"/> (Most articles published in the largest British journal, on the other hand, are [[Qualitative research|qualitative]].) Most textbooks on the methodology of social research are written from the quantitative perspective,<ref name=\"Hanson\"/> and the very term \"methodology\" is often used synonymously with \"[[statistics]]\". Practically all sociology PhD programmes in the United States require training in statistical methods. The work produced by quantitative researchers is also deemed more \\'trustworthy\\' and \\'unbiased\\' by the general public,<ref name=\"gm\"/> though this judgment continues to be challenged by antipositivists.<ref name=\"gm\"/>\\n\\nThe choice of method often depends largely on what the researcher intends to investigate. For example, a researcher concerned with drawing a statistical generalization across an entire population may administer a [[Survey research|survey questionnaire]] to a representative sample population. By contrast, a researcher who seeks full contextual understanding of an individual\\'s [[social actions]] may choose ethnographic [[participant observation]] or open-ended interviews. Studies will commonly combine, or [[triangulation (social science)|\\'triangulate\\']], quantitative \\'\\'and\\'\\' qualitative methods as part of a \\'multi-strategy\\' design. For instance, a quantitative study may be performed to obtain statistical patterns on a target sample, and then combined with a qualitative interview to determine the play of [[Agency (sociology)|agency]].<ref name=\"Methods\"/>\\n\\n===Sampling===\\n[[File:Planche de Galton.jpg|thumb|upright=0.9|right|The [[bean machine]], designed by early social research methodologist Sir [[Francis Galton]] to demonstrate the [[normal distribution]], which is important to much quantitative [[hypothesis testing]].]]\\nQuantitative methods are often used to ask questions about a population that is very large, making a census or a complete [[enumeration]] of all the members in that population infeasible. A \\'sample\\' then forms a manageable [[subset]] of a [[Statistical population|population]]. In quantitative research, statistics are used to draw [[inference]]s from this sample regarding the population as a whole. The process of selecting a sample is referred to as [[sampling (statistics)|\\'sampling\\']]. While it is usually best to [[random sampling|sample randomly]], concern with differences between specific subpopulations sometimes calls for [[stratified sampling]]. Conversely, the impossibility of random sampling sometimes necessitates [[nonprobability sampling]], such as [[convenience sampling]] or [[snowball sampling]].<ref name=\"Methods\"/>\\n\\n===Methods===\\n\\'\\'The following list of research methods is neither exclusive nor exhaustive:\\'\\'\\n* [[Archival research]] (or the [[Historical method]]): Draws upon the [[secondary data]] located in historical archives and records, such as biographies, memoirs, journals, and so on.\\n* [[Content analysis]]: The content of interviews and other texts is systematically analysed. Often data is \\'coded\\' as a part of the \\'[[grounded theory]]\\' approach using qualitative data analysis (QDA) software, such as [[Atlas.ti]], [[MAXQDA]], [[NVivo]],<ref>{{cite journal |last1=Martin |first1=Patricia Yancey |last2=Turner |first2=Barry A. |title=Grounded Theory and Organizational Research |journal=[[The Journal of Applied Behavioral Science]] |date=1986 |volume=22 |issue=2 |pages=141–157 |doi=10.1177/002188638602200207|s2cid=143570174 }}</ref> or [[QDA Miner]].\\n* [[Experimental research]]: The researcher isolates a single social process and reproduces it in a laboratory (for example, by creating a situation where unconscious sexist judgements are possible), seeking to determine whether or not certain social [[Dependent and independent variables|variables]] can cause, or depend upon, other variables (for instance, seeing if people\\'s feelings about traditional gender roles can be manipulated by the activation of contrasting [[gender stereotype]]s).<ref name=\"Jost\"/> Participants are [[Random assignment|randomly assigned]] to different groups that either serve as [[Scientific control|controls]]—acting as reference points because they are tested with regard to the dependent variable, albeit without having been exposed to any independent variables of interest—or receive one or more treatments. Randomization allows the researcher to be sure that any resulting differences between groups are the result of the treatment.\\n* [[Longitudinal study]]: An extensive examination of a specific person or group over a long period of time.\\n* [[Observation]]: Using data from the senses, the researcher records information about social phenomenon or behaviour. Observation techniques may or may not feature participation. In [[participant observation]], the researcher goes into the field (e.g. a community or a place of work), and participates in the activities of the field for a prolonged period of time in order to acquire a deep understanding of it.<ref name=\":3\" />{{Rp|42}} Data acquired through these techniques may be analysed either quantitatively or qualitatively. In the observation research, a sociologist might study [[global warming]] in some part of the world that is less populated.\\n* [[Survey research]]: The researcher gathers data using interviews, questionnaires, or similar feedback from a set of people sampled from a particular population of interest. Survey items from an interview or questionnaire may be open-ended or closed-ended.<ref name=\":3\" />{{Rp|40}} Data from surveys is usually analysed statistically on a computer.\\n* [[Program Evaluation]] is a systematic method for collecting, analyzing, and using information to answer questions about projects, policies and programs,<ref>Administration for Children and Families (2010) \\'\\'[http://www.acf.hhs.gov/programs/opre/other_resrch/pm_guide_eval/index.html The Program Manager\\'s Guide to Evaluation]. Chapter 2: What is program evaluation?\\'\\'.</ref> particularly about their effectiveness and efficiency. In both the public and private sectors, stakeholders often want to know whether the programs they are funding, implementing, voting for, or objecting to are producing the intended effect. While program evaluation first focuses on this definition, important considerations often include how much the program costs per participant, how the program could be improved, whether the program is worthwhile, whether there are better alternatives, if there are unintended outcomes, and whether the program goals are appropriate and useful.<ref>{{cite journal|last=Shackman|first=Gene|title=What Is Program Evaluation: A Beginner\\'s Guide|publisher=The Global Social Change Research Project|ssrn=3060080}}</ref>\\n\\n===Computational sociology===\\n[[File:Sna large.png|thumb|upright=0.75|left|A [[social network]] diagram: individuals (or \\'nodes\\') connected by relationships]]\\n{{Main|Computational sociology}}\\nSociologists increasingly draw upon computationally intensive methods to analyse and model social phenomena.<ref name=\"Blackwell\">[[William Sims Bainbridge|Bainbridge, William Sims]] 2007. \"[https://onlinelibrary.wiley.com/doi/10.1002/9781405165518.wbeosc084.pub2 Computational Sociology].\" In \\'\\'Blackwell Encyclopedia of Sociology\\'\\', edited by [[George Ritzer|G. Ritzer]]. Blackwell Reference Online. {{ISBN|978-1-4051-2433-1}}. {{Doi|10.1111/b.9781405124331.2007.x}} {{Restricted access||via=Wiley Online Library}}.</ref> Using [[computer simulation]]s, [[artificial intelligence]], [[text mining]], complex statistical methods, and new analytic approaches like [[social network]] analysis and [[social sequence analysis]], computational sociology develops and tests theories of complex social processes through bottom-up modelling of social interactions.<ref name=\"MW\"/>\\n\\nAlthough the subject matter and methodologies in social science differ from those in natural science or [[computer science]], several of the approaches used in contemporary social simulation originated from fields such as [[physics]] and artificial intelligence.<ref name=\"Artificial Societies\"/><ref name=\"Cooperation\"/> By the same token, some of the approaches that originated in computational sociology have been imported into the natural sciences, such as measures of [[centrality|network centrality]] from the fields of social network analysis and [[network science]]. In relevant literature, computational sociology is often related to the study of [[social complexity]].<ref name=\"The Computer as Laboratory: Toward a Theory of Complex Adaptive Systems\"/> Social complexity concepts such as [[complex systems]], [[non-linear]] interconnection among macro and micro process, and [[emergence]], have entered the vocabulary of computational sociology.<ref name=\"Methodological Implications of Complex Systems Approaches to Sociality: Simulation as a Foundation for Knowledge\"/> A practical and well-known example is the construction of a computational model in the form of an \"[[artificial society]]\", by which researchers can analyse the structure of a social system.<ref name=\"SfSS1\"/><ref name=\"Generative\"/>\\n\\n==Subfields==\\n{{Main|Outline of sociology}}\\n\\n===Culture===\\n[[File:AdornoHorkheimerHabermasbyJeremyJShapiro2.png|thumb|right|[[Max Horkheimer]] (left, front), [[Theodor Adorno]] (right, front), and [[Jürgen Habermas]] (right, back) 1965]]\\n{{Main|Sociology of culture|Cultural criminology|Cultural studies}}\\nSociologists\\' approach to culture can be divided into \"\\'\\'sociology of culture\\'\\'\" and \"\\'\\'cultural sociology\\'\\'\"—terms which are similar, though not entirely interchangeable.<ref>{{cite web|url=http://orgtheory.wordpress.com/2006/08/27/the-sociology-of-culture-versus-cultural-sociology/|title=the sociology of culture versus cultural sociology|last=Lizardo|first=Omar|date=27 August 2006|website=orgtheory.net|via=[[WordPress]]}}</ref> Sociology of culture is an older term, and considers some topics and objects as more or less \"cultural\" than others. Conversely, cultural sociology sees all social phenomena as inherently cultural.<ref name=\"umn\">{{cite web|url=http://blog.lib.umn.edu/edgell/culture/|title=General Info|last=Edgell|first=Penny|date=6 January 2009|website=Sociology of Culture and Cultural Sociology|publisher=University of Minnesota|type=Instructor blog|url-status=dead|archive-url=https://web.archive.org/web/20150506122254/http://blog.lib.umn.edu/edgell/culture/2009/01/general_info.html|archive-date=6 May 2015|access-date=4 April 2015}}</ref> Sociology of culture often attempts to explain certain cultural phenomena as a product of social processes, while cultural sociology sees culture as a potential explanation of social phenomena.<ref>{{cite book|url=https://books.google.com/books?id=dwQPS4H3aVcC&q=Cultures%20and%20Societies%20in%20a%20Changing%20World&pg=PT26|title=Cultures and Societies in a Changing World|isbn=978-1-4129-9054-7|last1=Griswold|first1=Wendy|date=2012}}</ref>\\n\\nFor [[Georg Simmel|Simmel]], culture referred to \"the cultivation of individuals through the agency of external forms which have been objectified in the course of history.\"<ref name=\"autogenerated1971\"/> While early theorists such as [[Durkheim]] and [[Marcel Mauss|Mauss]] were influential in [[cultural anthropology]], sociologists of culture are generally distinguished by their concern for [[Modernity|modern]] (rather than [[Primitive culture|primitive]] or ancient) society. Cultural sociology often involves the [[hermeneutic]] analysis of words, artefacts and symbols, or ethnographic interviews. However, some sociologists employ historical-comparative or quantitative techniques in the analysis of culture, Weber and Bourdieu for instance. The subfield is sometimes allied with [[critical theory]] in the vein of [[Theodor W. Adorno]], [[Walter Benjamin]], and other members of the [[Frankfurt School]]. Loosely distinct from the sociology of culture is the field of [[cultural studies]]. [[Centre for Contemporary Cultural Studies|Birmingham School]] theorists such as [[Richard Hoggart]] and [[Stuart Hall (cultural theorist)|Stuart Hall]] questioned the division between \"producers\" and \"consumers\" evident in earlier theory, emphasizing the reciprocity in the production of texts. Cultural Studies aims to examine its subject matter in terms of cultural practices and their relation to power. For example, a study of a [[subculture]] (e.g. white working class youth in London) would consider the social practices of the group as they relate to the dominant class. The \"[[cultural turn]]\" of the 1960s ultimately placed culture much higher on the sociological agenda.\\n\\n====Art, music and literature====\\n{{Main|Sociology of literature|Sociology of art|Sociology of film|Sociology of music}}\\nSociology of literature, film, and art is a subset of the sociology of culture. This field studies the social production of artistic objects and its social implications. A notable example is Pierre Bourdieu\\'s \\'\\'Les Règles de L\\'Art: Genèse et Structure du Champ Littéraire\\'\\' (1992).<ref>Bourdieu, Pierre. 1996 [1992]. \\'\\'Rules of Art: Genesis and Structure of the Literary Field\\'\\' (\\'\\'Les Règles de L\\'Art: Genèse et Structure du Champ Littéraire\\'\\'), translated by S. Emanuel.</ref> None of the founding fathers of sociology produced a detailed study of art, but they did develop ideas that were subsequently applied to literature by others. Marx\\'s theory of ideology was directed at literature by [[Pierre Macherey]], [[Terry Eagleton]] and [[Fredric Jameson]]. Weber\\'s theory of modernity as cultural rationalization, which he applied to music, was later applied to all the arts, literature included, by [[Frankfurt School]] writers such as [[Theodor W. Adorno|Theodor Adorno]] and [[Jürgen Habermas]]. Durkheim\\'s view of sociology as the study of externally defined social facts was redirected towards literature by Robert Escarpit. Bourdieu\\'s own work is clearly indebted to Marx, Weber and Durkheim.\\n\\n===Criminality, deviance, law and punishment===\\n{{Main|Criminology|Sociology of law|Sociology of punishment|Deviance (sociology)|Social disorganization theory|label 4 = Deviance}}\\nCriminologists analyse the nature, causes, and control of criminal activity, drawing upon methods across sociology, [[psychology]], and the [[behavioural sciences]]. The sociology of deviance focuses on actions or behaviours that violate [[norm (sociology)|norms]], including both infringements of formally enacted rules (e.g., crime) and informal violations of cultural norms. It is the remit of sociologists to study why these norms exist; how they change over time; and how they are enforced. The concept of [[social disorganization]] is when the broader social systems leads to violations of norms. For instance, [[Robert K. Merton]] produced a [[Robert K. Merton#Merton\\'s theory of deviance|typology of deviance]], which includes both individual and system level causal explanations of deviance.<ref name=\"Robert K. Merton Remembered\"/>\\n\\n====Sociology of law====\\nThe study of law played a significant role in the formation of classical sociology. Durkheim famously described law as the \"visible symbol\" of social solidarity.<ref>[[Reza Banakar|Banakar, Reza]]. 2009. \"[https://papers.ssrn.com/sol3/papers.cfm?abstract_id=1327025 Law Through Sociology\\'s Looking Glass: Conflict and Competition in Sociological Studies of Law].\" Pp. 58–73 in \\'\\'The New ISA Handbook in Contemporary International Sociology: Conflict, Competition, and Cooperation\\'\\', edited by A. Denis and D. Kalekin-Fishman. London: Sage.</ref> The sociology of law refers to both a sub-discipline of sociology and an approach within the field of legal studies. Sociology of law is a diverse field of study that examines the interaction of law with other aspects of society, such as the development of legal [[institution]]s and the effect of laws on social change and vice versa. For example, an influential recent work in the field relies on statistical analyses to argue that the increase in incarceration in the US over the last 30 years is due to changes in law and policing and not to an increase in crime; and that this increase has significantly contributed to the persistence of racial [[Social stratification|stratification]].<ref name=\"Western\"/>\\n\\n===Communications and information technologies===\\nThe sociology of communications and information technologies includes \"the social aspects of computing, the Internet, new media, computer networks, and other communication and information technologies.\"<ref name=\"asanet\">{{cite web|url=http://www.asanet.org/sections/CIT.cfm|title=Section on Communications and Information Technologies|last=ASA|website=American Sociological Association|publisher=asanet.org|url-status=dead|archive-url=https://web.archive.org/web/20150402230046/http://www.asanet.org/sections/CIT.cfm|archive-date=2 April 2015|access-date=4 April 2015}}</ref>\\n\\n====Internet and digital media====\\n{{Main|Sociology of the Internet|Digital sociology}}\\nThe Internet is of interest to sociologists in various ways; most practically as a tool for [[social research|research]] and as a discussion platform.<ref>Wilson, D. R. 2004. \\'\\'Researching Sociology on the Internet.\\'\\' London: [[Thomson/Wadsworth]]. {{ISBN|0-534-62437-5}}.</ref> The [[sociology of the Internet]] in the broad sense concerns the analysis of [[online communities]] (e.g. [[newsgroup]]s, social networking sites) and [[virtual world]]s, meaning that there is often overlap with community sociology. Online communities may be studied statistically through [[social network|network analysis]] or interpreted qualitatively through [[virtual ethnography]]. Moreover, organizational change is catalysed through [[new media]], thereby influencing social change at-large, perhaps forming the framework for a transformation from an [[industrial society|industrial]] to an [[informational society]]. One notable text is [[Manuel Castells]]\\' \\'\\'[[The Internet Galaxy]]\\'\\'—the title of which forms an inter-textual reference to [[Marshall McLuhan]]\\'s \\'\\'[[The Gutenberg Galaxy]]\\'\\'.<ref>[[Manuel Castells|Castells, Manuel]]. 2001. \\'\\'[[The Internet Galaxy|The Internet Galaxy: Reflections on the Internet, Business and Society]]\\'\\'. Oxford, Oxford University Press.</ref> Closely related to the sociology of the Internet is [[digital sociology]], which expands the scope of study to address not only the internet but also the impact of the other digital media and devices that have emerged since the first decade of the twenty-first century.\\n\\n====Media====\\n{{Main|Media studies}}\\nAs with [[cultural studies]], media study is a distinct discipline that owes to the convergence of sociology and other social sciences and humanities, in particular, [[literary criticism]] and [[critical theory]]. Though neither the production process nor the critique of aesthetic forms is in the remit of sociologists, analyses of [[socialization|socializing]] factors, such as [[ideology|ideological effects]] and [[audience reception]], stem from sociological theory and method. Thus the \\'sociology of the media\\' is not a subdiscipline \\'\\'per se\\'\\', but the media is a common and often indispensable topic.\\n\\n===Economic sociology===\\n{{Main|Economic sociology}}\\nThe term \"economic sociology\" was first used by [[William Stanley Jevons]] in 1879, later to be coined in the works of Durkheim, Weber, and Simmel between 1890 and 1920.<ref name=\"princeton1\"/> Economic sociology arose as a new approach to the analysis of economic phenomena, emphasizing class relations and [[modernity]] as a philosophical concept. The relationship between [[capitalism]] and [[modernity]] is a salient issue, perhaps best demonstrated in Weber\\'s \\'\\'[[The Protestant Ethic and the Spirit of Capitalism]]\\'\\' (1905) and Simmel\\'s \\'\\'[[The Philosophy of Money]]\\'\\' (1900). The contemporary period of economic sociology, also known as \\'\\'new economic sociology\\'\\', was consolidated by the 1985 work of [[Mark Granovetter]] titled \"Economic Action and Social Structure: The Problem of Embeddedness\". This work elaborated the concept of [[embeddedness]], which states that economic relations between individuals or firms take place within existing social relations (and are thus structured by these relations as well as the greater social structures of which those relations are a part). [[Social network|Social network analysis]] has been the primary methodology for studying this phenomenon. Granovetter\\'s theory of the [[Mark Granovetter#The strength of weak ties|strength of weak ties]] and [[Ronald Burt]]\\'s concept of structural holes are two of the best known theoretical contributions of this field.\\n\\n====Work, employment, and industry====\\n{{Main|Industrial sociology|sociology of work|Industrial relations}}\\nThe sociology of work, or industrial sociology, examines \"the direction and implications of trends in [[technological]] change, [[globalization]], labour markets, work organization, [[managerial]] practices and [[division of labour|employment relations]] to the extent to which these trends are intimately related to changing patterns of inequality in modern societies and to the changing experiences of individuals and families the ways in which workers challenge, resist and make their own contributions to the patterning of work and shaping of work institutions.\"<ref>Watson, Tony J. 2008. \\'\\'Sociology, Work, and Industry\\'\\'. London: Routledge. {{ISBN|0-415-43555-2}}. p. 392.</ref>\\n\\n===Education===\\n{{Main|Sociology of education}}\\nThe sociology of education is the study of how educational institutions determine social structures, experiences, and other outcomes. It is particularly concerned with the schooling systems of modern industrial societies.<ref name=\"Dictionary\"/> A classic 1966 study in this field by [[James Samuel Coleman|James Coleman]], known as the \"Coleman Report\", analysed the performance of over 150,000 students and found that student background and socioeconomic status are much more important in determining educational outcomes than are measured differences in school resources (i.e. per pupil spending).<ref name=\"Hanushek\"/> The controversy over \"school effects\" ignited by that study has continued to this day. The study also found that socially disadvantaged black students profited from schooling in racially mixed classrooms, and thus served as a catalyst for [[desegregation busing]] in American public schools.\\n\\n===Environment===\\n{{Main|Environmental sociology|Sociology of disaster}}\\n\\nEnvironmental sociology is the study of human interactions with the natural environment, typically emphasizing human dimensions of environmental problems, social impacts of those problems, and efforts to resolve them. As with other sub-fields of sociology, scholarship in environmental sociology may be at one or multiple levels of analysis, from global (e.g. world-systems) to local, societal to individual. Attention is paid also to the processes by which environmental problems become \\'\\'defined\\'\\' and \\'\\'known\\'\\' to humans. As argued by notable environmental sociologist [[John Bellamy Foster]], the predecessor to modern environmental sociology is Marx\\'s analysis of the [[metabolic rift]], which influenced contemporary thought on [[sustainability]]. Environmental sociology is often interdisciplinary and overlaps with the sociology of risk, [[rural sociology]] and the [[sociology of disaster]].\\n\\n====Human ecology====\\n{{Main|Human ecology|Architectural sociology|Visual sociology|Sociology of space|Urban sociology}}\\n\\nHuman ecology deals with interdisciplinary study of the relationship between humans and their natural, social, and built environments. In addition to Environmental sociology, this field overlaps with [[architectural sociology]], [[urban sociology]], and to some extent [[visual sociology]]. In turn, visual sociology—which is concerned with all visual dimensions of social life—overlaps with media studies in that it uses photography, film and other technologies of media.\\n\\n====Social pre-wiring====\\nSocial pre-wiring deals with the study of fetal social behavior and social interactions in a multi-fetal environment. Specifically, social pre-wiring refers to the [[ontogeny]] of [[social relation|social interaction]]. Also informally referred to as, \"wired to be social\". The theory questions whether there is a propensity to [[social actions|socially oriented action]] already present \\'\\'before\\'\\' birth. Research in the theory concludes that newborns are born into the world with a unique [[genetics|genetic]] wiring to be social.<ref name=\":2\">Castiello, Umberto, Cristina Becchio, Stefania Zoia, Cristian Nelini, et al. 2010. \"[https://www.ncbi.nlm.nih.gov/pmc/articles/PMC2951360/ Wired to be Social: The Ontogeny of Human Interaction].\" \\'\\'PLOS One\\'\\' 5(10). {{Doi|10.1371/journal.pone.0013199}}. {{PMID|20949058}}. — via [[National Center for Biotechnology Information]], [[United States National Library of Medicine|U.S. National Library of Medicine]].</ref>\\n\\nCircumstantial evidence supporting the social pre-wiring hypothesis can be revealed when examining newborns\\' behavior. Newborns, not even hours after birth, have been found to display a preparedness for [[social relation|social interaction]]. This preparedness is expressed in ways such as their imitation of facial gestures. This observed behavior cannot be contributed to any current form of [[socialization]] or [[social construction]]. Rather, newborns most likely [[heredity|inherit]] to some extent [[social behavior]] and [[identity (social science)|identity]] through [[genetics]].<ref name=\":2\" />\\n\\nPrincipal evidence of this theory is uncovered by examining Twin pregnancies. The main argument is, if there are [[social behavior]]s that are [[heredity|inherited]] and developed before birth, then one should expect twin foetuses to engage in some form of [[social relation|social interaction]] before they are born. Thus, ten foetuses were analyzed over a period of time using ultrasound techniques. Using kinematic analysis, the results of the experiment were that the twin foetuses would interact with each other for longer periods and more often as the pregnancies went on. Researchers were able to conclude that the performance of movements between the co-twins were not accidental but specifically aimed.<ref name=\":2\" />\\n\\nThe social pre-wiring hypothesis was proved correct:<ref name=\":2\" /> <blockquote>The central advance of this study is the demonstration that \\'[[social actions]]\\' are already performed in the second trimester of [[gestational age|gestation]]. Starting from the 14th week of [[gestational age|gestation]] twin foetuses plan and execute movements specifically aimed at the co-twin. These findings force us to predate the emergence of [[social behavior]]: when the context enables it, as in the case of twin foetuses, other-directed actions are not only possible but predominant over self-directed actions.</blockquote>\\n\\n===Family, gender, and sexuality===\\n{{Main|Sociology of the family|Sociology of childhood|Sociology of gender|Feminist sociology|Feminist theory|Queer theory}}\\n[[File:WomanFactory1940s.jpg|thumb|left|upright=0.9|\"[[Rosie the Riveter]]\" was an iconic symbol of the American [[United States home front during World War II|homefront]] and a departure from [[gender roles]] due to wartime necessity.]]\\nFamily, gender and sexuality form a broad area of inquiry studied in many sub-fields of sociology. A family is a group of people who are related by kinship ties :- Relations of blood / marriage / civil partnership or adoption. The family unit is one of the most important social institutions found in some form in nearly all known societies. It is the basic unit of social organization and plays a key role in socializing children into the culture of their society. The sociology of the family examines the family, as an [[institution]] and unit of [[socialization]], with special concern for the comparatively modern historical emergence of the [[nuclear family]] and its distinct [[gender roles]]. The notion of \"[[childhood]]\" is also significant. As one of the more basic institutions to which one may apply sociological perspectives, the sociology of the family is a common component on introductory academic curricula. [[Feminist sociology]], on the other hand, is a normative sub-field that observes and critiques the cultural categories of gender and sexuality, particularly with respect to power and inequality. The primary concern of [[feminist theory]] is the [[patriarchy]] and the systematic oppression of women apparent in many societies, both at the level of small-scale interaction and in terms of the broader social structure. [[Feminist sociology]] also analyses how gender interlocks with race and class to produce and perpetuate social inequalities.<ref>{{cite journal | last1 = Bose | first1 = Christine | year = 2012 | title = Intersectionality and Global Gender Inequality | journal = Gender & Society | volume = 26 | issue = 1| pages = 67–72 | doi = 10.1177/0891243211426722 | s2cid = 145233506 }}</ref> \"How to account for the differences in definitions of femininity and masculinity and in sex role across different societies and historical periods\" is also a concern.<ref>{{cite journal | title = The Role of Religion and Spirituality in Mental and Physical Health | journal = Current Directions in Psychological Science | date = February 2001 | first = Kevin S. | last = Seybold |author2=Peter C. Hill | volume = 10 | issue = 1 | pages = 21–24 | doi = 10.1111/1467-8721.00106| s2cid = 144109851 }}</ref>\\n\\n===Health, illness, and the body===\\n{{Main|Sociology of health and illness|Medical sociology}}\\nThe [[sociology of health and illness]] focuses on the social effects of, and public attitudes toward, [[illness]]es, diseases, [[mental health]] and [[disabilities]]. This sub-field also overlaps with [[gerontology]] and the study of the [[ageing]] process. Medical sociology, by contrast, focuses on the inner-workings of medical organizations and clinical institutions. In Britain, sociology was introduced into the medical curriculum following the \\'\\'Goodenough Report\\'\\' (1944).<ref name=\"British Sociological Association: Medical Sociology\"/>\\n\\nThe [[Sociology of the body|sociology of the body and embodiment]]<ref name=\"asanet2\">{{cite web|url=http://www.asanet.org/sections/body-embodiment.cfm#|title=Section on Sociology of the Body and Embodiment|last=ASA|website=American Sociological Association|url-status=dead|archive-url=https://web.archive.org/web/20150418132652/http://www.asanet.org/sections/body-embodiment.cfm|archive-date=18 April 2015|access-date=4 April 2015}}</ref> takes a broad perspective on the idea of \"the body\" and includes \"a wide range of embodied dynamics including human and non-human bodies, morphology, human reproduction, anatomy, body fluids, biotechnology, genetics. This often intersects with health and illness, but also theories of bodies as political, social, cultural, economic and ideological productions.<ref>{{cite web|url=http://www.britsoc.co.uk/study-groups/ageing,-body-society.aspx|title=Ageing, Body and Society Study Group|last=BSA|website=The British Sociological Association|url-status=dead|archive-url=https://web.archive.org/web/20140714162250/http://www.britsoc.co.uk/study-groups/ageing%2C-body-society.aspx|archive-date=14 July 2014}}</ref> The [[International Sociological Association|ISA]] maintains a Research Committee devoted to \"the Body in the Social Sciences\".<ref>{{cite web|url=http://www.isa-sociology.org/rc54.htm|title=RC54 The Body in the Social Sciences {{!}} Research Committee|last=ISA|website=International Sociological Association|publisher=University Complutense|location=Madrid}}</ref>\\n\\n====Death, dying, bereavement====\\nA subfield of the sociology of health and illness that overlaps with cultural sociology is the study of death, dying and bereavement,<ref>{{cite web|url=http://www.britsoc.co.uk/study-groups/social-aspects-of-death,-dying-and-bereavement.aspx|title=Social Aspects of Death, Dying and Bereavement Study Group|last=BSA|website=The British Sociological Association|url-status=dead|archive-url=https://web.archive.org/web/20140714122235/http://www.britsoc.co.uk/study-groups/social-aspects-of-death%2C-dying-and-bereavement.aspx|archive-date=14 July 2014}}</ref> sometimes referred to broadly as the [[Thanatology|sociology of death]]. This topic is exemplified by the work of [[Douglas Davies]] and Michael C. Kearl.\\n\\n===Knowledge and science===\\n{{Main|Sociology of knowledge|Sociology of scientific knowledge|Sociology of the history of science|Sociology of science}}\\nThe sociology of knowledge is the study of the relationship between human thought and the social context within which it arises, and of the effects prevailing ideas have on societies. The term first came into widespread use in the 1920s, when a number of German-speaking theorists, most notably [[Max Scheler]], and [[Karl Mannheim]], wrote extensively on it. With the dominance of [[Structural functionalism|functionalism]] through the middle years of the 20th century, the sociology of knowledge tended to remain on the periphery of mainstream sociological thought. It was largely reinvented and applied much more closely to everyday life in the 1960s, particularly by [[Peter L. Berger]] and [[Thomas Luckmann]] in \\'\\'[[The Social Construction of Reality]]\\'\\' (1966) and is still central for methods dealing with qualitative understanding of human society (compare \\'\\'[[socially constructed reality]]\\'\\'). The \"archaeological\" and \"genealogical\" studies of [[Michel Foucault]] are of considerable contemporary influence.\\n\\nThe sociology of science involves the study of science as a social activity, especially dealing \"with the social conditions and effects of science, and with the social structures and processes of scientific activity.\"<ref name=\"socofsci-bendavid\"/> Important theorists in the sociology of science include [[Robert K. Merton]] and [[Bruno Latour]]. These branches of sociology have contributed to the formation of [[science and technology studies]]. Both the [[American Sociological Association|ASA]] and the [[British Sociological Association|BSA]] have sections devoted to the subfield of Science, Knowledge and Technology.<ref name=\"asanet3\">{{cite web|url=http://www.asanet.org/sections/SKAT.cfm|title=American Sociological Association: Section on Science, Knowledge and Technology|publisher=asanet.org|access-date=4 April 2015|url-status=dead|archive-url=https://web.archive.org/web/20150321045626/http://www.asanet.org/sections/SKAT.cfm|archive-date=21 March 2015}}</ref><ref>{{cite web|url=http://www.britsoc.co.uk/study-groups/science-technology-studies.aspx|title=The British Sociological Association|url-status=dead|archive-url=https://web.archive.org/web/20140714150113/http://www.britsoc.co.uk/study-groups/science-technology-studies.aspx|archive-date=14 July 2014}}</ref> The [[International Sociological Association|ISA]] maintains a Research Committee on Science and Technology.<ref>{{cite web|url=http://www.isa-sociology.org/rc23.htm|title=RC23 Sociology of Science and Technology {{!}} Research Committees|last=ISA|website=International Sociological Association|publisher=University Complutense.|location=Madrid}}</ref>\\n\\n===Leisure===\\n{{Main|Sociology of leisure|Sociology of sport}}\\nSociology of leisure is the study of how humans organize their free time. Leisure includes a broad array of activities, such as [[Sociology of sport|sport]], tourism, and the playing of games. The sociology of leisure is closely tied to the sociology of work, as each explores a different side of the work–leisure relationship. More recent studies in the field move away from the work–leisure relationship and focus on the relation between leisure and culture. This area of sociology began with [[Thorstein Veblen]]\\'s \\'\\'Theory of the Leisure Class\\'\\'.<ref>{{cite journal | last1 = Lueschen | first1 = G | year = 1980 | title = Sociology of Sport: Development, Present State, and Prospects | journal = Annual Review of Sociology | volume = 6 | pages = 315–47 | doi = 10.1146/annurev.so.06.080180.001531 }}</ref>\\n\\n===Peace, war, and conflict===\\n{{Main|Peace and conflict studies|Military sociology|Sociology of terrorism}}\\nThis subfield of sociology studies, broadly, the dynamics of war, conflict resolution, peace movements, war refugees, conflict resolution and military institutions.<ref name=\"asanet4\">{{cite web|url=http://www.asanet.org/sectionpwsc/sectinfo.cfm|title=Section on Peace, War, and Social Conflict|last=ASA|date=12 December 2013|website=American Sociological Association|access-date=4 April 2015}}</ref> As a subset of this subfield, [[military sociology]] aims towards the systematic study of the military as a social group rather than as an [[Military organization|organization]]. It is a highly specialized sub-field which examines issues related to service personnel as a distinct [[social group|group]] with coerced [[collective action]] based on shared [[Advocacy group|interests]] linked to survival in [[vocation]] and [[combat]], with purposes and [[value (personal and cultural)|values]] that are more defined and narrow than within civil society. Military sociology also concerns [[civilian]]-military relations and interactions between other groups or governmental agencies. Topics include the dominant assumptions held by those in the military, changes in military members\\' willingness to fight, military unionization, military professionalism, the increased utilization of women, the military industrial-academic complex, the military\\'s dependence on research, and the institutional and organizational structure of military.<ref name=\"Core Issues and Theory in Military Sociology\"/>\\n\\n===Political sociology===\\n{{Main|Political sociology}}\\n[[File:JuergenHabermas.jpg|thumb|left|[[Jürgen Habermas]]]]\\nHistorically, political sociology concerned the relations between political organization and society. A typical research question in this area might be: \"Why do so few American citizens choose to vote?\"<ref>Piven, F. 1988. \\'\\'Why Americans Don\\'t Vote: And Why Politicians Want it That Way\\'\\' Pantheon. {{ISBN|0-679-72318-8}}</ref> In this respect questions of political opinion formation brought about some of the pioneering uses of statistical [[survey research]] by [[Paul Lazarsfeld]]. A major subfield of political sociology developed in relation to such questions, which draws on comparative history to analyse socio-political trends. The field developed from the work of Max Weber and [[Moisey Ostrogorsky]].<ref>[[Seymour Martin Lipset|Lipset, Seymour Martin]]. 1982 [1964]. \"Introduction: [[Moisey Ostrogorsky|Ostrogorski]] and the Analytical Approach to the Comparative Study of Political Parties.\" In \\'\\'Democracy and the Organisation of Political Parties\\'\\' 2, edited by S. M. Lipset.</ref>\\n\\nContemporary political sociology includes these areas of research, but it has been opened up to wider questions of power and politics.<ref>Nash, Kate. 2009. {{Google books||id=LWwBN3rUrO4C|title=Contemporary Political Sociology: Globalization, Politics and Power}}. John Wiley & Sons. {{ISBN|978-1-4443-2077-0}}. Retrieved 4 November 2011.</ref> Today political sociologists are as likely to be concerned with how identities are formed that contribute to structural domination by one group over another; the politics of who knows how and with what authority; and questions of how power is contested in social interactions in such a way as to bring about widespread cultural and social change. Such questions are more likely to be studied qualitatively. The study of [[social movements]] and their effects has been especially important in relation to these wider definitions of politics and power.<ref>{{cite book|url=https://books.google.com/books?id=5mazSOSvqrEC&q=social+movements |title=Social movements: an introduction&nbsp;– Donatella Della Porta, Mario Diani |date= 2009|access-date=4 November 2011|isbn=978-1-4051-4821-4|last1=Porta |first1=Donatella Della |last2=Diani |first2=Mario }}</ref>\\n\\nPolitical sociology has also moved beyond [[methodological nationalism]] and analysed the role of non-governmental organizations, the diffusion of the nation-state throughout the Earth as a [[social construct]], and the role of [[Statelessness|stateless entities]] in the modern [[world society]]. Contemporary political sociologists also study inter-state interactions and [[human rights]].\\n\\n===Population and demography===\\n{{Main|Demography|Human ecology|Mobilities}}\\n\\nDemographers or sociologists of population study the size, composition and change over time of a given population. Demographers study how these characteristics impact, or are impacted by, various social, economic or political systems. The study of population is also closely related to human ecology and environmental sociology, which studies a populations relationship with the surrounding environment and often overlaps with urban or rural sociology. Researchers in this field may study the movement of populations: transportation, migrations, diaspora, etc., which falls into the subfield known as [[Mobilities]] studies and is closely related to [[human geography]]. Demographers may also study spread of disease within a given population or [[epidemiology]].\\n\\n===Public sociology===\\n{{Main|Public sociology}}\\n\\nPublic sociology refers to an approach to the discipline which seeks to transcend the academy in order to engage with wider audiences. It is perhaps best understood as a style of sociology rather than a particular method, theory, or set of political values. This approach is primarily associated with [[Michael Burawoy]] who contrasted it with professional sociology, a form of academic sociology that is concerned primarily with addressing other professional sociologists. Public sociology is also part of the broader field of science communication or [[science journalism]].\\n\\n===Race and ethnic relations===\\n{{Main|Sociology of race and ethnic relations|Sociology of immigration}}\\nThe sociology of race and of ethnic relations is the area of the discipline that studies the [[Social relation|social]], political, and economic relations between [[Race (classification of human beings)|races]] and [[ethnicities]] at all levels of society. This area encompasses the study of [[racism]], [[residential segregation]], and other complex social processes between different racial and ethnic groups. This research frequently interacts with other areas of sociology such as [[Social stratification|stratification]] and [[Social psychology (sociology)|social psychology]], as well as with [[postcolonial theory]]. At the level of political policy, ethnic relations are discussed in terms of either [[assimilationism]] or [[multiculturalism]].<ref>Louw, Milton. 22 February 2012. \"[http://milton-louw.blogspot.com/2011/03/oldest-coloured-owned-business-in.html Oldest Coloured Owned Business in Namibia].\" {{Blogger|milton-louw|\\'\\'Making A Better World\\'\\'}}.</ref> [[Anti-racism]] forms another style of policy, particularly popular in the 1960s and 1970s.\\n\\n===Religion===\\n{{Main|Sociology of religion}}\\nThe sociology of religion concerns the practices, historical backgrounds, developments, universal themes and roles of religion in society.<ref>Christiano, Kevin J., et al. 2008. \\'\\'Sociology of Religion: Contemporary Developments\\'\\' (2nd ed.). Lanham, MD: [[Rowman & Littlefield]]. {{ISBN|978-0-7425-6111-3}}.</ref> There is particular emphasis on the recurring role of religion in all societies and throughout recorded history. The sociology of religion is distinguished from the [[philosophy of religion]] in that sociologists do not set out to assess the validity of religious truth-claims, instead assuming what [[Peter L. Berger]] has described as a position of \"methodological atheism\".<ref>Berger, Peter L. 1990 [1967].\\'\\'The Sacred Canopy: Elements of a Sociological Theory of Religion.\\'\\' [[Anchor Books]]. {{ISBN|0-385-07305-4}}</ref> It may be said that the modern formal discipline of sociology \\'\\'began\\'\\' with the analysis of religion in Durkheim\\'s 1897 [[suicide (Durkheim book)|study of suicide]] rates among [[Roman Catholic]] and [[Protestant]] populations. Max Weber published four major texts on religion in a context of [[economic sociology]] and [[social stratification]]: \\'\\'[[The Protestant Ethic and the Spirit of Capitalism]]\\'\\' (1905), \\'\\'[[The Religion of China: Confucianism and Taoism]]\\'\\' (1915), \\'\\'[[The Religion of India: The Sociology of Hinduism and Buddhism]]\\'\\' (1915), and \\'\\'[[Ancient Judaism (book)|Ancient Judaism]]\\'\\' (1920). Contemporary debates often centre on topics such as [[secularization]], [[civil religion]], the intersection of religion and economics and the role of religion in a context of [[globalization]] and [[multiculturalism]].\\n\\n===Social change and development===\\n{{Main|Social change| Development studies|Community development|International development}}\\n\\nThe sociology of change and development attempts to understand how societies develop and how they can be changed. This includes studying many different aspects of society, for example demographic trends,<ref>{{cite web|last1=Shackman|first1=Gene|last2=Wang|first2=Xun|last3=Liu|first3=Yalin|title=Brief Review of World Demographic Trends Summary|url=https://papers.ssrn.com/sol3/cf_dev/AbsByAuth.cfm?per_id=1754255|website=SSRN|access-date=13 June 2017}}</ref> political or technological trends,<ref>{{cite web|last1=Silberglitt|first1=Richard|last2=Anton|first2=Philip|last3=Howell|first3=David|title=The Global Technology Revolution 2020, In-Depth Analyses Bio/Nano/Materials/Information Trends, Drivers, Barriers, and Social Implications|url=http://www.rand.org/pubs/technical_reports/TR303.html|publisher=Rand|access-date=13 June 2017}}</ref> or changes in culture. Within this field, sociologists often use [[macrosociology|macrosociological methods]] or [[Comparative historical research|historical-comparative methods]]. In contemporary studies of social change, there are overlaps with [[international development]] or [[community development]]. However, most of the founders of sociology had theories of social change based on their study of history. For instance, [[Marx]] contended that the material circumstances of society ultimately caused the ideal or cultural aspects of society, while [[Max Weber|Weber]] argued that it was in fact the cultural mores of Protestantism that ushered in a transformation of material circumstances. In contrast to both, [[Durkheim]] argued that societies moved from simple to complex through a process of [[sociocultural evolution]]. Sociologists in this field also study processes of globalization and imperialism. Most notably, [[Immanuel Wallerstein]] extends Marx\\'s theoretical frame to include large spans of time and the entire globe in what is known as [[world systems theory]]. Development sociology is also heavily influenced by [[post-colonialism]]. In recent years, [[Raewyn Connell]] issued a critique of the bias in sociological research towards countries in the [[Global North]]. She argues that this bias blinds sociologists to the lived experiences of the [[Global South]], specifically, so-called, \"Northern Theory\" lacks an adequate theory of imperialism and colonialism.\\n\\nThere are many organizations studying social change, including the [[Fernand Braudel Center]] for the Study of Economies, Historical Systems, and Civilizations, and the [[Global Social Change Research Project]].\\n\\n===Social networks===\\n[[File:Harrisonwhite.jpg|thumb|upright=0.7|left|[[Harrison White]]]]\\n{{Main|Social network|Social network analysis|Figurational Sociology|Relational sociology|Sociomapping}}\\nA social network is a [[social structure]] composed of individuals (or organizations) called \"nodes\", which are tied (connected) by one or more specific types of [[interdependency]], such as [[friendship]], [[kinship]], financial exchange, dislike, [[sexual network|sexual relationships]], or relationships of beliefs, knowledge or prestige. Social networks operate on many levels, from families up to the level of nations, and play a critical role in determining the way problems are solved, organizations are run, and the degree to which individuals succeed in achieving their goals. An underlying theoretical assumption of social network analysis is that groups are not necessarily the building blocks of society: the approach is open to studying less-bounded social systems, from non-local [[communities]] to networks of exchange. Drawing theoretically from [[relational sociology]], social network analysis avoids treating individuals (persons, organizations, states) as discrete units of analysis, it focuses instead on how the structure of ties affects and constitutes individuals and their relationships. In contrast to analyses that assume that socialization into norms determines behaviour, network analysis looks to see the extent to which the structure and composition of ties affect norms. On the other hand, recent research by [[Omar Lizardo]] also demonstrates that network ties are shaped and created by previously existing cultural tastes.<ref>{{cite journal|last =Lizardo|first= Omar|title = How cultural tastes shape personal networks|journal = American Sociological Review|volume = 71|issue = 5 |date= October 2006|pages = 778–807|jstor= 25472427|doi= 10.1177/000312240607100504|s2cid= 14492041}}</ref> Social network theory is usually defined in [[Mathematical sociology|formal mathematics]] and may include integration of geographical data into [[Sociomapping]].\\n\\n===Social psychology===\\n{{Main|Social psychology (sociology)|Psychoanalytic sociology}}\\nSociological social psychology focuses on micro-scale [[social actions]]. This area may be described as adhering to \"sociological miniaturism\", examining whole societies through the study of individual thoughts and emotions as well as behaviour of small groups.<ref name=\"Sociological miniaturism: seeing the big through the small in social psychology\"/> One special concern to psychological sociologists is how to explain a variety of demographic, social, and cultural facts in terms of human social interaction. Some of the major topics in this field are social inequality, [[group dynamics]], prejudice, aggression, social perception, group behaviour, social change, non-verbal behaviour, socialization, conformity, leadership, and social identity. Social psychology may be taught with [[Social psychology (psychology)|psychological emphasis]].<ref name=\"about1\"/> In sociology, researchers in this field are the most prominent users of the [[experiment|experimental method]] (however, unlike their psychological counterparts, they also frequently employ other methodologies). Social psychology looks at social influences, as well as social perception and social interaction.<ref name=\"about1\"/>\\n\\n===Stratification, poverty and inequality===\\n{{Main|Social stratification|Social inequality|Social mobility|Social class}}\\nSocial stratification is the hierarchical arrangement of individuals into social classes, [[caste]]s, and divisions within a society.<ref name=\":3\" />{{Rp|225}} Modern [[Western culture|Western societies]] stratification traditionally relates to cultural and economic classes arranged in three main layers: upper class, middle class, and [[Working class|lower class]], but each class may be further subdivided into smaller classes (e.g. [[occupational prestige|occupational]]).<ref name=\"Social Class and Stratification\"/> Social stratification is interpreted in radically different ways within sociology. Proponents of [[structural functionalism]] suggest that, since the stratification of classes and castes is evident in all societies, hierarchy must be beneficial in stabilizing their existence. [[Conflict theory|Conflict theorists]], by contrast, critique the inaccessibility of resources and lack of [[social mobility]] in stratified societies.\\n\\nKarl Marx distinguished social classes by their connection to the [[means of production]] in the capitalist system: the [[bourgeoisie]] own the means, but this effectively includes the [[proletariat]] itself as the workers can only sell their own [[labour power]] (forming the [[base and superstructure|material base of the cultural superstructure]]). Max Weber critiqued Marxist [[economic determinism]], arguing that social stratification is not based purely on economic inequalities, but on other status and power differentials (e.g. [[patriarchy]]). According to Weber, stratification may occur among at least three complex variables:\\n\\n# \\'\\'\\'Property\\'\\'\\' (class): A person\\'s economic position in a society, based on birth and individual achievement.<ref name=\":3\" />{{Rp|243}} Weber differs from Marx in that he does not see this as the supreme factor in stratification. Weber noted how managers of corporations or industries control firms they do not own; Marx would have placed such a person in the proletariat.\\n# \\'\\'\\'Prestige\\'\\'\\' (status): A person\\'s prestige, or popularity in a society. This could be determined by the kind of job this person does or wealth.\\n# \\'\\'\\'Power\\'\\'\\' (political party): A person\\'s ability to get their way despite the resistance of others. For example, individuals in state jobs, such as an employee of the Federal Bureau of Investigation, or a member of the United States Congress, may hold little property or status but they still hold immense power.<ref>{{cite book|last=Stark|first= Rodney|title=Sociology|year=2006|publisher=Wadsworth Publishing|isbn=978-0-495-09344-2}}</ref>\\n\\n[[Pierre Bourdieu]] provides a modern example in the concepts of [[cultural capital|cultural]] and [[symbolic capital]]. Theorists such as [[Ralf Dahrendorf]] have noted the tendency towards an enlarged middle-class in modern Western societies, particularly in relation to the necessity of an educated work force in technological or service-based economies.<ref>Dahrendorf, Ralf. 1959. \\'\\'Class and Class Conflict in Industrial Society\\'\\'. Stanford: [[Stanford University Press]].</ref> Perspectives concerning globalization, such as [[dependency theory]], suggest this effect owes to the shift of workers to the [[Developing country|developing countries]].<ref>Bornschier V. 1996. \\'\\'Western Society in Transition.\\'\\' New Brunswick, NJ: Transaction Publishers.</ref>\\n\\n===Urban and rural sociology===\\n{{Main|Urban sociology|Rural sociology}}\\nUrban sociology involves the analysis of social life and human interaction in metropolitan areas. It is a discipline seeking to provide advice for planning and policy making. After the [[industrial revolution]], works such as [[Georg Simmel]]\\'s \\'\\'[[The Metropolis and Mental Life]]\\'\\' (1903) focused on urbanization and the effect it had on alienation and anonymity. In the 1920s and 1930s The [[Chicago school (sociology)|Chicago School]] produced a major body of theory on the nature of the city, important to both urban sociology and criminology, utilizing [[symbolic interactionism]] as a method of field research. Contemporary research is commonly placed in a context of [[globalization]], for instance, in [[Saskia Sassen]]\\'s study of the \"[[Global city]]\".<ref>{{cite book|last=Sassen|first=Saskia|title=The Global City: New York, London, Tokyo|publisher=Princeton University Press|year=2001|isbn=978-0-691-07063-6|edition=2nd|location=Princeton, NJ|orig-year=1991}}</ref> Rural sociology, by contrast, is the analysis of non-metropolitan areas. As agriculture and wilderness tend to be a more prominent social fact in rural regions, rural sociologists often overlap with environmental sociologists.\\n\\n====Community sociology====\\nOften grouped with urban and rural sociology is that of community sociology or the sociology of community.<ref name=\"asanet5\">{{cite web|url=http://www.asanet.org/sections/CUS.cfm|title=Section on Community and Urban Sociology|last=ASA|website=American Sociological Association|url-status=dead|archive-url=https://web.archive.org/web/20150315020313/http://asanet.org/sections/CUS.cfm|archive-date=15 March 2015|access-date=4 April 2015}}</ref> Taking various communities—including online communities—as the unit of analysis, community sociologists study the origin and effects of different associations of people. For instance, German sociologist [[Ferdinand Tönnies]] distinguished between two types of human association: \\'\\'[[gemeinschaft]]\\'\\' (usually translated as \"community\") and \\'\\'[[gesellschaft]]\\'\\' (\"society\" or \"association\"). In his 1887 work, \\'\\'Gemeinschaft und Gesellschaft\\'\\', Tönnies argued that \\'\\'Gemeinschaft\\'\\' is perceived to be a tighter and more cohesive social entity, due to the presence of a \"unity of will\".<ref>[[Ferdinand Tönnies|Tönnies, Ferdinand]]. 1887. \\'\\'Gemeinschaft und Gesellschaft.\\'\\' p. 22.</ref> The \\'development\\' or \\'health\\' of a community is also a central concern of community sociologists also engage in development sociology, exemplified by the literature surrounding the concept of [[social capital]].\\n\\n==Other academic disciplines==\\nSociology overlaps with a variety of disciplines that study society, in particular [[anthropology]], [[political science]], [[economics]], [[social work]] and [[social philosophy]]. Many comparatively new fields such as [[communication studies]], [[cultural studies]], [[demography]] and [[literary theory]], draw upon methods that originated in sociology. The terms \"[[social science]]\" and \"[[social research]]\" have both gained a degree of autonomy since their origination in classical sociology. The distinct field of [[social anthropology]] or anthroposociology is the dominant constituent of anthropology throughout the [[United Kingdom]] and Commonwealth and much of Europe ([[France]] in particular),<ref>Dianteill, Erwan. 2012. \"[https://www.cairn-int.info/abstract-E_ANSO_121_0093--cultural-anthropology-or-social-anthropo.htm#anchor_cite Cultural Anthropology or Social Anthropology? A Transatlantic Dispute].\" \\'\\'[[L\\'Année Sociologique|L’Année sociologique]]\\'\\' 62(2012/1):93-122.</ref> where it is distinguished from [[cultural anthropology]].<ref>QAA. 2007. \\'\\'[https://web.archive.org/web/20130921091757/http://www.qaa.ac.uk/Publications/InformationAndGuidance/Documents/Anthropology07.pdf Anthropology]\\'\\'. Mansfield, UK: [[Quality Assurance Agency for Higher Education]]. Archived from the [http://www.qaa.ac.uk/Publications/InformationAndGuidance/Documents/Anthropology07.pdf original] 21 September 2013. {{ISBN|978-1-84482-778-7}}.</ref> In the United States, social anthropology is commonly subsumed within cultural anthropology (or under the relatively new designation of [[sociocultural anthropology]]).{{citation needed|date=October 2016}}\\n\\nSociology and [[applied sociology]] are connected to the professional and academic discipline of [[social work]].<ref name=\"Web page\"/> Both disciplines study social interactions, community and the effect of various systems (i.e. family, school, community, laws, political sphere) on the individual.<ref name=\"Generalist Practice with Organisations and Communities\"/> However, social work is generally more focused on practical strategies to alleviate social dysfunctions; sociology in general provides a thorough examination of the root causes of these problems.<ref name=\"Direct Social Work Practice\"/> For example, a sociologist might study \\'\\'why\\'\\' a community is plagued with poverty. The [[applied sociology|applied sociologist]] would be more focused on practical strategies on \\'\\'what\\'\\' needs to be done to alleviate this burden. The social worker would be focused on \\'\\'action\\'\\'; implementing theses strategies [[clinical social work|\"directly\"]] or [[Community practice|\"indirectly\"]] by means of [[mental health|mental health therapy]], [[counseling|counselling]], [[advocacy]], [[community organization]] or [[community mobilization]].<ref name=\"Generalist Practice with Organisations and Communities\"/>\\n\\n[[Social anthropology]] is the branch of [[anthropology]] that studies how contemporary living human beings behave in [[social group]]s. Practitioners of social anthropology, like sociologists, investigate various facets of [[social organization]]. Traditionally, social anthropologists analysed non-industrial and non-Western societies, whereas sociologists focused on industrialized societies in the Western world. In recent years, however, social anthropology has expanded its focus to modern Western societies, meaning that the two disciplines increasingly converge.<ref name=\"James Trostle\"/><ref name=\"Web page\" />\\n\\n[[Sociocultural anthropology]], which include [[linguistic anthropology]], is concerned with the problem of difference and similarity within and between human populations. The discipline arose concomitantly with the expansion of European colonial empires, and its practices and theories have been questioned and reformulated along with processes of decolonization. Such issues have re-emerged as transnational processes have challenged the centrality of the [[Nation state|nation-state]] to theorizations about culture and [[Power (social and political)|power]]. New challenges have emerged as public debates about [[multiculturalism]], and the increasing use of the culture concept outside of the academy and among peoples studied by anthropology. These times are not \"business-as-usual\" in the academy, in anthropology, or in the world, if ever there were such times.\\n\\n[[Irving Louis Horowitz]], in his \\'\\'The Decomposition of Sociology\\'\\' (1994), has argued that the discipline, while arriving from a \"distinguished lineage and tradition\", is in decline due to deeply ideological theory and a lack of relevance to policy making: \"The decomposition of sociology began when this great tradition became subject to ideological thinking, and an inferior tradition surfaced in the wake of totalitarian triumphs.\"<ref name=\"autogenerated1994\"/> Furthermore: \"A problem yet unmentioned is that sociology\\'s malaise has left all the social sciences vulnerable to pure positivism—to an empiricism lacking any theoretical basis. Talented individuals who might, in an earlier time, have gone into sociology are seeking intellectual stimulation in business, law, the natural sciences, and even creative writing; this drains sociology of much needed potential.\"<ref name=\"autogenerated1994\"/> Horowitz cites the lack of a \\'core discipline\\' as exacerbating the problem. [[Randall Collins]], the [[Dorothy Swaine Thomas]] Professor in Sociology at the [[University of Pennsylvania]] and a member of the Advisory Editors Council of the [[Social Evolution & History]] journal, has voiced similar sentiments: \"we have lost all coherence as a discipline, we are breaking up into a conglomerate of specialities, each going on its own way and with none too high regard for each other.\"<ref>Collins, Randall as cited in Horowitz, Irving. 1994. \\'\\'The Decomposition of Sociology.\\'\\' Oxford University Press. pp. 3–9.</ref>\\n\\nIn 2007, \\'\\'[[Times Higher Education|The Times Higher Education Guide]]\\'\\' published a list of \\'The most cited authors of books in the Humanities\\' (including philosophy and psychology). Seven of the top ten are listed as sociologists: [[Michel Foucault]] (1), [[Pierre Bourdieu]] (2), [[Anthony Giddens]] (5), [[Erving Goffman]] (6), [[Jürgen Habermas]] (7), [[Max Weber]] (8), and [[Bruno Latour]] (10).<ref name=\"The most cited authors of books in the humanities\"/>\\n\\n== Journals ==\\n{{Main list|List of sociology journals}}\\n\\nThe most highly ranked general journals which publish original research in the field of sociology are the \\'\\'[[American Journal of Sociology]]\\'\\' and the \\'\\'[[American Sociological Review]]\\'\\'.<ref name=\"WoS\" /> The \\'\\'[[Annual Review of Sociology]]\\'\\', which publishes original review essays, is also highly ranked.<ref name=\"WoS\">{{cite web |year=2011 |title = 2011 Journal Citation Reports |publisher=[[Thomson Reuters]] |edition=Social Sciences |website = Web of Science |url=<!--missing--> }}</ref> Many other generalist and specialized journals exist.\\n\\n==See also==\\n{{Portal|Society}}\\n* [[Bibliography of sociology]]\\n* [[Engaged theory]]\\n* [[History of the social sciences]]\\n* [[Outline of sociology]]\\n\\n== Notes ==\\n{{NoteFoot}}\\n\\n== References ==\\n=== Citations ===\\n{{Reflist\\n|refs =\\n<ref name = \"Jost\">{{cite journal | doi = 10.1037/0022-3514.88.3.498 | last1 = Jost | first1 = JT | last2 = Kay | first2 = AC | year = 2005 | title = Exposure to benevolent sexism and complementary gender stereotypes: Consequences for specific and diffuse forms of system justification | url = http://www.willettsurvey.org/TMSTN/Gender/ComplementaryGenderSterotypes.pdf | journal = Journal of Personality and Social Psychology | volume = 88 | issue = 3 | pages = 498–509 | pmid = 15740442 | citeseerx = 10.1.1.333.6801 | access-date = 8 September 2010 | archive-url = https://web.archive.org/web/20130904015351/http://www.willettsurvey.org/TMSTN/Gender/ComplementaryGenderSterotypes.pdf | archive-date = 4 September 2013 | url-status=dead | df = dmy-all }}</ref>\\n<ref name=\"Akhtar\">{{cite journal | last1 = Dr | last2 = Akhtar | first2 = S.W. | year = 1997 | title = The Islamic Concept of Knowledge | journal = Al-Tawhid: A Quarterly Journal of Islamic Thought & Culture | volume = 12 | page = 3 }}</ref>\\n\\n<ref name=\"Artificial Societies\">{{cite book |last1=Epstein |first1=JM |last2=Axell |first2=R |year=1996 |title=Growing Artificial Societies: Social Science from the Bottom Up |location=Washington, DC |publisher=Brookings Institution Press |isbn=978-0-262-05053-1}}</ref>\\n\\n<ref name=\"Barnes\">Barnes, B. 1995. \\'\\'The Elements of Social Theory.\\'\\' London: UCL Press. Quoted in Jay J. Coakley, Eric Dunning, \\'\\'Handbook of sports studies\\'\\'</ref>\\n\\n<ref name=\"Bendix1\">{{cite book |last=Bendix |first=Reinhard |author-link=Reinhard Bendix |title = Max Weber: An Intellectual Portrait |url = https://books.google.com/books?id=63sC9uaYqQsC&pg=PA1 |year = 1977 |publisher = University of California Press |isbn=978-0-520-03194-4 }}</ref>\\n\\n<ref name=\"Boudon\">{{cite journal | last = Boudon | first = Raymond | year = 1991 | title = Review: What Middle-Range Theories are | journal = Contemporary Sociology | volume = 20 | issue = 4 | pages = 519–22 | doi = 10.2307/2071781 | jstor = 2071781 }}</ref>\\n\\n<ref name=\"British Journal of Sociology Website\">{{cite web |url = http://www.lse.ac.uk/serials/Bjs/ |title = British Journal of Sociology Website |website = Lse.ac.uk |date=2 April 2009 |access-date=20 April 2009 |url-status=dead |archive-url = https://web.archive.org/web/20071023090913/http://www.lse.ac.uk/serials/Bjs/ |archive-date=23 October 2007 }}</ref>\\n\\n<ref name=\"British Sociological Association: Medical Sociology\">{{cite web |url = http://www.britsoc.co.uk/medsoc/MedSoc+History.htm |archive-url = https://web.archive.org/web/20080617194317/http://www.britsoc.co.uk/medsoc/MedSoc%2BHistory.htm |url-status=dead |archive-date=17 June 2008 |title = British Sociological Association: Medical Sociology |publisher=BSA |access-date=23 October 2009 }}</ref>\\n\\n<ref name=\"Coakley\">{{cite book |first1=Jay J. |last1 = Coakley |first2 = Eric |last2= Dunning |title = Handbook of Sports Studies |publisher = SAGE |year = 2000 |isbn = 978-1-4462-6505-5 }}</ref>\\n\\n<ref name=\"Computational Social Science\">{{cite journal |title=Computational Social Science |journal=Science |date=6 February 2009 |volume=323 |issue=5915 |pages=721–23 |doi=10.1126/science.1167742 |first1=David |last1=Lazer |first2=Alex |last2=Pentland |pmid=19197046 |last3=Adamic |first3=L |last4=Aral |first4=S |last5=Barabasi |first5=AL |last6=Brewer |first6=D |last7=Christakis |first7=N |last8=Contractor |first8=N |last9=Fowler |first9=J |last10=Gutmann |first10=M. |last11=Jebara |first11=T. |last12=King |first12=G. |last13=Macy |first13=M. |last14=Roy |first14=D. |last15=Van Alstyne |first15=M. |pmc=2745217 |display-authors=8 }}</ref>\\n\\n<ref name=\"Cooperation\">{{cite book |last = Axelrod |first = Robert |year=1997 |title=The Complexity of Cooperation: Agent-Based Models of Competition and Collaboration |location=Princeton, NJ |publisher=Princeton University Press |isbn=978-0-691-01568-2 }}</ref>\\n\\n<ref name=\"Core Issues and Theory in Military Sociology\">{{cite web |url = http://findarticles.com/p/articles/mi_qa3719/is_200107/ai_n8977420 |archive-url = https://web.archive.org/web/20050531202538/http://www.findarticles.com/p/articles/mi_qa3719/is_200107/ai_n8977420 |url-status=dead |archive-date=31 May 2005 |title=Core Issues and Theory in Military Sociology |access-date=14 July 2008 |publisher=Journal of Political and Military Sociology |last = Siebold |first = Guy |year= 2001 }}</ref>\\n\\n<ref name=\"Dictionary\">Gordon Marshall (ed) \\'\\'A Dictionary of Sociology\\'\\' (Article: Sociology of Education), Oxford University Press, 1998</ref>\\n\\n<ref name=\"DinW\">Durkheim, Émile. 1895. \\'\\'The Rules of the Sociological Method\\'\\'. Cited in Wacquant (1992).</ref>\\n\\n<ref name=\"Direct Social Work Practice\">{{cite book |authors = Hepworth, D.H, Rooney, R.H., Rooney, G.D, Strom-Gottfried, K., Larsen, J.A. |title=Direct Social Work Practice |year=2006 |publisher=Thomson Brooks/Cole |location=Belmont, CA |isbn=978-0-534-64458-1|chapter=1 |chapter-url = https://archive.org/details/directsocialwork00dean }}</ref>\\n\\n<ref name=\"Enan\">{{cite book|title=Ibn Khaldun: His Life and Works|first=Muhammed Abdullah|last=Enan|publisher=[[The Other Press]]|year=2007|isbn=978-983-9541-53-3|page=v}}</ref>\\n\\n<ref name=\"Gartell\">{{cite journal | last1 = Gartell | first1 = C. David | last2 = Gartell | first2 = John | year = 1996 | title = Positivism in sociological practice: 1967–1990 | journal = Canadian Review of Sociology | volume = 33 | issue =2 | page = 2|doi=10.1111/j.1755-618X.1996.tb00192.x }}</ref>\\n\\n<ref name=\"Gates\">{{cite journal|doi=10.2307/2708627|title=The Spread of Ibn Khaldun\\'s Ideas on Climate and Culture|author=Warren E. Gates|journal=[[Journal of the History of Ideas]]|volume=28|issue=3|date=July–September 1967|pages=415–22 [415]|jstor=2708627}}</ref>\\n\\n<ref name=\"Generalist Practice with Organisations and Communities\">{{cite book |last1=Kirst-Ashman |first1=K.K. |last2=Hull |first2=G H. |title=Generalist Practice with Organisations and Communities|year=2009|publisher=Brooks/Cole Cengage Learning|location=Belmont, CA|isbn=978-0-495-50715-4|edition=4th}}</ref>\\n\\n<ref name=\"Generative\">{{Cite book |last=Epstein |first=Joshua |year=2007 |title=Generative Social Science: Studies in Agent-Based Computational Modeling |location=Princeton, NJ|publisher=Princeton University Press|isbn=978-0-691-12547-3}}</ref>\\n\\n<ref name=\"Giddens Intro\">Giddens, Anthony, Duneier, Mitchell, Applebaum, Richard. 2007. \\'\\'Introduction to Sociology. Sixth Edition.\\'\\' New York: W.W. Norton and Company. Chapter 1.</ref>\\n\\n<ref name=\"Halfpenny\">Halfpenny, Peter. \\'\\'Positivism and Sociology: Explaining Social Science.\\'\\' London:Allen and Unwin, 1982.</ref>\\n\\n<ref name=\"Hanson\">{{cite journal | doi = 10.1007/s11135-006-9041-7 | last1 = Hanson | first1 = Barbara | year = 2008 | title = Whither Qualitative/Quantitative?: Grounds for Methodological Convergence | journal = Quality and Quantity | volume = 42 | pages = 97–111 | s2cid = 144513805 }}</ref>\\n\\n<ref name=\"Hanushek\">[http://newyorkfed.org/research/epr/98v04n1/9803hanu.pdf Hanushek, Eric A. (1998) \"Conclusions and Controversies about the Effectiveness of School Resources\" \\'\\'Economic Policy Review\\'\\' Federal Reserve Bank of New York, 4(1): pp. 11–27], accessed 30 December 2008.</ref>\\n\\n<ref name=\"Hunter\">{{cite journal | doi = 10.1007/s12108-008-9042-1 | last1 = Hunter | first1 = Laura | last2 = Leahey | first2 = Erin | year = 2008 | title = Collaborative Research in Sociology: Trends and Contributing Factors | journal = American Sociologist | volume = 39 | issue = 4| pages = 290–306 | s2cid = 145390103 }}</ref>\\n\\n<ref name=\"James Trostle\">{{Cite book|url=https://books.google.com/books?id=ggn-VgZceYAC&q=Will%20Anthropology%20be%20absorbed%20by%20Sociology%3F&pg=PA82 |title=James Trostle |access-date=8 September 2009|publisher=Springer|author1=Janes, Craig Robert|author2=Stall, Ron|author3=Gifford, Sandra M|year=1986|isbn=978-90-277-2248-5}}</ref>\\n\\n<ref name=\"MW\">{{cite journal |doi=10.1146/annurev.soc.28.110601.141117 |title=From Factors to Actors: Computational Sociology and Agent-Based Modeling |first1=Michael W. |last1=Macy |first2=Robert |last2=Willer |journal=Annual Review of Sociology |volume=28 |pages=143–66|year=2002 |jstor=3069238 }}</ref>\\n\\n<ref name=\"Max Weber&nbsp;– Stanford Encyclopaedia of Philosophy\">{{cite web |url = http://plato.stanford.edu/entries/weber/ |title = Max Weber&nbsp;– Stanford Encyclopaedia of Philosophy |website=Plato.stanford.edu |date=24 August 2007 |access-date=5 January 2010 }}</ref>\\n\\n<ref name=\"Methodological Implications of Complex Systems Approaches to Sociality: Simulation as a Foundation for Knowledge\">{{cite journal |last=Goldspink |first=C. |year=2002 |title=Methodological Implications of Complex Systems Approaches to Sociality: Simulation as a Foundation for Knowledge |url = http://jasss.soc.surrey.ac.uk/5/1/3.html |publisher=Journal of Artificial Societies and Social Simulation |volume=5 |issue=1 }}</ref>\\n\\n<ref name=\"Methods\">Haralambos & Holborn. \\'\\'Sociology: Themes and perspectives\\'\\' (2004) 6th ed, Collins Educational. {{ISBN|978-0-00-715447-0}}. Chapter 14: Methods</ref>\\n\\n<ref name=\"Mowlana\">H. Mowlana (2001). \"Information in the Arab World\", \\'\\'Cooperation South Journal\\'\\' \\'\\'\\'1\\'\\'\\'.</ref>\\n\\n<ref name=\"Psychology from Islamic Perspective: Contributions of Early Muslim Scholars and Challenges to Contemporary Muslim Psychologists\">{{cite journal | doi = 10.1007/s10943-004-4302-z | last1 = Haque | first1 = Amber | year = 2004 | title = Psychology from Islamic Perspective: Contributions of Early Muslim Scholars and Challenges to Contemporary Muslim Psychologists | journal = Journal of Religion and Health | volume = 43 | issue = 4 | pages = 357–77 [375] | s2cid = 38740431 }}</ref>\\n\\n<ref name=\"Robert K. Merton Remembered\">{{cite web |url = http://www.asanet.org/footnotes/mar03/indextwo.html |title=Robert K. Merton Remembered |access-date=2 December 2009 }}</ref>\\n\\n<ref name=\"SfSS1\">{{Cite book |last1=Gilbert |first1=Nigel |last2=Troitzsch |first2=Klaus |year=2005 |title=Simulation for Social Scientists |edition=2nd |chapter=Simulation and social science |publisher=Open University Press |chapter-url = http://cress.soc.surrey.ac.uk/s4ss/}}</ref>\\n\\n<ref name=\"Slattery\">Slattery, Martin. 1993. \\'\\'Key Ideas in Sociology\\'\\'. Cheltenham: Nelson Thornes, Ltd.</ref>\\n\\n<ref name=\"Social Class and Stratification\">{{cite book | last=Saunders | first=Peter | author-link = Peter Robert Saunders | year=1990 | title=Social Class and Stratification | publisher=Routledge | url = https://books.google.com/books?id=FK-004p0J_EC | isbn=978-0-415-04125-6 }}</ref>\\n\\n<ref name=\"Sociological miniaturism: seeing the big through the small in social psychology\">{{cite journal |title = Sociological miniaturism: seeing the big through the small in social psychology |author1=Stolte, John F |author2=Fine, Gary Alan |author3=Cook, Karen S. |journal=Annual Review of Sociology |volume= 27 |pages=387–413 |year= 2001 |doi=10.1146/annurev.soc.27.1.387 }}</ref>\\n\\n<ref name=\"Sociology beyond societies: mobilities for the twenty-first century\">{{cite book |last=Urry |first=John |chapter-url = https://books.google.com/books?id=ogyDBobOHVEC&pg=PA23 |title=Sociology beyond societies: mobilities for the twenty-first century |chapter=Metaphors |publisher=Routledge |year=2000 |page=23 |isbn=978-0-415-19089-3 }}</ref>\\n\\n<ref name=\"The Autonomous, the Universal and the Future of Sociology\">{{cite journal |last=Alatas |first = S. H. |title = The Autonomous, the Universal and the Future of Sociology |journal=Current Sociology |year=2006 |volume=54 |pages=7–23 [15] |doi=10.1177/0011392106058831 |s2cid = 144226604 |url=http://eprints.usm.my/8250/1/The_Autonomous_The_Universal_and_The_Future_Of_Sociology.pdf }}</ref>\\n\\n<ref name=\"The Computer as Laboratory: Toward a Theory of Complex Adaptive Systems\">{{cite journal |last=Casti |first=J. |year=1999 |title=The Computer as Laboratory: Toward a Theory of Complex Adaptive Systems |journal=Complexity |volume=4 |issue=5 |pages=12–14 |doi=10.1002/(SICI)1099-0526(199905/06)4:5<12::AID-CPLX3>3.0.CO;2-4 }}</ref>\\n\\n<ref name=\"The Constitution of Society\">{{cite book |author=Giddens, A. |title=The Constitution of Society |publisher=University of California Press |location=California |year=1996 |pages=14–19|isbn= 978-0-520-05728-9 }}</ref>\\n\\n<ref name=\"The most cited authors of books in the humanities\">{{cite web |url = http://www.timeshighereducation.co.uk/story.asp?storyCode=405956&sectioncode=26 |title=The most cited authors of books in the humanities |website = timeshighereducation.co.uk |date=26 March 2009 |access-date=16 November 2009 }}</ref>\\n\\n<ref name=\"University of Kansas Sociology Department Webpage\">{{cite web |url = http://www.ku.edu/%7Esocdept/about/ |title=University of Kansas Sociology Department Webpage |website=Ku.edu |access-date=20 April 2009 |url-status=dead |archive-url = https://web.archive.org/web/20060627062640/http://www.ku.edu/~socdept/about/ |archive-date=27 June 2006 }}</ref>\\n\\n<ref name=\"Wacquant\">Wacquant, Loic. 1992. \"Positivism.\" In Bottomore, Tom and William Outhwaite, ed., \\'\\'The Blackwell Dictionary of Twentieth-Century Social Thought\\'\\'</ref>\\n\\n<ref name=\"Web page\">{{cite web|url=http://nos.org/331courseE/L-3%20SOCIOLOGY%20ITS%20RELATIONSHIP%20WITH%20OTHER%20SOCIAL%20SCIEN.pdf |title = Sociology and Its Relationships to Other Social Sciences |publisher=National Organisation of Sociology |url-status=dead |archive-url = https://web.archive.org/web/20110626125649/http://nos.org/331courseE/L-3%20SOCIOLOGY%20ITS%20RELATIONSHIP%20WITH%20OTHER%20SOCIAL%20SCIEN.pdf |archive-date=26 June 2011 }}</ref>\\n\\n<ref name=\"Western\">Western, Bruce. 2006. \\'\\'Punishment and Inequality in America.\\'\\' New York: Russel Sage.</ref>\\n\\n<ref name=\"about1\">{{cite web|url=http://psychology.about.com/od/socialpsychology/f/socialpsych.htm |title=What Is Social Psychology&nbsp;– An Introduction to Social Psychology |publisher=Psychology.about.com |access-date=1 June 2010}}</ref>\\n\\n<ref name=\"autogenerated1971\">Levine, Donald (ed) \\'Simmel: On individuality and social forms\\' Chicago University Press, 1971. pxix.</ref>\\n\\n<ref name=\"autogenerated1994\">Horowitz, Irving (1994) \\'\\'The Decomposition of Sociology\\'\\' Oxford University Press. pp. 3–9</ref><ref name=Poggi>Gianfranco Poggi (2000). \\'\\'Durkheim.\\'\\' Oxford: Oxford University Press.</ref>\\n\\n<ref name=\"autogenerated2005\">Fish, Jonathan S. 2005. \\'Defending the Durkheimian Tradition. Religion, Emotion and Morality\\' Aldershot: Ashgate Publishing.</ref>\\n\\n<ref name=Commanger>{{cite book|url= https://books.google.com/books?id=De5sdTFRt5YC&q=commager+the+american+mind&pg=PA199|title= The American mind: an interpretation of American thought and character since 1880s|isbn= 978-0-300-00046-7 |last=Commager |first=Henry Steele |date= 1959}}</ref>\\n\\n<ref name=\"britannica\">\"[http://www.britannica.com/EBchecked/topic/217277/Frankfurt-School Frankfurt School]\". (2009). from [[Encyclopædia Britannica Online]]. Retrieved 12 September 2009.</ref>\\n\\n<ref name=\"camic\">{{cite journal | last1 = Camic | first1 = Charles | year = 1992 | title = Reputation and Predecessor Selection: Parsons and the Institutionalists | journal = American Sociological Review | volume = 57 | issue = 4| pages = 421–45 | doi = 10.2307/2096093 | jstor = 2096093 }}</ref>\\n\\n<ref name=\"comte\">\\'\\'Dictionary of the Social Sciences\\'\\', Article: Comte, Auguste</ref>\\n\\n<ref name=\"gm\">{{cite journal|jstor=2095839|title=Is There An Association between Gender and Methods in Sociological Research?|first1=Linda|last1=Grant|first2=Kathryn B.|last2=Ward|first3=Xue Lan|last3=Rong|date=1 January 1987|journal=American Sociological Review|volume=52|issue=6|pages=856–62|doi=10.2307/2095839}}</ref>\\n\\n<ref name=\"princeton1\">{{cite web|url=http://press.princeton.edu/chapters/s7525.html |title=Principles of Economic Sociology by Richard Swedberg&nbsp;– An extract |access-date=2 December 2009}}</ref>\\n\\n<ref name=\"socofsci-bendavid\">{{Cite journal |title = Sociology of Science |first = Joseph |last = Ben-David |author2 = Teresa A. Sullivan |journal = Annual Review of Sociology |volume = 1 |year = 1975 |pages = 203–22 |url = http://www.compilerpress.atfreeweb.com/Anno%20Ben%20David%20&%20Sullivan%20Sociology%20of%20Science%20ARS%201975.htm |archive-url = https://web.archive.org/web/20030826062031/http://www.compilerpress.atfreeweb.com/Anno%20Ben%20David%20%26%20Sullivan%20Sociology%20of%20Science%20ARS%201975.htm |url-status=dead |archive-date = 26 August 2003 |access-date = 29 November 2006 |doi = 10.1146/annurev.so.01.080175.001223 |df = dmy-all }}</ref>\\n\\n<ref name=\"transformation325\">Harriss, John. \\'\\'The Second Great Transformation? Capitalism at the End of the Twentieth Century\\'\\' in Allen, T. and Thomas, Alan (eds) \\'\\'Poverty and Development in the 21st Century\\', Oxford University Press, Oxford. p. 325.</ref>\\n\\n<ref name=\"uchicago1970\">{{cite web|url=http://www.journals.uchicago.edu/AJS/home.html |title=American Journal of Sociology Website |publisher=Journals.uchicago.edu |date=1 January 1970 |access-date=20 April 2009}}</ref>\\n\\n<ref name=\"Émile Durkheim\\'s Division of Labor and the Shadow of Herbert Spencer\">{{cite journal | doi = 10.1111/j.1533-8525.1995.tb00465.x | last1 = Perrin | first1 = Robert G. | year = 1995| title = Émile Durkheim\\'s Division of Labor and the Shadow of Herbert Spencer | journal = Sociological Quarterly | volume = 36 | issue = 4 | pages = 791–808 }}</ref>\\n}}\\n\\n=== Sources ===\\n{{refbegin}}\\n* Aby, Stephen H. 2005. \\'\\'Sociology: A Guide to Reference and Information Sources\\'\\' (3rd ed.). Littleton, CO: Libraries Unlimited Inc. {{ISBN|1-56308-947-5|}} {{OCLC|57475961}}\\n* [[Earl Babbie|Babbie, Earl R.]]. 2003. \\'\\'The Practice of Social Research\\'\\' (10th ed.). Wadsworth: [[Thomson Learning]]. {{ISBN|0-534-62029-9|}} {{OCLC|51917727}}\\n* [[Randall Collins|Collins, Randall]]. 1994. \\'\\'Four Sociological Traditions.\\'\\' Oxford: [[Oxford University Press]].{{ISBN|0-19-508208-7|}} {{OCLC|28411490}}\\n* [[Lewis A. Coser|Coser, Lewis A.]]. 1971. \\'\\'Masters of Sociological Thought: Ideas in Historical and Social Context\\'\\'. New York: Harcourt Brace Jovanovich. {{ISBN|0-15-555128-0|}}.\\n* [[Anthony Giddens|Giddens, Anthony]]. 2006. \\'\\'Sociology\\'\\' (5th ed.). Cambridge: Polity Press. {{ISBN|0-7456-3378-1|}} {{OCLC|63186308}}\\n* {{Cite book|year=1989|author=Landis, Judson R|title=Sociology: Concepts and Characteristics|place=Belmont, California|edition=7th|publisher=Wadsworth|isbn=978-0-534-10158-9|url=https://archive.org/details/sociologyconcept00land_0}}\\n* [[Seymour Martin Lipset|Lipset, Seymour Martin]] and [[Everett Carll Ladd]]. \"The Politics of American Sociologists,\" \\'\\'American Journal of Sociology\\'\\' (1972) 78#1 pp.&nbsp;67–104 {{jstor|2776571}}\\n* {{Cite book|year=1991|author=Macionis, John J|title=Sociology|edition=3rd|place=Englewood Cliffs, NJ|publisher=Prentice Hall|isbn=978-0-13-820358-0}}\\n* [[Robert K. Merton|Merton, Robert K.]]. 1959. \\'\\'Social Theory and Social Structure. Toward the codification of theory and research\\'\\' (revised & enlarged ed.). Glencoe, IL.{{OCLC|4536864}}\\n* Mills, C. Wright. 1959. \\'\\'[https://www.google.com/books/edition/The_Sociological_Imagination/UTQ6OkKwszoC?hl=en&gbpv=0 The Sociological Imagination]\\'\\'{{OCLC|165883}}\\n* \\'\\'[https://web.archive.org/web/20080527231135/http://ddl.uwinnipeg.ca/res_des/files/readings/cwmills-intel_craft.pdf C. Wright Mills, Intellectual Craftsmanship Advices how to Work for young Sociologist]\\'\\'\\n* {{Cite book|last=Mitchell|first=Geoffrey Duncan|title=A Hundred Years of Sociology: A Concise History of the Major Figures, Ideas, and Schools of Sociological Thought|year=2007|orig-year=1968|publisher=Transaction Publishers|location=New Brunswick, NJ|isbn=978-0-202-36168-0|oclc=145146341}}\\n* [[Robert A. Nisbet|Nisbet, Robert A.]] 1967. \\'\\'The Sociological Tradition\\'\\', London, Heinemann Educational Books. {{ISBN|1-56000-667-6|}} {{OCLC|26934810}}\\n* [[George Ritzer|Ritzer, George]], and Douglas J. Goodman. 2004. \\'\\'Sociological Theory\\'\\' (6th ed.). [[McGraw-Hill]]. {{ISBN|0-07-281718-6|}} {{OCLC|52240022}}\\n* Scott, John, and Gordon Marshall, eds. 2005. \\'\\'A Dictionary of Sociology\\'\\' (3rd ed.). Oxford University Press. {{ISBN|0-19-860986-8|}}, {{OCLC|60370982}}\\n* {{Cite book|last=Tausch|first=Arno|author-link=Arno Tausch|title=The political algebra of global value change. General models and implications for the Muslim world. With Almas Heshmati and Hichem Karoui|publisher=Nova Science Publishers, New York|year=2015|edition=1st|isbn=978-1-62948-899-8}}\\n* Wallace, Ruth A., and Alison Wolf. 1995. \\'\\'Contemporary Sociological Theory: Continuing the Classical Tradition\\'\\' (4th ed.). Prentice-Hall. {{ISBN|0-13-036245-X|}} {{OCLC|31604842}}\\n* [[Harrison White|White, Harrison C.]]. 2008. \\'\\'Identity and Control. How Social Formations Emerge\\'\\' (2nd ed.). Princeton: [[Princeton University Press]]. {{ISBN|978-0-691-13714-8|}} {{OCLC|174138884}}\\n* Willis, Evan. 1996. \\'\\'The Sociological Quest: An introduction to the study of social life\\'\\'. [[New Brunswick, New Jersey|New Brunswick]], NJ: [[Rutgers University Press]]. {{ISBN|0-8135-2367-2|}} {{OCLC|34633406}}\\n{{refend}}\\n\\n==External links==\\n{{Wikiversity school}}\\n{{wikiversity|Introduction to sociology}}\\n{{Commons category}}\\n* [http://www.asanet.org/ American Sociological Association (ASA)]\\n* [http://www.tasa.org.au/ Australian Sociological Association (TASA)]\\n* [http://www.bangladeshsociology.org/ Bangladesh Sociological Society (BSS)]\\n* [http://www.britsoc.co.uk/ British Sociological Association (BSA)]\\n* [https://web.archive.org/web/20070203144815/http://www.csaa.ca/ Canadian Sociological Association (CSA)]\\n* [http://www.acsalf.ca/ Canadian Association of French-speaking Sociologists and Anthropologists]\\n* [http://www.europeansociology.org/ European Sociological Association (ESA)]\\n* [https://afs-socio.fr/ French Sociological Association]\\n* [http://www.soziologie.de/ German Sociological Association (DGS)]\\n* [http://www.insoso.org/ Indian Sociological Society (ISS)]\\n* [http://www.iisoc.org/ International Institute of Sociology (IIS)]\\n* [http://www.isa-sociology.org/ International Sociological Association (ISA)]\\n* [https://web.archive.org/web/20100107083812/http://www.alas.fsoc.uba.ar/index.html Latin American Sociological Association (ALAS)]\\n* [http://www.aps.pt/ Portuguese Sociological Association (APS)]\\n* [http://www.sociology.ie/ Sociological Association of Ireland (SAI)]\\n* [https://ooir.org/index.php?category=sociology Observatory of International Research (OOIR): Latest Papers and Trends in Sociology]\\n* [https://www.lib.uchicago.edu/e/scrc/findingaids/view.php?eadid=ICU.SPCL.SOCIOLOGYINTERVIEWS Guide to the University of Chicago Department of Sociology Interviews 1972] at the [https://www.lib.uchicago.edu/scrc/ University of Chicago Special Collections Research Center]\\n* [https://www.lib.uchicago.edu/e/scrc/findingaids/view.php?eadid=ICU.SPCL.SOCIOLOGYDEPT Guide to the University of Chicago Department of Sociology Records 1924-2001] at the [https://www.lib.uchicago.edu/scrc/ University of Chicago Special Collections Research Center]\\n{{Sociology2}}\\n{{Social sciences}}\\n{{Positivism}}\\n{{Good article}}\\n\\n{{Authority control}}\\n\\n[[Category:Sociology| ]]'}}}]}]}}"
      ]
     },
     "execution_count": 13,
     "metadata": {},
     "output_type": "execute_result"
    }
   ],
   "source": [
    "res = requests.get(\"https://en.wikipedia.org/w/api.php?\"\n",
    "    \"action=query\"\n",
    "    \"&prop=revisions\"\n",
    "    \"&titles=Sociology\"\n",
    "    \"&rvprop=content\"\n",
    "    \"&rvslots=main&formatversion=2\"\n",
    "    \"&format=json\")\n",
    "res.json()"
   ]
  },
  {
   "cell_type": "markdown",
   "metadata": {},
   "source": [
    "Ofen in practice you will not manipulate Web api directly, you will find packages that simplify that for you.\n",
    "\n",
    "For example"
   ]
  },
  {
   "cell_type": "code",
   "execution_count": 14,
   "metadata": {},
   "outputs": [
    {
     "name": "stdout",
     "output_type": "stream",
     "text": [
      "Collecting wikipedia\n",
      "  Using cached wikipedia-1.4.0-py3-none-any.whl\n",
      "Collecting beautifulsoup4\n",
      "  Downloading beautifulsoup4-4.9.3-py3-none-any.whl (115 kB)\n",
      "\u001b[K     |████████████████████████████████| 115 kB 2.0 MB/s eta 0:00:01\n",
      "\u001b[?25hRequirement already satisfied: requests<3.0.0,>=2.0.0 in /Users/bussonniermatthias/miniconda3/lib/python3.8/site-packages (from wikipedia) (2.24.0)\n",
      "Requirement already satisfied: idna<3,>=2.5 in /Users/bussonniermatthias/miniconda3/lib/python3.8/site-packages (from requests<3.0.0,>=2.0.0->wikipedia) (2.10)\n",
      "Requirement already satisfied: certifi>=2017.4.17 in /Users/bussonniermatthias/miniconda3/lib/python3.8/site-packages (from requests<3.0.0,>=2.0.0->wikipedia) (2020.12.5)\n",
      "Requirement already satisfied: urllib3!=1.25.0,!=1.25.1,<1.26,>=1.21.1 in /Users/bussonniermatthias/miniconda3/lib/python3.8/site-packages (from requests<3.0.0,>=2.0.0->wikipedia) (1.25.11)\n",
      "Requirement already satisfied: chardet<4,>=3.0.2 in /Users/bussonniermatthias/miniconda3/lib/python3.8/site-packages (from requests<3.0.0,>=2.0.0->wikipedia) (3.0.4)\n",
      "Collecting soupsieve>1.2\n",
      "  Downloading soupsieve-2.2.1-py3-none-any.whl (33 kB)\n",
      "Installing collected packages: soupsieve, beautifulsoup4, wikipedia\n",
      "Successfully installed beautifulsoup4-4.9.3 soupsieve-2.2.1 wikipedia-1.4.0\n",
      "\u001b[33mWARNING: You are using pip version 21.0.1; however, version 21.1.1 is available.\n",
      "You should consider upgrading via the '/Users/bussonniermatthias/miniconda3/bin/python -m pip install --upgrade pip' command.\u001b[0m\n",
      "Note: you may need to restart the kernel to use updated packages.\n"
     ]
    }
   ],
   "source": [
    "pip install wikipedia"
   ]
  },
  {
   "cell_type": "code",
   "execution_count": 15,
   "metadata": {},
   "outputs": [],
   "source": [
    "import wikipedia"
   ]
  },
  {
   "cell_type": "code",
   "execution_count": 24,
   "metadata": {},
   "outputs": [
    {
     "data": {
      "text/plain": [
       "['Sociology',\n",
       " 'Dramaturgy (sociology)',\n",
       " 'Lifestyle (sociology)',\n",
       " 'Positivism',\n",
       " 'Sociology (disambiguation)',\n",
       " 'Economic sociology',\n",
       " 'Dyad (sociology)',\n",
       " 'Deviance (sociology)',\n",
       " 'Environmental sociology',\n",
       " 'Will (sociology)']"
      ]
     },
     "execution_count": 24,
     "metadata": {},
     "output_type": "execute_result"
    }
   ],
   "source": [
    "res = wikipedia.search('Sociology')\n",
    "res"
   ]
  },
  {
   "cell_type": "code",
   "execution_count": 39,
   "metadata": {
    "scrolled": false
   },
   "outputs": [
    {
     "data": {
      "text/plain": [
       "'Sociology is the study of society, human social behaviour, patterns of social relationships, social ...'"
      ]
     },
     "execution_count": 39,
     "metadata": {},
     "output_type": "execute_result"
    }
   ],
   "source": [
    "page = wikipedia.page(res[0])\n",
    "page.content[:100]+'...'"
   ]
  },
  {
   "cell_type": "markdown",
   "metadata": {},
   "source": [
    "Remarquez que nous obtenons ici les données brutes sans l'expansion des templates."
   ]
  },
  {
   "cell_type": "markdown",
   "metadata": {},
   "source": [
    "Avant de comencer sur l'utilisation de la bibliothèques wikipedia, notons que l'utilisation d'une API peut souvent être contraint à des limites légales. Il se peut que vous ayez a créer un compte developpeur; et indiquez la raison pour laquelle vous ustilisez un API. \n",
    "\n",
    "Certaines API sont \"officielles\" (wikipedia, github), d'autre pas (instagram, une partie de twitter).\n",
    "\n",
    "Les API sont aussi souvent limiter en nombre de requètes par heure; il est souvent facile de faire une boucle \"for\" et de dépasser la limite.\n",
    "\n",
    "Les API ne sont pas limité à récupérer des données, il est aussi possible de modifier/ajouter."
   ]
  },
  {
   "cell_type": "markdown",
   "metadata": {},
   "source": [
    "## Quelques Termes  quant on parle d'API."
   ]
  },
  {
   "cell_type": "markdown",
   "metadata": {},
   "source": [
    "(Pas besoin de retenir, mais au cas où). \n",
    "\n",
    "REST est un type d'API assez courant, utilisé pour modifier des \"documents\" – par example, tweets, page wikipedia.\n",
    "  - GET (requests.get) pour obtenir un document \n",
    "  - POST (request.post) générique en parculier si il y a des informations qui ne sont pas dans l'URL à envoyer au serveur.\n",
    "  - PUT (request.put) pour téléverser un document\n",
    "  - PATCH (request.patch) pour modifier un document\n",
    "  - HEAD (request.head) recevoir  uniquement les metadonnées\n",
    "  - DELETE (request.delete)\n",
    "  \n",
    "Dans la documentation on Anglais il peut être difficile de repérer que ces termes sont des termes techniques.\n",
    "\n",
    "\n",
    "Status Code:\n",
    "  - 2xx : Tout vas bien\n",
    "  - 3xx (souvent 304) : Problème d'autentification\n",
    "  - 4xx : ça existe pas.\n",
    "  - 5xx : données incorrect ou le serveur a planté.\n",
    "\n",
    "\n",
    "Reseaux-Sociaux:\n",
    "\n",
    "  - GraphQL: Renvoie uniquement les elements demandés + récursif. Tout ce qui est difficile en tabulaire.\n",
    "    \"@pyshs1 -> Tweet avec le plus de like -> utilisateur qui on liké ce tweet -> nom d'utilisateur\".\n",
    "      \n",
    " \n",
    "\n",
    "\n",
    "\n"
   ]
  },
  {
   "cell_type": "markdown",
   "metadata": {},
   "source": [
    "<!--\n",
    "API : approche très computer science\n",
    "\n",
    "API, notion générale, et notion orientée web sur laquelle nous allons d'abord commencer dans ce cours.\n",
    "\n",
    "API et wrappers; Lien avec les bibliothèques\n",
    "\n",
    "-> S3\n",
    "\n",
    "Petit point sur plus généralement la manipulation de données : Sensibilisation aux limites légales etc.\n",
    "\n",
    "-->"
   ]
  },
  {
   "cell_type": "markdown",
   "metadata": {},
   "source": [
    "## Quelques éléments à savoir faire :\n",
    "\n",
    "- Rechercher, regarder la documentation, mettre en oeuvre et récupérer les données\n",
    "- Vérifier l'actualité de l'API (ex. de GetOldTweets)\n",
    "- Trois cas rapide : Wikipédia & Google Scholar"
   ]
  },
  {
   "cell_type": "markdown",
   "metadata": {},
   "source": [
    "Quelques exemples possibles"
   ]
  },
  {
   "cell_type": "markdown",
   "metadata": {},
   "source": [
    "### Wikipédia\n",
    "\n",
    "https://pypi.org/project/wikipedia/\n",
    "\n",
    "Les différents éléments autour de Python\n",
    "\n",
    "Exemple du fait qu'elle a changé entre notre code et la publi du bouquin."
   ]
  },
  {
   "cell_type": "markdown",
   "metadata": {},
   "source": [
    "Notons que la biliothèque pythno `wikipedia` à elle même une \"API\" dans le sens général:"
   ]
  },
  {
   "cell_type": "markdown",
   "metadata": {},
   "source": [
    "```\n",
    "wikipedia.wikipedia.page(\n",
    "    title=None,\n",
    "    pageid=None,\n",
    "    auto_suggest=True,\n",
    "    redirect=True,\n",
    "    preload=False,\n",
    ")\n",
    "```"
   ]
  },
  {
   "cell_type": "markdown",
   "metadata": {},
   "source": [
    "Si on renomais \"pageid\" en \"id\", l'API changerai."
   ]
  },
  {
   "cell_type": "markdown",
   "metadata": {},
   "source": [
    "L'API de wikipedia a aussi changé en Automne 2020. \"search\" ne revoyais pas les pages de déambiguataion auparavent et le fait maintenant. Les pages de desambiguations n'ont pas de contenu."
   ]
  },
  {
   "cell_type": "markdown",
   "metadata": {},
   "source": [
    "### Géolocalisation avec OSM\n",
    "\n",
    "https://pypi.org/project/geocoder/0.5.7/"
   ]
  },
  {
   "cell_type": "code",
   "execution_count": 48,
   "metadata": {},
   "outputs": [
    {
     "data": {
      "text/plain": [
       "[46.5218269, 6.6327025]"
      ]
     },
     "execution_count": 48,
     "metadata": {},
     "output_type": "execute_result"
    }
   ],
   "source": [
    "import geocoder\n",
    "g = geocoder.osm('Lausanne, Suisse')\n",
    "g.latlng"
   ]
  },
  {
   "cell_type": "markdown",
   "metadata": {},
   "source": [
    "### Google Scholar\n",
    "\n",
    "Par exemple pour faire de la scientométrie\n",
    "\n",
    "https://scholarly.readthedocs.io/en/latest/quickstart.html"
   ]
  },
  {
   "cell_type": "code",
   "execution_count": 51,
   "metadata": {},
   "outputs": [],
   "source": [
    "from scholarly import scholarly"
   ]
  },
  {
   "cell_type": "code",
   "execution_count": 52,
   "metadata": {},
   "outputs": [
    {
     "name": "stdout",
     "output_type": "stream",
     "text": [
      "Emilien Schultz\n"
     ]
    }
   ],
   "source": [
    "# Retrieve the author's data, fill-in, and print\n",
    "search_query = scholarly.search_author('Émilien Schultz')\n",
    "author = scholarly.fill(next(search_query))\n",
    "print(author['name'])\n",
    "\n",
    "# Print the titles of the author's publications\n",
    "#print([pub['bib']['title'] for pub in author['publications']])\n",
    "\n",
    "# Take a closer look at the first publication\n",
    "#pub = scholarly.fill(author['publications'][0])\n",
    "#print(pub)\n",
    "\n",
    "# Which papers cited that publication?\n",
    "#print([citation['bib']['title'] for citation in scholarly.citedby(pub)])"
   ]
  },
  {
   "cell_type": "markdown",
   "metadata": {},
   "source": [
    "## Moment 2 - Utiliser une API plus complexe : Twitter (Emilien, 30 min)\n",
    "\n",
    "- Tweepy : https://github.com/tweepy/tweepy\n",
    "- Regarder la documentation\n",
    "- l'API Twitter, créer un compte et demander des crédentiels\n",
    "- Mettre ses crédentials\n",
    "- Collecter les tweets récents sur pyshs ?\n",
    "- Collecter les tweets autour d'islamogauchiste sur une période\n",
    "- Regarder les données et les mettre en forme\n",
    "- Créer un collecteur qui s'inscrit dans le temps..."
   ]
  },
  {
   "cell_type": "markdown",
   "metadata": {},
   "source": [
    "Faire un test avec le tutorial de tweepy : les deux étapes de configuration de l'API puis son utilisation"
   ]
  },
  {
   "cell_type": "code",
   "execution_count": 28,
   "metadata": {},
   "outputs": [
    {
     "name": "stdout",
     "output_type": "stream",
     "text": [
      "Open source maintainers be like \"Hey we'd like money to develop faster CPUs\" and businesses be line, \"no thank you… https://t.co/tZfdeleGS7\n",
      "RT @_msw_: We are hiring for the AWS SageMaker #OpenSource JupyterLab contribution team.\n",
      "\n",
      "This role will be focused on upstream development…\n",
      "RT @david_latouche: Basthon, est une interface en ligne, développée par Romain CASATI @BasthonPython, respectueuse de votre vie privée. Ell…\n",
      "RT @_rlg: Cette vidéo, fou rire du matin (envoyée par un doctorant du labo, du coup je me demande à quel couplet j'en suis...).  https://t.…\n",
      "RT @Nature: Switzerland’s largest government research-funding agency, @snsf_ch, has started using a random-selection process as a tiebreake…\n",
      "RT @JohnBlaxland1: Wow! A designer made a 'map of the internet' depicting 3,000 websites as countries in an online world https://t.co/dXyCH…\n",
      "Saturday night, can't connect to bank account. Open JS console. Refresh. ... seeing the logs I guess someone is deb… https://t.co/SbyQq7412W\n",
      "RT @isabelapf2: The next Jupyter community call is coming up on Tuesday, May 25th at 8am Pacific. Whether you've been in the community a lo…\n",
      "Préparation de la prochaine séance du cours #pyshs à Lausanne - les API. Test de l'API :)\n",
      "RT @neuro_rish: @Mbussonn @jeremyphoward @Zoom Jitsi has that feature, love it!\n",
      "ok, @Zoom idea: A pie chart of cumulative  speaker time to _gently_ remind some people that  they monopolize the co… https://t.co/jc2uktWpIo\n",
      "RT @afs_socio: Annonce importante : notre congrès, prévu du 6 au 9 juillet 2021 à Lille, se tiendra entièrement en distanciel. Plus de déta…\n",
      "Bon @UPS_FR il faudrait former vos livreurs au code de la route car à ma question s'il voyait le problème d'être st… https://t.co/IunTBaWwE9\n",
      "RT @ADRIPS_comm: #Doctorat\n",
      "#Financement\n",
      "\n",
      "Thèse (LaPEA, Versailles) : \"Modélisation de l'acceptabilité de mesures publiques et d'initiatives…\n",
      "RT @OndrejCertik: My thoughts on the fact that the next version of LAPACK is planned to be implemented in C++ instead of Fortran:\n",
      "\n",
      "https://…\n",
      "RT @Gometmedia: [Urgent] 🔴 🚴👏 Le 1er dimanche sans voitures à #Marseille aura lieu le 23 mai sur la #Corniche Un bon début... Roulez, march…\n",
      "RT @katyhuff: Exciting to be part of a slate of such phenomenal appointees announced officially this week @Energy! I was especially happy t…\n",
      "In case you missed it on friday, here is some thoughts and demo on how to improve Scientific Python ecosystem docum… https://t.co/BdT0NqWces\n",
      "RT @katyhuff: I’m thrilled to finally share that today is my 1st day in the Department of Energy's Office of Nuclear Energy (@Energy @GovNu…\n",
      "RT @102bis: Ces deux mois de silence sur Twitter, c’était le temps d’imaginer avec toute l’équipe démissionnaire de #scienceetvie le magazi…\n"
     ]
    }
   ],
   "source": [
    "import tweepy\n",
    "\n",
    "consumer_key = \"mHqUaZkujRDAAn20gJJAHu3ly\"\n",
    "consumer_secret = \"Iz237BNqXCSStFetp196GwNBXWNTHmmJFit6ZcdxAwwHP17rf0\"\n",
    "access_token = \"1388816341516365825-uQKcLImidWmUhCpNoeVXtftbvDA6tO\"\n",
    "access_token_secret = \"m9ug3cTZIdMAY14ktwd0WXB8ms8HKdijmUMyFnOxWxtKJ\"\n",
    "\n",
    "\n",
    "auth = tweepy.OAuthHandler(consumer_key, consumer_secret)\n",
    "auth.set_access_token(access_token, access_token_secret)\n",
    "\n",
    "api = tweepy.API(auth)\n",
    "\n",
    "public_tweets = api.home_timeline()\n",
    "for tweet in public_tweets:\n",
    "    print(tweet.text)"
   ]
  },
  {
   "cell_type": "markdown",
   "metadata": {},
   "source": [
    "Poster un tweet"
   ]
  },
  {
   "cell_type": "code",
   "execution_count": null,
   "metadata": {},
   "outputs": [],
   "source": [
    "t = api.update_status(\"Préparation de la prochaine séance du cours #pyshs à Lausanne - les API. Test de l'API :)\")"
   ]
  },
  {
   "cell_type": "markdown",
   "metadata": {},
   "source": [
    "Mettre le statut à jour"
   ]
  },
  {
   "cell_type": "code",
   "execution_count": 32,
   "metadata": {},
   "outputs": [],
   "source": [
    "t = api.update_profile(description=\"Réflexion collective autour de Python pour les Sciences Humaines et Sociales\")"
   ]
  },
  {
   "cell_type": "markdown",
   "metadata": {},
   "source": [
    "Etudier un utilisateur"
   ]
  },
  {
   "cell_type": "code",
   "execution_count": 37,
   "metadata": {},
   "outputs": [
    {
     "data": {
      "text/plain": [
       "1388816341516365825"
      ]
     },
     "execution_count": 37,
     "metadata": {},
     "output_type": "execute_result"
    }
   ],
   "source": [
    "user = api.get_user(\"pyshs1\")\n",
    "user.id"
   ]
  },
  {
   "cell_type": "markdown",
   "metadata": {},
   "source": [
    "Récupérer tous les tweets mentionnant pyshs"
   ]
  },
  {
   "cell_type": "markdown",
   "metadata": {},
   "source": [
    "Récupérer tous les tweets mentionnant islamogauchisme"
   ]
  },
  {
   "cell_type": "code",
   "execution_count": 41,
   "metadata": {},
   "outputs": [
    {
     "data": {
      "text/plain": [
       "100"
      ]
     },
     "execution_count": 41,
     "metadata": {},
     "output_type": "execute_result"
    }
   ],
   "source": [
    "corpus = api.search(q=\"islamogauchisme\",count=100,lang=\"fr\")\n",
    "len(corpus)\n",
    "#for tweet in corpus:\n",
    "#    print(tweet.text)"
   ]
  },
  {
   "cell_type": "code",
   "execution_count": 51,
   "metadata": {},
   "outputs": [
    {
     "data": {
      "text/plain": [
       "tweepy.models.SearchResults"
      ]
     },
     "execution_count": 51,
     "metadata": {},
     "output_type": "execute_result"
    }
   ],
   "source": [
    "type(corpus)"
   ]
  },
  {
   "cell_type": "code",
   "execution_count": 8,
   "metadata": {},
   "outputs": [],
   "source": [
    "corpus = [i for i in corpus]"
   ]
  },
  {
   "cell_type": "code",
   "execution_count": 13,
   "metadata": {},
   "outputs": [
    {
     "data": {
      "text/plain": [
       "'EstelleNasty'"
      ]
     },
     "execution_count": 13,
     "metadata": {},
     "output_type": "execute_result"
    }
   ],
   "source": [
    "t = corpus[1]\n",
    "t.user.screen_name"
   ]
  },
  {
   "cell_type": "code",
   "execution_count": 64,
   "metadata": {},
   "outputs": [
    {
     "data": {
      "text/plain": [
       "datetime.datetime(2021, 5, 15, 12, 28, 20)"
      ]
     },
     "execution_count": 64,
     "metadata": {},
     "output_type": "execute_result"
    }
   ],
   "source": [
    "t.created_at"
   ]
  },
  {
   "cell_type": "markdown",
   "metadata": {},
   "source": [
    "Intégrer ensuite ces données dans un traitement : par exemple en faire un tableau"
   ]
  },
  {
   "cell_type": "code",
   "execution_count": 18,
   "metadata": {},
   "outputs": [],
   "source": [
    "import pandas as pd\n",
    "tableau = pd.DataFrame([[t.id_str,t.created_at,i.user.id,i.user.screen_name, i.text,i.user.location] for i in corpus])"
   ]
  },
  {
   "cell_type": "code",
   "execution_count": 21,
   "metadata": {},
   "outputs": [
    {
     "data": {
      "text/plain": [
       "Orfeo_Giorgi      3\n",
       "_Attano_          3\n",
       "CestinEric        2\n",
       "divineFrance21    2\n",
       "CarminaRosa19     2\n",
       "                 ..\n",
       "RDD271999019      1\n",
       "lohoudominique    1\n",
       "DelatourRegis     1\n",
       "tonioaa1          1\n",
       "Adlost5           1\n",
       "Name: 3, Length: 91, dtype: int64"
      ]
     },
     "execution_count": 21,
     "metadata": {},
     "output_type": "execute_result"
    }
   ],
   "source": [
    "tableau[3].value_counts()"
   ]
  },
  {
   "cell_type": "markdown",
   "metadata": {},
   "source": [
    "Attention limite de 7 jours"
   ]
  },
  {
   "cell_type": "markdown",
   "metadata": {},
   "source": [
    "Différents niveaux d'accès : API premium\n",
    "- https://developer.twitter.com/en/account/environments"
   ]
  },
  {
   "cell_type": "code",
   "execution_count": null,
   "metadata": {},
   "outputs": [],
   "source": [
    "corpus = api.search_full_archive(environment_name=\"training\",query=\"islamogauchisme\")"
   ]
  },
  {
   "cell_type": "markdown",
   "metadata": {},
   "source": [
    "Pas si facile de se constituer un corpus ..."
   ]
  },
  {
   "cell_type": "markdown",
   "metadata": {},
   "source": [
    "Petite réflexion sur la sécurité des données avec des codes ? Rendre public ?"
   ]
  },
  {
   "cell_type": "code",
   "execution_count": null,
   "metadata": {},
   "outputs": [],
   "source": [
    "import json\n",
    "\n",
    "consumer_key = \"mHqUaZkujRDAAn20gJJAHu3ly\"\n",
    "consumer_secret = \"Iz237BNqXCSStFetp196GwNBXWNTHmmJFit6ZcdxAwwHP17rf0\"\n",
    "access_token = \"1388816341516365825-pQddB13qZxsz3DSHqeKMW8vmHAq2OY\"\n",
    "access_token_secret = \"mSIM8JQwJi3IU1F5MF9bLWRVQIlPzD3d1LHPjCfYu74L3\"\n",
    "\n",
    "codes = {\"consumer_key\":consumer_key,\"consumer_secret\":consumer_secret,\n",
    "         \"access_token\":access_token,\"access_token_secret\":access_token_secret}\n",
    "\n",
    "with open(\"twitter.keys\",\"w\") as f:\n",
    "    json.dump(codes,f)\n",
    "    \n",
    "with open(\"twitter.keys\",\"r\") as f:\n",
    "    codes = json.load(f)"
   ]
  },
  {
   "cell_type": "markdown",
   "metadata": {},
   "source": [
    "Créer une collecte en continue de tweets :\n",
    "- les stratégies ?\n",
    "- aller plus loin dans la compréhension de Python"
   ]
  },
  {
   "cell_type": "markdown",
   "metadata": {},
   "source": [
    "On a donc plusieurs briques qui permettent de créer notre traitement de données"
   ]
  },
  {
   "cell_type": "markdown",
   "metadata": {},
   "source": [
    "Des usages plus avancés de l'API : collecter un flux de tweets\n",
    "\n",
    "- un scrit qui fait une veille permanente\n",
    "- doit être exécuté sur un ordinateur dans la durée (serveur ?)\n",
    "- des éléments des bibliothèques permettant de coder ce type"
   ]
  },
  {
   "cell_type": "code",
   "execution_count": 4,
   "metadata": {},
   "outputs": [
    {
     "name": "stdout",
     "output_type": "stream",
     "text": [
      "API initialisée\n",
      "1393549207861071875\n",
      "Erreur rencontrée\n"
     ]
    }
   ],
   "source": [
    "import tweepy\n",
    "import json\n",
    "\n",
    "# StreamListener class inherits from tweepy.StreamListener and overrides on_status/on_error methods.\n",
    "class StreamListener(tweepy.StreamListener):\n",
    "    def on_status(self, status):\n",
    "        print(status.id_str)\n",
    "        # if \"retweeted_status\" attribute exists, flag this tweet as a retweet.\n",
    "        is_retweet = hasattr(status, \"retweeted_status\")\n",
    "\n",
    "        # check if text has been truncated\n",
    "        if hasattr(status,\"extended_tweet\"):\n",
    "            text = status.extended_tweet[\"full_text\"]\n",
    "        else:\n",
    "            text = status.text\n",
    "\n",
    "        # check if this is a quote tweet.\n",
    "        is_quote = hasattr(status, \"quoted_status\")\n",
    "        quoted_text = \"\"\n",
    "        if is_quote:\n",
    "            # check if quoted tweet's text has been truncated before recording it\n",
    "            if hasattr(status.quoted_status,\"extended_tweet\"):\n",
    "                quoted_text = status.quoted_status.extended_tweet[\"full_text\"]\n",
    "            else:\n",
    "                quoted_text = status.quoted_status.text\n",
    "\n",
    "        # remove characters that might cause problems with csv encoding\n",
    "        remove_characters = [\",\",\"\\n\"]\n",
    "        for c in remove_characters:\n",
    "            text.replace(c,\" \")\n",
    "            quoted_text.replace(c, \" \")\n",
    "            \n",
    "        with open(\"tweets/\"+status.id_str,\"w\") as f:\n",
    "            json.dump(status._json,f)\n",
    "\n",
    "    def on_error(self, status_code):\n",
    "        print(\"Encountered streaming error (\", status_code, \")\")\n",
    "\n",
    "\n",
    "def launch():\n",
    "    try:\n",
    "        auth = tweepy.OAuthHandler(consumer_key, consumer_secret)\n",
    "        auth.set_access_token(access_token, access_token_secret)\n",
    "        api = tweepy.API(auth)\n",
    "        print(\"API initialisée\")\n",
    "        streamListener = StreamListener()\n",
    "        stream = tweepy.Stream(auth=api.auth, listener=streamListener,tweet_mode='extended')\n",
    "        tags = [\"islamogauchisme\"]\n",
    "        stream.filter(track=tags)\n",
    "    except:\n",
    "        print(\"Erreur rencontrée\")\n",
    "        #launch()\n",
    "    \n",
    "launch()"
   ]
  },
  {
   "cell_type": "markdown",
   "metadata": {},
   "source": [
    "Les limites de Tweepy, et la nécessité de passer par l'API Twitter\n",
    "- https://developer.twitter.com/en/docs/twitter-api/tweets/search/introduction\n",
    "- https://github.com/twitterdev/search-tweets-python"
   ]
  },
  {
   "cell_type": "markdown",
   "metadata": {},
   "source": [
    "## Moment 3 - Pas d'API : collecter directement des données sur internet (Emilien, 30 min)\n",
    "\n",
    "- Dans certains cas il n'y a pas d'API disponible, récupérer directement les données par les interfaces \"standard\"\n",
    "- Utiliser requests et BeautifulSoup\n",
    "- Importance de la rétro-ingénieurie : comprendre l'architecture d'une page web\n",
    "- Différentes stratégies : regex ou bibliothèques plus avancées\n",
    "- Récupérer des images ?"
   ]
  },
  {
   "cell_type": "markdown",
   "metadata": {},
   "source": [
    "Récupérer des notices de livres Python sur Wordcat https://www.worldcat.org/ puis mettre en forme dans un fichier\n",
    "- chercher islamo-gauchisme\n",
    "- voir la forme de l'URL https://www.worldcat.org/search?q=islamo-gauchisme&fq=&dblist=638&start=21&qt=page_number_link\n",
    "\n",
    "Démarche : \n",
    "- récupérer les pages de résultat\n",
    "- construire un tableau des liens vers les résultats\n",
    "- récupérer chaque notice"
   ]
  },
  {
   "cell_type": "markdown",
   "metadata": {},
   "source": [
    "### Première étape regarder un peu les éléments"
   ]
  },
  {
   "cell_type": "markdown",
   "metadata": {},
   "source": [
    "### Récupérer une page avec requests"
   ]
  },
  {
   "cell_type": "markdown",
   "metadata": {},
   "source": [
    "Une page"
   ]
  },
  {
   "cell_type": "code",
   "execution_count": 4,
   "metadata": {},
   "outputs": [],
   "source": [
    "import requests\n",
    "\n",
    "url = \"https://www.worldcat.org/search?q=islamo-gauchisme&fq=&dblist=638&start=1&qt=page_number_link\"\n",
    "\n",
    "page = requests.get(url)"
   ]
  },
  {
   "cell_type": "markdown",
   "metadata": {},
   "source": [
    "Toutes les pages"
   ]
  },
  {
   "cell_type": "code",
   "execution_count": 18,
   "metadata": {},
   "outputs": [
    {
     "name": "stdout",
     "output_type": "stream",
     "text": [
      "https://www.worldcat.org/search?q=islamo-gauchisme&fq=&dblist=638&start=1&qt=page_number_link\n",
      "https://www.worldcat.org/search?q=islamo-gauchisme&fq=&dblist=638&start=11&qt=page_number_link\n",
      "https://www.worldcat.org/search?q=islamo-gauchisme&fq=&dblist=638&start=21&qt=page_number_link\n",
      "https://www.worldcat.org/search?q=islamo-gauchisme&fq=&dblist=638&start=31&qt=page_number_link\n",
      "https://www.worldcat.org/search?q=islamo-gauchisme&fq=&dblist=638&start=41&qt=page_number_link\n",
      "https://www.worldcat.org/search?q=islamo-gauchisme&fq=&dblist=638&start=51&qt=page_number_link\n",
      "https://www.worldcat.org/search?q=islamo-gauchisme&fq=&dblist=638&start=61&qt=page_number_link\n"
     ]
    }
   ],
   "source": [
    "pages = []\n",
    "for i in range(0,7):\n",
    "    url = \"https://www.worldcat.org/search?q=islamo-gauchisme&fq=&dblist=638&start={}&qt=page_number_link\".format(1+10*i)\n",
    "    print(url)\n",
    "    page = requests.get(url)\n",
    "    pages.append(page)"
   ]
  },
  {
   "cell_type": "markdown",
   "metadata": {},
   "source": [
    "Extraire les liens : un peu de rétroingénierie\n",
    "\n",
    "Plusieurs stratégies :\n",
    "- tous les liens et filtrer\n",
    "- respecter la structure du document"
   ]
  },
  {
   "cell_type": "markdown",
   "metadata": {},
   "source": [
    "### Se balader dans la structure html : BeautifoulSoup"
   ]
  },
  {
   "cell_type": "code",
   "execution_count": 26,
   "metadata": {},
   "outputs": [],
   "source": [
    "import bs4"
   ]
  },
  {
   "cell_type": "code",
   "execution_count": 30,
   "metadata": {},
   "outputs": [],
   "source": [
    "page = bs4.BeautifulSoup(pages[0].content)"
   ]
  },
  {
   "cell_type": "code",
   "execution_count": 32,
   "metadata": {},
   "outputs": [],
   "source": [
    "liens = page.find_all(\"a\")"
   ]
  },
  {
   "cell_type": "code",
   "execution_count": 50,
   "metadata": {},
   "outputs": [],
   "source": [
    "liens = [i.attrs[\"href\"] for i in liens if \"href\" in i.attrs and \"/oclc/\" in i.attrs[\"href\"]]"
   ]
  },
  {
   "cell_type": "code",
   "execution_count": 53,
   "metadata": {},
   "outputs": [
    {
     "data": {
      "text/plain": [
       "{'/title/allons-nous-sortir-de-lhistoire/oclc/1100451295',\n",
       " '/title/emirats-de-la-republique-comment-les-islamistes-prennent-possession-de-la-banlieue/oclc/1140404936',\n",
       " '/title/empoisonneurs-antisemitisme-islamophobie-xenophobie/oclc/1198222296',\n",
       " '/title/islamo-gauchisme/oclc/8760612072',\n",
       " '/title/islamo-gauchisme/oclc/8932537540',\n",
       " '/title/liaisons-dangereuses-islamo-nazisme-islamo-gauchisme/oclc/1248694509',\n",
       " '/title/livre-des-indesires-une-histoire-des-arabes-en-france/oclc/1084514701',\n",
       " '/title/negationnisme-de-gauche/oclc/1099928429',\n",
       " '/title/racines-de-lislamo-gauchisme-dossier/oclc/1057453730',\n",
       " '/title/racisme-imaginaire-islamophobie-et-culpabilite/oclc/974816801'}"
      ]
     },
     "execution_count": 53,
     "metadata": {},
     "output_type": "execute_result"
    }
   ],
   "source": [
    "set([i.replace(\"&referer=brief_results\",\"\").replace(\"/editions?editionsView=true&referer=br\",\"\") for i in liens])"
   ]
  },
  {
   "cell_type": "code",
   "execution_count": 41,
   "metadata": {},
   "outputs": [],
   "source": [
    "a = liens[1]"
   ]
  },
  {
   "cell_type": "code",
   "execution_count": 45,
   "metadata": {},
   "outputs": [
    {
     "data": {
      "text/plain": [
       "'/'"
      ]
     },
     "execution_count": 45,
     "metadata": {},
     "output_type": "execute_result"
    }
   ],
   "source": [
    "a.attrs[\"href\"]"
   ]
  },
  {
   "cell_type": "markdown",
   "metadata": {},
   "source": [
    "### Ecrire une fonction pour récupérer les éléments dont on a besoin sur chacune des pages ..."
   ]
  },
  {
   "cell_type": "code",
   "execution_count": 66,
   "metadata": {},
   "outputs": [],
   "source": [
    "url = \"https://www.worldcat.org/title/islamo-gauchisme-du-pseudo-debat-a-la-realite-du-terrain/oclc/8999871764\""
   ]
  },
  {
   "cell_type": "code",
   "execution_count": 67,
   "metadata": {},
   "outputs": [],
   "source": [
    "page = bs4.BeautifulSoup(requests.get(url).content)"
   ]
  },
  {
   "cell_type": "code",
   "execution_count": 73,
   "metadata": {
    "scrolled": true
   },
   "outputs": [],
   "source": [
    "details = page.find_all(\"div\",{\"id\":\"details\"})[0]"
   ]
  },
  {
   "cell_type": "code",
   "execution_count": 79,
   "metadata": {},
   "outputs": [],
   "source": [
    "resume = details.find_all(\"div\",{\"class\":\"abstracttxt\"})[0].text\n",
    "doctype =  details.find_all(\"tr\",{\"id\":\"details-doctype\"})[0].text"
   ]
  },
  {
   "cell_type": "code",
   "execution_count": 87,
   "metadata": {},
   "outputs": [],
   "source": [
    "def get_info(url):\n",
    "    page = bs4.BeautifulSoup(requests.get(url).content)\n",
    "    details = page.find_all(\"div\",{\"id\":\"details\"})[0]\n",
    "    resume = details.find_all(\"div\",{\"class\":\"abstracttxt\"})[0].text\n",
    "    doctype =  details.find_all(\"tr\",{\"id\":\"details-doctype\"})[0].text\n",
    "    return [url,resume,doctype]"
   ]
  },
  {
   "cell_type": "code",
   "execution_count": 89,
   "metadata": {},
   "outputs": [
    {
     "data": {
      "text/plain": [
       "['https://www.worldcat.org/title/islamo-gauchisme-du-pseudo-debat-a-la-realite-du-terrain/oclc/8999871764',\n",
       " \"\\n           Au cœur de ce débat qui prend des tournures toujours plus inattendues, j'ai eu la chance d'avoir une conversation exigeante et mesurée, afin de prendre un peu de recul. Merci à CTRL Z pour sa confiance et, au passage, pour ses articles d'une trop rare finesse sur le mondes numériques et les débats de notre temps ! La conversation menée avec la mirifique Elodie Safaris est accessible sur Youtube ou Spotify ; je vous incruste ici la version Youtube. https://www.youtube.com/embed/ausj14hU-e...\",\n",
       " '\\nDocument Type:\\nArticle\\n']"
      ]
     },
     "execution_count": 89,
     "metadata": {},
     "output_type": "execute_result"
    }
   ],
   "source": [
    "url = \"https://www.worldcat.org/title/islamo-gauchisme-du-pseudo-debat-a-la-realite-du-terrain/oclc/8999871764\"\n",
    "get_info(url)"
   ]
  },
  {
   "cell_type": "markdown",
   "metadata": {},
   "source": [
    "### Tout intégrer dans un script"
   ]
  },
  {
   "cell_type": "code",
   "execution_count": null,
   "metadata": {},
   "outputs": [],
   "source": [
    "corpus = []\n",
    "for i in range(0,7):\n",
    "    url = \"https://www.worldcat.org/search?q=islamo-gauchisme&fq=&dblist=638&start={}&qt=page_number_link\".format(1+10*i)\n",
    "    page = requests.get(url)\n",
    "    page = bs4.BeautifulSoup(page.content)\n",
    "    liens = page.find_all(\"a\")\n",
    "    liens = [i.attrs[\"href\"] for i in liens if \"href\" in i.attrs and \"/oclc/\" in i.attrs[\"href\"]]\n",
    "    liens = set([i.replace(\"&referer=brief_results\",\"\").replace(\"/editions?editionsView=true&referer=br\",\"\") for i in liens])\n",
    "    corpus+=list(liens)\n",
    "\n",
    "data = []\n",
    "for url in corpus:\n",
    "    data.append(get_info(url))"
   ]
  },
  {
   "cell_type": "markdown",
   "metadata": {},
   "source": [
    "## Moment 4 - Plus d'API, du point de vue humain à celui de l'ordinateur (Matthias, 15-30 min)\n",
    "\n",
    "Différents types d'API / Généralisation\n",
    "\n",
    "Différentes version d'API\n",
    "\n",
    "Normalisation\n",
    "\n",
    "REST/ GraphQL\n",
    "\n",
    "usages plus compliqués : async\n",
    "\n",
    "Créer sa propre API ? Garder la signature des fonctions\n",
    "\n",
    "API non web\n",
    "\n",
    "Lien avec les bases de données ? Exemple de sqlite ? https://docs.python.org/3/library/sqlite3.html\n",
    "\n",
    "Poster\n",
    "\n",
    "- Livres Gallica : https://api.bnf.fr/fr/wrapper-python-pour-les-api-gallica / https://github.com/ian-nai/PyGallica\n",
    "- Vidéos : https://pypi.org/project/python-youtube/\n",
    "- Scrapper plus complexes (scrapy, etc.)"
   ]
  },
  {
   "cell_type": "code",
   "execution_count": null,
   "metadata": {},
   "outputs": [],
   "source": []
  }
 ],
 "metadata": {
  "kernelspec": {
   "display_name": "Python 3 (ipykernel)",
   "language": "python",
   "name": "python3"
  },
  "language_info": {
   "mimetype": "text/python",
   "name": "Python"
  }
 },
 "nbformat": 4,
 "nbformat_minor": 4
}
