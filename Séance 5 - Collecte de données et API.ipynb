{
 "cells": [
  {
   "cell_type": "markdown",
   "metadata": {},
   "source": [
    "# Séance 5 - Collecte de données et API\n",
    "\n",
    "L'objectif de la séance est de voir comment utiliser certaines API pour passer de données sur internet à une base de données exploitables, mais aussi de récupérer du contenu de page internet."
   ]
  },
  {
   "cell_type": "markdown",
   "metadata": {},
   "source": [
    "## C'est quoi une API, les données sur internet, etc.\n",
    "\n",
    "Matthias ? Par exemple, sur la récupération de données météo : https://pypi.org/project/python-weather/\n",
    "\n",
    "Sensibilisation aux limites légales etc."
   ]
  },
  {
   "cell_type": "markdown",
   "metadata": {},
   "source": [
    "## Moment 1 - Utiliser une API simple\n",
    "\n",
    "- Rechercher, regarder la documentation, mettre en oeuvre et récupérer les données\n",
    "- Trois cas : Wikipédia & Google Scholar"
   ]
  },
  {
   "cell_type": "markdown",
   "metadata": {},
   "source": [
    "### Wikipédia\n",
    "\n",
    "https://pypi.org/project/wikipedia/\n",
    "\n",
    "Les différents éléments autour de Python"
   ]
  },
  {
   "cell_type": "markdown",
   "metadata": {},
   "source": [
    "### Géolocalisation avec OSM\n",
    "\n",
    "https://pypi.org/project/geocoder/0.5.7/"
   ]
  },
  {
   "cell_type": "code",
   "execution_count": 6,
   "metadata": {},
   "outputs": [
    {
     "name": "stdout",
     "output_type": "stream",
     "text": [
      "Requirement already satisfied: geocoder in /Users/emilien/anaconda3/envs/p37/lib/python3.7/site-packages (1.38.1)\n",
      "Requirement already satisfied: requests in /Users/emilien/anaconda3/envs/p37/lib/python3.7/site-packages (from geocoder) (2.23.0)\n",
      "Requirement already satisfied: six in /Users/emilien/anaconda3/envs/p37/lib/python3.7/site-packages (from geocoder) (1.14.0)\n",
      "Requirement already satisfied: click in /Users/emilien/anaconda3/envs/p37/lib/python3.7/site-packages (from geocoder) (7.1.2)\n",
      "Requirement already satisfied: future in /Users/emilien/anaconda3/envs/p37/lib/python3.7/site-packages (from geocoder) (0.18.2)\n",
      "Requirement already satisfied: ratelim in /Users/emilien/anaconda3/envs/p37/lib/python3.7/site-packages (from geocoder) (0.1.6)\n",
      "Requirement already satisfied: urllib3!=1.25.0,!=1.25.1,<1.26,>=1.21.1 in /Users/emilien/anaconda3/envs/p37/lib/python3.7/site-packages (from requests->geocoder) (1.25.8)\n",
      "Requirement already satisfied: chardet<4,>=3.0.2 in /Users/emilien/anaconda3/envs/p37/lib/python3.7/site-packages (from requests->geocoder) (3.0.4)\n",
      "Requirement already satisfied: idna<3,>=2.5 in /Users/emilien/anaconda3/envs/p37/lib/python3.7/site-packages (from requests->geocoder) (2.9)\n",
      "Requirement already satisfied: certifi>=2017.4.17 in /Users/emilien/anaconda3/envs/p37/lib/python3.7/site-packages (from requests->geocoder) (2020.4.5.1)\n",
      "Requirement already satisfied: decorator in /Users/emilien/anaconda3/envs/p37/lib/python3.7/site-packages (from ratelim->geocoder) (4.4.2)\n"
     ]
    }
   ],
   "source": [
    "!pip install geocoder"
   ]
  },
  {
   "cell_type": "code",
   "execution_count": 10,
   "metadata": {},
   "outputs": [
    {
     "data": {
      "text/plain": [
       "[46.5218269, 6.6327025]"
      ]
     },
     "execution_count": 10,
     "metadata": {},
     "output_type": "execute_result"
    }
   ],
   "source": [
    "import geocoder\n",
    "g = geocoder.osm('Lausanne, Suisse')\n",
    "g.latlng"
   ]
  },
  {
   "cell_type": "markdown",
   "metadata": {},
   "source": [
    "### Google Scholar\n",
    "\n",
    "Par exemple pour faire de la scientométrie\n",
    "\n",
    "https://scholarly.readthedocs.io/en/latest/quickstart.html"
   ]
  },
  {
   "cell_type": "code",
   "execution_count": null,
   "metadata": {},
   "outputs": [],
   "source": [
    "!pip install scholarly"
   ]
  },
  {
   "cell_type": "code",
   "execution_count": 2,
   "metadata": {},
   "outputs": [],
   "source": [
    "from scholarly import scholarly"
   ]
  },
  {
   "cell_type": "code",
   "execution_count": 5,
   "metadata": {},
   "outputs": [
    {
     "name": "stdout",
     "output_type": "stream",
     "text": [
      "Emilien Schultz\n"
     ]
    }
   ],
   "source": [
    "# Retrieve the author's data, fill-in, and print\n",
    "search_query = scholarly.search_author('Émilien Schultz')\n",
    "author = scholarly.fill(next(search_query))\n",
    "print(author['name'])\n",
    "\n",
    "# Print the titles of the author's publications\n",
    "#print([pub['bib']['title'] for pub in author['publications']])\n",
    "\n",
    "# Take a closer look at the first publication\n",
    "#pub = scholarly.fill(author['publications'][0])\n",
    "#print(pub)\n",
    "\n",
    "# Which papers cited that publication?\n",
    "#print([citation['bib']['title'] for citation in scholarly.citedby(pub)])"
   ]
  },
  {
   "cell_type": "markdown",
   "metadata": {},
   "source": [
    "## Moment 2 - Pas d'API : collecter directement des données sur internet\n",
    "\n",
    "- Utiliser requests et BeautifulSoup\n",
    "- Récupérer des notices de livres Python sur Wordcat https://www.worldcat.org/ puis mettre en forme dans un fichier\n",
    "- Récupérer des images ?\n",
    "\n",
    "Matthias ?"
   ]
  },
  {
   "cell_type": "markdown",
   "metadata": {},
   "source": [
    "## Moment 3 - Utiliser une API plus complexe : Twitter\n",
    "\n",
    "- Tweepy\n",
    "- Mettre ses crédentials\n",
    "- Collecter les tweets récents sur Pyshs ?\n",
    "- Créer un collecteur qui s'inscrit dans le temps...\n",
    "\n",
    "Emilien ?"
   ]
  },
  {
   "cell_type": "markdown",
   "metadata": {},
   "source": [
    "## Moment 4 - Plus d'API\n",
    "\n",
    "- Livres Gallica : https://api.bnf.fr/fr/wrapper-python-pour-les-api-gallica / https://github.com/ian-nai/PyGallica\n",
    "- Vidéos : https://pypi.org/project/python-youtube/\n",
    "- Scrapper plus complexes (scrapy, etc.)"
   ]
  },
  {
   "cell_type": "code",
   "execution_count": null,
   "metadata": {},
   "outputs": [],
   "source": []
  }
 ],
 "metadata": {
  "kernelspec": {
   "display_name": "Python 3",
   "language": "python",
   "name": "python3"
  },
  "language_info": {
   "codemirror_mode": {
    "name": "ipython",
    "version": 3
   },
   "file_extension": ".py",
   "mimetype": "text/x-python",
   "name": "python",
   "nbconvert_exporter": "python",
   "pygments_lexer": "ipython3",
   "version": "3.7.7"
  }
 },
 "nbformat": 4,
 "nbformat_minor": 4
}
