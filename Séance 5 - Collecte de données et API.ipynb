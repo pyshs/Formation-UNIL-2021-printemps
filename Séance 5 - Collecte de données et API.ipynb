{
 "cells": [
  {
   "cell_type": "markdown",
   "metadata": {},
   "source": [
    "# Séance 5 - Collecte de données et API\n",
    "\n",
    "L'objectif de la séance est de voir un peu de la collecte de données sur internet, et pour cela de commencer à se familiariser avec la notion d'API.\n",
    "\n",
    "Quatre moments :\n",
    "- Ce qu'est une API\n",
    "- Une API avec clé d'accès : le cas de Twitter\n",
    "- Traiter des données du web sans API\n",
    "- Quelques notions plus avancées sur les API"
   ]
  },
  {
   "cell_type": "markdown",
   "metadata": {},
   "source": [
    "## Moment 1 - Ce qu'est une API (Matthias, 30 min)"
   ]
  },
  {
   "cell_type": "markdown",
   "metadata": {},
   "source": [
    "C'est quoi une API web, les données sur internet, etc.\n",
    "\n",
    "API : approche très computer science\n",
    "\n",
    "API, notion générale, et notion orientée web sur laquelle nous allons d'abord commencer dans ce cours.\n",
    "\n",
    "API et wrappers; Lien avec les bibliothèques\n",
    "\n",
    "-> S3\n",
    "\n",
    "Petit point sur plus généralement la manipulation de données : Sensibilisation aux limites légales etc."
   ]
  },
  {
   "cell_type": "markdown",
   "metadata": {},
   "source": [
    "Quelques éléments à savoir faire :\n",
    "\n",
    "- Rechercher, regarder la documentation, mettre en oeuvre et récupérer les données\n",
    "- Vérifier l'actualité de l'API (ex. de GetOldTweets)\n",
    "- Trois cas rapide : Wikipédia & Google Scholar"
   ]
  },
  {
   "cell_type": "markdown",
   "metadata": {},
   "source": [
    "Quelques exemples possibles"
   ]
  },
  {
   "cell_type": "markdown",
   "metadata": {},
   "source": [
    "### Wikipédia\n",
    "\n",
    "https://pypi.org/project/wikipedia/\n",
    "\n",
    "Les différents éléments autour de Python\n",
    "\n",
    "Exemple du fait qu'elle a changé entre notre code et la publi du bouquin."
   ]
  },
  {
   "cell_type": "markdown",
   "metadata": {},
   "source": [
    "### Géolocalisation avec OSM\n",
    "\n",
    "https://pypi.org/project/geocoder/0.5.7/"
   ]
  },
  {
   "cell_type": "code",
   "execution_count": 10,
   "metadata": {},
   "outputs": [
    {
     "data": {
      "text/plain": [
       "[46.5218269, 6.6327025]"
      ]
     },
     "execution_count": 10,
     "metadata": {},
     "output_type": "execute_result"
    }
   ],
   "source": [
    "import geocoder\n",
    "g = geocoder.osm('Lausanne, Suisse')\n",
    "g.latlng"
   ]
  },
  {
   "cell_type": "markdown",
   "metadata": {},
   "source": [
    "### Google Scholar\n",
    "\n",
    "Par exemple pour faire de la scientométrie\n",
    "\n",
    "https://scholarly.readthedocs.io/en/latest/quickstart.html"
   ]
  },
  {
   "cell_type": "code",
   "execution_count": 2,
   "metadata": {},
   "outputs": [],
   "source": [
    "from scholarly import scholarly"
   ]
  },
  {
   "cell_type": "code",
   "execution_count": 5,
   "metadata": {},
   "outputs": [
    {
     "name": "stdout",
     "output_type": "stream",
     "text": [
      "Emilien Schultz\n"
     ]
    }
   ],
   "source": [
    "# Retrieve the author's data, fill-in, and print\n",
    "search_query = scholarly.search_author('Émilien Schultz')\n",
    "author = scholarly.fill(next(search_query))\n",
    "print(author['name'])\n",
    "\n",
    "# Print the titles of the author's publications\n",
    "#print([pub['bib']['title'] for pub in author['publications']])\n",
    "\n",
    "# Take a closer look at the first publication\n",
    "#pub = scholarly.fill(author['publications'][0])\n",
    "#print(pub)\n",
    "\n",
    "# Which papers cited that publication?\n",
    "#print([citation['bib']['title'] for citation in scholarly.citedby(pub)])"
   ]
  },
  {
   "cell_type": "markdown",
   "metadata": {},
   "source": [
    "## Moment 2 - Utiliser une API plus complexe : Twitter (Emilien, 30 min)\n",
    "\n",
    "- Tweepy : https://github.com/tweepy/tweepy\n",
    "- Regarder la documentation\n",
    "- l'API Twitter, créer un compte et demander des crédentiels\n",
    "- Mettre ses crédentials\n",
    "- Collecter les tweets récents sur pyshs ?\n",
    "- Collecter les tweets autour d'islamogauchiste sur une période\n",
    "- Regarder les données et les mettre en forme\n",
    "- Créer un collecteur qui s'inscrit dans le temps..."
   ]
  },
  {
   "cell_type": "markdown",
   "metadata": {},
   "source": [
    "Faire un test avec le tutorial de tweepy : les deux étapes de configuration de l'API puis son utilisation"
   ]
  },
  {
   "cell_type": "code",
   "execution_count": 1,
   "metadata": {},
   "outputs": [
    {
     "name": "stdout",
     "output_type": "stream",
     "text": [
      "RT @isabelapf2: The next Jupyter community call is coming up on Tuesday, May 25th at 8am Pacific. Whether you've been in the community a lo…\n",
      "Préparation de la prochaine séance du cours #pyshs à Lausanne - les API. Test de l'API :)\n",
      "RT @neuro_rish: @Mbussonn @jeremyphoward @Zoom Jitsi has that feature, love it!\n",
      "ok, @Zoom idea: A pie chart of cumulative  speaker time to _gently_ remind some people that  they monopolize the co… https://t.co/jc2uktWpIo\n",
      "RT @afs_socio: Annonce importante : notre congrès, prévu du 6 au 9 juillet 2021 à Lille, se tiendra entièrement en distanciel. Plus de déta…\n",
      "Bon @UPS_FR il faudrait former vos livreurs au code de la route car à ma question s'il voyait le problème d'être st… https://t.co/IunTBaWwE9\n",
      "RT @ADRIPS_comm: #Doctorat\n",
      "#Financement\n",
      "\n",
      "Thèse (LaPEA, Versailles) : \"Modélisation de l'acceptabilité de mesures publiques et d'initiatives…\n",
      "RT @OndrejCertik: My thoughts on the fact that the next version of LAPACK is planned to be implemented in C++ instead of Fortran:\n",
      "\n",
      "https://…\n",
      "RT @Gometmedia: [Urgent] 🔴 🚴👏 Le 1er dimanche sans voitures à #Marseille aura lieu le 23 mai sur la #Corniche Un bon début... Roulez, march…\n",
      "RT @katyhuff: Exciting to be part of a slate of such phenomenal appointees announced officially this week @Energy! I was especially happy t…\n",
      "In case you missed it on friday, here is some thoughts and demo on how to improve Scientific Python ecosystem docum… https://t.co/BdT0NqWces\n",
      "RT @katyhuff: I’m thrilled to finally share that today is my 1st day in the Department of Energy's Office of Nuclear Energy (@Energy @GovNu…\n",
      "RT @102bis: Ces deux mois de silence sur Twitter, c’était le temps d’imaginer avec toute l’équipe démissionnaire de #scienceetvie le magazi…\n",
      "À voir : 2e cours de Didier Fassin au Collège de France, sur \"la\" vérité des chiffes en santé publique. Contre un p… https://t.co/9c17uSLTYL\n",
      "Et fanfare de pause sur la plaine ouverte https://t.co/tO5iZcJgxM\n",
      "https://t.co/hQ1xBd0DBB\n",
      "https://t.co/MaEqmHpNyP\n",
      "Velorution de Marseille sur le départ #criticalmassilia #vélorution #marseille #pourquoipaslevelo https://t.co/nwucxjez2x\n",
      "Sidenote which is not in the blog post. This is not specific to Python, I'd love to have something similar for othe… https://t.co/y9Leq4Gau5\n",
      "RT @ixek: Have you ever wondered what can be done to improve docs in the @ProjectJupyter? Wait no more and  read this blog post by the supe…\n"
     ]
    }
   ],
   "source": [
    "import tweepy\n",
    "\n",
    "consumer_key = \"mHqUaZkujRDAAn20gJJAHu3ly\"\n",
    "consumer_secret = \"Iz237BNqXCSStFetp196GwNBXWNTHmmJFit6ZcdxAwwHP17rf0\"\n",
    "access_token = \"1388816341516365825-uQKcLImidWmUhCpNoeVXtftbvDA6tO\"\n",
    "access_token_secret = \"m9ug3cTZIdMAY14ktwd0WXB8ms8HKdijmUMyFnOxWxtKJ\"\n",
    "\n",
    "\n",
    "auth = tweepy.OAuthHandler(consumer_key, consumer_secret)\n",
    "auth.set_access_token(access_token, access_token_secret)\n",
    "\n",
    "api = tweepy.API(auth)\n",
    "\n",
    "public_tweets = api.home_timeline()\n",
    "for tweet in public_tweets:\n",
    "    print(tweet.text)"
   ]
  },
  {
   "cell_type": "markdown",
   "metadata": {},
   "source": [
    "Poster un tweet"
   ]
  },
  {
   "cell_type": "code",
   "execution_count": null,
   "metadata": {},
   "outputs": [],
   "source": [
    "t = api.update_status(\"Préparation de la prochaine séance du cours #pyshs à Lausanne - les API. Test de l'API :)\")"
   ]
  },
  {
   "cell_type": "markdown",
   "metadata": {},
   "source": [
    "Mettre le statut à jour"
   ]
  },
  {
   "cell_type": "code",
   "execution_count": 32,
   "metadata": {},
   "outputs": [],
   "source": [
    "t = api.update_profile(description=\"Réflexion collective autour de Python pour les Sciences Humaines et Sociales\")"
   ]
  },
  {
   "cell_type": "markdown",
   "metadata": {},
   "source": [
    "Etudier un utilisateur"
   ]
  },
  {
   "cell_type": "code",
   "execution_count": 25,
   "metadata": {},
   "outputs": [],
   "source": [
    "user = api.get_user(\"pyshs\")\n",
    "user.id"
   ]
  },
  {
   "cell_type": "markdown",
   "metadata": {},
   "source": [
    "Récupérer tous les tweets mentionnant pyshs"
   ]
  },
  {
   "cell_type": "markdown",
   "metadata": {},
   "source": [
    "Récupérer tous les tweets mentionnant islamogauchisme"
   ]
  },
  {
   "cell_type": "code",
   "execution_count": 41,
   "metadata": {},
   "outputs": [
    {
     "data": {
      "text/plain": [
       "100"
      ]
     },
     "execution_count": 41,
     "metadata": {},
     "output_type": "execute_result"
    }
   ],
   "source": [
    "corpus = api.search(q=\"islamogauchisme\",count=100,lang=\"fr\")\n",
    "len(corpus)\n",
    "#for tweet in corpus:\n",
    "#    print(tweet.text)"
   ]
  },
  {
   "cell_type": "code",
   "execution_count": 51,
   "metadata": {},
   "outputs": [
    {
     "data": {
      "text/plain": [
       "tweepy.models.SearchResults"
      ]
     },
     "execution_count": 51,
     "metadata": {},
     "output_type": "execute_result"
    }
   ],
   "source": [
    "type(corpus)"
   ]
  },
  {
   "cell_type": "code",
   "execution_count": 8,
   "metadata": {},
   "outputs": [],
   "source": [
    "corpus = [i for i in corpus]"
   ]
  },
  {
   "cell_type": "code",
   "execution_count": 13,
   "metadata": {},
   "outputs": [
    {
     "data": {
      "text/plain": [
       "'EstelleNasty'"
      ]
     },
     "execution_count": 13,
     "metadata": {},
     "output_type": "execute_result"
    }
   ],
   "source": [
    "t = corpus[1]\n",
    "t.user.screen_name"
   ]
  },
  {
   "cell_type": "code",
   "execution_count": 64,
   "metadata": {},
   "outputs": [
    {
     "data": {
      "text/plain": [
       "datetime.datetime(2021, 5, 15, 12, 28, 20)"
      ]
     },
     "execution_count": 64,
     "metadata": {},
     "output_type": "execute_result"
    }
   ],
   "source": [
    "t.created_at"
   ]
  },
  {
   "cell_type": "markdown",
   "metadata": {},
   "source": [
    "Intégrer ensuite ces données dans un traitement : par exemple en faire un tableau"
   ]
  },
  {
   "cell_type": "code",
   "execution_count": 18,
   "metadata": {},
   "outputs": [],
   "source": [
    "import pandas as pd\n",
    "tableau = pd.DataFrame([[t.id_str,t.created_at,i.user.id,i.user.screen_name, i.text,i.user.location] for i in corpus])"
   ]
  },
  {
   "cell_type": "code",
   "execution_count": 21,
   "metadata": {},
   "outputs": [
    {
     "data": {
      "text/plain": [
       "Orfeo_Giorgi      3\n",
       "_Attano_          3\n",
       "CestinEric        2\n",
       "divineFrance21    2\n",
       "CarminaRosa19     2\n",
       "                 ..\n",
       "RDD271999019      1\n",
       "lohoudominique    1\n",
       "DelatourRegis     1\n",
       "tonioaa1          1\n",
       "Adlost5           1\n",
       "Name: 3, Length: 91, dtype: int64"
      ]
     },
     "execution_count": 21,
     "metadata": {},
     "output_type": "execute_result"
    }
   ],
   "source": [
    "tableau[3].value_counts()"
   ]
  },
  {
   "cell_type": "markdown",
   "metadata": {},
   "source": [
    "Attention limite de 7 jours"
   ]
  },
  {
   "cell_type": "markdown",
   "metadata": {},
   "source": [
    "Différents niveaux d'accès : API premium\n",
    "- https://developer.twitter.com/en/account/environments"
   ]
  },
  {
   "cell_type": "code",
   "execution_count": null,
   "metadata": {},
   "outputs": [],
   "source": [
    "corpus = api.search_full_archive(environment_name=\"training\",query=\"islamogauchisme\")"
   ]
  },
  {
   "cell_type": "markdown",
   "metadata": {},
   "source": [
    "Pas si facile de se constituer un corpus ..."
   ]
  },
  {
   "cell_type": "markdown",
   "metadata": {},
   "source": [
    "Petite réflexion sur la sécurité des données avec des codes ? Rendre public ?"
   ]
  },
  {
   "cell_type": "code",
   "execution_count": null,
   "metadata": {},
   "outputs": [],
   "source": [
    "import json\n",
    "\n",
    "consumer_key = \"mHqUaZkujRDAAn20gJJAHu3ly\"\n",
    "consumer_secret = \"Iz237BNqXCSStFetp196GwNBXWNTHmmJFit6ZcdxAwwHP17rf0\"\n",
    "access_token = \"1388816341516365825-pQddB13qZxsz3DSHqeKMW8vmHAq2OY\"\n",
    "access_token_secret = \"mSIM8JQwJi3IU1F5MF9bLWRVQIlPzD3d1LHPjCfYu74L3\"\n",
    "\n",
    "codes = {\"consumer_key\":consumer_key,\"consumer_secret\":consumer_secret,\n",
    "         \"access_token\":access_token,\"access_token_secret\":access_token_secret}\n",
    "\n",
    "with open(\"twitter.keys\",\"w\") as f:\n",
    "    json.dump(codes,f)\n",
    "    \n",
    "with open(\"twitter.keys\",\"r\") as f:\n",
    "    codes = json.load(f)"
   ]
  },
  {
   "cell_type": "markdown",
   "metadata": {},
   "source": [
    "Créer une collecte en continue de tweets :\n",
    "- les stratégies ?\n",
    "- aller plus loin dans la compréhension de Python"
   ]
  },
  {
   "cell_type": "markdown",
   "metadata": {},
   "source": [
    "On a donc plusieurs briques qui permettent de créer notre traitement de données"
   ]
  },
  {
   "cell_type": "markdown",
   "metadata": {},
   "source": [
    "Des usages plus avancés de l'API : collecter un flux de tweets\n",
    "\n",
    "- un scrit qui fait une veille permanente\n",
    "- doit être exécuté sur un ordinateur dans la durée (serveur ?)\n",
    "- des éléments des bibliothèques permettant de coder ce type"
   ]
  },
  {
   "cell_type": "code",
   "execution_count": 4,
   "metadata": {},
   "outputs": [
    {
     "name": "stdout",
     "output_type": "stream",
     "text": [
      "API initialisée\n",
      "1393549207861071875\n",
      "Erreur rencontrée\n"
     ]
    }
   ],
   "source": [
    "import tweepy\n",
    "import json\n",
    "\n",
    "# StreamListener class inherits from tweepy.StreamListener and overrides on_status/on_error methods.\n",
    "class StreamListener(tweepy.StreamListener):\n",
    "    def on_status(self, status):\n",
    "        print(status.id_str)\n",
    "        # if \"retweeted_status\" attribute exists, flag this tweet as a retweet.\n",
    "        is_retweet = hasattr(status, \"retweeted_status\")\n",
    "\n",
    "        # check if text has been truncated\n",
    "        if hasattr(status,\"extended_tweet\"):\n",
    "            text = status.extended_tweet[\"full_text\"]\n",
    "        else:\n",
    "            text = status.text\n",
    "\n",
    "        # check if this is a quote tweet.\n",
    "        is_quote = hasattr(status, \"quoted_status\")\n",
    "        quoted_text = \"\"\n",
    "        if is_quote:\n",
    "            # check if quoted tweet's text has been truncated before recording it\n",
    "            if hasattr(status.quoted_status,\"extended_tweet\"):\n",
    "                quoted_text = status.quoted_status.extended_tweet[\"full_text\"]\n",
    "            else:\n",
    "                quoted_text = status.quoted_status.text\n",
    "\n",
    "        # remove characters that might cause problems with csv encoding\n",
    "        remove_characters = [\",\",\"\\n\"]\n",
    "        for c in remove_characters:\n",
    "            text.replace(c,\" \")\n",
    "            quoted_text.replace(c, \" \")\n",
    "            \n",
    "        with open(\"tweets/\"+status.id_str,\"w\") as f:\n",
    "            json.dump(status._json,f)\n",
    "\n",
    "    def on_error(self, status_code):\n",
    "        print(\"Encountered streaming error (\", status_code, \")\")\n",
    "\n",
    "\n",
    "def launch():\n",
    "    try:\n",
    "        auth = tweepy.OAuthHandler(consumer_key, consumer_secret)\n",
    "        auth.set_access_token(access_token, access_token_secret)\n",
    "        api = tweepy.API(auth)\n",
    "        print(\"API initialisée\")\n",
    "        streamListener = StreamListener()\n",
    "        stream = tweepy.Stream(auth=api.auth, listener=streamListener,tweet_mode='extended')\n",
    "        tags = [\"islamogauchisme\"]\n",
    "        stream.filter(track=tags)\n",
    "    except:\n",
    "        print(\"Erreur rencontrée\")\n",
    "        #launch()\n",
    "    \n",
    "launch()"
   ]
  },
  {
   "cell_type": "markdown",
   "metadata": {},
   "source": [
    "Les limites de Tweepy, et la nécessité de passer par l'API Twitter\n",
    "- https://developer.twitter.com/en/docs/twitter-api/tweets/search/introduction\n",
    "- https://github.com/twitterdev/search-tweets-python"
   ]
  },
  {
   "cell_type": "markdown",
   "metadata": {},
   "source": [
    "## Moment 3 - Pas d'API : collecter directement des données sur internet (Emilien, 30 min)\n",
    "\n",
    "- Dans certains cas il n'y a pas d'API disponible, récupérer directement les données par les interfaces \"standard\"\n",
    "- Utiliser requests et BeautifulSoup\n",
    "- Importance de la rétro-ingénieurie : comprendre l'architecture d'une page web\n",
    "- Différentes stratégies : regex ou bibliothèques plus avancées\n",
    "- Récupérer des images ?"
   ]
  },
  {
   "cell_type": "markdown",
   "metadata": {},
   "source": [
    "Récupérer des notices de livres Python sur Wordcat https://www.worldcat.org/ puis mettre en forme dans un fichier\n",
    "- chercher islamo-gauchisme\n",
    "- voir la forme de l'URL https://www.worldcat.org/search?q=islamo-gauchisme&fq=&dblist=638&start=21&qt=page_number_link\n",
    "\n",
    "Démarche : \n",
    "- récupérer les pages de résultat\n",
    "- construire un tableau des liens vers les résultats\n",
    "- récupérer chaque notice"
   ]
  },
  {
   "cell_type": "markdown",
   "metadata": {},
   "source": [
    "### Première étape regarder un peu les éléments"
   ]
  },
  {
   "cell_type": "markdown",
   "metadata": {},
   "source": [
    "### Récupérer une page avec requests"
   ]
  },
  {
   "cell_type": "markdown",
   "metadata": {},
   "source": [
    "Une page"
   ]
  },
  {
   "cell_type": "code",
   "execution_count": 4,
   "metadata": {},
   "outputs": [],
   "source": [
    "import requests\n",
    "\n",
    "url = \"https://www.worldcat.org/search?q=islamo-gauchisme&fq=&dblist=638&start=1&qt=page_number_link\"\n",
    "\n",
    "page = requests.get(url)"
   ]
  },
  {
   "cell_type": "markdown",
   "metadata": {},
   "source": [
    "Toutes les pages"
   ]
  },
  {
   "cell_type": "code",
   "execution_count": 18,
   "metadata": {},
   "outputs": [
    {
     "name": "stdout",
     "output_type": "stream",
     "text": [
      "https://www.worldcat.org/search?q=islamo-gauchisme&fq=&dblist=638&start=1&qt=page_number_link\n",
      "https://www.worldcat.org/search?q=islamo-gauchisme&fq=&dblist=638&start=11&qt=page_number_link\n",
      "https://www.worldcat.org/search?q=islamo-gauchisme&fq=&dblist=638&start=21&qt=page_number_link\n",
      "https://www.worldcat.org/search?q=islamo-gauchisme&fq=&dblist=638&start=31&qt=page_number_link\n",
      "https://www.worldcat.org/search?q=islamo-gauchisme&fq=&dblist=638&start=41&qt=page_number_link\n",
      "https://www.worldcat.org/search?q=islamo-gauchisme&fq=&dblist=638&start=51&qt=page_number_link\n",
      "https://www.worldcat.org/search?q=islamo-gauchisme&fq=&dblist=638&start=61&qt=page_number_link\n"
     ]
    }
   ],
   "source": [
    "pages = []\n",
    "for i in range(0,7):\n",
    "    url = \"https://www.worldcat.org/search?q=islamo-gauchisme&fq=&dblist=638&start={}&qt=page_number_link\".format(1+10*i)\n",
    "    print(url)\n",
    "    page = requests.get(url)\n",
    "    pages.append(page)"
   ]
  },
  {
   "cell_type": "markdown",
   "metadata": {},
   "source": [
    "Extraire les liens : un peu de rétroingénierie\n",
    "\n",
    "Plusieurs stratégies :\n",
    "- tous les liens et filtrer\n",
    "- respecter la structure du document"
   ]
  },
  {
   "cell_type": "markdown",
   "metadata": {},
   "source": [
    "### Se balader dans la structure html : BeautifoulSoup"
   ]
  },
  {
   "cell_type": "code",
   "execution_count": 26,
   "metadata": {},
   "outputs": [],
   "source": [
    "import bs4"
   ]
  },
  {
   "cell_type": "code",
   "execution_count": 30,
   "metadata": {},
   "outputs": [],
   "source": [
    "page = bs4.BeautifulSoup(pages[0].content)"
   ]
  },
  {
   "cell_type": "code",
   "execution_count": 32,
   "metadata": {},
   "outputs": [],
   "source": [
    "liens = page.find_all(\"a\")"
   ]
  },
  {
   "cell_type": "code",
   "execution_count": 50,
   "metadata": {},
   "outputs": [],
   "source": [
    "liens = [i.attrs[\"href\"] for i in liens if \"href\" in i.attrs and \"/oclc/\" in i.attrs[\"href\"]]"
   ]
  },
  {
   "cell_type": "code",
   "execution_count": 53,
   "metadata": {},
   "outputs": [
    {
     "data": {
      "text/plain": [
       "{'/title/allons-nous-sortir-de-lhistoire/oclc/1100451295',\n",
       " '/title/emirats-de-la-republique-comment-les-islamistes-prennent-possession-de-la-banlieue/oclc/1140404936',\n",
       " '/title/empoisonneurs-antisemitisme-islamophobie-xenophobie/oclc/1198222296',\n",
       " '/title/islamo-gauchisme/oclc/8760612072',\n",
       " '/title/islamo-gauchisme/oclc/8932537540',\n",
       " '/title/liaisons-dangereuses-islamo-nazisme-islamo-gauchisme/oclc/1248694509',\n",
       " '/title/livre-des-indesires-une-histoire-des-arabes-en-france/oclc/1084514701',\n",
       " '/title/negationnisme-de-gauche/oclc/1099928429',\n",
       " '/title/racines-de-lislamo-gauchisme-dossier/oclc/1057453730',\n",
       " '/title/racisme-imaginaire-islamophobie-et-culpabilite/oclc/974816801'}"
      ]
     },
     "execution_count": 53,
     "metadata": {},
     "output_type": "execute_result"
    }
   ],
   "source": [
    "set([i.replace(\"&referer=brief_results\",\"\").replace(\"/editions?editionsView=true&referer=br\",\"\") for i in liens])"
   ]
  },
  {
   "cell_type": "code",
   "execution_count": 41,
   "metadata": {},
   "outputs": [],
   "source": [
    "a = liens[1]"
   ]
  },
  {
   "cell_type": "code",
   "execution_count": 45,
   "metadata": {},
   "outputs": [
    {
     "data": {
      "text/plain": [
       "'/'"
      ]
     },
     "execution_count": 45,
     "metadata": {},
     "output_type": "execute_result"
    }
   ],
   "source": [
    "a.attrs[\"href\"]"
   ]
  },
  {
   "cell_type": "markdown",
   "metadata": {},
   "source": [
    "### Ecrire une fonction pour récupérer les éléments dont on a besoin sur chacune des pages ..."
   ]
  },
  {
   "cell_type": "code",
   "execution_count": 66,
   "metadata": {},
   "outputs": [],
   "source": [
    "url = \"https://www.worldcat.org/title/islamo-gauchisme-du-pseudo-debat-a-la-realite-du-terrain/oclc/8999871764\""
   ]
  },
  {
   "cell_type": "code",
   "execution_count": 67,
   "metadata": {},
   "outputs": [],
   "source": [
    "page = bs4.BeautifulSoup(requests.get(url).content)"
   ]
  },
  {
   "cell_type": "code",
   "execution_count": 73,
   "metadata": {
    "scrolled": true
   },
   "outputs": [],
   "source": [
    "details = page.find_all(\"div\",{\"id\":\"details\"})[0]"
   ]
  },
  {
   "cell_type": "code",
   "execution_count": 79,
   "metadata": {},
   "outputs": [],
   "source": [
    "resume = details.find_all(\"div\",{\"class\":\"abstracttxt\"})[0].text\n",
    "doctype =  details.find_all(\"tr\",{\"id\":\"details-doctype\"})[0].text"
   ]
  },
  {
   "cell_type": "code",
   "execution_count": 87,
   "metadata": {},
   "outputs": [],
   "source": [
    "def get_info(url):\n",
    "    page = bs4.BeautifulSoup(requests.get(url).content)\n",
    "    details = page.find_all(\"div\",{\"id\":\"details\"})[0]\n",
    "    resume = details.find_all(\"div\",{\"class\":\"abstracttxt\"})[0].text\n",
    "    doctype =  details.find_all(\"tr\",{\"id\":\"details-doctype\"})[0].text\n",
    "    return [url,resume,doctype]"
   ]
  },
  {
   "cell_type": "code",
   "execution_count": 89,
   "metadata": {},
   "outputs": [
    {
     "data": {
      "text/plain": [
       "['https://www.worldcat.org/title/islamo-gauchisme-du-pseudo-debat-a-la-realite-du-terrain/oclc/8999871764',\n",
       " \"\\n           Au cœur de ce débat qui prend des tournures toujours plus inattendues, j'ai eu la chance d'avoir une conversation exigeante et mesurée, afin de prendre un peu de recul. Merci à CTRL Z pour sa confiance et, au passage, pour ses articles d'une trop rare finesse sur le mondes numériques et les débats de notre temps ! La conversation menée avec la mirifique Elodie Safaris est accessible sur Youtube ou Spotify ; je vous incruste ici la version Youtube. https://www.youtube.com/embed/ausj14hU-e...\",\n",
       " '\\nDocument Type:\\nArticle\\n']"
      ]
     },
     "execution_count": 89,
     "metadata": {},
     "output_type": "execute_result"
    }
   ],
   "source": [
    "url = \"https://www.worldcat.org/title/islamo-gauchisme-du-pseudo-debat-a-la-realite-du-terrain/oclc/8999871764\"\n",
    "get_info(url)"
   ]
  },
  {
   "cell_type": "markdown",
   "metadata": {},
   "source": [
    "### Tout intégrer dans un script"
   ]
  },
  {
   "cell_type": "code",
   "execution_count": null,
   "metadata": {},
   "outputs": [],
   "source": [
    "corpus = []\n",
    "for i in range(0,7):\n",
    "    url = \"https://www.worldcat.org/search?q=islamo-gauchisme&fq=&dblist=638&start={}&qt=page_number_link\".format(1+10*i)\n",
    "    page = requests.get(url)\n",
    "    page = bs4.BeautifulSoup(page.content)\n",
    "    liens = page.find_all(\"a\")\n",
    "    liens = [i.attrs[\"href\"] for i in liens if \"href\" in i.attrs and \"/oclc/\" in i.attrs[\"href\"]]\n",
    "    liens = set([i.replace(\"&referer=brief_results\",\"\").replace(\"/editions?editionsView=true&referer=br\",\"\") for i in liens])\n",
    "    corpus+=list(liens)\n",
    "\n",
    "data = []\n",
    "for url in corpus:\n",
    "    data.append(get_info(url))"
   ]
  },
  {
   "cell_type": "markdown",
   "metadata": {},
   "source": [
    "## Moment 4 - Plus d'API, du point de vue humain à celui de l'ordinateur (Matthias, 15-30 min)\n",
    "\n",
    "Différents types d'API / Généralisation\n",
    "\n",
    "Différentes version d'API\n",
    "\n",
    "Normalisation\n",
    "\n",
    "REST/ GraphQL\n",
    "\n",
    "usages plus compliqués : async\n",
    "\n",
    "Créer sa propre API ? Garder la signature des fonctions\n",
    "\n",
    "API non web\n",
    "\n",
    "Poster\n",
    "\n",
    "- Livres Gallica : https://api.bnf.fr/fr/wrapper-python-pour-les-api-gallica / https://github.com/ian-nai/PyGallica\n",
    "- Vidéos : https://pypi.org/project/python-youtube/\n",
    "- Scrapper plus complexes (scrapy, etc.)"
   ]
  },
  {
   "cell_type": "code",
   "execution_count": null,
   "metadata": {},
   "outputs": [],
   "source": []
  }
 ],
 "metadata": {
  "kernelspec": {
   "display_name": "Python 3",
   "language": "python",
   "name": "python3"
  },
  "language_info": {
   "codemirror_mode": {
    "name": "ipython",
    "version": 3
   },
   "file_extension": ".py",
   "mimetype": "text/x-python",
   "name": "python",
   "nbconvert_exporter": "python",
   "pygments_lexer": "ipython3",
   "version": "3.7.7"
  }
 },
 "nbformat": 4,
 "nbformat_minor": 4
}
