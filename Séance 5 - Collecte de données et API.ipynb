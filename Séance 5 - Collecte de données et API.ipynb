{
 "cells": [
  {
   "cell_type": "markdown",
   "metadata": {},
   "source": [
    "# Séance 5 - Collecte de données et API\n",
    "\n",
    "L'objectif de la séance est de voir comment utiliser certaines API pour passer de données sur internet à une base de données exploitables, mais aussi de récupérer du contenu de page internet."
   ]
  },
  {
   "cell_type": "markdown",
   "metadata": {},
   "source": [
    "## Moment 1 - Ce qu'est une API (Matthias, 30 min)\n",
    "\n",
    "- Rechercher, regarder la documentation, mettre en oeuvre et récupérer les données\n",
    "- Vérifier l'actualité de l'API (ex. de GetOldTweets)\n",
    "- Trois cas rapide : Wikipédia & Google Scholar"
   ]
  },
  {
   "cell_type": "markdown",
   "metadata": {},
   "source": [
    "## C'est quoi une API, les données sur internet, etc.\n",
    "\n",
    "API : approche très computer science\n",
    "\n",
    "Par exemple, sur la récupération de données météo : https://pypi.org/project/python-weather/\n",
    "\n",
    "Passer par des morceaux de codes déjà écrits\n",
    "\n",
    "Sensibilisation aux limites légales etc.\n",
    "\n",
    "Lien avec les bibliothèques\n",
    "\n",
    "API et wrappers\n",
    "\n",
    "-> S3"
   ]
  },
  {
   "cell_type": "markdown",
   "metadata": {},
   "source": [
    "### Wikipédia\n",
    "\n",
    "https://pypi.org/project/wikipedia/\n",
    "\n",
    "Les différents éléments autour de Python\n",
    "\n",
    "Exemple du fait qu'elle a changé entre notre code et la publi du bouquin."
   ]
  },
  {
   "cell_type": "markdown",
   "metadata": {},
   "source": [
    "### Géolocalisation avec OSM\n",
    "\n",
    "https://pypi.org/project/geocoder/0.5.7/"
   ]
  },
  {
   "cell_type": "code",
   "execution_count": 6,
   "metadata": {},
   "outputs": [
    {
     "name": "stdout",
     "output_type": "stream",
     "text": [
      "Requirement already satisfied: geocoder in /Users/emilien/anaconda3/envs/p37/lib/python3.7/site-packages (1.38.1)\n",
      "Requirement already satisfied: requests in /Users/emilien/anaconda3/envs/p37/lib/python3.7/site-packages (from geocoder) (2.23.0)\n",
      "Requirement already satisfied: six in /Users/emilien/anaconda3/envs/p37/lib/python3.7/site-packages (from geocoder) (1.14.0)\n",
      "Requirement already satisfied: click in /Users/emilien/anaconda3/envs/p37/lib/python3.7/site-packages (from geocoder) (7.1.2)\n",
      "Requirement already satisfied: future in /Users/emilien/anaconda3/envs/p37/lib/python3.7/site-packages (from geocoder) (0.18.2)\n",
      "Requirement already satisfied: ratelim in /Users/emilien/anaconda3/envs/p37/lib/python3.7/site-packages (from geocoder) (0.1.6)\n",
      "Requirement already satisfied: urllib3!=1.25.0,!=1.25.1,<1.26,>=1.21.1 in /Users/emilien/anaconda3/envs/p37/lib/python3.7/site-packages (from requests->geocoder) (1.25.8)\n",
      "Requirement already satisfied: chardet<4,>=3.0.2 in /Users/emilien/anaconda3/envs/p37/lib/python3.7/site-packages (from requests->geocoder) (3.0.4)\n",
      "Requirement already satisfied: idna<3,>=2.5 in /Users/emilien/anaconda3/envs/p37/lib/python3.7/site-packages (from requests->geocoder) (2.9)\n",
      "Requirement already satisfied: certifi>=2017.4.17 in /Users/emilien/anaconda3/envs/p37/lib/python3.7/site-packages (from requests->geocoder) (2020.4.5.1)\n",
      "Requirement already satisfied: decorator in /Users/emilien/anaconda3/envs/p37/lib/python3.7/site-packages (from ratelim->geocoder) (4.4.2)\n"
     ]
    }
   ],
   "source": [
    "!pip install geocoder"
   ]
  },
  {
   "cell_type": "code",
   "execution_count": 10,
   "metadata": {},
   "outputs": [
    {
     "data": {
      "text/plain": [
       "[46.5218269, 6.6327025]"
      ]
     },
     "execution_count": 10,
     "metadata": {},
     "output_type": "execute_result"
    }
   ],
   "source": [
    "import geocoder\n",
    "g = geocoder.osm('Lausanne, Suisse')\n",
    "g.latlng"
   ]
  },
  {
   "cell_type": "markdown",
   "metadata": {},
   "source": [
    "### Google Scholar\n",
    "\n",
    "Par exemple pour faire de la scientométrie\n",
    "\n",
    "https://scholarly.readthedocs.io/en/latest/quickstart.html"
   ]
  },
  {
   "cell_type": "code",
   "execution_count": null,
   "metadata": {},
   "outputs": [],
   "source": [
    "!pip install scholarly"
   ]
  },
  {
   "cell_type": "code",
   "execution_count": 2,
   "metadata": {},
   "outputs": [],
   "source": [
    "from scholarly import scholarly"
   ]
  },
  {
   "cell_type": "code",
   "execution_count": 5,
   "metadata": {},
   "outputs": [
    {
     "name": "stdout",
     "output_type": "stream",
     "text": [
      "Emilien Schultz\n"
     ]
    }
   ],
   "source": [
    "# Retrieve the author's data, fill-in, and print\n",
    "search_query = scholarly.search_author('Émilien Schultz')\n",
    "author = scholarly.fill(next(search_query))\n",
    "print(author['name'])\n",
    "\n",
    "# Print the titles of the author's publications\n",
    "#print([pub['bib']['title'] for pub in author['publications']])\n",
    "\n",
    "# Take a closer look at the first publication\n",
    "#pub = scholarly.fill(author['publications'][0])\n",
    "#print(pub)\n",
    "\n",
    "# Which papers cited that publication?\n",
    "#print([citation['bib']['title'] for citation in scholarly.citedby(pub)])"
   ]
  },
  {
   "cell_type": "markdown",
   "metadata": {},
   "source": [
    "## Moment 2 - Utiliser une API plus complexe : Twitter (Emilien, 30 min)\n",
    "\n",
    "- Tweepy : https://github.com/tweepy/tweepy\n",
    "- l'API Twitter, créer un compte et demander des crédentiels\n",
    "- Mettre ses crédentials\n",
    "- Collecter les tweets récents sur pyshs ?\n",
    "- Collecter les tweets autour d'islamogauchiste sur une période\n",
    "- Regarder les données et les mettre en forme\n",
    "- Créer un collecteur qui s'inscrit dans le temps...\n",
    "\n",
    "Emilien ?"
   ]
  },
  {
   "cell_type": "markdown",
   "metadata": {},
   "source": [
    "Faire un test avec le tutorial de tweepy : les deux étapes de configuration de l'API puis son utilisation"
   ]
  },
  {
   "cell_type": "code",
   "execution_count": 29,
   "metadata": {},
   "outputs": [
    {
     "name": "stdout",
     "output_type": "stream",
     "text": [
      "RT @afs_socio: Annonce importante : notre congrès, prévu du 6 au 9 juillet 2021 à Lille, se tiendra entièrement en distanciel. Plus de déta…\n",
      "Bon @UPS_FR il faudrait former vos livreurs au code de la route car à ma question s'il voyait le problème d'être st… https://t.co/IunTBaWwE9\n",
      "RT @ADRIPS_comm: #Doctorat\n",
      "#Financement\n",
      "\n",
      "Thèse (LaPEA, Versailles) : \"Modélisation de l'acceptabilité de mesures publiques et d'initiatives…\n",
      "RT @Gometmedia: [Urgent] 🔴 🚴👏 Le 1er dimanche sans voitures à #Marseille aura lieu le 23 mai sur la #Corniche Un bon début... Roulez, march…\n",
      "RT @102bis: Ces deux mois de silence sur Twitter, c’était le temps d’imaginer avec toute l’équipe démissionnaire de #scienceetvie le magazi…\n",
      "À voir : 2e cours de Didier Fassin au Collège de France, sur \"la\" vérité des chiffes en santé publique. Contre un p… https://t.co/9c17uSLTYL\n",
      "Et fanfare de pause sur la plaine ouverte https://t.co/tO5iZcJgxM\n",
      "https://t.co/hQ1xBd0DBB\n",
      "https://t.co/MaEqmHpNyP\n",
      "Velorution de Marseille sur le départ #criticalmassilia #vélorution #marseille #pourquoipaslevelo https://t.co/nwucxjez2x\n",
      "Après un coup de klaxon déplacé d'une dame dans une voiture neuve qui me crache \"le vélo, c'est pour une élite\". Al… https://t.co/yEGDZODkWk\n",
      "RT @PrintempsMRS: 🔆La Plaine est réouverte au public !\n",
      "\n",
      "Pour penser ensemble la réappropriation de cette place par les Marseillais, nous ap…\n",
      "RT @ParisEnSelle: Dans son livre \"Pourquoi pas le vélo\" qui paraît aujourd'hui, Stein van Oosteren, promoteur du 🚲 à l'enthousiasme sans pa…\n",
      "Et merci @l_hydre pour faire transiter les livres d'importance :)\n",
      "Hé oui, pourquoi pas le vélo ? Un livre qui se lit déjà jusqu'à Marseille, c'est dire que le vélo se déplace rapide… https://t.co/fXkEXrIVAk\n",
      "RT @fperez_org: An excellent illustration of the value of giving your objects custom reprs in IPython/Jupyter - that's why we made the rich…\n",
      "RT @OuzouliasP: La version définitive et votée à l’unanimité du rapport sur l’intégrité vient d’être publiée :\n",
      "https://t.co/xJ7WbAIdZc\n",
      "Plus…\n",
      "Bonjour @AMPMetropole Le 20 janvier j'ai commandé et payé un composteur dont je n'ai toujours pas vu la couleur, et… https://t.co/KjKhU9Ze0N\n",
      "RT @wikihow_museum: \"cher professeur, je me suis déjà exprimé sur le sujet que vous proposez ce matin sur mon compte Twitter, voici l'URL d…\n",
      "RT @UrfistLyon: #SaveTheDate ✍️ Jeudi 30 septembre, 9h30-17h. \n",
      "Journée Nationale d’Étude du Réseau des URFIST à Lyon: \n",
      "Méthodes numériques…\n"
     ]
    }
   ],
   "source": [
    "import tweepy\n",
    "\n",
    "consumer_key = \"mHqUaZkujRDAAn20gJJAHu3ly\"\n",
    "consumer_secret = \"Iz237BNqXCSStFetp196GwNBXWNTHmmJFit6ZcdxAwwHP17rf0\"\n",
    "access_token = \"1388816341516365825-uQKcLImidWmUhCpNoeVXtftbvDA6tO\"\n",
    "access_token_secret = \"m9ug3cTZIdMAY14ktwd0WXB8ms8HKdijmUMyFnOxWxtKJ\"\n",
    "\n",
    "\n",
    "auth = tweepy.OAuthHandler(consumer_key, consumer_secret)\n",
    "auth.set_access_token(access_token, access_token_secret)\n",
    "\n",
    "api = tweepy.API(auth)\n",
    "\n",
    "public_tweets = api.home_timeline()\n",
    "for tweet in public_tweets:\n",
    "    print(tweet.text)"
   ]
  },
  {
   "cell_type": "markdown",
   "metadata": {},
   "source": [
    "Poster un tweet"
   ]
  },
  {
   "cell_type": "code",
   "execution_count": null,
   "metadata": {},
   "outputs": [],
   "source": [
    "t = api.update_status(\"Préparation de la prochaine séance du cours #pyshs à Lausanne - les API. Test de l'API :)\")"
   ]
  },
  {
   "cell_type": "markdown",
   "metadata": {},
   "source": [
    "Mettre le statut à jour"
   ]
  },
  {
   "cell_type": "code",
   "execution_count": 32,
   "metadata": {},
   "outputs": [],
   "source": [
    "t = api.update_profile(description=\"Réflexion collective autour de Python pour les Sciences Humaines et Sociales\")"
   ]
  },
  {
   "cell_type": "markdown",
   "metadata": {},
   "source": [
    "Etudier un utilisateur"
   ]
  },
  {
   "cell_type": "code",
   "execution_count": 25,
   "metadata": {},
   "outputs": [],
   "source": [
    "user = api.get_user(\"pyshs\")\n",
    "user.id"
   ]
  },
  {
   "cell_type": "markdown",
   "metadata": {},
   "source": [
    "Récupérer tous les tweets mentionnant pyshs"
   ]
  },
  {
   "cell_type": "code",
   "execution_count": 46,
   "metadata": {},
   "outputs": [
    {
     "name": "stdout",
     "output_type": "stream",
     "text": [
      "Préparation de la prochaine séance du cours #pyshs à Lausanne - les API. Test de l'API :)\n"
     ]
    }
   ],
   "source": [
    "corpus = api.search(q=\"Pyshs\",count=100,lang=\"fr\")\n",
    "\n",
    "for tweet in corpus:\n",
    "    print(tweet.text)"
   ]
  },
  {
   "cell_type": "markdown",
   "metadata": {},
   "source": [
    "Attention limite de 7 jours"
   ]
  },
  {
   "cell_type": "markdown",
   "metadata": {},
   "source": [
    "Petite réflexion sur le chargement des codes ? Rendre public ?"
   ]
  },
  {
   "cell_type": "code",
   "execution_count": null,
   "metadata": {},
   "outputs": [],
   "source": [
    "import json\n",
    "\n",
    "consumer_key = \"mHqUaZkujRDAAn20gJJAHu3ly\"\n",
    "consumer_secret = \"Iz237BNqXCSStFetp196GwNBXWNTHmmJFit6ZcdxAwwHP17rf0\"\n",
    "access_token = \"1388816341516365825-pQddB13qZxsz3DSHqeKMW8vmHAq2OY\"\n",
    "access_token_secret = \"mSIM8JQwJi3IU1F5MF9bLWRVQIlPzD3d1LHPjCfYu74L3\"\n",
    "\n",
    "codes = {\"consumer_key\":consumer_key,\"consumer_secret\":consumer_secret,\n",
    "         \"access_token\":access_token,\"access_token_secret\":access_token_secret}\n",
    "\n",
    "with open(\"twitter.keys\",\"w\") as f:\n",
    "    json.dump(codes,f)\n",
    "    \n",
    "with open(\"twitter.keys\",\"r\") as f:\n",
    "    codes = json.load(f)"
   ]
  },
  {
   "cell_type": "markdown",
   "metadata": {},
   "source": [
    "Créer une collecte en continue de tweets :\n",
    "- les stratégies ?\n",
    "- aller plus loin dans la compréhension de Python"
   ]
  },
  {
   "cell_type": "markdown",
   "metadata": {},
   "source": [
    "## Moment 3 - Pas d'API : collecter directement des données sur internet (Emilien, 30 min)\n",
    "\n",
    "- Utiliser requests et BeautifulSoup\n",
    "- Importance de la rétro-ingénieurie : comprendre l'architecture d'une page web\n",
    "- Différentes stratégies : regex ou bibliothèques plus avancées\n",
    "- Récupérer des notices de livres Python sur Wordcat https://www.worldcat.org/ puis mettre en forme dans un fichier\n",
    "- Récupérer des images ?\n",
    "\n",
    "Matthias ?"
   ]
  },
  {
   "cell_type": "markdown",
   "metadata": {},
   "source": [
    "## Moment 4 - Plus d'API, du point de vue humain à celui de l'ordinateur (Matthias, 15-30 min)\n",
    "\n",
    "Différents types d'API / Généralisation\n",
    "\n",
    "Différentes version d'API\n",
    "\n",
    "Normalisation\n",
    "\n",
    "REST/ GraphQL\n",
    "\n",
    "usages plus compliqués : async\n",
    "\n",
    "Créer sa propre API ? Garder la signature des fonctions\n",
    "\n",
    "API non web\n",
    "\n",
    "Poster\n",
    "\n",
    "- Livres Gallica : https://api.bnf.fr/fr/wrapper-python-pour-les-api-gallica / https://github.com/ian-nai/PyGallica\n",
    "- Vidéos : https://pypi.org/project/python-youtube/\n",
    "- Scrapper plus complexes (scrapy, etc.)\n"
   ]
  },
  {
   "cell_type": "code",
   "execution_count": null,
   "metadata": {},
   "outputs": [],
   "source": []
  }
 ],
 "metadata": {
  "kernelspec": {
   "display_name": "Python 3",
   "language": "python",
   "name": "python3"
  },
  "language_info": {
   "codemirror_mode": {
    "name": "ipython",
    "version": 3
   },
   "file_extension": ".py",
   "mimetype": "text/x-python",
   "name": "python",
   "nbconvert_exporter": "python",
   "pygments_lexer": "ipython3",
   "version": "3.7.7"
  }
 },
 "nbformat": 4,
 "nbformat_minor": 4
}
