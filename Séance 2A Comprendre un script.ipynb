{
 "cells": [
  {
   "cell_type": "markdown",
   "metadata": {},
   "source": [
    "# Les blocs du script (suite de la séance 1)"
   ]
  },
  {
   "cell_type": "markdown",
   "metadata": {},
   "source": [
    "Script copié/collé d'un site/forum/autre"
   ]
  },
  {
   "cell_type": "code",
   "execution_count": 2,
   "metadata": {},
   "outputs": [
    {
     "name": "stdout",
     "output_type": "stream",
     "text": [
      "Tension entre l'exécutif et le monde scientifique Après les déclarations de Vidal sur l' «  islamo-gauchisme », Attal a rappelé « l'indépendance » des chercheurs\n",
      "Proportion d'articles contenant le terme dans le titre : 50.0 %\n"
     ]
    }
   ],
   "source": [
    "nombre_articles = 0\n",
    "motcle = \"islamo\"\n",
    "titres = [\"Tension entre l'exécutif et le monde scientifique Après les déclarations de Vidal sur l' «  islamo-gauchisme », Attal a rappelé « l'indépendance » des chercheurs\",\n",
    "          \"La fiche de poste modifiée de l'université Paris-Est-Créteil\"]\n",
    "nombre_total_articles = len(titres)\n",
    "if nombre_total_articles > 0:\n",
    "    for i in titres:\n",
    "        if motcle in i:\n",
    "            print(i)\n",
    "            nombre_articles+=1\n",
    "else:\n",
    "    print(\"La liste est vide\")\n",
    "proportion = 100*nombre_articles/nombre_total_articles\n",
    "print(\"Proportion d'articles contenant le terme dans le titre : {} %\".format(round(proportion,1)))"
   ]
  },
  {
   "cell_type": "markdown",
   "metadata": {},
   "source": [
    "## 1. Un ensemble de fonctions prédéfinies"
   ]
  },
  {
   "cell_type": "markdown",
   "metadata": {},
   "source": [
    "La longueur d'une liste"
   ]
  },
  {
   "cell_type": "markdown",
   "metadata": {},
   "source": [
    "L'affichage / les entrées"
   ]
  },
  {
   "cell_type": "markdown",
   "metadata": {},
   "source": [
    "Les différents types"
   ]
  },
  {
   "cell_type": "markdown",
   "metadata": {},
   "source": [
    "## 2. Les blocs qui organisent le script\n",
    "\n",
    "Un script est un enchaînement d'étapes. Chaque étape est une action. Certains blocs permettent de structurer le code :\n",
    "\n",
    "- Les conditions\n",
    "- Les boucles\n",
    "- Les exceptions ?"
   ]
  },
  {
   "cell_type": "markdown",
   "metadata": {},
   "source": [
    "## Intermède : les commentaires dans le code"
   ]
  },
  {
   "cell_type": "markdown",
   "metadata": {},
   "source": [
    "## 3. Définir ses propres fonctions\n",
    "\n",
    "Il est possible de créer des boîtes avec du code à réutiliser, qui prennent des entrées et renvoient des sorties."
   ]
  },
  {
   "cell_type": "markdown",
   "metadata": {},
   "source": [
    "## 4. Écrire dans un fichier"
   ]
  },
  {
   "cell_type": "markdown",
   "metadata": {},
   "source": [
    "Quand un programme se développe, il est nécessaire d'apprendre à lire et à écrire\n",
    "\n",
    "- formats de fichier\n",
    "- lire un contenu\n",
    "- écrire un contenu"
   ]
  },
  {
   "cell_type": "markdown",
   "metadata": {},
   "source": [
    "## Application : intégrer une lecture/écriture dans notre code"
   ]
  }
 ],
 "metadata": {
  "kernelspec": {
   "display_name": "Python 3",
   "language": "python",
   "name": "python3"
  },
  "language_info": {
   "codemirror_mode": {
    "name": "ipython",
    "version": 3
   },
   "file_extension": ".py",
   "mimetype": "text/x-python",
   "name": "python",
   "nbconvert_exporter": "python",
   "pygments_lexer": "ipython3",
   "version": "3.7.7"
  }
 },
 "nbformat": 4,
 "nbformat_minor": 4
}
