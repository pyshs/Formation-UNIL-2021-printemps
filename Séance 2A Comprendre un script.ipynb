{
 "cells": [
  {
   "cell_type": "markdown",
   "metadata": {},
   "source": [
    "# Les blocs du script (suite de la séance 1)"
   ]
  },
  {
   "cell_type": "markdown",
   "metadata": {},
   "source": [
    "Script copié/collé d'un site/forum/autre"
   ]
  },
  {
   "cell_type": "code",
   "execution_count": 2,
   "metadata": {},
   "outputs": [
    {
     "name": "stdout",
     "output_type": "stream",
     "text": [
      "Tension entre l'exécutif et le monde scientifique Après les déclarations de Vidal sur l' «  islamo-gauchisme », Attal a rappelé « l'indépendance » des chercheurs\n",
      "Proportion d'articles contenant le terme dans le titre : 50.0 %\n"
     ]
    }
   ],
   "source": [
    "nombre_articles = 0\n",
    "motcle = \"islamo\"\n",
    "titres = [\"Tension entre l'exécutif et le monde scientifique Après les déclarations de Vidal sur l' «  islamo-gauchisme », Attal a rappelé « l'indépendance » des chercheurs\",\n",
    "          \"La fiche de poste modifiée de l'université Paris-Est-Créteil\"]\n",
    "nombre_total_articles = len(titres)\n",
    "\n",
    "if nombre_total_articles > 0:\n",
    "    for i in titres:\n",
    "        if motcle in i:\n",
    "            print(i)\n",
    "            nombre_articles+=1\n",
    "else:\n",
    "    print(\"La liste est vide\")\n",
    "    \n",
    "proportion = 100*nombre_articles/nombre_total_articles\n",
    "print(\"Proportion d'articles contenant le terme dans le titre : {} %\".format(round(proportion,1)))"
   ]
  },
  {
   "cell_type": "markdown",
   "metadata": {},
   "source": [
    "## 1. Un ensemble de fonctions prédéfinies"
   ]
  },
  {
   "cell_type": "markdown",
   "metadata": {},
   "source": [
    "La longueur d'une liste : fonction len"
   ]
  },
  {
   "cell_type": "code",
   "execution_count": 4,
   "metadata": {},
   "outputs": [
    {
     "data": {
      "text/plain": [
       "2"
      ]
     },
     "execution_count": 4,
     "metadata": {},
     "output_type": "execute_result"
    }
   ],
   "source": [
    "len(titres)"
   ]
  },
  {
   "cell_type": "markdown",
   "metadata": {},
   "source": [
    "L'affichage / les entrées : fonction print"
   ]
  },
  {
   "cell_type": "code",
   "execution_count": 5,
   "metadata": {},
   "outputs": [
    {
     "name": "stdout",
     "output_type": "stream",
     "text": [
      "la longueur de la variable titre est 2\n",
      "cette ligne va aussi être affichée\n"
     ]
    }
   ],
   "source": [
    "print(\"la longueur de la variable titre est \"+str(len(titres)))\n",
    "print(\"cette ligne va aussi être affichée\")"
   ]
  },
  {
   "cell_type": "markdown",
   "metadata": {},
   "source": [
    "Les différents types : fonction type, int, float, etc."
   ]
  },
  {
   "cell_type": "code",
   "execution_count": 6,
   "metadata": {},
   "outputs": [
    {
     "data": {
      "text/plain": [
       "list"
      ]
     },
     "execution_count": 6,
     "metadata": {},
     "output_type": "execute_result"
    }
   ],
   "source": [
    "type(titres)"
   ]
  },
  {
   "cell_type": "code",
   "execution_count": 7,
   "metadata": {},
   "outputs": [
    {
     "data": {
      "text/plain": [
       "'[\"Tension entre l\\'exécutif et le monde scientifique Après les déclarations de Vidal sur l\\' «  islamo-gauchisme », Attal a rappelé « l\\'indépendance » des chercheurs\", \"La fiche de poste modifiée de l\\'université Paris-Est-Créteil\"]'"
      ]
     },
     "execution_count": 7,
     "metadata": {},
     "output_type": "execute_result"
    }
   ],
   "source": [
    "str(titres)"
   ]
  },
  {
   "cell_type": "markdown",
   "metadata": {},
   "source": [
    "Notez que les fonctions de base sont colorées en vert, pour vous rappeler que ces noms sont déjà pris pour définir des fonctions"
   ]
  },
  {
   "cell_type": "markdown",
   "metadata": {},
   "source": [
    "## 2. Les blocs qui organisent le script\n",
    "\n",
    "Un script est un enchaînement d'étapes. Chaque étape est une action. Certains blocs permettent de structurer le code :\n",
    "\n",
    "- Les conditions\n",
    "- Les boucles"
   ]
  },
  {
   "cell_type": "markdown",
   "metadata": {},
   "source": [
    "### Les conditions"
   ]
  },
  {
   "cell_type": "markdown",
   "metadata": {},
   "source": [
    "Il y a un type particulier : les booléens"
   ]
  },
  {
   "cell_type": "code",
   "execution_count": 9,
   "metadata": {},
   "outputs": [],
   "source": [
    "variable = True"
   ]
  },
  {
   "cell_type": "code",
   "execution_count": 11,
   "metadata": {},
   "outputs": [
    {
     "data": {
      "text/plain": [
       "bool"
      ]
     },
     "execution_count": 11,
     "metadata": {},
     "output_type": "execute_result"
    }
   ],
   "source": [
    "type(variable)"
   ]
  },
  {
   "cell_type": "markdown",
   "metadata": {},
   "source": [
    "Cette variable est renvoyée quand on évalue une condition (par exemple une comparaison)"
   ]
  },
  {
   "cell_type": "code",
   "execution_count": 12,
   "metadata": {},
   "outputs": [
    {
     "data": {
      "text/plain": [
       "False"
      ]
     },
     "execution_count": 12,
     "metadata": {},
     "output_type": "execute_result"
    }
   ],
   "source": [
    "1 < -1"
   ]
  },
  {
   "cell_type": "code",
   "execution_count": 13,
   "metadata": {},
   "outputs": [
    {
     "data": {
      "text/plain": [
       "True"
      ]
     },
     "execution_count": 13,
     "metadata": {},
     "output_type": "execute_result"
    }
   ],
   "source": [
    "10 == 10"
   ]
  },
  {
   "cell_type": "code",
   "execution_count": 14,
   "metadata": {},
   "outputs": [
    {
     "data": {
      "text/plain": [
       "False"
      ]
     },
     "execution_count": 14,
     "metadata": {},
     "output_type": "execute_result"
    }
   ],
   "source": [
    "\"10\" == 10"
   ]
  },
  {
   "cell_type": "code",
   "execution_count": 15,
   "metadata": {},
   "outputs": [
    {
     "data": {
      "text/plain": [
       "True"
      ]
     },
     "execution_count": 15,
     "metadata": {},
     "output_type": "execute_result"
    }
   ],
   "source": [
    "\"texte\" == \"texte\""
   ]
  },
  {
   "cell_type": "markdown",
   "metadata": {},
   "source": [
    "Il est donc possible d'utiliser le fait que quelque chose soit vrai ou faux pour décider d'exécuter une action : ce sont les conditions"
   ]
  },
  {
   "cell_type": "markdown",
   "metadata": {},
   "source": [
    "Forme d'une condition.\n",
    "\n",
    "```python\n",
    "if condition:\n",
    "    # le code executé si la condition est vraie\n",
    "elif autre condition.:    \n",
    "    # \n",
    "else:\n",
    "    # autre chose.\n",
    "```\n"
   ]
  },
  {
   "cell_type": "code",
   "execution_count": 17,
   "metadata": {
    "scrolled": true
   },
   "outputs": [
    {
     "data": {
      "text/plain": [
       "True"
      ]
     },
     "execution_count": 17,
     "metadata": {},
     "output_type": "execute_result"
    }
   ],
   "source": [
    "nombre_total_articles > 0"
   ]
  },
  {
   "cell_type": "code",
   "execution_count": 19,
   "metadata": {},
   "outputs": [
    {
     "name": "stdout",
     "output_type": "stream",
     "text": [
      "Tension entre l'exécutif et le monde scientifique Après les déclarations de Vidal sur l' «  islamo-gauchisme », Attal a rappelé « l'indépendance » des chercheurs\n"
     ]
    }
   ],
   "source": [
    "if nombre_total_articles > 0:\n",
    "    for i in titres:\n",
    "        if motcle in i:\n",
    "            print(i)\n",
    "            nombre_articles+=1\n",
    "else:\n",
    "    print(\"La liste est vide\")"
   ]
  },
  {
   "cell_type": "markdown",
   "metadata": {},
   "source": [
    "Comme la liste n'est pas vide, c'est la première partie qui est exécutée."
   ]
  },
  {
   "cell_type": "markdown",
   "metadata": {},
   "source": [
    "On utilise une deuxième condition dedans, qui utilise le mot clé in pour évaluer si un élément (ici une chaîne de caractères) est présent dans un autre ensemble (ici une autre chaîne de caractères)"
   ]
  },
  {
   "cell_type": "code",
   "execution_count": 20,
   "metadata": {},
   "outputs": [
    {
     "data": {
      "text/plain": [
       "True"
      ]
     },
     "execution_count": 20,
     "metadata": {},
     "output_type": "execute_result"
    }
   ],
   "source": [
    "\"est\" in \"ceci est présent\""
   ]
  },
  {
   "cell_type": "code",
   "execution_count": 22,
   "metadata": {},
   "outputs": [
    {
     "data": {
      "text/plain": [
       "False"
      ]
     },
     "execution_count": 22,
     "metadata": {},
     "output_type": "execute_result"
    }
   ],
   "source": [
    "\"islamo\" in \"ceci est présent\""
   ]
  },
  {
   "cell_type": "markdown",
   "metadata": {},
   "source": [
    "Attention, ce n'est pas la même chose évaluer un morceau de texte dans un texte ,et un élément dans une chaîne de caractères"
   ]
  },
  {
   "cell_type": "code",
   "execution_count": 27,
   "metadata": {},
   "outputs": [
    {
     "data": {
      "text/plain": [
       "\"Tension entre l'exécutif et le monde scientifique Après les déclarations de Vidal sur l' «  islamo-gauchisme », Attal a rappelé « l'indépendance » des chercheurs\""
      ]
     },
     "execution_count": 27,
     "metadata": {},
     "output_type": "execute_result"
    }
   ],
   "source": [
    "titre = titres[0] #premier élément du tableau de titres\n",
    "titre"
   ]
  },
  {
   "cell_type": "code",
   "execution_count": 28,
   "metadata": {},
   "outputs": [
    {
     "data": {
      "text/plain": [
       "True"
      ]
     },
     "execution_count": 28,
     "metadata": {},
     "output_type": "execute_result"
    }
   ],
   "source": [
    "\"islamo\" in titre"
   ]
  },
  {
   "cell_type": "code",
   "execution_count": 31,
   "metadata": {},
   "outputs": [],
   "source": [
    "mots_du_titre = titre.split()"
   ]
  },
  {
   "cell_type": "code",
   "execution_count": 32,
   "metadata": {},
   "outputs": [
    {
     "data": {
      "text/plain": [
       "False"
      ]
     },
     "execution_count": 32,
     "metadata": {},
     "output_type": "execute_result"
    }
   ],
   "source": [
    "\"islamo\" in mots_du_titre"
   ]
  },
  {
   "cell_type": "markdown",
   "metadata": {},
   "source": [
    "## Les boucles"
   ]
  },
  {
   "cell_type": "markdown",
   "metadata": {},
   "source": [
    "Structure de la boucle for qui prend successivement les éléments d'un ensemble, les mets dans une variable temporaire (un itérateur) et puis permet de faire des actions sur cet élément\n",
    "\n",
    "```python\n",
    "for variable in sequence:\n",
    "    # quoi faire.\n",
    "```"
   ]
  },
  {
   "cell_type": "markdown",
   "metadata": {},
   "source": [
    "La variable d'itération est définie pour la boucle"
   ]
  },
  {
   "cell_type": "code",
   "execution_count": 33,
   "metadata": {},
   "outputs": [
    {
     "name": "stdout",
     "output_type": "stream",
     "text": [
      "un\n",
      "deux\n",
      "trois\n",
      "nous\n",
      "faisons\n",
      "du\n",
      "Python\n"
     ]
    }
   ],
   "source": [
    "for mot in [\"un\", \"deux\", \"trois\", \"nous\", \"faisons\",\"du\", \"Python\"]:\n",
    "    print(mot)"
   ]
  },
  {
   "cell_type": "markdown",
   "metadata": {},
   "source": [
    "## Intermède : les commentaires dans le code"
   ]
  },
  {
   "cell_type": "markdown",
   "metadata": {},
   "source": [
    "Avec les éléments précédents, nous avons tous les éléments pour comprendre le code de départ et le commenter, c'est à dire rajouter des informations non exécutées qui vont aider le lecteur à se repérer dans le code."
   ]
  },
  {
   "cell_type": "code",
   "execution_count": 35,
   "metadata": {},
   "outputs": [
    {
     "name": "stdout",
     "output_type": "stream",
     "text": [
      "Tension entre l'exécutif et le monde scientifique Après les déclarations de Vidal sur l' «  islamo-gauchisme », Attal a rappelé « l'indépendance » des chercheurs\n",
      "Proportion d'articles contenant le terme dans le titre : 50.0 %\n"
     ]
    }
   ],
   "source": [
    "# Définir des variables\n",
    "nombre_articles = 0\n",
    "motcle = \"islamo\"\n",
    "titres = [\"Tension entre l'exécutif et le monde scientifique Après les déclarations de Vidal sur l' «  islamo-gauchisme », Attal a rappelé « l'indépendance » des chercheurs\",\n",
    "          \"La fiche de poste modifiée de l'université Paris-Est-Créteil\"]\n",
    "nombre_total_articles = len(titres)\n",
    "\n",
    "# Faire une condition pour vérifier qu'il y a bien des articles\n",
    "if nombre_total_articles > 0:\n",
    "    # Faire une boucle sur l'ensemble des titres\n",
    "    for i in titres:\n",
    "        # Pour chaque titre, faire une condition si le mot clé est dans le titre\n",
    "        if motcle in i:\n",
    "            # Si c'est le cas, afficher le titre et augmenter le compteur de 1\n",
    "            print(i)\n",
    "            nombre_articles+=1\n",
    "# Cas où la liste des titres est vide\n",
    "else:\n",
    "    print(\"La liste est vide\")\n",
    "    \n",
    "# Affichage des résultats\n",
    "proportion = 100*nombre_articles/nombre_total_articles\n",
    "print(\"Proportion d'articles contenant le terme dans le titre : {} %\".format(round(proportion,1)))"
   ]
  },
  {
   "cell_type": "markdown",
   "metadata": {},
   "source": [
    "## Intermède : les dictionnaires\n",
    "\n",
    "Il y a un type de variables que nous n'avons pas vu. Les dictionnaires. Ceux-ci sont des ensembles (comme les listes) mais ne sont pas indexés par les entiers 0,1,2 ... mais par des entrées à définir."
   ]
  },
  {
   "cell_type": "code",
   "execution_count": 40,
   "metadata": {},
   "outputs": [],
   "source": [
    "dictionnaire = {}"
   ]
  },
  {
   "cell_type": "code",
   "execution_count": 41,
   "metadata": {},
   "outputs": [
    {
     "data": {
      "text/plain": [
       "{}"
      ]
     },
     "execution_count": 41,
     "metadata": {},
     "output_type": "execute_result"
    }
   ],
   "source": [
    "dictionnaire"
   ]
  },
  {
   "cell_type": "code",
   "execution_count": 37,
   "metadata": {},
   "outputs": [
    {
     "data": {
      "text/plain": [
       "dict"
      ]
     },
     "execution_count": 37,
     "metadata": {},
     "output_type": "execute_result"
    }
   ],
   "source": [
    "type(dictionnaire)"
   ]
  },
  {
   "cell_type": "code",
   "execution_count": 43,
   "metadata": {},
   "outputs": [],
   "source": [
    "dictionnaire[\"entrée\"] = \"valeur\""
   ]
  },
  {
   "cell_type": "code",
   "execution_count": 44,
   "metadata": {},
   "outputs": [
    {
     "data": {
      "text/plain": [
       "{'entrée': 'valeur'}"
      ]
     },
     "execution_count": 44,
     "metadata": {},
     "output_type": "execute_result"
    }
   ],
   "source": [
    "dictionnaire"
   ]
  },
  {
   "cell_type": "code",
   "execution_count": 45,
   "metadata": {},
   "outputs": [],
   "source": [
    "dictionnaire = {\"entrée1\":\"valeur1\",\"entrée2\":\"valeur2\",10:\"valeur3\"}"
   ]
  },
  {
   "cell_type": "code",
   "execution_count": 46,
   "metadata": {},
   "outputs": [
    {
     "data": {
      "text/plain": [
       "'valeur2'"
      ]
     },
     "execution_count": 46,
     "metadata": {},
     "output_type": "execute_result"
    }
   ],
   "source": [
    "dictionnaire[\"entrée2\"]"
   ]
  },
  {
   "cell_type": "markdown",
   "metadata": {},
   "source": [
    "## 3. Définir ses propres fonctions\n",
    "\n",
    "Il est possible de créer des boîtes avec du code à réutiliser, qui prennent des entrées et renvoient des sorties."
   ]
  },
  {
   "cell_type": "code",
   "execution_count": 8,
   "metadata": {},
   "outputs": [],
   "source": [
    "# objectif : faire une fonction qui prend en entrée une chaine de caractère (titre) \n",
    "# et qui renvoie 1 si cette chaine contient islamo et 0 sinon\n",
    "\n",
    "def contient_islamo(titre):\n",
    "    if \"islamo\" in titre:\n",
    "        print(i)\n",
    "        return 1\n",
    "    else:\n",
    "        return 0"
   ]
  },
  {
   "cell_type": "markdown",
   "metadata": {},
   "source": [
    "On arrive généralement pas directement à la fonction: il faut d'abord tester sur un exemple, trouver comment l'écrire, et ensuite on rédige la fonction complète"
   ]
  },
  {
   "cell_type": "code",
   "execution_count": 6,
   "metadata": {},
   "outputs": [
    {
     "data": {
      "text/plain": [
       "1"
      ]
     },
     "execution_count": 6,
     "metadata": {},
     "output_type": "execute_result"
    }
   ],
   "source": [
    "contient_islamo(\"on en a marre du débat sur l'islamo gauchisme\")"
   ]
  },
  {
   "cell_type": "markdown",
   "metadata": {},
   "source": [
    "Solution 1"
   ]
  },
  {
   "cell_type": "code",
   "execution_count": 13,
   "metadata": {},
   "outputs": [
    {
     "data": {
      "text/plain": [
       "2"
      ]
     },
     "execution_count": 13,
     "metadata": {},
     "output_type": "execute_result"
    }
   ],
   "source": [
    "\"je vais tester si cette chaine contient islamo ou pas islamo\".count(\"islamo\")"
   ]
  },
  {
   "cell_type": "markdown",
   "metadata": {},
   "source": [
    "Solution 2"
   ]
  },
  {
   "cell_type": "code",
   "execution_count": 15,
   "metadata": {},
   "outputs": [
    {
     "name": "stdout",
     "output_type": "stream",
     "text": [
      "2\n"
     ]
    }
   ],
   "source": [
    "chaine = \"je vais tester si cette chaine contient islamo ou pas islamo\"\n",
    "liste_mots = chaine.split(\" \")\n",
    "compteur = 0\n",
    "for mot in liste_mots:\n",
    "    if 'islamo' in mot:\n",
    "        compteur +=1 \n",
    "print(compteur)"
   ]
  },
  {
   "cell_type": "markdown",
   "metadata": {},
   "source": [
    "## 4. Écrire dans un fichier"
   ]
  },
  {
   "cell_type": "markdown",
   "metadata": {},
   "source": [
    "Quand un programme se développe, il est nécessaire d'apprendre à lire et à écrire\n",
    "\n",
    "- formats de fichier\n",
    "- lire un contenu\n",
    "- écrire un contenu"
   ]
  },
  {
   "cell_type": "markdown",
   "metadata": {},
   "source": [
    "### Une première étape est de se repérer dans l'architecture de l'ordinateur. Par défaut, on est dans le répertoire courant ."
   ]
  },
  {
   "cell_type": "markdown",
   "metadata": {},
   "source": [
    "Lister le contenu du répertoire"
   ]
  },
  {
   "cell_type": "code",
   "execution_count": 20,
   "metadata": {},
   "outputs": [
    {
     "name": "stdout",
     "output_type": "stream",
     "text": [
      " \u001b[0m\u001b[01;34mAutres\u001b[0m/\r\n",
      " \u001b[01;34mData\u001b[0m/\r\n",
      " \u001b[01;34mDocuments\u001b[0m/\r\n",
      "'Préparation des séances.md'\r\n",
      " PySHS-slides-table-ronde.pptx\r\n",
      " README.md\r\n",
      "'Réflexion au long cours.odt'\r\n",
      "'Séance 1 Débuter la programmation en Python.ipynb'\r\n",
      "'Séance 2A Comprendre un script.ipynb'\r\n",
      "'Séance 2B À la découverte de la bibliothèque Pandas.ipynb'\r\n",
      "'Traitement corpus.ipynb'\r\n"
     ]
    }
   ],
   "source": [
    "ls"
   ]
  },
  {
   "cell_type": "markdown",
   "metadata": {},
   "source": [
    "Change directory pour aller dans le dossier Data"
   ]
  },
  {
   "cell_type": "code",
   "execution_count": 48,
   "metadata": {},
   "outputs": [
    {
     "name": "stdout",
     "output_type": "stream",
     "text": [
      "/home/emilien/Dropbox/Python pour les SHS/Formations/Formation-unil/Data\n"
     ]
    }
   ],
   "source": [
    "cd Data"
   ]
  },
  {
   "cell_type": "code",
   "execution_count": 22,
   "metadata": {},
   "outputs": [
    {
     "name": "stdout",
     "output_type": "stream",
     "text": [
      "\u001b[0m\u001b[01;35mapprentissage_python.png\u001b[0m                  code_ig.py\r\n",
      "articles_ig_monde.csv                     \u001b[01;35mdf.png\u001b[0m\r\n",
      "\u001b[01;31marticles.zip\u001b[0m                              extraction-ig-europresse.xls\r\n",
      "biblioeuropresse20210303122322_0303.HTML  \u001b[01;35mscipy-stack-color.png\u001b[0m\r\n",
      "biblioeuropresse20210323104656_2303.HTML\r\n"
     ]
    }
   ],
   "source": [
    "ls"
   ]
  },
  {
   "cell_type": "markdown",
   "metadata": {},
   "source": [
    "### Ouvrir un fichier avec le bloc with"
   ]
  },
  {
   "cell_type": "code",
   "execution_count": 49,
   "metadata": {},
   "outputs": [],
   "source": [
    "with open(\"articles_ig_monde.csv\",\"r\",encoding=\"utf8\") as f:\n",
    "    data = f.read()"
   ]
  },
  {
   "cell_type": "code",
   "execution_count": 50,
   "metadata": {},
   "outputs": [
    {
     "data": {
      "text/plain": [
       "\"2021-02-19 ;  Tension entre l'exécutif et le monde scientifique Après les déclarations de Vidal sur l' «  islamo-gauchisme », Attal a rappelé « l'indépendance » des chercheurs \\n2021-02-23 ;  «  Islamo-gauchisme » : la Macronie divisée Depuis les déclarations de la ministre Frédérique Vidal, les proches du président affichent leurs désaccords \\n2021-02-24 ;  Quelles menaces sur les libertés académiques? Ingérence de l'Etat ou prise en compte d'un problème de dérive militante : l'annonce du lancement d'une enquête sur l' «  islamo-gauchisme » dans l'enseignement supérieur continue de susciter la polémique et met en évidence les fractures du monde universitaire Le retour d'un clivage stérile et délétère Un collectif de députés LRM et de membres du gouvernement, dont Stanislas Guerini, Elisabeth Moreno et Stéphane Sejourné, refuse de partager le monde entre « contempteurs de l'islamo-gauchisme » et « défenseurs de l'intersectionnalité » \\n2021-02-26 ;  Le macronisme en quête de boussole \\n2021-02-25 ;  Les macronistes divisés par le clivage gauche-droite Les polémiques autour de l' «  islamo-gauchisme » et des menus sans viande ont ravivé des divergences qu'Emmanuel Macron entendait dépasser \\n2021-02-27 ;  Analyse Macron passe du « en même temps » à l' « attrape-tout » \\n2021-02-22 ;  Nous, universitaires et chercheurs, demandons avec force la démission de Frédérique Vidal Plus de 800 membres du personnel de l'enseignement supérieur et de la recherche, parmi lesquels la philosophe Sandra Laugier et les sociologues Michel Bozon et Dominique Méda, dénoncent la « chasse aux sorcières » menée, selon eux, par leur ministre de tutelle \\n2021-02-24 ;  Quelles menaces sur les libertés académiques? Ingérence de l'Etat ou prise en compte d'un problème de dérive militante : l'annonce du lancement d'une enquête sur l' «  islamo-gauchisme » dans l'enseignement supérieur continue de susciter la polémique et met en évidence les fractures du monde universitaire Protéger l'université contre le dévoiement militant L'enquête réclamée par Frédérique Vidal ne doit pas être confiée au CNRS, mais à une instance indépendante du ministère, estime un collectif de 130 universitaires, parmi lesquels Nathalie Heinich, Pierre Nora et Pierre-André Taguieff \\n2021-02-20 ;  Vidal, Darmanin : jeu dangereux \\n2021-03-03 ;  Steven L. Kaplan Si Frédérique Vidal repère des sorcières, il faut évidemment qu'elle les chasse Dans un texte satirique, l'historien américain estime que si l'université américaine avait été aussi réactive que la ministre de l'enseignement supérieur, elle aurait pu se débarrasser à temps de la French Theory, « notre  islamo-gauchisme à nous » \\n2021-02-18 ;  Vidal veut s'attaquer à l' «  islamo-gauchisme » La ministre de l'enseignement supérieur a demandé une enquête au CNRS sur les pratiques universitaires \\n2021-02-24 ;  Quelles menaces sur les libertés académiques? Ingérence de l'Etat ou prise en compte d'un problème de dérive militante : l'annonce du lancement d'une enquête sur l' «  islamo-gauchisme » dans l'enseignement supérieur continue de susciter la polémique et met en évidence les fractures du monde universitaire Quelles menaces sur les libertés académiques? Ingérence de l'Etat ou prise en compte d'un problème de dérive militante : l'annonce du lancement d'une enquête sur l' «  islamo-gauchisme » dans l'enseignement supérieur continue de susciter la polémique et met en évidence les fractures du monde universitaire \\n2021-02-20 ;  Vidal, le « bon petit soldat » dans la tourmente Décriée par les universitaires, la ministre de l'enseignement supérieur prend le risque d'être lâchée par l'exécutif \\n2021-02-25 ;  A l'université, des protections hygiéniques bientôt gratuites Pour lutter contre la précarité étudiante, le gouvernement veut installer1 500 distributeurs d'ici à la rentrée de septembre \\n2021-03-03 ;  Jacques Lévy L'éthique de la recherche, c'est la capacité à distinguer les enjeux, à ne pas glisser de la théorie vers l'idéologie Face au mélange entre science et politique, au refus du pluralisme, les chercheurs doivent pouvoir dialoguer en s'employant à « éviter les fractures et les enclaves », explique le géographe \\n2021-02-24 ;  Tribunes «  Islamo-gauchisme » : des proches de Macron s'expriment \\n2021-02-24 ;  Alexis Artaud de La Ferrière S'il existe un problème de militantisme idéologique, il revient aux universitaires d'y apporter une réponse Comme en France, le gouvernement britannique tente de contrer les mouvances identitaristes soupçonnées d'étouffer le débat scientifique. Or, c'est aux chercheurs en sciences sociales qu'il appartient de se consacrer à un travail de cohérence interne, estime le sociologue \\n2021-02-18 ;  Universités : Vidal lance une enquête contestée sur l' «  islamo-gauchisme » \\n2021-03-04 ;  La fiche de poste modifiée de l'université Paris-Est-Créteil \\n2021-02-25 ;  Macron face aux limites du « en même temps » \\n2021-02-19 ;  Universités : Frédérique Vidal accroît le malaise \\n2021-02-23 ;  «  Islamo-  gauchisme » Macron empêtré dans le débat \\n2021-02-20 ;  Université Vidal prise à son propre piège \""
      ]
     },
     "execution_count": 50,
     "metadata": {},
     "output_type": "execute_result"
    }
   ],
   "source": [
    "data"
   ]
  },
  {
   "cell_type": "markdown",
   "metadata": {},
   "source": [
    "Il existe d'autres fonctions pour lire, comme readlines qui sépare par ligne."
   ]
  },
  {
   "cell_type": "markdown",
   "metadata": {},
   "source": [
    "Dans le sens inverse, il est possible d'écrire dans un fichier en ouvrant un fichier en écriture"
   ]
  },
  {
   "cell_type": "code",
   "execution_count": 31,
   "metadata": {},
   "outputs": [],
   "source": [
    "with open(\"nouveau_fichier.csv\",\"w\") as f:\n",
    "    for i in range(0,10):\n",
    "        f.write(data[i])"
   ]
  },
  {
   "cell_type": "code",
   "execution_count": 32,
   "metadata": {},
   "outputs": [
    {
     "name": "stdout",
     "output_type": "stream",
     "text": [
      "\u001b[0m\u001b[01;35mapprentissage_python.png\u001b[0m                  code_ig.py\r\n",
      "articles_ig_monde.csv                     \u001b[01;35mdf.png\u001b[0m\r\n",
      "\u001b[01;31marticles.zip\u001b[0m                              extraction-ig-europresse.xls\r\n",
      "biblioeuropresse20210303122322_0303.HTML  nouveau_fichier.csv\r\n",
      "biblioeuropresse20210323104656_2303.HTML  \u001b[01;35mscipy-stack-color.png\u001b[0m\r\n"
     ]
    }
   ],
   "source": [
    "ls"
   ]
  },
  {
   "cell_type": "markdown",
   "metadata": {},
   "source": [
    "## Application\n",
    "\n",
    "- intégrer une lecture/écriture dans notre code\n",
    "- définir une fonction qui compte les mots"
   ]
  }
 ],
 "metadata": {
  "kernelspec": {
   "display_name": "Python 3",
   "language": "python",
   "name": "python3"
  },
  "language_info": {
   "codemirror_mode": {
    "name": "ipython",
    "version": 3
   },
   "file_extension": ".py",
   "mimetype": "text/x-python",
   "name": "python",
   "nbconvert_exporter": "python",
   "pygments_lexer": "ipython3",
   "version": "3.7.10"
  }
 },
 "nbformat": 4,
 "nbformat_minor": 4
}
