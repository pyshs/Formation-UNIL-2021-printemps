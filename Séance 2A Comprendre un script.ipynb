{
 "cells": [
  {
   "cell_type": "markdown",
   "metadata": {},
   "source": [
    "# Les blocs du script (suite de la séance 1)"
   ]
  },
  {
   "cell_type": "markdown",
   "metadata": {},
   "source": [
    "Script copié/collé d'un site/forum/autre"
   ]
  },
  {
   "cell_type": "code",
   "execution_count": 1,
   "metadata": {},
   "outputs": [
    {
     "name": "stdout",
     "output_type": "stream",
     "text": [
      "Tension entre l'exécutif et le monde scientifique Après les déclarations de Vidal sur l' «  islamo-gauchisme », Attal a rappelé « l'indépendance » des chercheurs\n",
      "Proportion d'articles contenant le terme dans le titre : 50.0 %\n"
     ]
    }
   ],
   "source": [
    "# Définir des variables\n",
    "nombre_articles = 0\n",
    "motcle = \"islamo\"\n",
    "titres = [\"Tension entre l'exécutif et le monde scientifique Après les déclarations de Vidal sur l' «  islamo-gauchisme », Attal a rappelé « l'indépendance » des chercheurs\",\n",
    "          \"La fiche de poste modifiée de l'université Paris-Est-Créteil\"]\n",
    "nombre_total_articles = len(titres)\n",
    "\n",
    "# Faire une condition\n",
    "if nombre_total_articles > 0:\n",
    "    \n",
    "    # Faire une boucle\n",
    "    for i in titres:\n",
    "        if motcle in i:\n",
    "            print(i)\n",
    "            nombre_articles+=1\n",
    "else:\n",
    "    print(\"La liste est vide\")\n",
    "    \n",
    "# Retour des résultats\n",
    "proportion = 100*nombre_articles/nombre_total_articles\n",
    "print(\"Proportion d'articles contenant le terme dans le titre : {} %\".format(round(proportion,1)))"
   ]
  },
  {
   "cell_type": "markdown",
   "metadata": {},
   "source": [
    "## 1. Un ensemble de fonctions prédéfinies"
   ]
  },
  {
   "cell_type": "markdown",
   "metadata": {},
   "source": [
    "La longueur d'une liste"
   ]
  },
  {
   "cell_type": "markdown",
   "metadata": {},
   "source": [
    "L'affichage / les entrées"
   ]
  },
  {
   "cell_type": "markdown",
   "metadata": {},
   "source": [
    "Les différents types"
   ]
  },
  {
   "cell_type": "markdown",
   "metadata": {},
   "source": [
    "## 2. Les blocs qui organisent le script\n",
    "\n",
    "Un script est un enchaînement d'étapes. Chaque étape est une action. Certains blocs permettent de structurer le code :\n",
    "\n",
    "- Les conditions\n",
    "- Les boucles\n",
    "- Les exceptions ?"
   ]
  },
  {
   "cell_type": "markdown",
   "metadata": {},
   "source": [
    "## Intermède : les commentaires dans le code"
   ]
  },
  {
   "cell_type": "markdown",
   "metadata": {},
   "source": [
    "## 3. Définir ses propres fonctions\n",
    "\n",
    "Il est possible de créer des boîtes avec du code à réutiliser, qui prennent des entrées et renvoient des sorties.\n",
    "\n",
    "Intégrer une documentation"
   ]
  },
  {
   "cell_type": "code",
   "execution_count": 8,
   "metadata": {},
   "outputs": [],
   "source": [
    "# objectif : faire une fonction qui prend en entrée une chaine de caractère (titre) \n",
    "# et qui renvoie 1 si cette chaine contient islamo et 0 sinon\n",
    "\n",
    "def contient_islamo(titre):\n",
    "    if \"islamo\" in titre:\n",
    "        print(i)\n",
    "        return 1\n",
    "    else:\n",
    "        return 0"
   ]
  },
  {
   "cell_type": "code",
   "execution_count": 6,
   "metadata": {},
   "outputs": [
    {
     "data": {
      "text/plain": [
       "1"
      ]
     },
     "execution_count": 6,
     "metadata": {},
     "output_type": "execute_result"
    }
   ],
   "source": [
    "contient_islamo(\"on en a marre du débat sur l'islamo gauchisme\")"
   ]
  },
  {
   "cell_type": "code",
   "execution_count": 9,
   "metadata": {},
   "outputs": [
    {
     "name": "stdout",
     "output_type": "stream",
     "text": [
      "Tension entre l'exécutif et le monde scientifique Après les déclarations de Vidal sur l' «  islamo-gauchisme », Attal a rappelé « l'indépendance » des chercheurs\n",
      "Proportion d'articles contenant le terme dans le titre : 50.0 %\n"
     ]
    }
   ],
   "source": [
    "# Définir des variables\n",
    "nombre_articles = 0\n",
    "motcle = \"islamo\"\n",
    "titres = [\"Tension entre l'exécutif et le monde scientifique Après les déclarations de Vidal sur l' «  islamo-gauchisme », Attal a rappelé « l'indépendance » des chercheurs\",\n",
    "          \"La fiche de poste modifiée de l'université Paris-Est-Créteil\"]\n",
    "nombre_total_articles = len(titres)\n",
    "\n",
    "# Faire une condition\n",
    "if nombre_total_articles > 0:\n",
    "    \n",
    "    # Faire une boucle\n",
    "    for i in titres:\n",
    "        nombre_articles += contient_islamo(i)\n",
    "else:\n",
    "    print(\"La liste est vide\")\n",
    "    \n",
    "# Retour des résultats\n",
    "proportion = 100*nombre_articles/nombre_total_articles\n",
    "print(\"Proportion d'articles contenant le terme dans le titre : {} %\".format(round(proportion,1)))"
   ]
  },
  {
   "cell_type": "code",
   "execution_count": null,
   "metadata": {},
   "outputs": [],
   "source": []
  },
  {
   "cell_type": "markdown",
   "metadata": {},
   "source": [
    "Solution 1"
   ]
  },
  {
   "cell_type": "code",
   "execution_count": 13,
   "metadata": {},
   "outputs": [
    {
     "data": {
      "text/plain": [
       "2"
      ]
     },
     "execution_count": 13,
     "metadata": {},
     "output_type": "execute_result"
    }
   ],
   "source": [
    "\"je vais tester si cette chaine contient islamo ou pas islamo\".count(\"islamo\")"
   ]
  },
  {
   "cell_type": "markdown",
   "metadata": {},
   "source": [
    "Solution 2"
   ]
  },
  {
   "cell_type": "code",
   "execution_count": 15,
   "metadata": {},
   "outputs": [
    {
     "name": "stdout",
     "output_type": "stream",
     "text": [
      "2\n"
     ]
    }
   ],
   "source": [
    "chaine = \"je vais tester si cette chaine contient islamo ou pas islamo\"\n",
    "liste_mots = chaine.split(\" \")\n",
    "compteur = 0\n",
    "for mot in liste_mots:\n",
    "    if 'islamo' in mot:\n",
    "        compteur +=1 \n",
    "print(compteur)"
   ]
  },
  {
   "cell_type": "code",
   "execution_count": null,
   "metadata": {},
   "outputs": [],
   "source": []
  },
  {
   "cell_type": "code",
   "execution_count": 16,
   "metadata": {},
   "outputs": [],
   "source": [
    "mon_premier_dictionnaire = {\"entrée\":\"valeur\",\"autre_entree\":\"autre_valeur\"}"
   ]
  },
  {
   "cell_type": "code",
   "execution_count": 17,
   "metadata": {},
   "outputs": [
    {
     "data": {
      "text/plain": [
       "{'entrée': 'valeur', 'autre_entree': 'autre_valeur'}"
      ]
     },
     "execution_count": 17,
     "metadata": {},
     "output_type": "execute_result"
    }
   ],
   "source": [
    "mon_premier_dictionnaire"
   ]
  },
  {
   "cell_type": "code",
   "execution_count": 18,
   "metadata": {},
   "outputs": [
    {
     "data": {
      "text/plain": [
       "'valeur'"
      ]
     },
     "execution_count": 18,
     "metadata": {},
     "output_type": "execute_result"
    }
   ],
   "source": [
    "mon_premier_dictionnaire[\"entrée\"]"
   ]
  },
  {
   "cell_type": "code",
   "execution_count": 19,
   "metadata": {},
   "outputs": [
    {
     "data": {
      "text/plain": [
       "2"
      ]
     },
     "execution_count": 19,
     "metadata": {},
     "output_type": "execute_result"
    }
   ],
   "source": [
    "len(mon_premier_dictionnaire)"
   ]
  },
  {
   "cell_type": "markdown",
   "metadata": {},
   "source": [
    "## 4. Écrire dans un fichier"
   ]
  },
  {
   "cell_type": "markdown",
   "metadata": {},
   "source": [
    "Quand un programme se développe, il est nécessaire d'apprendre à lire et à écrire\n",
    "\n",
    "- formats de fichier\n",
    "- lire un contenu\n",
    "- écrire un contenu"
   ]
  },
  {
   "cell_type": "code",
   "execution_count": 20,
   "metadata": {},
   "outputs": [
    {
     "name": "stdout",
     "output_type": "stream",
     "text": [
      " \u001b[0m\u001b[01;34mAutres\u001b[0m/\r\n",
      " \u001b[01;34mData\u001b[0m/\r\n",
      " \u001b[01;34mDocuments\u001b[0m/\r\n",
      "'Préparation des séances.md'\r\n",
      " PySHS-slides-table-ronde.pptx\r\n",
      " README.md\r\n",
      "'Réflexion au long cours.odt'\r\n",
      "'Séance 1 Débuter la programmation en Python.ipynb'\r\n",
      "'Séance 2A Comprendre un script.ipynb'\r\n",
      "'Séance 2B À la découverte de la bibliothèque Pandas.ipynb'\r\n",
      "'Traitement corpus.ipynb'\r\n"
     ]
    }
   ],
   "source": [
    "ls"
   ]
  },
  {
   "cell_type": "code",
   "execution_count": 21,
   "metadata": {},
   "outputs": [
    {
     "name": "stdout",
     "output_type": "stream",
     "text": [
      "/home/emilien/Dropbox/Python pour les SHS/Formations/Formation-unil/Data\n"
     ]
    }
   ],
   "source": [
    "cd Data"
   ]
  },
  {
   "cell_type": "code",
   "execution_count": 22,
   "metadata": {},
   "outputs": [
    {
     "name": "stdout",
     "output_type": "stream",
     "text": [
      "\u001b[0m\u001b[01;35mapprentissage_python.png\u001b[0m                  code_ig.py\r\n",
      "articles_ig_monde.csv                     \u001b[01;35mdf.png\u001b[0m\r\n",
      "\u001b[01;31marticles.zip\u001b[0m                              extraction-ig-europresse.xls\r\n",
      "biblioeuropresse20210303122322_0303.HTML  \u001b[01;35mscipy-stack-color.png\u001b[0m\r\n",
      "biblioeuropresse20210323104656_2303.HTML\r\n"
     ]
    }
   ],
   "source": [
    "ls"
   ]
  },
  {
   "cell_type": "code",
   "execution_count": 27,
   "metadata": {},
   "outputs": [],
   "source": [
    "with open(\"articles_ig_monde.csv\",\"r\",encoding=\"utf8\") as f:\n",
    "    data = f.readlines()"
   ]
  },
  {
   "cell_type": "code",
   "execution_count": 28,
   "metadata": {},
   "outputs": [
    {
     "data": {
      "text/plain": [
       "[\"2021-02-19 ;  Tension entre l'exécutif et le monde scientifique Après les déclarations de Vidal sur l' «  islamo-gauchisme », Attal a rappelé « l'indépendance » des chercheurs \\n\",\n",
       " '2021-02-23 ;  «  Islamo-gauchisme » : la Macronie divisée Depuis les déclarations de la ministre Frédérique Vidal, les proches du président affichent leurs désaccords \\n',\n",
       " \"2021-02-24 ;  Quelles menaces sur les libertés académiques? Ingérence de l'Etat ou prise en compte d'un problème de dérive militante : l'annonce du lancement d'une enquête sur l' «  islamo-gauchisme » dans l'enseignement supérieur continue de susciter la polémique et met en évidence les fractures du monde universitaire Le retour d'un clivage stérile et délétère Un collectif de députés LRM et de membres du gouvernement, dont Stanislas Guerini, Elisabeth Moreno et Stéphane Sejourné, refuse de partager le monde entre « contempteurs de l'islamo-gauchisme » et « défenseurs de l'intersectionnalité » \\n\",\n",
       " '2021-02-26 ;  Le macronisme en quête de boussole \\n',\n",
       " \"2021-02-25 ;  Les macronistes divisés par le clivage gauche-droite Les polémiques autour de l' «  islamo-gauchisme » et des menus sans viande ont ravivé des divergences qu'Emmanuel Macron entendait dépasser \\n\",\n",
       " \"2021-02-27 ;  Analyse Macron passe du « en même temps » à l' « attrape-tout » \\n\",\n",
       " \"2021-02-22 ;  Nous, universitaires et chercheurs, demandons avec force la démission de Frédérique Vidal Plus de 800 membres du personnel de l'enseignement supérieur et de la recherche, parmi lesquels la philosophe Sandra Laugier et les sociologues Michel Bozon et Dominique Méda, dénoncent la « chasse aux sorcières » menée, selon eux, par leur ministre de tutelle \\n\",\n",
       " \"2021-02-24 ;  Quelles menaces sur les libertés académiques? Ingérence de l'Etat ou prise en compte d'un problème de dérive militante : l'annonce du lancement d'une enquête sur l' «  islamo-gauchisme » dans l'enseignement supérieur continue de susciter la polémique et met en évidence les fractures du monde universitaire Protéger l'université contre le dévoiement militant L'enquête réclamée par Frédérique Vidal ne doit pas être confiée au CNRS, mais à une instance indépendante du ministère, estime un collectif de 130 universitaires, parmi lesquels Nathalie Heinich, Pierre Nora et Pierre-André Taguieff \\n\",\n",
       " '2021-02-20 ;  Vidal, Darmanin : jeu dangereux \\n',\n",
       " \"2021-03-03 ;  Steven L. Kaplan Si Frédérique Vidal repère des sorcières, il faut évidemment qu'elle les chasse Dans un texte satirique, l'historien américain estime que si l'université américaine avait été aussi réactive que la ministre de l'enseignement supérieur, elle aurait pu se débarrasser à temps de la French Theory, « notre  islamo-gauchisme à nous » \\n\",\n",
       " \"2021-02-18 ;  Vidal veut s'attaquer à l' «  islamo-gauchisme » La ministre de l'enseignement supérieur a demandé une enquête au CNRS sur les pratiques universitaires \\n\",\n",
       " \"2021-02-24 ;  Quelles menaces sur les libertés académiques? Ingérence de l'Etat ou prise en compte d'un problème de dérive militante : l'annonce du lancement d'une enquête sur l' «  islamo-gauchisme » dans l'enseignement supérieur continue de susciter la polémique et met en évidence les fractures du monde universitaire Quelles menaces sur les libertés académiques? Ingérence de l'Etat ou prise en compte d'un problème de dérive militante : l'annonce du lancement d'une enquête sur l' «  islamo-gauchisme » dans l'enseignement supérieur continue de susciter la polémique et met en évidence les fractures du monde universitaire \\n\",\n",
       " \"2021-02-20 ;  Vidal, le « bon petit soldat » dans la tourmente Décriée par les universitaires, la ministre de l'enseignement supérieur prend le risque d'être lâchée par l'exécutif \\n\",\n",
       " \"2021-02-25 ;  A l'université, des protections hygiéniques bientôt gratuites Pour lutter contre la précarité étudiante, le gouvernement veut installer1 500 distributeurs d'ici à la rentrée de septembre \\n\",\n",
       " \"2021-03-03 ;  Jacques Lévy L'éthique de la recherche, c'est la capacité à distinguer les enjeux, à ne pas glisser de la théorie vers l'idéologie Face au mélange entre science et politique, au refus du pluralisme, les chercheurs doivent pouvoir dialoguer en s'employant à « éviter les fractures et les enclaves », explique le géographe \\n\",\n",
       " \"2021-02-24 ;  Tribunes «  Islamo-gauchisme » : des proches de Macron s'expriment \\n\",\n",
       " \"2021-02-24 ;  Alexis Artaud de La Ferrière S'il existe un problème de militantisme idéologique, il revient aux universitaires d'y apporter une réponse Comme en France, le gouvernement britannique tente de contrer les mouvances identitaristes soupçonnées d'étouffer le débat scientifique. Or, c'est aux chercheurs en sciences sociales qu'il appartient de se consacrer à un travail de cohérence interne, estime le sociologue \\n\",\n",
       " \"2021-02-18 ;  Universités : Vidal lance une enquête contestée sur l' «  islamo-gauchisme » \\n\",\n",
       " \"2021-03-04 ;  La fiche de poste modifiée de l'université Paris-Est-Créteil \\n\",\n",
       " '2021-02-25 ;  Macron face aux limites du « en même temps » \\n',\n",
       " '2021-02-19 ;  Universités : Frédérique Vidal accroît le malaise \\n',\n",
       " '2021-02-23 ;  «  Islamo-  gauchisme » Macron empêtré dans le débat \\n',\n",
       " '2021-02-20 ;  Université Vidal prise à son propre piège ']"
      ]
     },
     "execution_count": 28,
     "metadata": {},
     "output_type": "execute_result"
    }
   ],
   "source": [
    "data"
   ]
  },
  {
   "cell_type": "code",
   "execution_count": 31,
   "metadata": {},
   "outputs": [],
   "source": [
    "with open(\"nouveau_fichier.csv\",\"w\") as f:\n",
    "    for i in range(0,10):\n",
    "        f.write(data[i])"
   ]
  },
  {
   "cell_type": "code",
   "execution_count": 32,
   "metadata": {},
   "outputs": [
    {
     "name": "stdout",
     "output_type": "stream",
     "text": [
      "\u001b[0m\u001b[01;35mapprentissage_python.png\u001b[0m                  code_ig.py\r\n",
      "articles_ig_monde.csv                     \u001b[01;35mdf.png\u001b[0m\r\n",
      "\u001b[01;31marticles.zip\u001b[0m                              extraction-ig-europresse.xls\r\n",
      "biblioeuropresse20210303122322_0303.HTML  nouveau_fichier.csv\r\n",
      "biblioeuropresse20210323104656_2303.HTML  \u001b[01;35mscipy-stack-color.png\u001b[0m\r\n"
     ]
    }
   ],
   "source": [
    "ls"
   ]
  },
  {
   "cell_type": "code",
   "execution_count": 34,
   "metadata": {},
   "outputs": [
    {
     "name": "stdout",
     "output_type": "stream",
     "text": [
      "/home/emilien/Dropbox/Python pour les SHS/Formations/Formation-unil\n"
     ]
    }
   ],
   "source": [
    "cd .."
   ]
  },
  {
   "cell_type": "code",
   "execution_count": 35,
   "metadata": {},
   "outputs": [
    {
     "name": "stdout",
     "output_type": "stream",
     "text": [
      " \u001b[0m\u001b[01;34mAutres\u001b[0m/\r\n",
      " \u001b[01;34mData\u001b[0m/\r\n",
      " \u001b[01;34mDocuments\u001b[0m/\r\n",
      "'Préparation des séances.md'\r\n",
      " PySHS-slides-table-ronde.pptx\r\n",
      " README.md\r\n",
      "'Réflexion au long cours.odt'\r\n",
      "'Séance 1 Débuter la programmation en Python.ipynb'\r\n",
      "'Séance 2A Comprendre un script.ipynb'\r\n",
      "'Séance 2B À la découverte de la bibliothèque Pandas.ipynb'\r\n",
      "'Traitement corpus.ipynb'\r\n"
     ]
    }
   ],
   "source": [
    "ls"
   ]
  },
  {
   "cell_type": "code",
   "execution_count": 30,
   "metadata": {},
   "outputs": [
    {
     "data": {
      "text/plain": [
       "[0, 1, 2, 3, 4, 5, 6, 7, 8, 9]"
      ]
     },
     "execution_count": 30,
     "metadata": {},
     "output_type": "execute_result"
    }
   ],
   "source": [
    "list(range(0,10))"
   ]
  },
  {
   "cell_type": "code",
   "execution_count": null,
   "metadata": {},
   "outputs": [],
   "source": [
    "pandas.read"
   ]
  },
  {
   "cell_type": "code",
   "execution_count": null,
   "metadata": {},
   "outputs": [],
   "source": []
  },
  {
   "cell_type": "code",
   "execution_count": null,
   "metadata": {},
   "outputs": [],
   "source": []
  },
  {
   "cell_type": "code",
   "execution_count": null,
   "metadata": {},
   "outputs": [],
   "source": []
  },
  {
   "cell_type": "code",
   "execution_count": null,
   "metadata": {},
   "outputs": [],
   "source": []
  },
  {
   "cell_type": "markdown",
   "metadata": {},
   "source": [
    "## Application\n",
    "\n",
    "- intégrer une lecture/écriture dans notre code\n",
    "- définir une fonction qui compte les mots"
   ]
  }
 ],
 "metadata": {
  "kernelspec": {
   "display_name": "Python 3",
   "language": "python",
   "name": "python3"
  },
  "language_info": {
   "codemirror_mode": {
    "name": "ipython",
    "version": 3
   },
   "file_extension": ".py",
   "mimetype": "text/x-python",
   "name": "python",
   "nbconvert_exporter": "python",
   "pygments_lexer": "ipython3",
   "version": "3.7.10"
  }
 },
 "nbformat": 4,
 "nbformat_minor": 4
}
