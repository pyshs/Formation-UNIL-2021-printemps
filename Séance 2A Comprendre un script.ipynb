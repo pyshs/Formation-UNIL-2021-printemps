{
 "cells": [
  {
   "cell_type": "markdown",
   "metadata": {},
   "source": [
    "# Les blocs du script (suite de la séance 1) du text"
   ]
  },
  {
   "cell_type": "markdown",
   "metadata": {},
   "source": [
    "Script copié/collé d'un site/forum/autre"
   ]
  },
  {
   "cell_type": "code",
   "execution_count": 3,
   "metadata": {},
   "outputs": [
    {
     "name": "stdout",
     "output_type": "stream",
     "text": [
      "Tension entre l'exécutif et le monde scientifique Après les déclarations de Vidal sur l' «  islamo-gauchisme », Attal a rappelé « l'indépendance » des chercheurs\n",
      "Proportion d'articles contenant le terme dans le titre : 50.0 %\n"
     ]
    }
   ],
   "source": [
    "nombre_articles = 0\n",
    "motcle = \"islamo\"\n",
    "titres = [\"Tension entre l'exécutif et le monde scientifique Après les déclarations de Vidal sur l' «  islamo-gauchisme », Attal a rappelé « l'indépendance » des chercheurs\",\n",
    "          \"La fiche de poste modifiée de l'université Paris-Est-Créteil\"]\n",
    "nombre_total_articles = len(titres)\n",
    "if nombre_total_articles > 0:\n",
    "    for i in titres:\n",
    "        if motcle in i:\n",
    "            print(i)\n",
    "            nombre_articles+=1\n",
    "else:\n",
    "    print(\"La liste est vide\")\n",
    "proportion = 100*nombre_articles/nombre_total_articles\n",
    "print(\"Proportion d'articles contenant le terme dans le titre : {} %\".format(round(proportion,1)))"
   ]
  },
  {
   "cell_type": "markdown",
   "metadata": {},
   "source": [
    "## 1. Un ensemble de fonctions prédéfinies"
   ]
  },
  {
   "cell_type": "markdown",
   "metadata": {},
   "source": [
    "La longueur d'une liste"
   ]
  },
  {
   "cell_type": "code",
   "execution_count": 5,
   "metadata": {},
   "outputs": [
    {
     "data": {
      "text/plain": [
       "'bonjour'"
      ]
     },
     "execution_count": 5,
     "metadata": {},
     "output_type": "execute_result"
    }
   ],
   "source": [
    "len(titres)\n",
    "\"bonjour\""
   ]
  },
  {
   "cell_type": "markdown",
   "metadata": {},
   "source": [
    "L'affichage / les entrées"
   ]
  },
  {
   "cell_type": "code",
   "execution_count": 17,
   "metadata": {},
   "outputs": [
    {
     "name": "stdout",
     "output_type": "stream",
     "text": [
      "la longueur de la variable titre est 2\n",
      "cette ligne va aussi être affichée\n"
     ]
    }
   ],
   "source": [
    "print(\"la longueur de la variable titre est \"+str(len(titres)))\n",
    "print(\"cette ligne va aussi être affichée\")"
   ]
  },
  {
   "cell_type": "code",
   "execution_count": 10,
   "metadata": {},
   "outputs": [],
   "source": [
    "sum??"
   ]
  },
  {
   "cell_type": "markdown",
   "metadata": {},
   "source": [
    "Les différents types"
   ]
  },
  {
   "cell_type": "code",
   "execution_count": 11,
   "metadata": {},
   "outputs": [
    {
     "data": {
      "text/plain": [
       "list"
      ]
     },
     "execution_count": 11,
     "metadata": {},
     "output_type": "execute_result"
    }
   ],
   "source": [
    "type(titres)"
   ]
  },
  {
   "cell_type": "code",
   "execution_count": 12,
   "metadata": {},
   "outputs": [
    {
     "data": {
      "text/plain": [
       "int"
      ]
     },
     "execution_count": 12,
     "metadata": {},
     "output_type": "execute_result"
    }
   ],
   "source": [
    "type(nombre_articles)"
   ]
  },
  {
   "cell_type": "code",
   "execution_count": 14,
   "metadata": {},
   "outputs": [
    {
     "data": {
      "text/plain": [
       "1"
      ]
     },
     "execution_count": 14,
     "metadata": {},
     "output_type": "execute_result"
    }
   ],
   "source": [
    "1"
   ]
  },
  {
   "cell_type": "code",
   "execution_count": 13,
   "metadata": {},
   "outputs": [
    {
     "data": {
      "text/plain": [
       "'1'"
      ]
     },
     "execution_count": 13,
     "metadata": {},
     "output_type": "execute_result"
    }
   ],
   "source": [
    "str(1)"
   ]
  },
  {
   "cell_type": "code",
   "execution_count": 18,
   "metadata": {},
   "outputs": [
    {
     "name": "stdout",
     "output_type": "stream",
     "text": [
      "Tension entre l'exécutif et le monde scientifique Après les déclarations de Vidal sur l' «  islamo-gauchisme », Attal a rappelé « l'indépendance » des chercheurs\n",
      "Proportion d'articles contenant le terme dans le titre : 50.0 %\n"
     ]
    }
   ],
   "source": [
    "nombre_articles = 0\n",
    "motcle = \"islamo\"\n",
    "titres = [\"Tension entre l'exécutif et le monde scientifique Après les déclarations de Vidal sur l' «  islamo-gauchisme », Attal a rappelé « l'indépendance » des chercheurs\",\n",
    "          \"La fiche de poste modifiée de l'université Paris-Est-Créteil\"]\n",
    "nombre_total_articles = len(titres)\n",
    "\n",
    "# il faut vérifier que notre recherche a bien trouver des articles.\n",
    "if nombre_total_articles > 0:\n",
    "    for i in titres:\n",
    "        if motcle in i:\n",
    "            print(i)\n",
    "            nombre_articles+=1\n",
    "else:\n",
    "    print(\"La liste est vide\")\n",
    "proportion = 100*nombre_articles/nombre_total_articles\n",
    "print(\"Proportion d'articles contenant le terme dans le titre : {} %\".format(round(proportion,1)))"
   ]
  },
  {
   "cell_type": "code",
   "execution_count": 19,
   "metadata": {},
   "outputs": [
    {
     "data": {
      "text/plain": [
       "False"
      ]
     },
     "execution_count": 19,
     "metadata": {},
     "output_type": "execute_result"
    }
   ],
   "source": [
    "False"
   ]
  },
  {
   "cell_type": "code",
   "execution_count": 20,
   "metadata": {},
   "outputs": [
    {
     "data": {
      "text/plain": [
       "True"
      ]
     },
     "execution_count": 20,
     "metadata": {},
     "output_type": "execute_result"
    }
   ],
   "source": [
    "True"
   ]
  },
  {
   "cell_type": "code",
   "execution_count": 21,
   "metadata": {},
   "outputs": [
    {
     "data": {
      "text/plain": [
       "bool"
      ]
     },
     "execution_count": 21,
     "metadata": {},
     "output_type": "execute_result"
    }
   ],
   "source": [
    "type(True)"
   ]
  },
  {
   "cell_type": "code",
   "execution_count": 23,
   "metadata": {},
   "outputs": [
    {
     "data": {
      "text/plain": [
       "False"
      ]
     },
     "execution_count": 23,
     "metadata": {},
     "output_type": "execute_result"
    }
   ],
   "source": [
    "1 < -1"
   ]
  },
  {
   "cell_type": "markdown",
   "metadata": {},
   "source": [
    "## 2. Les blocs qui organisent le script\n",
    "\n",
    "Un script est un enchaînement d'étapes. Chaque étape est une action. Certains blocs permettent de structurer le code :\n",
    "\n",
    "- Les conditions\n",
    "- Les boucles\n",
    "- Les exceptions ?"
   ]
  },
  {
   "cell_type": "markdown",
   "metadata": {},
   "source": [
    "Forme d'une condition.\n",
    "\n",
    "```python\n",
    "if condition:\n",
    "    # le code executé si la condition est vraie\n",
    "elif autre condition.:    \n",
    "    # \n",
    "else:\n",
    "    # autre chose.\n",
    "```\n"
   ]
  },
  {
   "cell_type": "code",
   "execution_count": 24,
   "metadata": {},
   "outputs": [
    {
     "data": {
      "text/plain": [
       "True"
      ]
     },
     "execution_count": 24,
     "metadata": {},
     "output_type": "execute_result"
    }
   ],
   "source": [
    "nombre_total_articles > 0"
   ]
  },
  {
   "cell_type": "code",
   "execution_count": null,
   "metadata": {},
   "outputs": [],
   "source": [
    "if motcle in i:\n",
    "    print(i)\n",
    "    nombre_articles+=1"
   ]
  },
  {
   "cell_type": "code",
   "execution_count": 26,
   "metadata": {},
   "outputs": [
    {
     "name": "stdout",
     "output_type": "stream",
     "text": [
      "La liste est vide\n"
     ]
    }
   ],
   "source": [
    "if nombre_total_articles < 0:\n",
    "    for i in titres:\n",
    "        if motcle in i:\n",
    "            print(i)\n",
    "            nombre_articles+=1\n",
    "else:\n",
    "    print(\"La liste est vide\")"
   ]
  },
  {
   "cell_type": "code",
   "execution_count": 31,
   "metadata": {},
   "outputs": [
    {
     "data": {
      "text/plain": [
       "'islamo'"
      ]
     },
     "execution_count": 31,
     "metadata": {},
     "output_type": "execute_result"
    }
   ],
   "source": [
    "motcle"
   ]
  },
  {
   "cell_type": "code",
   "execution_count": 36,
   "metadata": {},
   "outputs": [],
   "source": [
    "chaque_mots = \"La fiche de poste modifiée de l'université Paris-Est-Créteil\".split()"
   ]
  },
  {
   "cell_type": "code",
   "execution_count": 37,
   "metadata": {},
   "outputs": [
    {
     "data": {
      "text/plain": [
       "False"
      ]
     },
     "execution_count": 37,
     "metadata": {},
     "output_type": "execute_result"
    }
   ],
   "source": [
    "\"dif\" in chaque_mots"
   ]
  },
  {
   "cell_type": "code",
   "execution_count": 38,
   "metadata": {},
   "outputs": [
    {
     "data": {
      "text/plain": [
       "[\"Tension entre l'exécutif et le monde scientifique Après les déclarations de Vidal sur l' «  islamo-gauchisme », Attal a rappelé « l'indépendance » des chercheurs\",\n",
       " \"La fiche de poste modifiée de l'université Paris-Est-Créteil\"]"
      ]
     },
     "execution_count": 38,
     "metadata": {},
     "output_type": "execute_result"
    }
   ],
   "source": [
    "titres"
   ]
  },
  {
   "cell_type": "markdown",
   "metadata": {},
   "source": [
    "Structure de la boucle for.\n",
    "\n",
    "```python\n",
    "for variable in sequence:\n",
    "    # quoi faire.\n",
    "```"
   ]
  },
  {
   "cell_type": "code",
   "execution_count": 39,
   "metadata": {},
   "outputs": [
    {
     "name": "stdout",
     "output_type": "stream",
     "text": [
      "Tension entre l'exécutif et le monde scientifique Après les déclarations de Vidal sur l' «  islamo-gauchisme », Attal a rappelé « l'indépendance » des chercheurs\n"
     ]
    },
    {
     "data": {
      "text/plain": [
       "1"
      ]
     },
     "execution_count": 39,
     "metadata": {},
     "output_type": "execute_result"
    }
   ],
   "source": [
    "nombre_articles = 0\n",
    "for mon_titre in titres:\n",
    "    if motcle in mon_titre:\n",
    "        print(mon_titre)\n",
    "        nombre_articles+=1\n",
    "        \n",
    "nombre_articles"
   ]
  },
  {
   "cell_type": "code",
   "execution_count": 40,
   "metadata": {},
   "outputs": [
    {
     "name": "stdout",
     "output_type": "stream",
     "text": [
      "un\n",
      "deux\n",
      "trois\n",
      "nous\n",
      "faisons\n",
      "du\n",
      "Python\n"
     ]
    }
   ],
   "source": [
    "for mot in [\"un\", \"deux\", \"trois\", \"nous\", \"faisons\",\"du\", \"Python\"]:\n",
    "    print(mot)"
   ]
  },
  {
   "cell_type": "code",
   "execution_count": 48,
   "metadata": {},
   "outputs": [],
   "source": [
    "mon_titre = titres[0]"
   ]
  },
  {
   "cell_type": "code",
   "execution_count": 43,
   "metadata": {},
   "outputs": [
    {
     "data": {
      "text/plain": [
       "str"
      ]
     },
     "execution_count": 43,
     "metadata": {},
     "output_type": "execute_result"
    }
   ],
   "source": [
    "type(titre0)"
   ]
  },
  {
   "cell_type": "code",
   "execution_count": 51,
   "metadata": {},
   "outputs": [],
   "source": [
    "from collections import Counter"
   ]
  },
  {
   "cell_type": "code",
   "execution_count": 54,
   "metadata": {},
   "outputs": [
    {
     "data": {
      "text/plain": [
       "0"
      ]
     },
     "execution_count": 54,
     "metadata": {},
     "output_type": "execute_result"
    }
   ],
   "source": [
    "from collections import Counter\n",
    "Counter(mon_titre.split(' '))['islamo']"
   ]
  },
  {
   "cell_type": "code",
   "execution_count": 56,
   "metadata": {},
   "outputs": [],
   "source": [
    "f  = open('tex','w')"
   ]
  },
  {
   "cell_type": "code",
   "execution_count": 58,
   "metadata": {},
   "outputs": [
    {
     "data": {
      "text/plain": [
       "1"
      ]
     },
     "execution_count": 58,
     "metadata": {},
     "output_type": "execute_result"
    }
   ],
   "source": [
    "f.write('a')"
   ]
  },
  {
   "cell_type": "code",
   "execution_count": 59,
   "metadata": {},
   "outputs": [
    {
     "data": {
      "text/plain": [
       "1"
      ]
     },
     "execution_count": 59,
     "metadata": {},
     "output_type": "execute_result"
    }
   ],
   "source": [
    "f.write('b')"
   ]
  },
  {
   "cell_type": "code",
   "execution_count": 60,
   "metadata": {},
   "outputs": [],
   "source": [
    "f.close()"
   ]
  },
  {
   "cell_type": "code",
   "execution_count": 62,
   "metadata": {},
   "outputs": [
    {
     "name": "stdout",
     "output_type": "stream",
     "text": [
      "ab"
     ]
    }
   ],
   "source": [
    "cat tex"
   ]
  },
  {
   "cell_type": "code",
   "execution_count": 49,
   "metadata": {
    "scrolled": false
   },
   "outputs": [
    {
     "name": "stdout",
     "output_type": "stream",
     "text": [
      "T\n",
      "e\n",
      "n\n",
      "s\n",
      "i\n",
      "o\n",
      "n\n",
      " \n",
      "e\n",
      "n\n",
      "t\n",
      "r\n",
      "e\n",
      " \n",
      "l\n",
      "'\n",
      "e\n",
      "x\n",
      "é\n",
      "c\n",
      "u\n",
      "t\n",
      "i\n",
      "f\n",
      " \n",
      "e\n",
      "t\n",
      " \n",
      "l\n",
      "e\n",
      " \n",
      "m\n",
      "o\n",
      "n\n",
      "d\n",
      "e\n",
      " \n",
      "s\n",
      "c\n",
      "i\n",
      "e\n",
      "n\n",
      "t\n",
      "i\n",
      "f\n",
      "i\n",
      "q\n",
      "u\n",
      "e\n",
      " \n",
      "A\n",
      "p\n",
      "r\n",
      "è\n",
      "s\n",
      " \n",
      "l\n",
      "e\n",
      "s\n",
      " \n",
      "d\n",
      "é\n",
      "c\n",
      "l\n",
      "a\n",
      "r\n",
      "a\n",
      "t\n",
      "i\n",
      "o\n",
      "n\n",
      "s\n",
      " \n",
      "d\n",
      "e\n",
      " \n",
      "V\n",
      "i\n",
      "d\n",
      "a\n",
      "l\n",
      " \n",
      "s\n",
      "u\n",
      "r\n",
      " \n",
      "l\n",
      "'\n",
      " \n",
      "«\n",
      " \n",
      " \n",
      "i\n",
      "s\n",
      "l\n",
      "a\n",
      "m\n",
      "o\n",
      "-\n",
      "g\n",
      "a\n",
      "u\n",
      "c\n",
      "h\n",
      "i\n",
      "s\n",
      "m\n",
      "e\n",
      " \n",
      "»\n",
      ",\n",
      " \n",
      "A\n",
      "t\n",
      "t\n",
      "a\n",
      "l\n",
      " \n",
      "a\n",
      " \n",
      "r\n",
      "a\n",
      "p\n",
      "p\n",
      "e\n",
      "l\n",
      "é\n",
      " \n",
      "«\n",
      " \n",
      "l\n",
      "'\n",
      "i\n",
      "n\n",
      "d\n",
      "é\n",
      "p\n",
      "e\n",
      "n\n",
      "d\n",
      "a\n",
      "n\n",
      "c\n",
      "e\n",
      " \n",
      "»\n",
      " \n",
      "d\n",
      "e\n",
      "s\n",
      " \n",
      "c\n",
      "h\n",
      "e\n",
      "r\n",
      "c\n",
      "h\n",
      "e\n",
      "u\n",
      "r\n",
      "s\n"
     ]
    }
   ],
   "source": [
    "# Faire attention si on fait un boucle sur une chaine de charactères, \n",
    "# on va avoir chaque lettre une a une. \n",
    "\n",
    "for lettre in mon_titre:\n",
    "    print(lettre)\n",
    "\n",
    "# equivalent à\n",
    "\n",
    "# lettre = mon_titre[0]\n",
    "# print(lettre)\n",
    "# lettre = mon_titre[1]\n",
    "# print(lettre)\n",
    "# lettre = mon_titre[2]\n",
    "# print(lettre)\n",
    "# ....\n",
    "\n",
    "    "
   ]
  },
  {
   "cell_type": "markdown",
   "metadata": {},
   "source": [
    "## Intermède : les commentaires dans le code"
   ]
  },
  {
   "cell_type": "markdown",
   "metadata": {},
   "source": [
    "On peut utiliser `#` pour mettre un commentaire dans du code pour se rapeler plus tard\n",
    "pourquoi on a écrit ce qu'on a écrit. "
   ]
  },
  {
   "cell_type": "markdown",
   "metadata": {},
   "source": [
    "## 3. Définir ses propres fonctions\n",
    "\n",
    "Il est possible de créer des boîtes avec du code à réutiliser, qui prennent des entrées et renvoient des sorties."
   ]
  },
  {
   "cell_type": "markdown",
   "metadata": {},
   "source": [
    "## 4. Écrire dans un fichier"
   ]
  },
  {
   "cell_type": "markdown",
   "metadata": {},
   "source": [
    "Quand un programme se développe, il est nécessaire d'apprendre à lire et à écrire\n",
    "\n",
    "- formats de fichier\n",
    "- lire un contenu\n",
    "- écrire un contenu"
   ]
  },
  {
   "cell_type": "markdown",
   "metadata": {},
   "source": [
    "## Application : intégrer une lecture/écriture dans notre code"
   ]
  },
  {
   "cell_type": "code",
   "execution_count": 15,
   "metadata": {},
   "outputs": [],
   "source": [
    "def compte_motcle(titres, motcle):\n",
    "    \"\"\"Compte le nombre de `titres` qui continnes `motcle`/\n",
    "    \n",
    "    Parameters\n",
    "    ----------\n",
    "    \n",
    "    titres : list of str\n",
    "        Sequence of item to search for `motcle`\n",
    "    motcle : str\n",
    "        Keyword to search titres for.\n",
    "    \n",
    "    Returns\n",
    "    -------\n",
    "    proportion: float\n",
    "        the proportion of title containing the the keyword `motcle` in :math:`[0,1]`\n",
    "    \n",
    "    \"\"\"\n",
    "    nombre_articles = 0\n",
    "    nombre_total_articles = len(titres)\n",
    "    if nombre_total_articles > 0:\n",
    "        for i in titres:\n",
    "            if motcle in i:\n",
    "                nombre_articles+=1\n",
    "    proportion = nombre_articles/nombre_total_articles\n",
    "    return proportion"
   ]
  },
  {
   "cell_type": "code",
   "execution_count": 17,
   "metadata": {},
   "outputs": [],
   "source": [
    "compte_motcle?"
   ]
  },
  {
   "cell_type": "code",
   "execution_count": 16,
   "metadata": {},
   "outputs": [
    {
     "data": {
      "text/plain": [
       "0.6666666666666666"
      ]
     },
     "execution_count": 16,
     "metadata": {},
     "output_type": "execute_result"
    }
   ],
   "source": [
    "compte_motcle([[1,2,3],{4,5,3},(7,7,2)], 3)"
   ]
  },
  {
   "cell_type": "code",
   "execution_count": null,
   "metadata": {},
   "outputs": [],
   "source": []
  }
 ],
 "metadata": {
  "kernelspec": {
   "display_name": "Python 3",
   "language": "python",
   "name": "python3"
  },
  "language_info": {
   "codemirror_mode": {
    "name": "ipython",
    "version": 3
   },
   "file_extension": ".py",
   "mimetype": "text/x-python",
   "name": "python",
   "nbconvert_exporter": "python",
   "pygments_lexer": "ipython3",
   "version": "3.8.5"
  }
 },
 "nbformat": 4,
 "nbformat_minor": 4
}
