{
 "cells": [
  {
   "cell_type": "markdown",
   "metadata": {},
   "source": [
    "# Manipuler les données avec Pandas pour aller vers l'analyse statistique\n",
    "\n",
    "En un mot : Pandas est une gamme d'outils pour manipuler des tableaux, et aller jusqu'à l'analyse des données\n",
    "\n",
    "Cela simplifie beaucoup de traitements, surtout pour l'exploration."
   ]
  },
  {
   "cell_type": "markdown",
   "metadata": {},
   "source": [
    "## Avant Pandas : avoir un tableau de données"
   ]
  },
  {
   "cell_type": "markdown",
   "metadata": {},
   "source": [
    "Articles du Monde, quotidien français, sur une période, mentionnant le terme \"islamogauchisme\" : construire un unique fichier CSV qui comprend : la date de l'article, son titre, le nombre de mots qu'il contient, et le nombre de fois où le terme \"islamogauchisme\" ou \"islamo-gauchisme\" est contenu.\n",
    "\n",
    "On peut le faire uniquement avec les outils déjà vu. Nous allons utiliser Pandas pour faire ça dans ce cours, puis analyser les données"
   ]
  },
  {
   "cell_type": "code",
   "execution_count": 6,
   "metadata": {
    "scrolled": true
   },
   "outputs": [],
   "source": [
    "import os\n",
    "\n",
    "# Fonction pour compter\n",
    "def compter(x):\n",
    "    mots = [\"islamogauchisme\",\"islamo-gauchisme\"]\n",
    "    total = 0\n",
    "    for m in mots:\n",
    "        total+=x.lower().count(m)\n",
    "    return total\n",
    "\n",
    "# Créer le corpus\n",
    "corpus = []\n",
    "for fichier in os.listdir(\"./Data/articles/\"):\n",
    "    date = fichier[0:10]\n",
    "    titre = fichier[12:]\n",
    "    with open(\"./Data/articles/\"+fichier,\"r\") as f:\n",
    "        contenu = f.read()\n",
    "    total_titre_ig = compter(titre)\n",
    "    total_contenu_ig = compter(contenu)\n",
    "    total_mots = len(contenu.split())\n",
    "    corpus.append([date,titre,contenu,total_mots,total_titre_ig,total_contenu_ig])\n",
    "\n",
    "corpus = pd.DataFrame(corpus)\n",
    "corpus.to_excel(\"Data/tableau.xls\")"
   ]
  },
  {
   "cell_type": "markdown",
   "metadata": {},
   "source": [
    "## Manipuler un tableau Pandas"
   ]
  },
  {
   "cell_type": "code",
   "execution_count": 11,
   "metadata": {},
   "outputs": [],
   "source": [
    "import pandas as pd\n",
    "data = pd.read_excel(\"./Data/extraction-ig-europresse.xls\")"
   ]
  },
  {
   "cell_type": "markdown",
   "metadata": {},
   "source": [
    "### Sélectionner les éléments : colonnes, lignes, cases"
   ]
  },
  {
   "cell_type": "markdown",
   "metadata": {},
   "source": [
    "### Mettre en forme : colonne et index"
   ]
  },
  {
   "cell_type": "markdown",
   "metadata": {},
   "source": [
    "### Filtrer le tableau"
   ]
  },
  {
   "cell_type": "markdown",
   "metadata": {},
   "source": [
    "### Rajouter des colonnes\n",
    "\n",
    "Recoder les journaux ; Rajouter une colonne nombre de mots ; une colonne présence des termes ; une colonne densité du terme"
   ]
  },
  {
   "cell_type": "code",
   "execution_count": 12,
   "metadata": {},
   "outputs": [],
   "source": [
    "import regex as re\n",
    "import datetime\n",
    "\n",
    "def reco_date(x):\n",
    "    #conversion lettres/chiffres\n",
    "    mois = {\"janvier\":\"01\",\"février\":\"02\",\"mars\":\"03\",\n",
    "            \"avril\":\"04\",\"mai\":\"05\",\"juin\":\"06\",\"juillet\":\"07\",\n",
    "            \"août\":\"08\",\"septembre\":\"09\",\"octobre\":\"10\",\"novembre\":\"11\",\"décembre\":\"12\"}\n",
    "    \n",
    "    #Trouver le motif\n",
    "    t = re.findall(\"\\w+ \\w+ [0-9]{4}\",x)\n",
    "    \n",
    "    #Si pas trouvé, renvoyer rien\n",
    "    if len(t) <1:\n",
    "        return None\n",
    "    #Sinon prendre le premier élément\n",
    "    t = t[0]\n",
    "    \n",
    "    #Remplacer le mois pour une mise en forme\n",
    "    for i in mois:\n",
    "        if i in t:\n",
    "            t = t.replace(i,\"/%s/\"%mois[i]).replace(\" \",\"\")\n",
    "\n",
    "    #Mettre sous la forme d'un objet datetime \n",
    "    t = datetime.datetime.strptime(t,\"%d/%m/%Y\")\n",
    "            \n",
    "    return t"
   ]
  },
  {
   "cell_type": "code",
   "execution_count": 16,
   "metadata": {},
   "outputs": [],
   "source": [
    "data[\"nombre_ig\"] = data[\"Contenu\"].apply(compter)\n",
    "data[\"nombre_mots\"] = data[\"Contenu\"].apply(lambda x: len(x.split()))\n",
    "data[\"densite\"] = data.apply(lambda x : None if x[\"nombre_mots\"]==0 else x[\"nombre_ig\"]/x[\"nombre_mots\"],axis=1)\n",
    "data[\"Date-reco\"] = data[\"Date\"].apply(reco_date)\n",
    "def reco_journal(x):\n",
    "    journals = {\"Le Figaro\":\"Figaro\",\"Humanité\":\"L'Humanité\",\"Le Monde\":\"Le Monde\",\n",
    "                \"La Croix\":\"La Croix\",\"La Tribune\":\"La Tribune\",\"Les Echos\":\"Les Echos\",\n",
    "               \"Aujourd'hui en France\":\"Aujourd'hui en France\"}\n",
    "    for j in journals:\n",
    "        if j in x:\n",
    "            return journals[j]\n",
    "    return x\n",
    "\n",
    "data[\"Journal\"] = data[\"Journal\"].apply(reco_journal)\n",
    "\n",
    "data.drop(\"Unnamed: 0\",axis=1).to_excel(\"Data/tableau_statistiques.xls\",index=False)"
   ]
  },
  {
   "cell_type": "markdown",
   "metadata": {},
   "source": [
    "### Créer un tableau Pandas de 0"
   ]
  },
  {
   "cell_type": "markdown",
   "metadata": {},
   "source": [
    "### Sauvegarder un tableau Pandas"
   ]
  },
  {
   "cell_type": "markdown",
   "metadata": {},
   "source": [
    "## Début de mise en forme"
   ]
  },
  {
   "cell_type": "markdown",
   "metadata": {},
   "source": [
    "### Le tri à plat"
   ]
  },
  {
   "cell_type": "markdown",
   "metadata": {},
   "source": [
    "### Les tableaux croisés"
   ]
  },
  {
   "cell_type": "markdown",
   "metadata": {},
   "source": [
    "### Ensuite ? Mettre en forme ..."
   ]
  },
  {
   "cell_type": "markdown",
   "metadata": {},
   "source": [
    "## Exemple d'utilisation avancée"
   ]
  },
  {
   "cell_type": "markdown",
   "metadata": {},
   "source": [
    "### La manipulation de séries temporelles"
   ]
  }
 ],
 "metadata": {
  "kernelspec": {
   "display_name": "Python 3",
   "language": "python",
   "name": "python3"
  },
  "language_info": {
   "codemirror_mode": {
    "name": "ipython",
    "version": 3
   },
   "file_extension": ".py",
   "mimetype": "text/x-python",
   "name": "python",
   "nbconvert_exporter": "python",
   "pygments_lexer": "ipython3",
   "version": "3.7.7"
  }
 },
 "nbformat": 4,
 "nbformat_minor": 5
}
