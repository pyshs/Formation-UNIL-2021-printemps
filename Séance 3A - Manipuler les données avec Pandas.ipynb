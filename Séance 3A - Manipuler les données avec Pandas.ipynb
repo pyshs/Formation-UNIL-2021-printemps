{
 "cells": [
  {
   "cell_type": "markdown",
   "metadata": {},
   "source": [
    "# Manipuler les données avec Pandas pour aller vers l'analyse statistique\n",
    "\n",
    "En un mot : Pandas est une gamme d'outils pour manipuler des tableaux, et aller jusqu'à l'analyse des données\n",
    "\n",
    "Cela simplifie beaucoup de traitements, surtout pour l'exploration."
   ]
  },
  {
   "cell_type": "markdown",
   "metadata": {},
   "source": [
    "## Avant Pandas : avoir un tableau de données"
   ]
  },
  {
   "cell_type": "markdown",
   "metadata": {},
   "source": [
    "Articles du Monde, quotidien français, sur une période, mentionnant le terme \"islamogauchisme\" : construire un unique fichier CSV qui comprend : la date de l'article, son titre, le nombre de mots qu'il contient, et le nombre de fois où le terme \"islamogauchisme\" ou \"islamo-gauchisme\" est contenu.\n",
    "\n",
    "On peut le faire uniquement avec les outils déjà vu. Nous allons utiliser Pandas pour faire ça dans ce cours, puis analyser les données"
   ]
  },
  {
   "cell_type": "code",
<<<<<<< HEAD
   "execution_count": 3,
=======
   "execution_count": 1,
   "id": "fuzzy-passion",
   "metadata": {},
   "outputs": [],
   "source": [
    "try:\n",
    "    import openpyxl\n",
    "except ModuleNotFoundError:\n",
    "    print(\"\"\"\n",
    "    Nous aurons besoins de openpyxl, installez le avec\n",
    "        \n",
    "        conda install openpyxl\n",
    "    ou \n",
    "    \n",
    "        pip install openpyxl\n",
    "    \"\"\")"
   ]
  },
  {
   "cell_type": "code",
   "execution_count": 2,
   "id": "secondary-brother",
>>>>>>> 84c070f1b80394e4e2a897d1e78f8fd859db1a5e
   "metadata": {
    "scrolled": true
   },
   "outputs": [],
   "source": [
    "import os\n",
    "import pandas as pd\n",
    "\n",
    "# Fonction pour compter\n",
    "def compter(x):\n",
    "    mots = [\"islamogauchisme\", \"islamo-gauchisme\"]\n",
    "    total = 0\n",
    "    for m in mots:\n",
    "        total+=x.lower().count(m)\n",
    "    return total\n",
    "\n",
    "# Créer le corpus\n",
    "corpus = []\n",
    "for fichier in os.listdir(\"./Data/articles/\"):\n",
    "    date = fichier[0:10]\n",
    "    titre = fichier[12:]\n",
    "    with open(\"./Data/articles/\"+fichier,\"r\") as f:\n",
    "        contenu = f.read()\n",
    "    total_titre_ig = compter(titre)\n",
    "    total_contenu_ig = compter(contenu)\n",
    "    total_mots = len(contenu.split())\n",
    "    corpus.append([date,titre,contenu,total_mots,total_titre_ig,total_contenu_ig])\n",
    "\n",
    "corpus = pd.DataFrame(corpus)\n",
    "corpus.to_excel(\"Data/tableau.xlsx\", index=False)"
   ]
  },
  {
   "cell_type": "markdown",
   "metadata": {},
   "source": [
    "## Manipuler un tableau Pandas"
   ]
  },
  {
   "cell_type": "code",
<<<<<<< HEAD
   "execution_count": 1,
=======
   "execution_count": 5,
   "id": "stable-chick",
>>>>>>> 84c070f1b80394e4e2a897d1e78f8fd859db1a5e
   "metadata": {},
   "outputs": [],
   "source": [
    "import pandas as pd\n",
    "data = pd.read_excel(\"./Data/extraction-ig-europresse.xls\", index_col=0)"
   ]
  },
  {
   "cell_type": "markdown",
   "metadata": {},
   "source": [
    "### Sélectionner les éléments : colonnes, lignes, cases"
   ]
  },
  {
   "cell_type": "markdown",
   "metadata": {},
   "source": [
    "### Mettre en forme : colonne et index"
   ]
  },
  {
   "cell_type": "markdown",
   "metadata": {},
   "source": [
    "### Filtrer le tableau"
   ]
  },
  {
   "cell_type": "markdown",
   "metadata": {},
   "source": [
    "### Rajouter des colonnes\n",
    "\n",
    "Recoder les journaux ; Rajouter une colonne nombre de mots ; une colonne présence des termes ; une colonne densité du terme"
   ]
  },
  {
   "cell_type": "code",
<<<<<<< HEAD
   "execution_count": 4,
=======
   "execution_count": 20,
   "id": "collected-shepherd",
>>>>>>> 84c070f1b80394e4e2a897d1e78f8fd859db1a5e
   "metadata": {},
   "outputs": [],
   "source": [
    "data[\"nombre_ig\"] = data[\"Contenu\"].apply(compter)\n",
    "data[\"nombre_mots\"] = data[\"Contenu\"].apply(lambda x: len(x.split()))\n",
    "data[\"densite\"] = data.apply(lambda x : None if x[\"nombre_mots\"]==0 else x[\"nombre_ig\"]/x[\"nombre_mots\"],axis=1)\n",
    "def reco_journal(x):\n",
    "    journals = {\"Humanité\": \"L'Humanité\",\n",
    "                \"Le Monde\": \"Le Monde\",\n",
    "                \"La Croix\": \"La Croix\",\n",
    "                \"Le Figaro\": \"Figaro\",\n",
    "                \"Les Echos\": \"Les Echos\",\n",
    "                \"La Tribune\": \"La Tribune\",\n",
    "                \"Aujourd'hui en France\": \"Aujourd'hui en France\"}\n",
    "    for j in journals:\n",
    "        if j in x:\n",
    "            return journals[j]\n",
    "    return x\n",
    "\n",
    "data[\"Journal\"] = data[\"Journal\"].apply(reco_journal)\n",
    "\n",
    "data.to_excel(\"Data/tableau_statistiques.xlsx\", index=False)"
   ]
  },
  {
   "cell_type": "code",
<<<<<<< HEAD
   "execution_count": 5,
=======
   "execution_count": 15,
   "id": "sonic-pharmacology",
>>>>>>> 84c070f1b80394e4e2a897d1e78f8fd859db1a5e
   "metadata": {},
   "outputs": [
    {
     "data": {
      "text/html": [
       "<div>\n",
       "<style scoped>\n",
       "    .dataframe tbody tr th:only-of-type {\n",
       "        vertical-align: middle;\n",
       "    }\n",
       "\n",
       "    .dataframe tbody tr th {\n",
       "        vertical-align: top;\n",
       "    }\n",
       "\n",
       "    .dataframe thead th {\n",
       "        text-align: right;\n",
       "    }\n",
       "</style>\n",
       "<table border=\"1\" class=\"dataframe\">\n",
       "  <thead>\n",
       "    <tr style=\"text-align: right;\">\n",
       "      <th></th>\n",
       "      <th>Unnamed: 0</th>\n",
       "      <th>Date</th>\n",
       "      <th>Titre</th>\n",
       "      <th>Journal</th>\n",
       "      <th>Contenu</th>\n",
       "      <th>Auteur</th>\n",
       "      <th>nombre_ig</th>\n",
       "      <th>nombre_mots</th>\n",
       "      <th>densite</th>\n",
       "    </tr>\n",
       "  </thead>\n",
       "  <tbody>\n",
       "    <tr>\n",
       "      <th>0</th>\n",
       "      <td>0</td>\n",
       "      <td>Le Figaro,  vendredi 26 février 2021 736 mots...</td>\n",
       "      <td>ISLAMO-GAUCHISME</td>\n",
       "      <td>Figaro</td>\n",
       "      <td>- « Fantasme » pour les uns, « slogan d'ext...</td>\n",
       "      <td>Bastié, Eugénie</td>\n",
       "      <td>8</td>\n",
       "      <td>793</td>\n",
       "      <td>0.010088</td>\n",
       "    </tr>\n",
       "    <tr>\n",
       "      <th>1</th>\n",
       "      <td>1</td>\n",
       "      <td>jeudi 18 février 2021 1480 mots, p. 2,3,4</td>\n",
       "      <td>Sa maison brûle et Vidal regarde l'«islamo-ga...</td>\n",
       "      <td>Libération</td>\n",
       "      <td>Qu'arrive-t-il à Frédérique Vidal ? Des étud...</td>\n",
       "      <td>Par SIMON BLIN et BERNADETTE SAUVAGET</td>\n",
       "      <td>7</td>\n",
       "      <td>1407</td>\n",
       "      <td>0.004975</td>\n",
       "    </tr>\n",
       "    <tr>\n",
       "      <th>2</th>\n",
       "      <td>2</td>\n",
       "      <td>Le Figaro,  samedi 20 février 2021 932 mots, ...</td>\n",
       "      <td>« L'université est l'otage des idéologues rad...</td>\n",
       "      <td>Figaro</td>\n",
       "      <td>XAVIER-LAURENT SALVADOR, maître de conféren...</td>\n",
       "      <td>Devecchio, Alexandre</td>\n",
       "      <td>7</td>\n",
       "      <td>963</td>\n",
       "      <td>0.007269</td>\n",
       "    </tr>\n",
       "    <tr>\n",
       "      <th>3</th>\n",
       "      <td>3</td>\n",
       "      <td>Le Figaro,  vendredi 12 février 2021 1486 mot...</td>\n",
       "      <td>L'islamo-gauchisme prospère dans les universi...</td>\n",
       "      <td>Figaro</td>\n",
       "      <td>DIFFAMÉ car qualifié d'islamo-gauchiste ? L...</td>\n",
       "      <td>Beyer, Caroline</td>\n",
       "      <td>4</td>\n",
       "      <td>1585</td>\n",
       "      <td>0.002524</td>\n",
       "    </tr>\n",
       "    <tr>\n",
       "      <th>4</th>\n",
       "      <td>4</td>\n",
       "      <td>vendredi 26 février 2021 992 mots, p. 16,17</td>\n",
       "      <td>Sur l'«islamogauchisme», les chercheurs s'éch...</td>\n",
       "      <td>Libération</td>\n",
       "      <td>Pendant que les étudiants grossissent les fi...</td>\n",
       "      <td>Par SIMON BLIN</td>\n",
       "      <td>6</td>\n",
       "      <td>934</td>\n",
       "      <td>0.006424</td>\n",
       "    </tr>\n",
       "    <tr>\n",
       "      <th>...</th>\n",
       "      <td>...</td>\n",
       "      <td>...</td>\n",
       "      <td>...</td>\n",
       "      <td>...</td>\n",
       "      <td>...</td>\n",
       "      <td>...</td>\n",
       "      <td>...</td>\n",
       "      <td>...</td>\n",
       "      <td>...</td>\n",
       "    </tr>\n",
       "    <tr>\n",
       "      <th>166</th>\n",
       "      <td>166</td>\n",
       "      <td>Le Figaro,  vendredi 5 mars 2021 1031 mots, p...</td>\n",
       "      <td>Pourquoi la diabolisation n'effraie plus</td>\n",
       "      <td>Figaro</td>\n",
       "      <td>Panique à gauche. La diabolisation ne foncti...</td>\n",
       "      <td>Rioufol, Ivan</td>\n",
       "      <td>1</td>\n",
       "      <td>1082</td>\n",
       "      <td>0.000924</td>\n",
       "    </tr>\n",
       "    <tr>\n",
       "      <th>167</th>\n",
       "      <td>167</td>\n",
       "      <td>Le Figaro,  samedi 6 mars 2021 561 mots, p. 14</td>\n",
       "      <td>Deux profs de l'IEP de Grenoble menacés Placa...</td>\n",
       "      <td>Figaro</td>\n",
       "      <td>ENSEIGNEMENT  « Des fascistes dans nos amphi...</td>\n",
       "      <td>Sugy, Paul</td>\n",
       "      <td>1</td>\n",
       "      <td>567</td>\n",
       "      <td>0.001764</td>\n",
       "    </tr>\n",
       "    <tr>\n",
       "      <th>168</th>\n",
       "      <td>168</td>\n",
       "      <td>mercredi 3 mars 2021 46 mots, p. 24</td>\n",
       "      <td>Bonnet d'âne</td>\n",
       "      <td>L'Humanité</td>\n",
       "      <td>« Si ça n'existe pas, regardons-le ensemble....</td>\n",
       "      <td>NaN</td>\n",
       "      <td>1</td>\n",
       "      <td>47</td>\n",
       "      <td>0.021277</td>\n",
       "    </tr>\n",
       "    <tr>\n",
       "      <th>169</th>\n",
       "      <td>169</td>\n",
       "      <td>Le Figaro,  mardi 2 mars 2021 558 mots, p. 4</td>\n",
       "      <td>Jacques Maire (LREM) : « Cette coalition doit...</td>\n",
       "      <td>Figaro</td>\n",
       "      <td>UNE DIFFÉRENCE de points de vue «   normale...</td>\n",
       "      <td>Cohen, Dinah</td>\n",
       "      <td>1</td>\n",
       "      <td>591</td>\n",
       "      <td>0.001692</td>\n",
       "    </tr>\n",
       "    <tr>\n",
       "      <th>170</th>\n",
       "      <td>170</td>\n",
       "      <td>Le Figaro,  samedi 6 mars 2021 774 mots, p. 19</td>\n",
       "      <td>La gauche arbitre des élégances</td>\n",
       "      <td>Figaro</td>\n",
       "      <td>Alors que la polémique sur l'islamo-gauchism...</td>\n",
       "      <td>Bastié, Eugénie</td>\n",
       "      <td>1</td>\n",
       "      <td>816</td>\n",
       "      <td>0.001225</td>\n",
       "    </tr>\n",
       "  </tbody>\n",
       "</table>\n",
       "<p>171 rows × 9 columns</p>\n",
       "</div>"
      ],
      "text/plain": [
<<<<<<< HEAD
       "     Unnamed: 0                                               Date  \\\n",
       "0             0   Le Figaro,  vendredi 26 février 2021 736 mots...   \n",
       "1             1         jeudi 18 février 2021 1480 mots, p. 2,3,4    \n",
       "2             2   Le Figaro,  samedi 20 février 2021 932 mots, ...   \n",
       "3             3   Le Figaro,  vendredi 12 février 2021 1486 mot...   \n",
       "4             4       vendredi 26 février 2021 992 mots, p. 16,17    \n",
       "..          ...                                                ...   \n",
       "166         166   Le Figaro,  vendredi 5 mars 2021 1031 mots, p...   \n",
       "167         167    Le Figaro,  samedi 6 mars 2021 561 mots, p. 14    \n",
       "168         168               mercredi 3 mars 2021 46 mots, p. 24    \n",
       "169         169      Le Figaro,  mardi 2 mars 2021 558 mots, p. 4    \n",
       "170         170    Le Figaro,  samedi 6 mars 2021 774 mots, p. 19    \n",
       "\n",
       "                                                 Titre         Journal  \\\n",
       "0                                    ISLAMO-GAUCHISME           Figaro   \n",
       "1     Sa maison brûle et Vidal regarde l'«islamo-ga...   Libération      \n",
       "2     « L'université est l'otage des idéologues rad...          Figaro   \n",
       "3     L'islamo-gauchisme prospère dans les universi...          Figaro   \n",
       "4     Sur l'«islamogauchisme», les chercheurs s'éch...   Libération      \n",
       "..                                                 ...             ...   \n",
       "166          Pourquoi la diabolisation n'effraie plus           Figaro   \n",
       "167   Deux profs de l'IEP de Grenoble menacés Placa...          Figaro   \n",
       "168                                      Bonnet d'âne       L'Humanité   \n",
       "169   Jacques Maire (LREM) : « Cette coalition doit...          Figaro   \n",
       "170                   La gauche arbitre des élégances           Figaro   \n",
       "\n",
       "                                               Contenu  \\\n",
       "0       - « Fantasme » pour les uns, « slogan d'ext...   \n",
       "1      Qu'arrive-t-il à Frédérique Vidal ? Des étud...   \n",
       "2       XAVIER-LAURENT SALVADOR, maître de conféren...   \n",
       "3       DIFFAMÉ car qualifié d'islamo-gauchiste ? L...   \n",
       "4      Pendant que les étudiants grossissent les fi...   \n",
       "..                                                 ...   \n",
       "166    Panique à gauche. La diabolisation ne foncti...   \n",
       "167    ENSEIGNEMENT  « Des fascistes dans nos amphi...   \n",
       "168    « Si ça n'existe pas, regardons-le ensemble....   \n",
       "169     UNE DIFFÉRENCE de points de vue «   normale...   \n",
       "170    Alors que la polémique sur l'islamo-gauchism...   \n",
       "\n",
       "                                    Auteur  nombre_ig  nombre_mots   densite  \n",
       "0                          Bastié, Eugénie          8          793  0.010088  \n",
       "1    Par SIMON BLIN et BERNADETTE SAUVAGET          7         1407  0.004975  \n",
       "2                     Devecchio, Alexandre          7          963  0.007269  \n",
       "3                          Beyer, Caroline          4         1585  0.002524  \n",
       "4                           Par SIMON BLIN          6          934  0.006424  \n",
       "..                                     ...        ...          ...       ...  \n",
       "166                          Rioufol, Ivan          1         1082  0.000924  \n",
       "167                             Sugy, Paul          1          567  0.001764  \n",
       "168                                    NaN          1           47  0.021277  \n",
       "169                           Cohen, Dinah          1          591  0.001692  \n",
       "170                        Bastié, Eugénie          1          816  0.001225  \n",
       "\n",
       "[171 rows x 9 columns]"
      ]
     },
     "execution_count": 5,
=======
       "array(['Figaro', ' Libération   ', \"L'Humanité\", 'La Croix', 'Le Monde',\n",
       "       'Les Echos', \"Aujourd'hui en France\", 'La Tribune'], dtype=object)"
      ]
     },
     "execution_count": 15,
>>>>>>> 84c070f1b80394e4e2a897d1e78f8fd859db1a5e
     "metadata": {},
     "output_type": "execute_result"
    }
   ],
   "source": [
    "data"
   ]
  },
  {
   "cell_type": "markdown",
   "metadata": {},
   "source": [
    "### Créer un tableau Pandas de 0"
   ]
  },
  {
   "cell_type": "markdown",
   "metadata": {},
   "source": [
    "### Sauvegarder un tableau Pandas"
   ]
  },
  {
   "cell_type": "markdown",
   "metadata": {},
   "source": [
    "## Début de mise en forme"
   ]
  },
  {
   "cell_type": "markdown",
   "metadata": {},
   "source": [
    "### Le tri à plat"
   ]
  },
  {
   "cell_type": "markdown",
   "metadata": {},
   "source": [
    "### Les tableaux croisés"
   ]
  },
  {
   "cell_type": "markdown",
   "metadata": {},
   "source": [
    "### Ensuite ? Mettre en forme ..."
   ]
  },
  {
   "cell_type": "markdown",
   "metadata": {},
   "source": [
    "## Exemple d'utilisation avancée"
   ]
  },
  {
   "cell_type": "markdown",
   "metadata": {},
   "source": [
    "### La manipulation de séries temporelles"
   ]
  }
 ],
 "metadata": {
  "kernelspec": {
   "display_name": "Python 3",
   "language": "python",
   "name": "python3"
  },
  "language_info": {
   "codemirror_mode": {
    "name": "ipython",
    "version": 3
   },
   "file_extension": ".py",
   "mimetype": "text/x-python",
   "name": "python",
   "nbconvert_exporter": "python",
   "pygments_lexer": "ipython3",
<<<<<<< HEAD
   "version": "3.7.7"
=======
   "version": "3.8.5"
>>>>>>> 84c070f1b80394e4e2a897d1e78f8fd859db1a5e
  }
 },
 "nbformat": 4,
 "nbformat_minor": 5
}
