{
 "cells": [
  {
   "cell_type": "markdown",
   "metadata": {},
   "source": [
    "# Manipuler les données avec Pandas pour aller vers l'analyse statistique\n",
    "\n",
    "En un mot : Pandas est une gamme d'outils pour manipuler des tableaux, et aller jusqu'à l'analyse des données\n",
    "\n",
    "Cela simplifie beaucoup de traitements, surtout pour l'exploration."
   ]
  },
  {
   "cell_type": "markdown",
   "metadata": {},
   "source": [
    "## Avant Pandas : avoir un tableau de données"
   ]
  },
  {
   "cell_type": "markdown",
   "metadata": {},
   "source": [
    "Articles du Monde, quotidien français, sur une période, mentionnant le terme \"islamogauchisme\" : construire un unique fichier CSV qui comprend : la date de l'article, son titre, le nombre de mots qu'il contient, et le nombre de fois où le terme \"islamogauchisme\" ou \"islamo-gauchisme\" est contenu.\n",
    "\n",
    "On peut le faire uniquement avec les outils déjà vu. Nous allons utiliser Pandas pour faire ça dans ce cours, puis analyser les données"
   ]
  },
  {
   "cell_type": "code",
   "execution_count": 1,
   "metadata": {
    "scrolled": true
   },
   "outputs": [
    {
     "name": "stderr",
     "output_type": "stream",
     "text": [
      "/var/folders/ld/jy0c_5d91rl_s3jqh74tmqn00000gn/T/ipykernel_1848/1262774784.py:25: FutureWarning: As the xlwt package is no longer maintained, the xlwt engine will be removed in a future version of pandas. This is the only engine in pandas that supports writing in the xls format. Install openpyxl and write to an xlsx file instead. You can set the option io.excel.xls.writer to 'xlwt' to silence this warning. While this option is deprecated and will also raise a warning, it can be globally set and the warning suppressed.\n",
      "  corpus.to_excel(\"Data/tableau.xls\", index=False)\n"
     ]
    }
   ],
   "source": [
    "import os\n",
    "import pandas as pd\n",
    "\n",
    "# Fonction pour compter\n",
    "def compter(x):\n",
    "    mots = [\"islamogauchisme\",\"islamo-gauchisme\"]\n",
    "    total = 0\n",
    "    for m in mots:\n",
    "        total+=x.lower().count(m)\n",
    "    return total\n",
    "\n",
    "# Créer le corpus\n",
    "corpus = []\n",
    "for fichier in os.listdir(\"./Data/articles/\"):\n",
    "    date = fichier[0:10]\n",
    "    titre = fichier[12:]\n",
    "    with open(\"./Data/articles/\"+fichier,\"r\") as f:\n",
    "        contenu = f.read()\n",
    "    total_titre_ig = compter(titre)\n",
    "    total_contenu_ig = compter(contenu)\n",
    "    total_mots = len(contenu.split())\n",
    "    corpus.append([date,titre,contenu,total_mots,total_titre_ig,total_contenu_ig])\n",
    "\n",
    "corpus = pd.DataFrame(corpus, columns=['date','titre','contenu','total_mots','total_titre_ig','total_contenu_ig'])\n",
    "corpus.to_excel(\"Data/tableau.xls\", index=False)"
   ]
  },
  {
   "cell_type": "markdown",
   "metadata": {},
   "source": [
    "## Manipuler un tableau Pandas"
   ]
  },
  {
   "cell_type": "code",
   "execution_count": 2,
   "metadata": {},
   "outputs": [],
   "source": [
    "import pandas as pd\n",
    "data = pd.read_excel(\"./Data/extraction-ig-europresse.xls\")"
   ]
  },
  {
   "cell_type": "markdown",
   "metadata": {},
   "source": [
    "### Sélectionner les éléments : colonnes, lignes, cases"
   ]
  },
  {
   "cell_type": "markdown",
   "metadata": {},
   "source": [
    "### Mettre en forme : colonne et index"
   ]
  },
  {
   "cell_type": "markdown",
   "metadata": {},
   "source": [
    "### Filtrer le tableau"
   ]
  },
  {
   "cell_type": "markdown",
   "metadata": {},
   "source": [
    "### Rajouter des colonnes\n",
    "\n",
    "Recoder les journaux ; Rajouter une colonne nombre de mots ; une colonne présence des termes ; une colonne densité du terme"
   ]
  },
  {
   "cell_type": "code",
   "execution_count": 4,
   "metadata": {},
   "outputs": [],
   "source": [
    "import regex as re\n",
    "import datetime\n",
    "\n",
    "def reco_date(x):\n",
    "    #conversion lettres/chiffres\n",
    "    mois = {\"janvier\":\"01\",\"février\":\"02\",\"mars\":\"03\",\n",
    "            \"avril\":\"04\",\"mai\":\"05\",\"juin\":\"06\",\"juillet\":\"07\",\n",
    "            \"août\":\"08\",\"septembre\":\"09\",\"octobre\":\"10\",\"novembre\":\"11\",\"décembre\":\"12\"}\n",
    "    \n",
    "    #Trouver le motif\n",
    "    t = re.findall(\"\\w+ \\w+ [0-9]{4}\",x)\n",
    "    \n",
    "    #Si pas trouvé, renvoyer rien\n",
    "    if len(t) <1:\n",
    "        return None\n",
    "    \n",
    "    #Sinon prendre le premier élémen\n",
    "    t\n",
    "    t = t[0]\n",
    "    \n",
    "    #Remplacer le mois pour une mise en forme\n",
    "    for i in mois:\n",
    "        if i in t:\n",
    "            t = t.replace(i,\"/%s/\"%mois[i]).replace(\" \",\"\")\n",
    "\n",
    "    #Mettre sous la forme d'un objet datetime \n",
    "    t = datetime.datetime.strptime(t,\"%d/%m/%Y\")\n",
    "            \n",
    "    return t"
   ]
  },
  {
   "cell_type": "code",
   "execution_count": 6,
   "metadata": {},
   "outputs": [],
   "source": [
    "data[\"nombre_ig\"] = data[\"Contenu\"].apply(compter)\n",
    "data[\"nombre_mots\"] = data[\"Contenu\"].apply(lambda x: len(x.split()))\n",
    "data[\"densite\"] = data.apply(lambda x : None if x[\"nombre_mots\"]==0 else x[\"nombre_ig\"]/x[\"nombre_mots\"],axis=1)\n",
    "data[\"Date-reco\"] = data[\"Date\"].apply(reco_date)\n",
    "def reco_journal(x):\n",
    "    journals = {\"Le Figaro\":\"Figaro\",\"Humanité\":\"L'Humanité\",\"Le Monde\":\"Le Monde\",\n",
    "                \"La Croix\":\"La Croix\",\"La Tribune\":\"La Tribune\",\"Les Echos\":\"Les Echos\",\n",
    "               \"Aujourd'hui en France\":\"Aujourd'hui en France\"}\n",
    "    for j in journals:\n",
    "        if j in x:\n",
    "            return journals[j]\n",
    "    return x\n",
    "\n",
    "data[\"Journal\"] = data[\"Journal\"].apply(reco_journal)\n",
    "\n",
    "data.to_excel(\"Data/tableau_statistiques.xlsx\",index=False)"
   ]
  },
  {
   "cell_type": "markdown",
   "metadata": {},
   "source": [
    "### Créer un tableau Pandas de 0"
   ]
  },
  {
   "cell_type": "markdown",
   "metadata": {},
   "source": [
    "### Sauvegarder un tableau Pandas"
   ]
  },
  {
   "cell_type": "markdown",
   "metadata": {},
   "source": [
    "## Début de mise en forme"
   ]
  },
  {
   "cell_type": "markdown",
   "metadata": {},
   "source": [
    "### Le tri à plat"
   ]
  },
  {
   "cell_type": "markdown",
   "metadata": {},
   "source": [
    "### Les tableaux croisés"
   ]
  },
  {
   "cell_type": "markdown",
   "metadata": {},
   "source": [
    "### Ensuite ? Mettre en forme ...\n",
    "\n",
    "Exemple d'une fonction plus complète"
   ]
  },
  {
   "cell_type": "code",
   "execution_count": 1,
   "metadata": {},
   "outputs": [],
   "source": [
    "def tri_a_plat(colonne):\n",
    "    effectif = colonne.value_counts()\n",
    "    pourcentage = round(100*colonne.value_counts(normalize=True),1)\n",
    "    tableau = pd.DataFrame([effectif,pourcentage]).T\n",
    "    tableau.columns = [\"Effectif\",\"Pourcentage (%)\"]\n",
    "    return tableau\n",
    "\n",
    "def tableau_croise(c1,c2):\n",
    "    t_absolu = pd.crosstab(c1,c2,margins=True)\n",
    "    t_pourcentage = pd.crosstab(c1,c2)\\\n",
    "            .apply(lambda x: 100*x/sum(x),axis=1)\n",
    "    t = t_absolu.copy()\n",
    "    for i in range(0,t_pourcentage.shape[0]):\n",
    "        for j in range(0,t_pourcentage.shape[1]):\n",
    "            t.iloc[i,j] = str(t_absolu.iloc[i,j]) \\\n",
    "            +\" (\"+str(round(t_pourcentage.iloc[i,j],1))+\"%)\"\n",
    "    return t"
   ]
  },
  {
   "cell_type": "markdown",
   "metadata": {},
   "source": [
    "## Exemple d'utilisation avancée\n",
    "\n",
    "- multiple index\n",
    "- join\n",
    "- merge\n",
    "- concat\n",
    "- etc."
   ]
  },
  {
   "cell_type": "code",
   "execution_count": 36,
   "metadata": {},
   "outputs": [
    {
     "data": {
      "text/html": [
       "<div>\n",
       "<style scoped>\n",
       "    .dataframe tbody tr th:only-of-type {\n",
       "        vertical-align: middle;\n",
       "    }\n",
       "\n",
       "    .dataframe tbody tr th {\n",
       "        vertical-align: top;\n",
       "    }\n",
       "\n",
       "    .dataframe thead th {\n",
       "        text-align: right;\n",
       "    }\n",
       "</style>\n",
       "<table border=\"1\" class=\"dataframe\">\n",
       "  <thead>\n",
       "    <tr style=\"text-align: right;\">\n",
       "      <th></th>\n",
       "      <th>Journal</th>\n",
       "      <th>Texte</th>\n",
       "      <th>Nombre</th>\n",
       "    </tr>\n",
       "  </thead>\n",
       "  <tbody>\n",
       "    <tr>\n",
       "      <th>0</th>\n",
       "      <td>Le Monde</td>\n",
       "      <td>sdsdsd</td>\n",
       "      <td>10</td>\n",
       "    </tr>\n",
       "    <tr>\n",
       "      <th>1</th>\n",
       "      <td>Le Monde</td>\n",
       "      <td>qsdsddsq</td>\n",
       "      <td>10</td>\n",
       "    </tr>\n",
       "    <tr>\n",
       "      <th>2</th>\n",
       "      <td>Libération</td>\n",
       "      <td>qsd0</td>\n",
       "      <td>20</td>\n",
       "    </tr>\n",
       "  </tbody>\n",
       "</table>\n",
       "</div>"
      ],
      "text/plain": [
       "      Journal     Texte Nombre\n",
       "0    Le Monde    sdsdsd     10\n",
       "1    Le Monde  qsdsddsq     10\n",
       "2  Libération      qsd0     20"
      ]
     },
     "execution_count": 36,
     "metadata": {},
     "output_type": "execute_result"
    }
   ],
   "source": [
    "bdd = pd.DataFrame([[\"Le Monde\",\"sdsdsd\"],[\"Le Monde\",\"qsdsddsq\"],[\"Libération\",\"qsd0\"]],columns = [\"Journal\",\"Texte\"])\n",
    "info = pd.DataFrame([[\"Le Monde\",\"10\"],[\"Libération\",\"20\"]],columns = [\"Journal\",\"Nombre\"]).set_index(\"Journal\")\n",
    "bdd.join(info,on=\"Journal\")"
   ]
  }
 ],
 "metadata": {
  "kernelspec": {
   "display_name": "Python 3",
   "language": "python",
   "name": "python3"
  },
  "language_info": {
   "codemirror_mode": {
    "name": "ipython",
    "version": 3
   },
   "file_extension": ".py",
   "mimetype": "text/x-python",
   "name": "python",
   "nbconvert_exporter": "python",
   "pygments_lexer": "ipython3",
   "version": "3.7.7"
  }
 },
 "nbformat": 4,
 "nbformat_minor": 5
}
