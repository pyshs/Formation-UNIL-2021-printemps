{
 "cells": [
  {
   "cell_type": "markdown",
   "id": "ongoing-freight",
   "metadata": {},
   "source": [
    "# Manipuler les données avec Pandas pour aller vers l'analyse statistique\n",
    "\n",
    "En un mot : Pandas est une gamme d'outils pour manipuler des tableaux, et aller jusqu'à l'analyse des données\n",
    "\n",
    "Cela simplifie beaucoup de traitements, surtout pour l'exploration."
   ]
  },
  {
   "cell_type": "markdown",
   "id": "excellent-calvin",
   "metadata": {},
   "source": [
    "## Avant Pandas : avoir un tableau de données"
   ]
  },
  {
   "cell_type": "markdown",
   "id": "significant-arrival",
   "metadata": {},
   "source": [
    "Articles du Monde, quotidien français, sur une période, mentionnant le terme \"islamogauchisme\" : construire un unique fichier CSV qui comprend : la date de l'article, son titre, le nombre de mots qu'il contient, et le nombre de fois où le terme \"islamogauchisme\" ou \"islamo-gauchisme\" est contenu.\n",
    "\n",
    "On peut le faire uniquement avec les outils déjà vu. Nous allons utiliser Pandas pour faire ça dans ce cours, puis analyser les données"
   ]
  },
  {
   "cell_type": "code",
   "execution_count": 27,
   "id": "secondary-brother",
   "metadata": {
    "scrolled": true
   },
   "outputs": [
    {
     "name": "stderr",
     "output_type": "stream",
     "text": [
      "/home/emilien/anaconda3/lib/python3.7/site-packages/ipykernel_launcher.py:14: FutureWarning: As the xlwt package is no longer maintained, the xlwt engine will be removed in a future version of pandas. This is the only engine in pandas that supports writing in the xls format. Install openpyxl and write to an xlsx file instead. You can set the option io.excel.xls.writer to 'xlwt' to silence this warning. While this option is deprecated and will also raise a warning, it can be globally set and the warning suppressed.\n",
      "  \n"
     ]
    }
   ],
   "source": [
    "import os\n",
    "\n",
    "# Fonction pour compter\n",
    "def compter(x):\n",
    "    mots = [\"islamogauchisme\",\"islamo-gauchisme\"]\n",
    "    total = 0\n",
    "    for m in mots:\n",
    "        total+=x.lower().count(m)\n",
    "    return total\n",
    "\n",
    "# Créer le corpus\n",
    "corpus = []\n",
    "for fichier in os.listdir(\"./Data/articles/\"):\n",
    "    date = fichier[0:10]\n",
    "    titre = fichier[12:]\n",
    "    with open(\"./Data/articles/\"+fichier,\"r\") as f:\n",
    "        contenu = f.read()\n",
    "    total_titre_ig = compter(titre)\n",
    "    total_contenu_ig = compter(contenu)\n",
    "    total_mots = len(contenu.split())\n",
    "    corpus.append([date,titre,contenu,total_mots,total_titre_ig,total_contenu_ig])\n",
    "\n",
    "corpus = pd.DataFrame(corpus)\n",
    "corpus.to_excel(\"Data/tableau.xls\")"
   ]
  },
  {
   "cell_type": "markdown",
   "id": "floral-township",
   "metadata": {},
   "source": [
    "## Manipuler un tableau Pandas"
   ]
  },
  {
   "cell_type": "code",
   "execution_count": 54,
   "id": "stable-chick",
   "metadata": {},
   "outputs": [],
   "source": [
    "import pandas as pd\n",
    "data = pd.read_excel(\"./Data/extraction-ig-europresse.xls\")"
   ]
  },
  {
   "cell_type": "markdown",
   "id": "endless-therapist",
   "metadata": {},
   "source": [
    "### Sélectionner les éléments : colonnes, lignes, cases"
   ]
  },
  {
   "cell_type": "markdown",
   "id": "swiss-celebrity",
   "metadata": {},
   "source": [
    "### Mettre en forme : colonne et index"
   ]
  },
  {
   "cell_type": "markdown",
   "id": "biblical-assembly",
   "metadata": {},
   "source": [
    "### Filtrer le tableau"
   ]
  },
  {
   "cell_type": "markdown",
   "id": "warming-headset",
   "metadata": {},
   "source": [
    "### Rajouter des colonnes\n",
    "\n",
    "Recoder les journaux ; Rajouter une colonne nombre de mots ; une colonne présence des termes ; une colonne densité du terme"
   ]
  },
  {
   "cell_type": "code",
   "execution_count": 57,
   "id": "collected-shepherd",
   "metadata": {},
   "outputs": [
    {
     "name": "stderr",
     "output_type": "stream",
     "text": [
      "/home/emilien/anaconda3/lib/python3.7/site-packages/ipykernel_launcher.py:15: FutureWarning: As the xlwt package is no longer maintained, the xlwt engine will be removed in a future version of pandas. This is the only engine in pandas that supports writing in the xls format. Install openpyxl and write to an xlsx file instead. You can set the option io.excel.xls.writer to 'xlwt' to silence this warning. While this option is deprecated and will also raise a warning, it can be globally set and the warning suppressed.\n",
      "  from ipykernel import kernelapp as app\n"
     ]
    }
   ],
   "source": [
    "data[\"nombre_ig\"] = data[\"Contenu\"].apply(compter)\n",
    "data[\"nombre_mots\"] = data[\"Contenu\"].apply(lambda x: len(x.split()))\n",
    "data[\"densite\"] = data.apply(lambda x : None if x[\"nombre_mots\"]==0 else x[\"nombre_ig\"]/x[\"nombre_mots\"],axis=1)\n",
    "def reco_journal(x):\n",
    "    journals = {\"Le Figaro\":\"Figaro\",\"Humanité\":\"L'Humanité\",\"Le Monde\":\"Le Monde\",\n",
    "                \"La Croix\":\"La Croix\",\"La Tribune\":\"La Tribune\",\"Les Echos\":\"Les Echos\",\n",
    "               \"Aujourd'hui en France\":\"Aujourd'hui en France\"}\n",
    "    for j in journals:\n",
    "        if j in x:\n",
    "            return journals[j]\n",
    "    return x\n",
    "\n",
    "data[\"Journal\"] = data[\"Journal\"].apply(reco_journal)\n",
    "\n",
    "data.to_excel(\"Data/tableau_statistiques.xls\")"
   ]
  },
  {
   "cell_type": "code",
   "execution_count": 56,
   "id": "sonic-pharmacology",
   "metadata": {},
   "outputs": [
    {
     "data": {
      "text/plain": [
       "array(['Figaro', ' Libération   ', \"L'Humanité\", 'La Croix', 'Le Monde',\n",
       "       'Les Echos', \" Aujourd'hui en France  Edition Principale \",\n",
       "       'La Tribune'], dtype=object)"
      ]
     },
     "execution_count": 56,
     "metadata": {},
     "output_type": "execute_result"
    }
   ],
   "source": [
    "data[\"Journal\"].unique()"
   ]
  },
  {
   "cell_type": "markdown",
   "id": "tested-uniform",
   "metadata": {},
   "source": [
    "### Créer un tableau Pandas de 0"
   ]
  },
  {
   "cell_type": "markdown",
   "id": "hawaiian-imaging",
   "metadata": {},
   "source": [
    "### Sauvegarder un tableau Pandas"
   ]
  },
  {
   "cell_type": "markdown",
   "id": "moving-accounting",
   "metadata": {},
   "source": [
    "## Début de mise en forme"
   ]
  },
  {
   "cell_type": "markdown",
   "id": "congressional-apple",
   "metadata": {},
   "source": [
    "### Le tri à plat"
   ]
  },
  {
   "cell_type": "markdown",
   "id": "owned-ottawa",
   "metadata": {},
   "source": [
    "### Les tableaux croisés"
   ]
  },
  {
   "cell_type": "markdown",
   "id": "dying-dollar",
   "metadata": {},
   "source": [
    "### Ensuite ? Mettre en forme ..."
   ]
  },
  {
   "cell_type": "markdown",
   "id": "furnished-killing",
   "metadata": {},
   "source": [
    "## Exemple d'utilisation avancée"
   ]
  },
  {
   "cell_type": "markdown",
   "id": "authorized-adobe",
   "metadata": {},
   "source": [
    "### La manipulation de séries temporelles"
   ]
  }
 ],
 "metadata": {
  "kernelspec": {
   "display_name": "Python 3",
   "language": "python",
   "name": "python3"
  },
  "language_info": {
   "codemirror_mode": {
    "name": "ipython",
    "version": 3
   },
   "file_extension": ".py",
   "mimetype": "text/x-python",
   "name": "python",
   "nbconvert_exporter": "python",
   "pygments_lexer": "ipython3",
   "version": "3.7.10"
  }
 },
 "nbformat": 4,
 "nbformat_minor": 5
}
