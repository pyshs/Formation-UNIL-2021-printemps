{
 "cells": [
  {
   "cell_type": "markdown",
   "metadata": {},
   "source": [
    "# À la découverte de Pandas\n",
    "\n",
    "Pandas est un environnement à part entière, qui permet de manipuler des données"
   ]
  },
  {
   "cell_type": "markdown",
   "metadata": {},
   "source": [
    "## 1. Les bibliothèques et le langage\n",
    "\n",
    "- un écosystème d'outils plus ou moins spécialisés\n",
    "- quelques mots sur l'écosystème SciPy de la programmation scientifique\n",
    "- exemple de la bibliothèque math\n",
    "- recherche et installation d'une bibliothèque"
   ]
  },
  {
   "cell_type": "code",
   "execution_count": 4,
   "metadata": {},
   "outputs": [],
   "source": [
    "#![title](Data/scipy-stack-color.png)"
   ]
  },
  {
   "cell_type": "markdown",
   "metadata": {},
   "source": [
    "## 2. Introduction à Pandas\n",
    "\n",
    "Partir d'un fichier Excel (ou tableur csv) déjà existant. Dans notre cas, un fichier contenant des articles de presse \"extraction-ig-europresse.xls\"\n",
    "\n",
    "Points centraux : \n",
    "\n",
    "- un nouveau format de données\n",
    "- des méthodes spécifiques"
   ]
  },
  {
   "cell_type": "code",
   "execution_count": 3,
   "metadata": {},
   "outputs": [],
   "source": [
    "#![title](Data/df.png)"
   ]
  },
  {
   "cell_type": "markdown",
   "metadata": {},
   "source": [
    "## 3. Faire du traitement de données avec Pandas\n",
    "\n",
    "- Transformer le tableau\n",
    "- Recoder une colonne\n",
    "- Faire des statistiques \"basiques\"\n",
    "- Faire des visualisations\n",
    "- Sauvegarder le résultat"
   ]
  },
  {
   "cell_type": "markdown",
   "metadata": {},
   "source": [
    "## 4. Application"
   ]
  },
  {
   "cell_type": "markdown",
   "metadata": {},
   "source": [
    "Quel journal mentionne le plus les termes d'islamo-gauchiste ?"
   ]
  }
 ],
 "metadata": {
  "kernelspec": {
   "display_name": "Python 3",
   "language": "python",
   "name": "python3"
  },
  "language_info": {
   "codemirror_mode": {
    "name": "ipython",
    "version": 3
   },
   "file_extension": ".py",
   "mimetype": "text/x-python",
   "name": "python",
   "nbconvert_exporter": "python",
   "pygments_lexer": "ipython3",
   "version": "3.7.7"
  }
 },
 "nbformat": 4,
 "nbformat_minor": 4
}
