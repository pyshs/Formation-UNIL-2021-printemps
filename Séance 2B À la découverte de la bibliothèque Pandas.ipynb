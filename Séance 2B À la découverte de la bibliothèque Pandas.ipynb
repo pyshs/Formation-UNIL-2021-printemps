{
 "cells": [
  {
   "cell_type": "markdown",
   "metadata": {},
   "source": [
    "# À la découverte de Pandas\n",
    "\n",
    "Pandas est un environnement à part entière, qui permet de manipuler des données"
   ]
  },
  {
   "cell_type": "markdown",
   "metadata": {},
   "source": [
    "## 1. Les bibliothèques et le langage\n",
    "\n",
    "- un écosystème d'outils plus ou moins spécialisés\n",
    "- quelques mots sur l'écosystème SciPy de la programmation scientifique\n",
    "- exemple de la bibliothèque math\n",
    "- recherche et installation d'une bibliothèque"
   ]
  },
  {
   "cell_type": "markdown",
   "metadata": {},
   "source": [
    "![title](Data/scipy-stack-color.png)"
   ]
  },
  {
   "cell_type": "code",
   "execution_count": 5,
   "metadata": {},
   "outputs": [],
   "source": [
    "import pandas"
   ]
  },
  {
   "cell_type": "code",
   "execution_count": 3,
   "metadata": {},
   "outputs": [
    {
     "data": {
      "text/plain": [
       "<module 'pandas' from '/Users/bussonniermatthias/miniconda3/lib/python3.8/site-packages/pandas/__init__.py'>"
      ]
     },
     "execution_count": 3,
     "metadata": {},
     "output_type": "execute_result"
    }
   ],
   "source": [
    "pandas"
   ]
  },
  {
   "cell_type": "code",
   "execution_count": 6,
   "metadata": {},
   "outputs": [],
   "source": [
    "# !pip install pandas"
   ]
  },
  {
   "cell_type": "code",
   "execution_count": 22,
   "metadata": {},
   "outputs": [],
   "source": [
    "df = pandas.read_excel('Data/extraction-ig-europresse.xls')"
   ]
  },
  {
   "cell_type": "code",
   "execution_count": 25,
   "metadata": {},
   "outputs": [
    {
     "data": {
      "text/html": [
       "<div>\n",
       "<style scoped>\n",
       "    .dataframe tbody tr th:only-of-type {\n",
       "        vertical-align: middle;\n",
       "    }\n",
       "\n",
       "    .dataframe tbody tr th {\n",
       "        vertical-align: top;\n",
       "    }\n",
       "\n",
       "    .dataframe thead th {\n",
       "        text-align: right;\n",
       "    }\n",
       "</style>\n",
       "<table border=\"1\" class=\"dataframe\">\n",
       "  <thead>\n",
       "    <tr style=\"text-align: right;\">\n",
       "      <th></th>\n",
       "      <th>Unnamed: 0</th>\n",
       "      <th>Date</th>\n",
       "      <th>Titre</th>\n",
       "      <th>Journal</th>\n",
       "      <th>Contenu</th>\n",
       "      <th>Auteur</th>\n",
       "    </tr>\n",
       "  </thead>\n",
       "  <tbody>\n",
       "    <tr>\n",
       "      <th>0</th>\n",
       "      <td>0</td>\n",
       "      <td>Le Figaro,  vendredi 26 février 2021 736 mots...</td>\n",
       "      <td>ISLAMO-GAUCHISME</td>\n",
       "      <td>Le Figaro, no. 23800</td>\n",
       "      <td>- « Fantasme » pour les uns, « slogan d'ext...</td>\n",
       "      <td>Bastié, Eugénie</td>\n",
       "    </tr>\n",
       "    <tr>\n",
       "      <th>1</th>\n",
       "      <td>1</td>\n",
       "      <td>jeudi 18 février 2021 1480 mots, p. 2,3,4</td>\n",
       "      <td>Sa maison brûle et Vidal regarde l'«islamo-ga...</td>\n",
       "      <td>Libération</td>\n",
       "      <td>Qu'arrive-t-il à Frédérique Vidal ? Des étud...</td>\n",
       "      <td>Par SIMON BLIN et BERNADETTE SAUVAGET</td>\n",
       "    </tr>\n",
       "    <tr>\n",
       "      <th>2</th>\n",
       "      <td>2</td>\n",
       "      <td>Le Figaro,  samedi 20 février 2021 932 mots, ...</td>\n",
       "      <td>« L'université est l'otage des idéologues rad...</td>\n",
       "      <td>Le Figaro, no. 23795</td>\n",
       "      <td>XAVIER-LAURENT SALVADOR, maître de conféren...</td>\n",
       "      <td>Devecchio, Alexandre</td>\n",
       "    </tr>\n",
       "    <tr>\n",
       "      <th>3</th>\n",
       "      <td>3</td>\n",
       "      <td>Le Figaro,  vendredi 12 février 2021 1486 mot...</td>\n",
       "      <td>L'islamo-gauchisme prospère dans les universi...</td>\n",
       "      <td>Le Figaro, no. 23788</td>\n",
       "      <td>DIFFAMÉ car qualifié d'islamo-gauchiste ? L...</td>\n",
       "      <td>Beyer, Caroline</td>\n",
       "    </tr>\n",
       "    <tr>\n",
       "      <th>4</th>\n",
       "      <td>4</td>\n",
       "      <td>vendredi 26 février 2021 992 mots, p. 16,17</td>\n",
       "      <td>Sur l'«islamogauchisme», les chercheurs s'éch...</td>\n",
       "      <td>Libération</td>\n",
       "      <td>Pendant que les étudiants grossissent les fi...</td>\n",
       "      <td>Par SIMON BLIN</td>\n",
       "    </tr>\n",
       "    <tr>\n",
       "      <th>...</th>\n",
       "      <td>...</td>\n",
       "      <td>...</td>\n",
       "      <td>...</td>\n",
       "      <td>...</td>\n",
       "      <td>...</td>\n",
       "      <td>...</td>\n",
       "    </tr>\n",
       "    <tr>\n",
       "      <th>166</th>\n",
       "      <td>166</td>\n",
       "      <td>Le Figaro,  vendredi 5 mars 2021 1031 mots, p...</td>\n",
       "      <td>Pourquoi la diabolisation n'effraie plus</td>\n",
       "      <td>Le Figaro, no. 23806</td>\n",
       "      <td>Panique à gauche. La diabolisation ne foncti...</td>\n",
       "      <td>Rioufol, Ivan</td>\n",
       "    </tr>\n",
       "    <tr>\n",
       "      <th>167</th>\n",
       "      <td>167</td>\n",
       "      <td>Le Figaro,  samedi 6 mars 2021 561 mots, p. 14</td>\n",
       "      <td>Deux profs de l'IEP de Grenoble menacés Placa...</td>\n",
       "      <td>Le Figaro, no. 23807</td>\n",
       "      <td>ENSEIGNEMENT  « Des fascistes dans nos amphi...</td>\n",
       "      <td>Sugy, Paul</td>\n",
       "    </tr>\n",
       "    <tr>\n",
       "      <th>168</th>\n",
       "      <td>168</td>\n",
       "      <td>mercredi 3 mars 2021 46 mots, p. 24</td>\n",
       "      <td>Bonnet d'âne</td>\n",
       "      <td>l'Humanité</td>\n",
       "      <td>« Si ça n'existe pas, regardons-le ensemble....</td>\n",
       "      <td>NaN</td>\n",
       "    </tr>\n",
       "    <tr>\n",
       "      <th>169</th>\n",
       "      <td>169</td>\n",
       "      <td>Le Figaro,  mardi 2 mars 2021 558 mots, p. 4</td>\n",
       "      <td>Jacques Maire (LREM) : « Cette coalition doit...</td>\n",
       "      <td>Le Figaro, no. 23803</td>\n",
       "      <td>UNE DIFFÉRENCE de points de vue «   normale...</td>\n",
       "      <td>Cohen, Dinah</td>\n",
       "    </tr>\n",
       "    <tr>\n",
       "      <th>170</th>\n",
       "      <td>170</td>\n",
       "      <td>Le Figaro,  samedi 6 mars 2021 774 mots, p. 19</td>\n",
       "      <td>La gauche arbitre des élégances</td>\n",
       "      <td>Le Figaro, no. 23807</td>\n",
       "      <td>Alors que la polémique sur l'islamo-gauchism...</td>\n",
       "      <td>Bastié, Eugénie</td>\n",
       "    </tr>\n",
       "  </tbody>\n",
       "</table>\n",
       "<p>171 rows × 6 columns</p>\n",
       "</div>"
      ],
      "text/plain": [
       "     Unnamed: 0                                               Date  \\\n",
       "0             0   Le Figaro,  vendredi 26 février 2021 736 mots...   \n",
       "1             1         jeudi 18 février 2021 1480 mots, p. 2,3,4    \n",
       "2             2   Le Figaro,  samedi 20 février 2021 932 mots, ...   \n",
       "3             3   Le Figaro,  vendredi 12 février 2021 1486 mot...   \n",
       "4             4       vendredi 26 février 2021 992 mots, p. 16,17    \n",
       "..          ...                                                ...   \n",
       "166         166   Le Figaro,  vendredi 5 mars 2021 1031 mots, p...   \n",
       "167         167    Le Figaro,  samedi 6 mars 2021 561 mots, p. 14    \n",
       "168         168               mercredi 3 mars 2021 46 mots, p. 24    \n",
       "169         169      Le Figaro,  mardi 2 mars 2021 558 mots, p. 4    \n",
       "170         170    Le Figaro,  samedi 6 mars 2021 774 mots, p. 19    \n",
       "\n",
       "                                                 Titre  \\\n",
       "0                                    ISLAMO-GAUCHISME    \n",
       "1     Sa maison brûle et Vidal regarde l'«islamo-ga...   \n",
       "2     « L'université est l'otage des idéologues rad...   \n",
       "3     L'islamo-gauchisme prospère dans les universi...   \n",
       "4     Sur l'«islamogauchisme», les chercheurs s'éch...   \n",
       "..                                                 ...   \n",
       "166          Pourquoi la diabolisation n'effraie plus    \n",
       "167   Deux profs de l'IEP de Grenoble menacés Placa...   \n",
       "168                                      Bonnet d'âne    \n",
       "169   Jacques Maire (LREM) : « Cette coalition doit...   \n",
       "170                   La gauche arbitre des élégances    \n",
       "\n",
       "                      Journal  \\\n",
       "0     Le Figaro, no. 23800      \n",
       "1               Libération      \n",
       "2     Le Figaro, no. 23795      \n",
       "3     Le Figaro, no. 23788      \n",
       "4               Libération      \n",
       "..                        ...   \n",
       "166   Le Figaro, no. 23806      \n",
       "167   Le Figaro, no. 23807      \n",
       "168             l'Humanité      \n",
       "169   Le Figaro, no. 23803      \n",
       "170   Le Figaro, no. 23807      \n",
       "\n",
       "                                               Contenu  \\\n",
       "0       - « Fantasme » pour les uns, « slogan d'ext...   \n",
       "1      Qu'arrive-t-il à Frédérique Vidal ? Des étud...   \n",
       "2       XAVIER-LAURENT SALVADOR, maître de conféren...   \n",
       "3       DIFFAMÉ car qualifié d'islamo-gauchiste ? L...   \n",
       "4      Pendant que les étudiants grossissent les fi...   \n",
       "..                                                 ...   \n",
       "166    Panique à gauche. La diabolisation ne foncti...   \n",
       "167    ENSEIGNEMENT  « Des fascistes dans nos amphi...   \n",
       "168    « Si ça n'existe pas, regardons-le ensemble....   \n",
       "169     UNE DIFFÉRENCE de points de vue «   normale...   \n",
       "170    Alors que la polémique sur l'islamo-gauchism...   \n",
       "\n",
       "                                    Auteur  \n",
       "0                          Bastié, Eugénie  \n",
       "1    Par SIMON BLIN et BERNADETTE SAUVAGET  \n",
       "2                     Devecchio, Alexandre  \n",
       "3                          Beyer, Caroline  \n",
       "4                           Par SIMON BLIN  \n",
       "..                                     ...  \n",
       "166                          Rioufol, Ivan  \n",
       "167                             Sugy, Paul  \n",
       "168                                    NaN  \n",
       "169                           Cohen, Dinah  \n",
       "170                        Bastié, Eugénie  \n",
       "\n",
       "[171 rows x 6 columns]"
      ]
     },
     "execution_count": 25,
     "metadata": {},
     "output_type": "execute_result"
    }
   ],
   "source": [
    "df"
   ]
  },
  {
   "cell_type": "code",
   "execution_count": 21,
   "metadata": {},
   "outputs": [
    {
     "name": "stdout",
     "output_type": "stream",
     "text": [
      "Collecting xlrd\n",
      "  Downloading xlrd-2.0.1-py2.py3-none-any.whl (96 kB)\n",
      "\u001b[K     |████████████████████████████████| 96 kB 841 kB/s eta 0:00:01\n",
      "\u001b[?25hInstalling collected packages: xlrd\n",
      "Successfully installed xlrd-2.0.1\n"
     ]
    }
   ],
   "source": [
    "!pip install xlrd"
   ]
  },
  {
   "cell_type": "code",
   "execution_count": 18,
   "metadata": {
    "scrolled": false
   },
   "outputs": [
    {
     "data": {
      "text/plain": [
       "0     2021-02-19 \n",
       "1     2021-02-23 \n",
       "2     2021-02-24 \n",
       "3     2021-02-26 \n",
       "4     2021-02-25 \n",
       "5     2021-02-27 \n",
       "6     2021-02-22 \n",
       "7     2021-02-24 \n",
       "8     2021-02-20 \n",
       "9     2021-03-03 \n",
       "10    2021-02-18 \n",
       "11    2021-02-24 \n",
       "12    2021-02-20 \n",
       "13    2021-02-25 \n",
       "14    2021-03-03 \n",
       "15    2021-02-24 \n",
       "16    2021-02-24 \n",
       "17    2021-02-18 \n",
       "18    2021-03-04 \n",
       "19    2021-02-25 \n",
       "20    2021-02-19 \n",
       "21    2021-02-23 \n",
       "22    2021-02-20 \n",
       "Name: date, dtype: object"
      ]
     },
     "execution_count": 18,
     "metadata": {},
     "output_type": "execute_result"
    }
   ],
   "source": [
    "df = pandas.read_csv('Data/articles_ig_monde.csv',\n",
    "                     delimiter=';',\n",
    "                     names=['date','titre'],\n",
    "                     parse_dates=True)\n",
    "df['date']"
   ]
  },
  {
   "cell_type": "code",
   "execution_count": null,
   "metadata": {},
   "outputs": [],
   "source": []
  },
  {
   "cell_type": "markdown",
   "metadata": {},
   "source": [
    "## 2. Introduction à Pandas\n",
    "\n",
    "Partir d'un fichier Excel (ou tableur csv) déjà existant. Dans notre cas, un fichier contenant des articles de presse \"extraction-ig-europresse.xls\"\n",
    "\n",
    "Points centraux : \n",
    "\n",
    "- un nouveau format de données\n",
    "- des méthodes spécifiques"
   ]
  },
  {
   "cell_type": "markdown",
   "metadata": {},
   "source": [
    "![title](Data/df.png)"
   ]
  },
  {
   "cell_type": "markdown",
   "metadata": {},
   "source": [
    "## 3. Faire du traitement de données avec Pandas\n",
    "\n",
    "- Transformer le tableau\n",
    "- Recoder une colonne\n",
    "- Faire des statistiques \"basiques\"\n",
    "- Faire des visualisations\n",
    "- Sauvegarder le résultat"
   ]
  },
  {
   "cell_type": "markdown",
   "metadata": {},
   "source": [
    "## 4. Application"
   ]
  },
  {
   "cell_type": "markdown",
   "metadata": {},
   "source": [
    "Quel journal mentionne le plus les termes d'islamo-gauchiste ?"
   ]
  }
 ],
 "metadata": {
  "kernelspec": {
   "display_name": "Python 3",
   "language": "python",
   "name": "python3"
  },
  "language_info": {
   "codemirror_mode": {
    "name": "ipython",
    "version": 3
   },
   "file_extension": ".py",
   "mimetype": "text/x-python",
   "name": "python",
   "nbconvert_exporter": "python",
   "pygments_lexer": "ipython3",
   "version": "3.8.5"
  }
 },
 "nbformat": 4,
 "nbformat_minor": 4
}
