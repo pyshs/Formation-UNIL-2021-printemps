{
 "cells": [
  {
   "cell_type": "markdown",
   "metadata": {},
   "source": [
    "# Correction des exercices abordés pendant le cours"
   ]
  },
  {
   "cell_type": "markdown",
   "metadata": {},
   "source": [
    "Pour chacun des exercices :\n",
    "\n",
    "1. Plusieurs méthodes peuvent arriver au même résultat\n",
    "2. Nous ne mettons pas les étapes intermédiaires mais uniquement le code final"
   ]
  },
  {
   "cell_type": "markdown",
   "metadata": {},
   "source": [
    "## Exercice 1 (Séance 2)\n",
    "\n",
    "1. Écrire un script qui stocke dans un fichier les titres d'articles contenus dans le fichier articles_ig_monde.csv qui comprennent le terme \"islamo\"\n",
    "2. Écrire une fonction qui compte le nombre de mots de plus de deux lettres contenu dans une phrase\n",
    "3. Modifier la fonction précédente pour qu'elle compte le nombre de mots uniques de la phrase"
   ]
  },
  {
   "cell_type": "markdown",
   "metadata": {},
   "source": [
    "**Question 1 : lire un fichier, trier par le titre, et sauvegarder**"
   ]
  },
  {
   "cell_type": "code",
   "execution_count": 5,
   "metadata": {},
   "outputs": [
    {
     "name": "stdout",
     "output_type": "stream",
     "text": [
      "Nombre de lignes du fichier:  23\n",
      "Nombre de lignes du nouveau corpus:  8\n"
     ]
    }
   ],
   "source": [
    "# Lire les données\n",
    "with open(\"./Data/articles_ig_monde.csv\",\"r\") as f: #ouverture en mode lecture\n",
    "    corpus = f.readlines()\n",
    "print(\"Nombre de lignes du fichier: \",len(corpus))\n",
    "\n",
    "# Tester la présence d'une chaîne de caractères dans chaque lige et si oui, mettre la ligne dans une nouvelle liste\n",
    "nouveau_corpus = []\n",
    "for i in corpus:\n",
    "    if \"islamo\" in i:\n",
    "        nouveau_corpus.append(i)\n",
    "print(\"Nombre de lignes du nouveau corpus: \",len(nouveau_corpus))\n",
    "\n",
    "# Écrire dans un nouveau fichier\n",
    "with open(\"./Data/corpus.csv\",\"w\") as f: #ouverture en mode écriture\n",
    "    f.writelines(nouveau_corpus)"
   ]
  },
  {
   "cell_type": "markdown",
   "metadata": {},
   "source": [
    "Attention : ce code ne met pas le contenu en minuscule, et ne détecte qu'un motif"
   ]
  },
  {
   "cell_type": "markdown",
   "metadata": {},
   "source": [
    "**Question 2 : écrire une fonction qui découpe les phrases en mots, et ne garde que les mots de plus de deux lettres**"
   ]
  },
  {
   "cell_type": "code",
   "execution_count": 6,
   "metadata": {},
   "outputs": [],
   "source": [
    "def compter_mots_sup_2(phrase):\n",
    "    mots = phrase.split(\" \") # Couper aux espaces\n",
    "    mots_sup_2 = []\n",
    "    for m in mots:\n",
    "        if len(m) > 2 : # Si plus de deux lettres\n",
    "            mots_sup_2.append(m)\n",
    "            \n",
    "    # Retourner le nombre d'éléments\n",
    "    return len(mots_sup_2)"
   ]
  },
  {
   "cell_type": "code",
   "execution_count": 7,
   "metadata": {},
   "outputs": [
    {
     "data": {
      "text/plain": [
       "5"
      ]
     },
     "execution_count": 7,
     "metadata": {},
     "output_type": "execute_result"
    }
   ],
   "source": [
    "# Tester\n",
    "compter_mots_sup_2(\"Combien de mots de plus de deux lettres ?\")"
   ]
  },
  {
   "cell_type": "markdown",
   "metadata": {},
   "source": [
    "**Question 3 : Modifier la fonction précédente pour qu'elle compte le nombre de mots uniques de la phrase**\n",
    "\n",
    "Plusieurs interprétation pour cette consigne. Ici ce sera le nombre de mots différents. Une autre manière de l'interpréter est le nombre de mots apparaissant une seule fois : voir le notebook *Milles façons de résoudre un problème.ipynb*\n",
    "\n",
    "On utilise l'astuce que le type de données *set* contient une fois chaque élément d'un ensemble"
   ]
  },
  {
   "cell_type": "code",
   "execution_count": 8,
   "metadata": {},
   "outputs": [],
   "source": [
    "def nombre_mots_differents(phrase):\n",
    "    mots = phrase.split(\" \") # Couper aux espaces\n",
    "    return len(set(mots))"
   ]
  },
  {
   "cell_type": "code",
   "execution_count": 10,
   "metadata": {},
   "outputs": [
    {
     "data": {
      "text/plain": [
       "15"
      ]
     },
     "execution_count": 10,
     "metadata": {},
     "output_type": "execute_result"
    }
   ],
   "source": [
    "# Tester\n",
    "nombre_mots_differents(\"Je me demande : il y a combien de mots différents dans cette phrase ?\")"
   ]
  },
  {
   "cell_type": "markdown",
   "metadata": {},
   "source": [
    "Attention : pour l'instant, pas de gestion des majuscules, de la ponctuation, etc."
   ]
  },
  {
   "cell_type": "markdown",
   "metadata": {},
   "source": [
    "## Exercice 2 (De la séance 2 à la séance 3)\n",
    "\n",
    "vous avez un jeu de données (articles.zip ; compressées, donc à décompresser) qui contiennent tous les articles du Monde, quotidien français, sur une période, mentionnant le terme \"islamogauchisme\".\n",
    "\n",
    "L'objectif est de construire un unique fichier CSV qui comprend : la date de l'article, son titre, le nombre de mots qu'il contient, et le nombre de fois où le terme \"islamogauchisme\" ou \"islamo-gauchisme\" est contenu.\n",
    "\n",
    "Aide: vous avez toutes les briques de base pour faire cela, sauf peut-être le module os, à importer (import os), et qui a une fonction listant le contenu d'un dossier (os.listdir(\"./dossier\")).\n",
    "\n",
    "**Cet exercice a été résolu au début de la séance 3**"
   ]
  },
  {
   "cell_type": "code",
   "execution_count": 19,
   "metadata": {},
   "outputs": [],
   "source": [
    "# Définition d'une fonction qui compte le nombre de présence d'un terme\n",
    "def compter(x):\n",
    "    mots = [\"islamogauchisme\",\"islamo-gauchisme\"]\n",
    "    total = 0\n",
    "    for m in mots:\n",
    "        total+=x.lower().count(m)\n",
    "    return total"
   ]
  },
  {
   "cell_type": "code",
   "execution_count": 25,
   "metadata": {},
   "outputs": [],
   "source": [
    "# Importation d'une bibliothèque pour lister les fichiers\n",
    "import os\n",
    "\n",
    "# Création d'un corpus vide\n",
    "corpus = []\n",
    "\n",
    "# Ouvrir chaque fichier du dossier\n",
    "for i in os.listdir(\"./Data/articles/\"):\n",
    "    \n",
    "    # Ouvrir le fichier\n",
    "    chemin_fichier = \"./Data/articles/\"+i\n",
    "    with open(chemin_fichier,\"r\") as f:\n",
    "        contenu = f.read()\n",
    "        \n",
    "    # Mettre en forme l'information\n",
    "    date = i[0:10] # La date correspond aux 10 premiers caractères du nom de fichier\n",
    "    titre = i[11:] # Le titre correspond au reste \n",
    "    mots = contenu.split(\" \")\n",
    "    total_ig = compter(contenu) # Utiliser la fonction que nous avons défini\n",
    "    corpus.append([date,titre,contenu,total_ig,len(mots)])\n",
    "    \n",
    "# Écrire dans un fichier\n",
    "with open(\"./Data/corpus.csv\",\"w\") as f:\n",
    "    for article in corpus:\n",
    "        ligne = [str(i) for i in article] # Passage de tous les éléments en string\n",
    "        f.write(\";\".join(ligne))"
   ]
  },
  {
   "cell_type": "markdown",
   "metadata": {},
   "source": [
    "## Exercice 3\n",
    "\n",
    "1. Dans le tableau d'articles (corpus), ajouter une colonne qui correspond à la présence ou absence dans le titre du terme \"islamo-gauchisme\"\n",
    "2. Est-ce que les articles qui ont le terme dans le titre ont une taille ou une fréquence du terme différents de ceux qui ne le mentionnent pas dans le titre (proposer une représentation visuelle)\n",
    "3. Tracer une courbe d'évolution temporelle du nombre d'articles par journal"
   ]
  },
  {
   "cell_type": "markdown",
   "metadata": {},
   "source": [
    "**Question 1 : créer une nouvelle colonne**\n",
    "\n",
    "Indice : utiliser apply et créer une fonction dédiée pour détecter la présence du terme"
   ]
  },
  {
   "cell_type": "markdown",
   "metadata": {},
   "source": [
    "**Question 2 : faire des statistiques par catégories**\n",
    "\n",
    "Indice : soit filtrer les deux sous corpus et calculer les indicateurs ; soit utiliser groupby"
   ]
  },
  {
   "cell_type": "markdown",
   "metadata": {},
   "source": [
    "**Question 3 [COMPLEXE] : tracer une courbe**\n",
    "\n",
    "Indice : passer la date en index, rajouter une colonne valant 1, puis resample cette série par jours avec une somme comme agrégation et visualiser"
   ]
  }
 ],
 "metadata": {
  "kernelspec": {
   "display_name": "Python 3",
   "language": "python",
   "name": "python3"
  },
  "language_info": {
   "codemirror_mode": {
    "name": "ipython",
    "version": 3
   },
   "file_extension": ".py",
   "mimetype": "text/x-python",
   "name": "python",
   "nbconvert_exporter": "python",
   "pygments_lexer": "ipython3",
   "version": "3.7.7"
  }
 },
 "nbformat": 4,
 "nbformat_minor": 4
}
