{
 "cells": [
  {
   "cell_type": "code",
   "execution_count": 1,
   "id": "obvious-dubai",
   "metadata": {},
   "outputs": [],
   "source": [
    "import pandas as pd"
   ]
  },
  {
   "cell_type": "code",
   "execution_count": 36,
   "id": "complex-ottawa",
   "metadata": {},
   "outputs": [
    {
     "data": {
      "text/plain": [
       "0      True\n",
       "1     False\n",
       "2      True\n",
       "3     False\n",
       "4      True\n",
       "5     False\n",
       "6     False\n",
       "7      True\n",
       "8     False\n",
       "9      True\n",
       "10     True\n",
       "11     True\n",
       "12    False\n",
       "13    False\n",
       "14    False\n",
       "15    False\n",
       "16    False\n",
       "17     True\n",
       "18    False\n",
       "19    False\n",
       "20    False\n",
       "21    False\n",
       "22    False\n",
       "Name: titre, dtype: bool"
      ]
     },
     "execution_count": 36,
     "metadata": {},
     "output_type": "execute_result"
    }
   ],
   "source": [
    "df = pd.read_csv('Data/articles_ig_monde.csv', sep=';', names=['date', 'titre'])\n",
    "df['titre'].apply(lambda titre: 'islamo' in titre)"
   ]
  },
  {
   "cell_type": "code",
   "execution_count": 13,
   "id": "tired-taste",
   "metadata": {},
   "outputs": [],
   "source": [
    "titres = df['titre']\n",
    "titres.apply?"
   ]
  },
  {
   "cell_type": "code",
   "execution_count": 27,
   "id": "advanced-officer",
   "metadata": {},
   "outputs": [
    {
     "name": "stdout",
     "output_type": "stream",
     "text": [
      "Fonctionne comme 'Vrai'\n"
     ]
    }
   ],
   "source": [
    "# if \"False\":\n",
    "#     print(\"Fonctionne comme 'Vrai'\")\n",
    "# else:\n",
    "#     print(\"Fonctionne comme 'Faux'\")\n",
    "    "
   ]
  },
  {
   "cell_type": "code",
   "execution_count": 28,
   "id": "novel-wallace",
   "metadata": {},
   "outputs": [],
   "source": [
    "def ma_fonction(titre):\n",
    "    # titre est une chane de caratere\n",
    "    return (\"islamo\" in titre):\n",
    "    \n",
    "    \n",
    "\n",
    "serie = df['titre'].apply(ma_fonction)"
   ]
  },
  {
   "cell_type": "code",
   "execution_count": 43,
   "id": "buried-choice",
   "metadata": {},
   "outputs": [],
   "source": [
    "df['select'] = serie"
   ]
  },
  {
   "cell_type": "code",
   "execution_count": 47,
   "id": "legal-pathology",
   "metadata": {},
   "outputs": [
    {
     "data": {
      "text/html": [
       "<div>\n",
       "<style scoped>\n",
       "    .dataframe tbody tr th:only-of-type {\n",
       "        vertical-align: middle;\n",
       "    }\n",
       "\n",
       "    .dataframe tbody tr th {\n",
       "        vertical-align: top;\n",
       "    }\n",
       "\n",
       "    .dataframe thead th {\n",
       "        text-align: right;\n",
       "    }\n",
       "</style>\n",
       "<table border=\"1\" class=\"dataframe\">\n",
       "  <thead>\n",
       "    <tr style=\"text-align: right;\">\n",
       "      <th></th>\n",
       "      <th>date</th>\n",
       "      <th>titre</th>\n",
       "    </tr>\n",
       "  </thead>\n",
       "  <tbody>\n",
       "    <tr>\n",
       "      <th>0</th>\n",
       "      <td>2021-02-19</td>\n",
       "      <td>Tension entre l'exécutif et le monde scienti...</td>\n",
       "    </tr>\n",
       "    <tr>\n",
       "      <th>2</th>\n",
       "      <td>2021-02-24</td>\n",
       "      <td>Quelles menaces sur les libertés académiques...</td>\n",
       "    </tr>\n",
       "    <tr>\n",
       "      <th>4</th>\n",
       "      <td>2021-02-25</td>\n",
       "      <td>Les macronistes divisés par le clivage gauch...</td>\n",
       "    </tr>\n",
       "    <tr>\n",
       "      <th>7</th>\n",
       "      <td>2021-02-24</td>\n",
       "      <td>Quelles menaces sur les libertés académiques...</td>\n",
       "    </tr>\n",
       "    <tr>\n",
       "      <th>9</th>\n",
       "      <td>2021-03-03</td>\n",
       "      <td>Steven L. Kaplan Si Frédérique Vidal repère ...</td>\n",
       "    </tr>\n",
       "    <tr>\n",
       "      <th>10</th>\n",
       "      <td>2021-02-18</td>\n",
       "      <td>Vidal veut s'attaquer à l' «  islamo-gauchis...</td>\n",
       "    </tr>\n",
       "    <tr>\n",
       "      <th>11</th>\n",
       "      <td>2021-02-24</td>\n",
       "      <td>Quelles menaces sur les libertés académiques...</td>\n",
       "    </tr>\n",
       "    <tr>\n",
       "      <th>17</th>\n",
       "      <td>2021-02-18</td>\n",
       "      <td>Universités : Vidal lance une enquête contes...</td>\n",
       "    </tr>\n",
       "  </tbody>\n",
       "</table>\n",
       "</div>"
      ],
      "text/plain": [
       "           date                                              titre\n",
       "0   2021-02-19     Tension entre l'exécutif et le monde scienti...\n",
       "2   2021-02-24     Quelles menaces sur les libertés académiques...\n",
       "4   2021-02-25     Les macronistes divisés par le clivage gauch...\n",
       "7   2021-02-24     Quelles menaces sur les libertés académiques...\n",
       "9   2021-03-03     Steven L. Kaplan Si Frédérique Vidal repère ...\n",
       "10  2021-02-18     Vidal veut s'attaquer à l' «  islamo-gauchis...\n",
       "11  2021-02-24     Quelles menaces sur les libertés académiques...\n",
       "17  2021-02-18     Universités : Vidal lance une enquête contes..."
      ]
     },
     "execution_count": 47,
     "metadata": {},
     "output_type": "execute_result"
    }
   ],
   "source": [
    "#df[serie]\n",
    "#df[df['titre'].apply(ma_fonction)]\n",
    "df[df['titre'].apply(lambda t: 'islamo' in t)].drop(columns=['select'])"
   ]
  },
  {
   "cell_type": "code",
   "execution_count": 49,
   "id": "other-freedom",
   "metadata": {},
   "outputs": [],
   "source": [
    "t0 = df['titre'][0]"
   ]
  },
  {
   "cell_type": "code",
   "execution_count": 54,
   "id": "narrow-tribute",
   "metadata": {},
   "outputs": [
    {
     "data": {
      "text/plain": [
       "['Tension',\n",
       " 'entre',\n",
       " \"l'exécutif\",\n",
       " 'monde',\n",
       " 'scientifique',\n",
       " 'Après',\n",
       " 'les',\n",
       " 'déclarations',\n",
       " 'Vidal',\n",
       " 'sur',\n",
       " 'islamo-gauchisme',\n",
       " 'Attal',\n",
       " 'rappelé',\n",
       " \"l'indépendance\",\n",
       " 'des',\n",
       " 'chercheurs']"
      ]
     },
     "execution_count": 54,
     "metadata": {},
     "output_type": "execute_result"
    }
   ],
   "source": [
    "elements = t0.split(' ')\n",
    "mots = [m for m in elements if len(m) > 2]\n",
    "mots"
   ]
  },
  {
   "cell_type": "code",
   "execution_count": null,
   "id": "quantitative-moisture",
   "metadata": {},
   "outputs": [],
   "source": [
    "def compte_unique(mots):\n",
    "    vus = []\n",
    "    mot_uniques = []\n",
    "    \n",
    "    for mots:\n",
    "        if mot in vus:\n",
    "            # enlever de mot_unique\n",
    "        else:\n",
    "            mot_unique.append(mot)\n",
    "            \n",
    "        \n",
    "        vus.append(mots)\n",
    "    ...\n",
    "    \n"
   ]
  },
  {
   "cell_type": "code",
   "execution_count": 55,
   "id": "functional-affiliate",
   "metadata": {},
   "outputs": [],
   "source": [
    "d = dict()"
   ]
  },
  {
   "cell_type": "code",
   "execution_count": 56,
   "id": "fixed-dakota",
   "metadata": {},
   "outputs": [],
   "source": [
    "\n",
    "d['islamo'] = 1"
   ]
  },
  {
   "cell_type": "code",
   "execution_count": 58,
   "id": "sticky-kennedy",
   "metadata": {},
   "outputs": [],
   "source": [
    "d['islamo'] +=1"
   ]
  },
  {
   "cell_type": "code",
   "execution_count": 59,
   "id": "reliable-gossip",
   "metadata": {},
   "outputs": [
    {
     "data": {
      "text/plain": [
       "{'islamo': 2}"
      ]
     },
     "execution_count": 59,
     "metadata": {},
     "output_type": "execute_result"
    }
   ],
   "source": [
    "d"
   ]
  },
  {
   "cell_type": "code",
   "execution_count": 60,
   "id": "junior-converter",
   "metadata": {},
   "outputs": [],
   "source": [
    "for mot in mots:\n",
    "    if mot not in d:\n",
    "        d[mot] = 1\n",
    "    else:\n",
    "        d[mot] = d[mot]+1"
   ]
  },
  {
   "cell_type": "code",
   "execution_count": 70,
   "id": "chronic-canvas",
   "metadata": {},
   "outputs": [
    {
     "data": {
      "text/plain": [
       "dict_items([('islamo', 2), ('Tension', 1), ('entre', 1), (\"l'exécutif\", 1), ('monde', 1), ('scientifique', 1), ('Après', 1), ('les', 1), ('déclarations', 1), ('Vidal', 1), ('sur', 1), ('islamo-gauchisme', 1), ('Attal', 1), ('rappelé', 1), (\"l'indépendance\", 1), ('des', 1), ('chercheurs', 1)])"
      ]
     },
     "execution_count": 70,
     "metadata": {},
     "output_type": "execute_result"
    }
   ],
   "source": [
    "d.items()"
   ]
  },
  {
   "cell_type": "code",
   "execution_count": 72,
   "id": "stuffed-cleaner",
   "metadata": {},
   "outputs": [
    {
     "data": {
      "text/plain": [
       "16"
      ]
     },
     "execution_count": 72,
     "metadata": {},
     "output_type": "execute_result"
    }
   ],
   "source": [
    "mot_uniques = []\n",
    "for mot, count in d.items():\n",
    "#for mot in d:\n",
    "#    count = d[mot]\n",
    "    if count == 1:\n",
    "        mot_uniques.append(mot)\n",
    "len(mot_uniques)"
   ]
  },
  {
   "cell_type": "code",
   "execution_count": 78,
   "id": "packed-albany",
   "metadata": {},
   "outputs": [],
   "source": [
    "from collections import Counter"
   ]
  },
  {
   "cell_type": "code",
   "execution_count": 82,
   "id": "featured-hughes",
   "metadata": {},
   "outputs": [],
   "source": [
    "def num_uniques(titre):\n",
    "    \"\"\"\n",
    "    Compte le nombre de mots uniques dans un titre.\n",
    "    \"\"\"\n",
    "    mots = titre.split()\n",
    "    # attention chaine vide :''\n",
    "    c = Counter(mots)\n",
    "    return len([mot for mot, count in c.items() if count==1])"
   ]
  },
  {
   "cell_type": "code",
   "execution_count": 85,
   "id": "extreme-member",
   "metadata": {},
   "outputs": [],
   "source": [
    "df['uniqes'] = df['titre'].apply(num_uniques)"
   ]
  },
  {
   "cell_type": "code",
   "execution_count": 86,
   "id": "rubber-virus",
   "metadata": {},
   "outputs": [
    {
     "data": {
      "text/html": [
       "<div>\n",
       "<style scoped>\n",
       "    .dataframe tbody tr th:only-of-type {\n",
       "        vertical-align: middle;\n",
       "    }\n",
       "\n",
       "    .dataframe tbody tr th {\n",
       "        vertical-align: top;\n",
       "    }\n",
       "\n",
       "    .dataframe thead th {\n",
       "        text-align: right;\n",
       "    }\n",
       "</style>\n",
       "<table border=\"1\" class=\"dataframe\">\n",
       "  <thead>\n",
       "    <tr style=\"text-align: right;\">\n",
       "      <th></th>\n",
       "      <th>date</th>\n",
       "      <th>titre</th>\n",
       "      <th>select</th>\n",
       "      <th>uniqes</th>\n",
       "    </tr>\n",
       "  </thead>\n",
       "  <tbody>\n",
       "    <tr>\n",
       "      <th>0</th>\n",
       "      <td>2021-02-19</td>\n",
       "      <td>Tension entre l'exécutif et le monde scienti...</td>\n",
       "      <td>True</td>\n",
       "      <td>23</td>\n",
       "    </tr>\n",
       "    <tr>\n",
       "      <th>1</th>\n",
       "      <td>2021-02-23</td>\n",
       "      <td>«  Islamo-gauchisme » : la Macronie divisée ...</td>\n",
       "      <td>False</td>\n",
       "      <td>18</td>\n",
       "    </tr>\n",
       "    <tr>\n",
       "      <th>2</th>\n",
       "      <td>2021-02-24</td>\n",
       "      <td>Quelles menaces sur les libertés académiques...</td>\n",
       "      <td>True</td>\n",
       "      <td>56</td>\n",
       "    </tr>\n",
       "    <tr>\n",
       "      <th>3</th>\n",
       "      <td>2021-02-26</td>\n",
       "      <td>Le macronisme en quête de boussole</td>\n",
       "      <td>False</td>\n",
       "      <td>6</td>\n",
       "    </tr>\n",
       "    <tr>\n",
       "      <th>4</th>\n",
       "      <td>2021-02-25</td>\n",
       "      <td>Les macronistes divisés par le clivage gauch...</td>\n",
       "      <td>True</td>\n",
       "      <td>24</td>\n",
       "    </tr>\n",
       "    <tr>\n",
       "      <th>5</th>\n",
       "      <td>2021-02-27</td>\n",
       "      <td>Analyse Macron passe du « en même temps » à ...</td>\n",
       "      <td>False</td>\n",
       "      <td>10</td>\n",
       "    </tr>\n",
       "    <tr>\n",
       "      <th>6</th>\n",
       "      <td>2021-02-22</td>\n",
       "      <td>Nous, universitaires et chercheurs, demandon...</td>\n",
       "      <td>False</td>\n",
       "      <td>41</td>\n",
       "    </tr>\n",
       "    <tr>\n",
       "      <th>7</th>\n",
       "      <td>2021-02-24</td>\n",
       "      <td>Quelles menaces sur les libertés académiques...</td>\n",
       "      <td>True</td>\n",
       "      <td>71</td>\n",
       "    </tr>\n",
       "    <tr>\n",
       "      <th>8</th>\n",
       "      <td>2021-02-20</td>\n",
       "      <td>Vidal, Darmanin : jeu dangereux</td>\n",
       "      <td>False</td>\n",
       "      <td>5</td>\n",
       "    </tr>\n",
       "    <tr>\n",
       "      <th>9</th>\n",
       "      <td>2021-03-03</td>\n",
       "      <td>Steven L. Kaplan Si Frédérique Vidal repère ...</td>\n",
       "      <td>True</td>\n",
       "      <td>45</td>\n",
       "    </tr>\n",
       "    <tr>\n",
       "      <th>10</th>\n",
       "      <td>2021-02-18</td>\n",
       "      <td>Vidal veut s'attaquer à l' «  islamo-gauchis...</td>\n",
       "      <td>True</td>\n",
       "      <td>23</td>\n",
       "    </tr>\n",
       "    <tr>\n",
       "      <th>11</th>\n",
       "      <td>2021-02-24</td>\n",
       "      <td>Quelles menaces sur les libertés académiques...</td>\n",
       "      <td>True</td>\n",
       "      <td>0</td>\n",
       "    </tr>\n",
       "    <tr>\n",
       "      <th>12</th>\n",
       "      <td>2021-02-20</td>\n",
       "      <td>Vidal, le « bon petit soldat » dans la tourm...</td>\n",
       "      <td>False</td>\n",
       "      <td>20</td>\n",
       "    </tr>\n",
       "    <tr>\n",
       "      <th>13</th>\n",
       "      <td>2021-02-25</td>\n",
       "      <td>A l'université, des protections hygiéniques ...</td>\n",
       "      <td>False</td>\n",
       "      <td>23</td>\n",
       "    </tr>\n",
       "    <tr>\n",
       "      <th>14</th>\n",
       "      <td>2021-03-03</td>\n",
       "      <td>Jacques Lévy L'éthique de la recherche, c'es...</td>\n",
       "      <td>False</td>\n",
       "      <td>36</td>\n",
       "    </tr>\n",
       "    <tr>\n",
       "      <th>15</th>\n",
       "      <td>2021-02-24</td>\n",
       "      <td>Tribunes «  Islamo-gauchisme » : des proches...</td>\n",
       "      <td>False</td>\n",
       "      <td>10</td>\n",
       "    </tr>\n",
       "    <tr>\n",
       "      <th>16</th>\n",
       "      <td>2021-02-24</td>\n",
       "      <td>Alexis Artaud de La Ferrière S'il existe un ...</td>\n",
       "      <td>False</td>\n",
       "      <td>44</td>\n",
       "    </tr>\n",
       "    <tr>\n",
       "      <th>17</th>\n",
       "      <td>2021-02-18</td>\n",
       "      <td>Universités : Vidal lance une enquête contes...</td>\n",
       "      <td>True</td>\n",
       "      <td>12</td>\n",
       "    </tr>\n",
       "    <tr>\n",
       "      <th>18</th>\n",
       "      <td>2021-03-04</td>\n",
       "      <td>La fiche de poste modifiée de l'université P...</td>\n",
       "      <td>False</td>\n",
       "      <td>6</td>\n",
       "    </tr>\n",
       "    <tr>\n",
       "      <th>19</th>\n",
       "      <td>2021-02-25</td>\n",
       "      <td>Macron face aux limites du « en même temps »</td>\n",
       "      <td>False</td>\n",
       "      <td>10</td>\n",
       "    </tr>\n",
       "    <tr>\n",
       "      <th>20</th>\n",
       "      <td>2021-02-19</td>\n",
       "      <td>Universités : Frédérique Vidal accroît le ma...</td>\n",
       "      <td>False</td>\n",
       "      <td>7</td>\n",
       "    </tr>\n",
       "    <tr>\n",
       "      <th>21</th>\n",
       "      <td>2021-02-23</td>\n",
       "      <td>«  Islamo-  gauchisme » Macron empêtré dans ...</td>\n",
       "      <td>False</td>\n",
       "      <td>9</td>\n",
       "    </tr>\n",
       "    <tr>\n",
       "      <th>22</th>\n",
       "      <td>2021-02-20</td>\n",
       "      <td>Université Vidal prise à son propre piège</td>\n",
       "      <td>False</td>\n",
       "      <td>7</td>\n",
       "    </tr>\n",
       "  </tbody>\n",
       "</table>\n",
       "</div>"
      ],
      "text/plain": [
       "           date                                              titre  select  \\\n",
       "0   2021-02-19     Tension entre l'exécutif et le monde scienti...    True   \n",
       "1   2021-02-23     «  Islamo-gauchisme » : la Macronie divisée ...   False   \n",
       "2   2021-02-24     Quelles menaces sur les libertés académiques...    True   \n",
       "3   2021-02-26                 Le macronisme en quête de boussole    False   \n",
       "4   2021-02-25     Les macronistes divisés par le clivage gauch...    True   \n",
       "5   2021-02-27     Analyse Macron passe du « en même temps » à ...   False   \n",
       "6   2021-02-22     Nous, universitaires et chercheurs, demandon...   False   \n",
       "7   2021-02-24     Quelles menaces sur les libertés académiques...    True   \n",
       "8   2021-02-20                    Vidal, Darmanin : jeu dangereux    False   \n",
       "9   2021-03-03     Steven L. Kaplan Si Frédérique Vidal repère ...    True   \n",
       "10  2021-02-18     Vidal veut s'attaquer à l' «  islamo-gauchis...    True   \n",
       "11  2021-02-24     Quelles menaces sur les libertés académiques...    True   \n",
       "12  2021-02-20     Vidal, le « bon petit soldat » dans la tourm...   False   \n",
       "13  2021-02-25     A l'université, des protections hygiéniques ...   False   \n",
       "14  2021-03-03     Jacques Lévy L'éthique de la recherche, c'es...   False   \n",
       "15  2021-02-24     Tribunes «  Islamo-gauchisme » : des proches...   False   \n",
       "16  2021-02-24     Alexis Artaud de La Ferrière S'il existe un ...   False   \n",
       "17  2021-02-18     Universités : Vidal lance une enquête contes...    True   \n",
       "18  2021-03-04     La fiche de poste modifiée de l'université P...   False   \n",
       "19  2021-02-25       Macron face aux limites du « en même temps »    False   \n",
       "20  2021-02-19     Universités : Frédérique Vidal accroît le ma...   False   \n",
       "21  2021-02-23     «  Islamo-  gauchisme » Macron empêtré dans ...   False   \n",
       "22  2021-02-20          Université Vidal prise à son propre piège    False   \n",
       "\n",
       "    uniqes  \n",
       "0       23  \n",
       "1       18  \n",
       "2       56  \n",
       "3        6  \n",
       "4       24  \n",
       "5       10  \n",
       "6       41  \n",
       "7       71  \n",
       "8        5  \n",
       "9       45  \n",
       "10      23  \n",
       "11       0  \n",
       "12      20  \n",
       "13      23  \n",
       "14      36  \n",
       "15      10  \n",
       "16      44  \n",
       "17      12  \n",
       "18       6  \n",
       "19      10  \n",
       "20       7  \n",
       "21       9  \n",
       "22       7  "
      ]
     },
     "execution_count": 86,
     "metadata": {},
     "output_type": "execute_result"
    }
   ],
   "source": [
    "df"
   ]
  },
  {
   "cell_type": "code",
   "execution_count": null,
   "id": "closed-tactics",
   "metadata": {},
   "outputs": [],
   "source": [
    "Donnés satelites \n",
    " - Xarray.\n",
    " - pangeo.\n"
   ]
  },
  {
   "cell_type": "code",
   "execution_count": null,
   "id": "documented-couple",
   "metadata": {},
   "outputs": [],
   "source": []
  }
 ],
 "metadata": {
  "kernelspec": {
   "display_name": "Python 3",
   "language": "python",
   "name": "python3"
  },
  "language_info": {
   "codemirror_mode": {
    "name": "ipython",
    "version": 3
   },
   "file_extension": ".py",
   "mimetype": "text/x-python",
   "name": "python",
   "nbconvert_exporter": "python",
   "pygments_lexer": "ipython3",
   "version": "3.8.5"
  }
 },
 "nbformat": 4,
 "nbformat_minor": 5
}
