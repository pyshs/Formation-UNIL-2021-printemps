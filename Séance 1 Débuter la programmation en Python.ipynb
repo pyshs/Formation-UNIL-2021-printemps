{
 "cells": [
  {
   "cell_type": "markdown",
   "metadata": {},
   "source": [
    "# Premiers pas avec Python\n",
    "\n",
    "Cette séance est dédiée à comprendre les bases du langage, sa synthaxe, mais aussi tous les éléments associés permettant d'exécuter du code.\n",
    "\n",
    "Nous allons le faire de manière appliquée (cela correspondra aux chapitres 2 et 3 du manuel Python pour les SHS).\n",
    "\n",
    "La démarche sera donc d'avancer ensemble sur les différentes manipulations et d'échanger au fur et à mesure sur la base de vos questions.\n",
    "\n",
    "Moi je serais un peu l'utilisateur de base, Matthias a une vision un peu plus avancée.\n",
    "\n",
    "Le fil directeur sera les débats franco-français autour de la pseudo-notion d'islamo-gauchisme dans la presse. Cela nous permettra de manipuler des données réelles et se familiariser progressivement aux traitements.\n",
    "\n",
    "**corpus** : requête sur Europresse TEXT= islamo & (gauchisme | gauchiste) du 03/02 au 03/03\n",
    "\n",
    "Nous allons procéder interactivement à partir de ce document\n",
    "\n",
    "Deux manières de suivre le cours :\n",
    "- suivre avec nous les étapes\n",
    "- directement partir sur l'exercice de fin et interagir avec Matthias ou Emilien dans la salle complémentaire pour débugguer.\n",
    "\n",
    "**Objectif final de cette séquence**: Écrire un script qui permet de compter le nombre de mots d'articles collectés dans des documents textes.\n",
    "\n",
    "Au passage, ce sera aussi l'occasion de nous poser plein de questions sur les données, le fonctionnement de l'ordinateur, etc."
   ]
  },
  {
   "cell_type": "markdown",
   "metadata": {},
   "source": [
    "# Quelques petits points de départs\n",
    "\n",
    "Mieux se connaître et petit tour de table des objectifs : **dans l'idéal, en une phrase, qu'est-ce que vous voudriez faire ?**\n",
    "\n",
    "Quelques éléments à avoir en tête\n",
    "\n",
    "- Un bon code est un code écrit\n",
    "- Testez pour voir si ça marche\n",
    "- Vous allez faire des erreurs bêtes\n",
    "- Vous allez devoir chercher de l'aide\n",
    "- N'hésitez jamais à poser une question\n",
    "\n",
    "**Attention : apprendre prend du temps, ne soyez pas découragés**"
   ]
  },
  {
   "cell_type": "markdown",
   "metadata": {},
   "source": [
    "![title](Data/apprentissage_python.png)"
   ]
  },
  {
   "cell_type": "markdown",
   "metadata": {},
   "source": [
    "# Premier notebook\n",
    "\n",
    "## Exécuter un morceau de code\n",
    "\n",
    "- Où faire du Python ?\n",
    "- Comment le langage est transformé en un traitement ?\n",
    "- Pourquoi utiliser le Jupyter Notebook ?\n",
    "\n",
    "Aller sur le Github, récupérer le code dans le fichier code.py et le copier ci-dessous pour l'exécuter"
   ]
  },
  {
   "cell_type": "code",
   "execution_count": 4,
   "metadata": {},
   "outputs": [
    {
     "name": "stdout",
     "output_type": "stream",
     "text": [
      "Tension entre l'exécutif et le monde scientifique Après les déclarations de Vidal sur l' «  islamo-gauchisme », Attal a rappelé « l'indépendance » des chercheurs\n",
      "Proportion d'articles contenant le terme dans le titre : 50.0 %\n"
     ]
    }
   ],
   "source": [
    "nombre_articles = 0\n",
    "motcle = \"islamo\"\n",
    "titres = [\"Tension entre l'exécutif et le monde scientifique Après les déclarations de Vidal sur l' «  islamo-gauchisme », Attal a rappelé « l'indépendance » des chercheurs\",\n",
    "          \"La fiche de poste modifiée de l'université Paris-Est-Créteil\"]\n",
    "nombre_total_articles = len(titres)\n",
    "if nombre_total_articles > 0:\n",
    "    for i in titres:\n",
    "        if motcle in i:\n",
    "            print(i)\n",
    "            nombre_articles+=1\n",
    "else:\n",
    "\tprint(\"La liste est vide\")\n",
    "proportion = 100*nombre_articles/nombre_total_articles\n",
    "print(\"Proportion d'articles contenant le terme dans le titre : {} %\".format(round(proportion,1)))"
   ]
  },
  {
   "cell_type": "markdown",
   "metadata": {},
   "source": [
    "##  Décomposons le code"
   ]
  },
  {
   "cell_type": "code",
   "execution_count": 13,
   "metadata": {},
   "outputs": [],
   "source": [
    "nombre_articles = 0"
   ]
  },
  {
   "cell_type": "code",
   "execution_count": 7,
   "metadata": {},
   "outputs": [
    {
     "data": {
      "text/plain": [
       "0"
      ]
     },
     "execution_count": 7,
     "metadata": {},
     "output_type": "execute_result"
    }
   ],
   "source": [
    "nombre_articles"
   ]
  },
  {
   "cell_type": "code",
   "execution_count": 9,
   "metadata": {},
   "outputs": [
    {
     "data": {
      "text/plain": [
       "0"
      ]
     },
     "execution_count": 9,
     "metadata": {},
     "output_type": "execute_result"
    }
   ],
   "source": [
    "nbarticles"
   ]
  },
  {
   "cell_type": "code",
   "execution_count": 10,
   "metadata": {},
   "outputs": [
    {
     "data": {
      "text/plain": [
       "0"
      ]
     },
     "execution_count": 10,
     "metadata": {},
     "output_type": "execute_result"
    }
   ],
   "source": [
    "nombre_articles"
   ]
  },
  {
   "cell_type": "code",
   "execution_count": 11,
   "metadata": {},
   "outputs": [
    {
     "ename": "NameError",
     "evalue": "name 'nombre_article' is not defined",
     "output_type": "error",
     "traceback": [
      "\u001b[0;31m---------------------------------------------------------------------------\u001b[0m",
      "\u001b[0;31mNameError\u001b[0m                                 Traceback (most recent call last)",
      "\u001b[0;32m<ipython-input-11-2bbaa6cb1bb7>\u001b[0m in \u001b[0;36m<module>\u001b[0;34m\u001b[0m\n\u001b[0;32m----> 1\u001b[0;31m \u001b[0mnombre_article\u001b[0m\u001b[0;34m\u001b[0m\u001b[0;34m\u001b[0m\u001b[0m\n\u001b[0m",
      "\u001b[0;31mNameError\u001b[0m: name 'nombre_article' is not defined"
     ]
    }
   ],
   "source": [
    "nombre_article"
   ]
  },
  {
   "cell_type": "markdown",
   "metadata": {},
   "source": [
    "Les variables ont des types -> c'est leur nature"
   ]
  },
  {
   "cell_type": "code",
   "execution_count": 12,
   "metadata": {},
   "outputs": [
    {
     "data": {
      "text/plain": [
       "int"
      ]
     },
     "execution_count": 12,
     "metadata": {},
     "output_type": "execute_result"
    }
   ],
   "source": [
    "type(nombre_articles)"
   ]
  },
  {
   "cell_type": "code",
   "execution_count": 17,
   "metadata": {},
   "outputs": [
    {
     "data": {
      "text/plain": [
       "20"
      ]
     },
     "execution_count": 17,
     "metadata": {},
     "output_type": "execute_result"
    }
   ],
   "source": [
    "nombre_articles   +     10"
   ]
  },
  {
   "cell_type": "code",
   "execution_count": 15,
   "metadata": {},
   "outputs": [],
   "source": [
    "nombre_articles = 10"
   ]
  },
  {
   "cell_type": "markdown",
   "metadata": {},
   "source": [
    "## Autre type de variable : la chaîne de caractères"
   ]
  },
  {
   "cell_type": "code",
   "execution_count": 18,
   "metadata": {},
   "outputs": [],
   "source": [
    "motcle = \"islamo\""
   ]
  },
  {
   "cell_type": "code",
   "execution_count": 19,
   "metadata": {},
   "outputs": [
    {
     "data": {
      "text/plain": [
       "'islamo'"
      ]
     },
     "execution_count": 19,
     "metadata": {},
     "output_type": "execute_result"
    }
   ],
   "source": [
    "motcle"
   ]
  },
  {
   "cell_type": "code",
   "execution_count": 20,
   "metadata": {},
   "outputs": [
    {
     "data": {
      "text/plain": [
       "str"
      ]
     },
     "execution_count": 20,
     "metadata": {},
     "output_type": "execute_result"
    }
   ],
   "source": [
    "type(motcle)"
   ]
  },
  {
   "cell_type": "code",
   "execution_count": 21,
   "metadata": {},
   "outputs": [],
   "source": [
    "motcle = 'islamo'"
   ]
  },
  {
   "cell_type": "markdown",
   "metadata": {},
   "source": [
    "Avec un saut de ligne"
   ]
  },
  {
   "cell_type": "code",
   "execution_count": 30,
   "metadata": {},
   "outputs": [],
   "source": [
    "motcle = \"\"\"islamo\n",
    "         \"\"\""
   ]
  },
  {
   "cell_type": "code",
   "execution_count": 31,
   "metadata": {},
   "outputs": [
    {
     "data": {
      "text/plain": [
       "'islamo\\n         '"
      ]
     },
     "execution_count": 31,
     "metadata": {},
     "output_type": "execute_result"
    }
   ],
   "source": [
    "motcle"
   ]
  },
  {
   "cell_type": "markdown",
   "metadata": {},
   "source": [
    "Sans saut de ligne"
   ]
  },
  {
   "cell_type": "code",
   "execution_count": 25,
   "metadata": {},
   "outputs": [],
   "source": [
    "motcle = \"\"\"islamo\"\"\""
   ]
  },
  {
   "cell_type": "code",
   "execution_count": 26,
   "metadata": {},
   "outputs": [
    {
     "data": {
      "text/plain": [
       "'islamogauchiste'"
      ]
     },
     "execution_count": 26,
     "metadata": {},
     "output_type": "execute_result"
    }
   ],
   "source": [
    "motcle + \"gauchiste\""
   ]
  },
  {
   "cell_type": "code",
   "execution_count": 27,
   "metadata": {},
   "outputs": [],
   "source": [
    "motcle = motcle + \"gauchiste\""
   ]
  },
  {
   "cell_type": "code",
   "execution_count": 28,
   "metadata": {},
   "outputs": [
    {
     "data": {
      "text/plain": [
       "'islamogauchiste'"
      ]
     },
     "execution_count": 28,
     "metadata": {},
     "output_type": "execute_result"
    }
   ],
   "source": [
    "motcle"
   ]
  },
  {
   "cell_type": "markdown",
   "metadata": {},
   "source": [
    "Revenir sur l'historique des commandes"
   ]
  },
  {
   "cell_type": "code",
   "execution_count": 29,
   "metadata": {},
   "outputs": [
    {
     "name": "stdout",
     "output_type": "stream",
     "text": [
      "23+34\n",
      "56+32\n",
      "nombre_articles = 0\n",
      "motcle = \"islamo\"\n",
      "titres = [\"Tension entre l'exécutif et le monde scientifique Après les déclarations de Vidal sur l' «  islamo-gauchisme », Attal a rappelé « l'indépendance » des chercheurs\",\n",
      "          \"La fiche de poste modifiée de l'université Paris-Est-Créteil\"]\n",
      "nombre_total_articles = len(titres)\n",
      "if nombre_total_articles > 0:\n",
      "    for i in titres:\n",
      "        if motcle in i:\n",
      "            print(i)\n",
      "            nombre_articles+=1\n",
      "else:\n",
      "    print(\"La liste est vide\")\n",
      "proportion = 100*nombre_articles/nombre_total_articles\n",
      "print(\"Proportion d'articles contenant le terme dans le titre : {} %%\".format(round(proportion,1)))\n",
      "nombre_articles = 0\n",
      "motcle = \"islamo\"\n",
      "titres = [\"Tension entre l'exécutif et le monde scientifique Après les déclarations de Vidal sur l' «  islamo-gauchisme », Attal a rappelé « l'indépendance » des chercheurs\",\n",
      "          \"La fiche de poste modifiée de l'université Paris-Est-Créteil\"]\n",
      "nombre_total_articles = len(titres)\n",
      "if nombre_total_articles > 0:\n",
      "    for i in titres:\n",
      "        if motcle in i:\n",
      "            print(i)\n",
      "            nombre_articles+=1\n",
      "else:\n",
      "    print(\"La liste est vide\")\n",
      "proportion = 100*nombre_articles/nombre_total_articles\n",
      "print(\"Proportion d'articles contenant le terme dans le titre : {} %\".format(round(proportion,1)))\n",
      "nombre_articles = 0\n",
      "nombre_articles = 0\n",
      "nombre_articles\n",
      "nbarticles = 0\n",
      "nbarticles\n",
      "nombre_articles\n",
      "nombre_article\n",
      "type(nombre_articles)\n",
      "nombre_articles = 0\n",
      "nombre_articles + 10\n",
      "nombre_articles = 10\n",
      "nombre_articles + 10\n",
      "nombre_articles   +     10\n",
      "motcle = \"islamo\"\n",
      "motcle\n",
      "type(motcle)\n",
      "motcle = 'islamo'\n",
      "motcle = \"\"\"islamo\n",
      "\"\"\"\n",
      "motcle + \"gauchiste\"\n",
      "motcle = \"\"\"islamo\"\"\"\n",
      "motcle = \"\"\"islamo\"\"\"\n",
      "motcle + \"gauchiste\"\n",
      "motcle = motcle + \"gauchiste\"\n",
      "motcle\n",
      "%hist\n"
     ]
    }
   ],
   "source": [
    "%hist"
   ]
  },
  {
   "cell_type": "markdown",
   "metadata": {},
   "source": [
    "Seule la dernière ligne est affichée"
   ]
  },
  {
   "cell_type": "code",
   "execution_count": 33,
   "metadata": {},
   "outputs": [
    {
     "data": {
      "text/plain": [
       "20"
      ]
     },
     "execution_count": 33,
     "metadata": {},
     "output_type": "execute_result"
    }
   ],
   "source": [
    "1+1\n",
    "10+10"
   ]
  },
  {
   "cell_type": "markdown",
   "metadata": {},
   "source": [
    "### Listes"
   ]
  },
  {
   "cell_type": "code",
   "execution_count": 34,
   "metadata": {},
   "outputs": [],
   "source": [
    "titres = [\"Tension entre l'exécutif et le monde scientifique Après les déclarations de Vidal sur l' «  islamo-gauchisme », Attal a rappelé « l'indépendance » des chercheurs\",\n",
    "          \"La fiche de poste modifiée de l'université Paris-Est-Créteil\"]\n"
   ]
  },
  {
   "cell_type": "code",
   "execution_count": 35,
   "metadata": {},
   "outputs": [
    {
     "data": {
      "text/plain": [
       "list"
      ]
     },
     "execution_count": 35,
     "metadata": {},
     "output_type": "execute_result"
    }
   ],
   "source": [
    "type(titres)"
   ]
  },
  {
   "cell_type": "code",
   "execution_count": 36,
   "metadata": {},
   "outputs": [
    {
     "data": {
      "text/plain": [
       "\"Tension entre l'exécutif et le monde scientifique Après les déclarations de Vidal sur l' «  islamo-gauchisme », Attal a rappelé « l'indépendance » des chercheurs\""
      ]
     },
     "execution_count": 36,
     "metadata": {},
     "output_type": "execute_result"
    }
   ],
   "source": [
    "titres[0]"
   ]
  },
  {
   "cell_type": "code",
   "execution_count": 37,
   "metadata": {},
   "outputs": [
    {
     "data": {
      "text/plain": [
       "\"La fiche de poste modifiée de l'université Paris-Est-Créteil\""
      ]
     },
     "execution_count": 37,
     "metadata": {},
     "output_type": "execute_result"
    }
   ],
   "source": [
    "titres[1]"
   ]
  },
  {
   "cell_type": "code",
   "execution_count": 38,
   "metadata": {},
   "outputs": [
    {
     "ename": "IndexError",
     "evalue": "list index out of range",
     "output_type": "error",
     "traceback": [
      "\u001b[0;31m---------------------------------------------------------------------------\u001b[0m",
      "\u001b[0;31mIndexError\u001b[0m                                Traceback (most recent call last)",
      "\u001b[0;32m<ipython-input-38-7eb75cdd89d6>\u001b[0m in \u001b[0;36m<module>\u001b[0;34m\u001b[0m\n\u001b[0;32m----> 1\u001b[0;31m \u001b[0mtitres\u001b[0m\u001b[0;34m[\u001b[0m\u001b[0;36m2\u001b[0m\u001b[0;34m]\u001b[0m\u001b[0;34m\u001b[0m\u001b[0;34m\u001b[0m\u001b[0m\n\u001b[0m",
      "\u001b[0;31mIndexError\u001b[0m: list index out of range"
     ]
    }
   ],
   "source": [
    "titres[2]"
   ]
  },
  {
   "cell_type": "code",
   "execution_count": 39,
   "metadata": {},
   "outputs": [],
   "source": [
    "listes_nombres = [29,10,32,323,32]"
   ]
  },
  {
   "cell_type": "code",
   "execution_count": 40,
   "metadata": {},
   "outputs": [
    {
     "data": {
      "text/plain": [
       "[29, 10, 32, 323, 32]"
      ]
     },
     "execution_count": 40,
     "metadata": {},
     "output_type": "execute_result"
    }
   ],
   "source": [
    "listes_nombres"
   ]
  },
  {
   "cell_type": "code",
   "execution_count": 41,
   "metadata": {},
   "outputs": [],
   "source": [
    "liste_vide = []"
   ]
  },
  {
   "cell_type": "code",
   "execution_count": 42,
   "metadata": {},
   "outputs": [
    {
     "data": {
      "text/plain": [
       "[]"
      ]
     },
     "execution_count": 42,
     "metadata": {},
     "output_type": "execute_result"
    }
   ],
   "source": [
    "liste_vide"
   ]
  },
  {
   "cell_type": "code",
   "execution_count": 43,
   "metadata": {},
   "outputs": [],
   "source": [
    "age = [12,14,13]"
   ]
  },
  {
   "cell_type": "code",
   "execution_count": 44,
   "metadata": {},
   "outputs": [
    {
     "data": {
      "text/plain": [
       "[12, 14, 13]"
      ]
     },
     "execution_count": 44,
     "metadata": {},
     "output_type": "execute_result"
    }
   ],
   "source": [
    "age"
   ]
  },
  {
   "cell_type": "code",
   "execution_count": 45,
   "metadata": {},
   "outputs": [
    {
     "data": {
      "text/plain": [
       "[\"Tension entre l'exécutif et le monde scientifique Après les déclarations de Vidal sur l' «  islamo-gauchisme », Attal a rappelé « l'indépendance » des chercheurs\",\n",
       " \"La fiche de poste modifiée de l'université Paris-Est-Créteil\"]"
      ]
     },
     "execution_count": 45,
     "metadata": {},
     "output_type": "execute_result"
    }
   ],
   "source": [
    "titres"
   ]
  },
  {
   "cell_type": "markdown",
   "metadata": {},
   "source": [
    "### Gestion des guillemets : échapper les caractères"
   ]
  },
  {
   "cell_type": "code",
   "execution_count": 46,
   "metadata": {},
   "outputs": [
    {
     "ename": "SyntaxError",
     "evalue": "invalid syntax (<ipython-input-46-6c77cbe39e8a>, line 1)",
     "output_type": "error",
     "traceback": [
      "\u001b[0;36m  File \u001b[0;32m\"<ipython-input-46-6c77cbe39e8a>\"\u001b[0;36m, line \u001b[0;32m1\u001b[0m\n\u001b[0;31m    'Je suis de l'autre côté de l'ordinateur'\u001b[0m\n\u001b[0m                      ^\u001b[0m\n\u001b[0;31mSyntaxError\u001b[0m\u001b[0;31m:\u001b[0m invalid syntax\n"
     ]
    }
   ],
   "source": [
    "'Je suis de l'autre côté de l'ordinateur'"
   ]
  },
  {
   "cell_type": "markdown",
   "metadata": {},
   "source": [
    "Echapper les caractères"
   ]
  },
  {
   "cell_type": "code",
   "execution_count": 48,
   "metadata": {},
   "outputs": [
    {
     "data": {
      "text/plain": [
       "\"Je suis de l'autre côté de l'ordinateur\""
      ]
     },
     "execution_count": 48,
     "metadata": {},
     "output_type": "execute_result"
    }
   ],
   "source": [
    "'Je suis de l\\'autre côté de l\\'ordinateur'"
   ]
  },
  {
   "cell_type": "markdown",
   "metadata": {},
   "source": [
    "## Les méthodes des listes"
   ]
  },
  {
   "cell_type": "code",
   "execution_count": 50,
   "metadata": {},
   "outputs": [
    {
     "data": {
      "text/plain": [
       "[\"Tension entre l'exécutif et le monde scientifique Après les déclarations de Vidal sur l' «  islamo-gauchisme », Attal a rappelé « l'indépendance » des chercheurs\",\n",
       " \"La fiche de poste modifiée de l'université Paris-Est-Créteil\"]"
      ]
     },
     "execution_count": 50,
     "metadata": {},
     "output_type": "execute_result"
    }
   ],
   "source": [
    "titres"
   ]
  },
  {
   "cell_type": "code",
   "execution_count": 51,
   "metadata": {},
   "outputs": [],
   "source": [
    "titres.append(\"NOUVEAU TITRE\")"
   ]
  },
  {
   "cell_type": "code",
   "execution_count": 52,
   "metadata": {},
   "outputs": [
    {
     "data": {
      "text/plain": [
       "[\"Tension entre l'exécutif et le monde scientifique Après les déclarations de Vidal sur l' «  islamo-gauchisme », Attal a rappelé « l'indépendance » des chercheurs\",\n",
       " \"La fiche de poste modifiée de l'université Paris-Est-Créteil\",\n",
       " 'NOUVEAU TITRE']"
      ]
     },
     "execution_count": 52,
     "metadata": {},
     "output_type": "execute_result"
    }
   ],
   "source": [
    "titres"
   ]
  },
  {
   "cell_type": "markdown",
   "metadata": {},
   "source": [
    "Mettre en majuscules"
   ]
  },
  {
   "cell_type": "code",
   "execution_count": 54,
   "metadata": {},
   "outputs": [
    {
     "data": {
      "text/plain": [
       "'ISLAMO\\n         '"
      ]
     },
     "execution_count": 54,
     "metadata": {},
     "output_type": "execute_result"
    }
   ],
   "source": [
    "motcle.upper()"
   ]
  },
  {
   "cell_type": "markdown",
   "metadata": {},
   "source": [
    "### Les fonctions définies"
   ]
  },
  {
   "cell_type": "markdown",
   "metadata": {},
   "source": [
    "Nombre d'éléments dans un ensemble"
   ]
  },
  {
   "cell_type": "code",
   "execution_count": 55,
   "metadata": {},
   "outputs": [],
   "source": [
    "nombre_total_articles = len(titres)"
   ]
  },
  {
   "cell_type": "code",
   "execution_count": 56,
   "metadata": {},
   "outputs": [
    {
     "data": {
      "text/plain": [
       "3"
      ]
     },
     "execution_count": 56,
     "metadata": {},
     "output_type": "execute_result"
    }
   ],
   "source": [
    " len(titres)"
   ]
  },
  {
   "cell_type": "code",
   "execution_count": 57,
   "metadata": {},
   "outputs": [
    {
     "data": {
      "text/plain": [
       "2"
      ]
     },
     "execution_count": 57,
     "metadata": {},
     "output_type": "execute_result"
    }
   ],
   "source": [
    "len([1,2])"
   ]
  },
  {
   "cell_type": "code",
   "execution_count": 58,
   "metadata": {},
   "outputs": [
    {
     "data": {
      "text/plain": [
       "15"
      ]
     },
     "execution_count": 58,
     "metadata": {},
     "output_type": "execute_result"
    }
   ],
   "source": [
    "len(\"Il se fait tard\")"
   ]
  }
 ],
 "metadata": {
  "kernelspec": {
   "display_name": "Python 3",
   "language": "python",
   "name": "python3"
  },
  "language_info": {
   "codemirror_mode": {
    "name": "ipython",
    "version": 3
   },
   "file_extension": ".py",
   "mimetype": "text/x-python",
   "name": "python",
   "nbconvert_exporter": "python",
   "pygments_lexer": "ipython3",
   "version": "3.7.7"
  }
 },
 "nbformat": 4,
 "nbformat_minor": 4
}
