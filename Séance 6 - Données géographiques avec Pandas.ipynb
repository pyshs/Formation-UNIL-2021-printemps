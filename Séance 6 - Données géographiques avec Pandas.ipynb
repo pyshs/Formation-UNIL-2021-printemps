{
 "cells": [
  {
   "cell_type": "markdown",
   "metadata": {},
   "source": [
    "# Manipuler des données géographiques"
   ]
  },
  {
   "cell_type": "markdown",
   "metadata": {},
   "source": [
    "Encore à faire (Matthias?) :\n",
    "\n",
    "- Travailler sur la visualisation de l'Europe pour montrer un peu comment placer des choses sur une carte, labels, etc. Si tu as envie de montrer la manière de faire une visualisation plus aboutie, ou illustrer certaines features de Pandas, feel free, sinon je complèterai jeudi matin\n",
    "- Mettre un exemple de chargement d'une carte sous format raster et essayer de placer des éléments dessus (un peu de manipulation de matplotlib pour montrer que c'est possible de faire des choses ... J'ai mis une carte dans Data : large-detailed-old-map-of-europe-1851\n",
    "- Routiniser le script pour savoir dans quel pays européen est une coordonnée GPS comme on avait parlé pour faire un truc sous ligne de commande\n",
    "- Autre / complexification si tu as des idées pour compléter."
   ]
  },
  {
   "cell_type": "markdown",
   "metadata": {},
   "source": [
    "## Petit point général\n",
    "\n",
    "- Ce qu'est une donnée géographique\n",
    "- ce qu'est un GIS (des géographes dans la salle?)\n",
    "- ce qu'est une carte : d'une image à une visualisation de données\n",
    "- plusieurs façon de construire une carte :\n",
    "  - point par point\n",
    "  - en manipulant des entités géographiques : polygones"
   ]
  },
  {
   "cell_type": "markdown",
   "metadata": {},
   "source": [
    "## Les données disponibles\n",
    "\n",
    "- Les données géographiques sont deux choses :\n",
    "  - La description géographique d'entités (positions, frontières, etc.)\n",
    "  - Des informations associées à ces éléments\n",
    "- Il existe de plus en plus de données géographiques ouvertes, mais cela peut dépendre des pays\n",
    "  - Par ex en France INSEE + IRIS + données du recensement\n",
    "- La création des cartes et des entités géographiques larges est un métier à part entière\n",
    "- Par exemple pour l'Europe :\n",
    "  - https://ec.europa.eu/eurostat/web/gisco/geodata/reference-data/administrative-units-statistical-units/countries\n",
    "- Il est possible de le faire aussi à la main de différentes manières\n",
    "  - Dessiner en vectoriel une carte et la charger\n",
    "  - construire point par point les polygones que l'on souhaite"
   ]
  },
  {
   "cell_type": "markdown",
   "metadata": {},
   "source": [
    "## Présentation de GéoPandas\n",
    "\n",
    "Étendre Pandas (tableaux) avec une colonne qui détermine une géométrie\n",
    "\n",
    "- Géométrie : des poins, lignes ou polygones\n",
    "- Pouvoir ensuite manipuler ces informations avec des propriétés géographiques : distances, etc.\n",
    "- Le plus simple est de directement manipuler un fichier de données qui existe"
   ]
  },
  {
   "cell_type": "markdown",
   "metadata": {},
   "source": [
    "Notons que pour un usage plus bas niveau, vous voudrez aller regarder des biliothèques comme **Cartopy**."
   ]
  },
  {
   "cell_type": "code",
   "execution_count": 2,
   "metadata": {},
   "outputs": [],
   "source": [
    "from shapely.geometry import Point,Polygon,LineString"
   ]
  },
  {
   "cell_type": "code",
   "execution_count": 5,
   "metadata": {},
   "outputs": [
    {
     "data": {
      "image/svg+xml": [
       "<svg xmlns=\"http://www.w3.org/2000/svg\" xmlns:xlink=\"http://www.w3.org/1999/xlink\" width=\"100.0\" height=\"100.0\" viewBox=\"9.0 9.0 2.0 2.0\" preserveAspectRatio=\"xMinYMin meet\"><g transform=\"matrix(1,0,0,-1,0,20.0)\"><circle cx=\"10.0\" cy=\"10.0\" r=\"0.06\" stroke=\"#555555\" stroke-width=\"0.02\" fill=\"#66cc99\" opacity=\"0.6\" /></g></svg>"
      ],
      "text/plain": [
       "<shapely.geometry.point.Point at 0x110827400>"
      ]
     },
     "execution_count": 5,
     "metadata": {},
     "output_type": "execute_result"
    }
   ],
   "source": [
    "Point(10,10)"
   ]
  },
  {
   "cell_type": "code",
   "execution_count": 3,
   "metadata": {},
   "outputs": [
    {
     "data": {
      "image/svg+xml": [
       "<svg xmlns=\"http://www.w3.org/2000/svg\" xmlns:xlink=\"http://www.w3.org/1999/xlink\" width=\"100.0\" height=\"100.0\" viewBox=\"0.72 1.72 6.5600000000000005 7.56\" preserveAspectRatio=\"xMinYMin meet\"><g transform=\"matrix(1,0,0,-1,0,11.0)\"><polyline fill=\"none\" stroke=\"#66cc99\" stroke-width=\"0.1512\" points=\"1.0,2.0 4.0,3.0 7.0,9.0\" opacity=\"0.8\" /></g></svg>"
      ],
      "text/plain": [
       "<shapely.geometry.linestring.LineString at 0x10e632850>"
      ]
     },
     "execution_count": 3,
     "metadata": {},
     "output_type": "execute_result"
    }
   ],
   "source": [
    "LineString([[1,2],[4,3],[7,9]])"
   ]
  },
  {
   "cell_type": "code",
   "execution_count": 13,
   "metadata": {},
   "outputs": [
    {
     "data": {
      "image/svg+xml": [
       "<svg xmlns=\"http://www.w3.org/2000/svg\" xmlns:xlink=\"http://www.w3.org/1999/xlink\" width=\"100.0\" height=\"100.0\" viewBox=\"-0.12 -0.12 3.24 3.24\" preserveAspectRatio=\"xMinYMin meet\"><g transform=\"matrix(1,0,0,-1,0,3.0)\"><path fill-rule=\"evenodd\" fill=\"#66cc99\" stroke=\"#555555\" stroke-width=\"0.06480000000000001\" opacity=\"0.6\" d=\"M 0.0,0.0 L 3.0,0.0 L 3.0,3.0 L 0.0,0.0 z\" /></g></svg>"
      ],
      "text/plain": [
       "<shapely.geometry.polygon.Polygon at 0x15a375ac0>"
      ]
     },
     "execution_count": 13,
     "metadata": {},
     "output_type": "execute_result"
    }
   ],
   "source": [
    "p = Polygon([[0,0],[3,0],[3,3]])\n",
    "p"
   ]
  },
  {
   "cell_type": "markdown",
   "metadata": {},
   "source": [
    "A partir de ça, on peut tout construire... et une carte est une composition de forme"
   ]
  },
  {
   "cell_type": "code",
   "execution_count": 14,
   "metadata": {},
   "outputs": [
    {
     "data": {
      "image/svg+xml": [
       "<svg xmlns=\"http://www.w3.org/2000/svg\" xmlns:xlink=\"http://www.w3.org/1999/xlink\" width=\"100.0\" height=\"100.0\" viewBox=\"-0.16 -0.16 3.3200000000000003 4.32\" preserveAspectRatio=\"xMinYMin meet\"><g transform=\"matrix(1,0,0,-1,0,4.0)\"><path fill-rule=\"evenodd\" fill=\"#66cc99\" stroke=\"#555555\" stroke-width=\"0.0864\" opacity=\"0.6\" d=\"M 0.0,0.0 L 2.0,2.0 L 3.0,4.0 L 3.0,3.0 L 3.0,0.0 L 1.0,0.0 L 0.0,0.0 z\" /></g></svg>"
      ],
      "text/plain": [
       "<shapely.geometry.polygon.Polygon at 0x159708dc0>"
      ]
     },
     "execution_count": 14,
     "metadata": {},
     "output_type": "execute_result"
    }
   ],
   "source": [
    "p2 = p.union(\n",
    "    Polygon([[1,0],[3,0],[3,4]])\n",
    ")\n",
    "p2"
   ]
  },
  {
   "cell_type": "markdown",
   "metadata": {},
   "source": [
    "## Manipuler une carte\n",
    "\n",
    "  - https://data.opendatasoft.com/explore/dataset/european-union-countries@public/export/\n"
   ]
  },
  {
   "cell_type": "code",
   "execution_count": 18,
   "metadata": {},
   "outputs": [],
   "source": [
    "import geopandas as gpd\n",
    "fichier = \"Data/europe/european-union-countries.shp\"\n",
    "ue = gpd.read_file(fichier)"
   ]
  },
  {
   "cell_type": "code",
   "execution_count": 19,
   "metadata": {},
   "outputs": [
    {
     "data": {
      "text/html": [
       "<div>\n",
       "<style scoped>\n",
       "    .dataframe tbody tr th:only-of-type {\n",
       "        vertical-align: middle;\n",
       "    }\n",
       "\n",
       "    .dataframe tbody tr th {\n",
       "        vertical-align: top;\n",
       "    }\n",
       "\n",
       "    .dataframe thead th {\n",
       "        text-align: right;\n",
       "    }\n",
       "</style>\n",
       "<table border=\"1\" class=\"dataframe\">\n",
       "  <thead>\n",
       "    <tr style=\"text-align: right;\">\n",
       "      <th></th>\n",
       "      <th>scalerank</th>\n",
       "      <th>featurecla</th>\n",
       "      <th>labelrank</th>\n",
       "      <th>sovereignt</th>\n",
       "      <th>sov_a3</th>\n",
       "      <th>adm0_dif</th>\n",
       "      <th>level</th>\n",
       "      <th>type</th>\n",
       "      <th>admin</th>\n",
       "      <th>adm0_a3</th>\n",
       "      <th>...</th>\n",
       "      <th>continent</th>\n",
       "      <th>region_un</th>\n",
       "      <th>subregion</th>\n",
       "      <th>region_wb</th>\n",
       "      <th>name_len</th>\n",
       "      <th>long_len</th>\n",
       "      <th>abbrev_len</th>\n",
       "      <th>tiny</th>\n",
       "      <th>homepart</th>\n",
       "      <th>geometry</th>\n",
       "    </tr>\n",
       "  </thead>\n",
       "  <tbody>\n",
       "    <tr>\n",
       "      <th>0</th>\n",
       "      <td>1.0</td>\n",
       "      <td>Admin-0 country</td>\n",
       "      <td>5.0</td>\n",
       "      <td>Cyprus</td>\n",
       "      <td>CYP</td>\n",
       "      <td>0.0</td>\n",
       "      <td>2.0</td>\n",
       "      <td>Sovereign country</td>\n",
       "      <td>Cyprus</td>\n",
       "      <td>CYP</td>\n",
       "      <td>...</td>\n",
       "      <td>Asia</td>\n",
       "      <td>Asia</td>\n",
       "      <td>Western Asia</td>\n",
       "      <td>Europe &amp; Central Asia</td>\n",
       "      <td>6.0</td>\n",
       "      <td>6.0</td>\n",
       "      <td>4.0</td>\n",
       "      <td>-99.0</td>\n",
       "      <td>1.0</td>\n",
       "      <td>MULTIPOLYGON (((33.77399 34.98867, 33.77792 34...</td>\n",
       "    </tr>\n",
       "    <tr>\n",
       "      <th>1</th>\n",
       "      <td>0.0</td>\n",
       "      <td>Admin-0 country</td>\n",
       "      <td>2.0</td>\n",
       "      <td>France</td>\n",
       "      <td>FR1</td>\n",
       "      <td>1.0</td>\n",
       "      <td>2.0</td>\n",
       "      <td>Country</td>\n",
       "      <td>France</td>\n",
       "      <td>FRA</td>\n",
       "      <td>...</td>\n",
       "      <td>Europe</td>\n",
       "      <td>Europe</td>\n",
       "      <td>Western Europe</td>\n",
       "      <td>Europe &amp; Central Asia</td>\n",
       "      <td>6.0</td>\n",
       "      <td>6.0</td>\n",
       "      <td>3.0</td>\n",
       "      <td>-99.0</td>\n",
       "      <td>1.0</td>\n",
       "      <td>MULTIPOLYGON (((55.50131 -20.87322, 55.51401 -...</td>\n",
       "    </tr>\n",
       "    <tr>\n",
       "      <th>2</th>\n",
       "      <td>0.0</td>\n",
       "      <td>Admin-0 country</td>\n",
       "      <td>6.0</td>\n",
       "      <td>Estonia</td>\n",
       "      <td>EST</td>\n",
       "      <td>0.0</td>\n",
       "      <td>2.0</td>\n",
       "      <td>Sovereign country</td>\n",
       "      <td>Estonia</td>\n",
       "      <td>EST</td>\n",
       "      <td>...</td>\n",
       "      <td>Europe</td>\n",
       "      <td>Europe</td>\n",
       "      <td>Northern Europe</td>\n",
       "      <td>Europe &amp; Central Asia</td>\n",
       "      <td>7.0</td>\n",
       "      <td>7.0</td>\n",
       "      <td>4.0</td>\n",
       "      <td>-99.0</td>\n",
       "      <td>1.0</td>\n",
       "      <td>MULTIPOLYGON (((23.27019 57.78563, 23.25025 57...</td>\n",
       "    </tr>\n",
       "    <tr>\n",
       "      <th>3</th>\n",
       "      <td>0.0</td>\n",
       "      <td>Admin-0 country</td>\n",
       "      <td>4.0</td>\n",
       "      <td>Denmark</td>\n",
       "      <td>DN1</td>\n",
       "      <td>1.0</td>\n",
       "      <td>2.0</td>\n",
       "      <td>Country</td>\n",
       "      <td>Denmark</td>\n",
       "      <td>DNK</td>\n",
       "      <td>...</td>\n",
       "      <td>Europe</td>\n",
       "      <td>Europe</td>\n",
       "      <td>Northern Europe</td>\n",
       "      <td>Europe &amp; Central Asia</td>\n",
       "      <td>7.0</td>\n",
       "      <td>7.0</td>\n",
       "      <td>4.0</td>\n",
       "      <td>-99.0</td>\n",
       "      <td>1.0</td>\n",
       "      <td>MULTIPOLYGON (((11.25603 54.95458, 11.30348 54...</td>\n",
       "    </tr>\n",
       "    <tr>\n",
       "      <th>4</th>\n",
       "      <td>0.0</td>\n",
       "      <td>Admin-0 country</td>\n",
       "      <td>3.0</td>\n",
       "      <td>Finland</td>\n",
       "      <td>FI1</td>\n",
       "      <td>1.0</td>\n",
       "      <td>2.0</td>\n",
       "      <td>Country</td>\n",
       "      <td>Finland</td>\n",
       "      <td>FIN</td>\n",
       "      <td>...</td>\n",
       "      <td>Europe</td>\n",
       "      <td>Europe</td>\n",
       "      <td>Northern Europe</td>\n",
       "      <td>Europe &amp; Central Asia</td>\n",
       "      <td>7.0</td>\n",
       "      <td>7.0</td>\n",
       "      <td>4.0</td>\n",
       "      <td>-99.0</td>\n",
       "      <td>1.0</td>\n",
       "      <td>MULTIPOLYGON (((22.44370 59.85147, 22.42774 59...</td>\n",
       "    </tr>\n",
       "    <tr>\n",
       "      <th>5</th>\n",
       "      <td>0.0</td>\n",
       "      <td>Admin-0 country</td>\n",
       "      <td>6.0</td>\n",
       "      <td>Slovenia</td>\n",
       "      <td>SVN</td>\n",
       "      <td>0.0</td>\n",
       "      <td>2.0</td>\n",
       "      <td>Sovereign country</td>\n",
       "      <td>Slovenia</td>\n",
       "      <td>SVN</td>\n",
       "      <td>...</td>\n",
       "      <td>Europe</td>\n",
       "      <td>Europe</td>\n",
       "      <td>Southern Europe</td>\n",
       "      <td>Europe &amp; Central Asia</td>\n",
       "      <td>8.0</td>\n",
       "      <td>8.0</td>\n",
       "      <td>4.0</td>\n",
       "      <td>-99.0</td>\n",
       "      <td>1.0</td>\n",
       "      <td>POLYGON ((16.34343 46.71418, 16.35728 46.71583...</td>\n",
       "    </tr>\n",
       "    <tr>\n",
       "      <th>6</th>\n",
       "      <td>0.0</td>\n",
       "      <td>Admin-0 country</td>\n",
       "      <td>5.0</td>\n",
       "      <td>Hungary</td>\n",
       "      <td>HUN</td>\n",
       "      <td>0.0</td>\n",
       "      <td>2.0</td>\n",
       "      <td>Sovereign country</td>\n",
       "      <td>Hungary</td>\n",
       "      <td>HUN</td>\n",
       "      <td>...</td>\n",
       "      <td>Europe</td>\n",
       "      <td>Europe</td>\n",
       "      <td>Eastern Europe</td>\n",
       "      <td>Europe &amp; Central Asia</td>\n",
       "      <td>7.0</td>\n",
       "      <td>7.0</td>\n",
       "      <td>4.0</td>\n",
       "      <td>-99.0</td>\n",
       "      <td>1.0</td>\n",
       "      <td>POLYGON ((20.98149 48.51686, 21.00650 48.51815...</td>\n",
       "    </tr>\n",
       "    <tr>\n",
       "      <th>7</th>\n",
       "      <td>0.0</td>\n",
       "      <td>Admin-0 country</td>\n",
       "      <td>4.0</td>\n",
       "      <td>Bulgaria</td>\n",
       "      <td>BGR</td>\n",
       "      <td>0.0</td>\n",
       "      <td>2.0</td>\n",
       "      <td>Sovereign country</td>\n",
       "      <td>Bulgaria</td>\n",
       "      <td>BGR</td>\n",
       "      <td>...</td>\n",
       "      <td>Europe</td>\n",
       "      <td>Europe</td>\n",
       "      <td>Eastern Europe</td>\n",
       "      <td>Europe &amp; Central Asia</td>\n",
       "      <td>8.0</td>\n",
       "      <td>8.0</td>\n",
       "      <td>5.0</td>\n",
       "      <td>-99.0</td>\n",
       "      <td>1.0</td>\n",
       "      <td>POLYGON ((22.91956 43.83422, 23.13185 43.84794...</td>\n",
       "    </tr>\n",
       "    <tr>\n",
       "      <th>8</th>\n",
       "      <td>5.0</td>\n",
       "      <td>Admin-0 country</td>\n",
       "      <td>5.0</td>\n",
       "      <td>Malta</td>\n",
       "      <td>MLT</td>\n",
       "      <td>0.0</td>\n",
       "      <td>2.0</td>\n",
       "      <td>Sovereign country</td>\n",
       "      <td>Malta</td>\n",
       "      <td>MLT</td>\n",
       "      <td>...</td>\n",
       "      <td>Europe</td>\n",
       "      <td>Europe</td>\n",
       "      <td>Southern Europe</td>\n",
       "      <td>Middle East &amp; North Africa</td>\n",
       "      <td>5.0</td>\n",
       "      <td>5.0</td>\n",
       "      <td>5.0</td>\n",
       "      <td>3.0</td>\n",
       "      <td>1.0</td>\n",
       "      <td>MULTIPOLYGON (((14.56715 35.84561, 14.56178 35...</td>\n",
       "    </tr>\n",
       "    <tr>\n",
       "      <th>9</th>\n",
       "      <td>0.0</td>\n",
       "      <td>Admin-0 country</td>\n",
       "      <td>2.0</td>\n",
       "      <td>Belgium</td>\n",
       "      <td>BEL</td>\n",
       "      <td>0.0</td>\n",
       "      <td>2.0</td>\n",
       "      <td>Sovereign country</td>\n",
       "      <td>Belgium</td>\n",
       "      <td>BEL</td>\n",
       "      <td>...</td>\n",
       "      <td>Europe</td>\n",
       "      <td>Europe</td>\n",
       "      <td>Western Europe</td>\n",
       "      <td>Europe &amp; Central Asia</td>\n",
       "      <td>7.0</td>\n",
       "      <td>7.0</td>\n",
       "      <td>5.0</td>\n",
       "      <td>-99.0</td>\n",
       "      <td>1.0</td>\n",
       "      <td>POLYGON ((4.81545 51.43107, 4.82268 51.41368, ...</td>\n",
       "    </tr>\n",
       "    <tr>\n",
       "      <th>10</th>\n",
       "      <td>0.0</td>\n",
       "      <td>Admin-0 country</td>\n",
       "      <td>5.0</td>\n",
       "      <td>Czech Republic</td>\n",
       "      <td>CZE</td>\n",
       "      <td>0.0</td>\n",
       "      <td>2.0</td>\n",
       "      <td>Sovereign country</td>\n",
       "      <td>Czech Republic</td>\n",
       "      <td>CZE</td>\n",
       "      <td>...</td>\n",
       "      <td>Europe</td>\n",
       "      <td>Europe</td>\n",
       "      <td>Eastern Europe</td>\n",
       "      <td>Europe &amp; Central Asia</td>\n",
       "      <td>10.0</td>\n",
       "      <td>14.0</td>\n",
       "      <td>8.0</td>\n",
       "      <td>-99.0</td>\n",
       "      <td>1.0</td>\n",
       "      <td>POLYGON ((14.39781 51.01311, 14.42582 51.02094...</td>\n",
       "    </tr>\n",
       "    <tr>\n",
       "      <th>11</th>\n",
       "      <td>0.0</td>\n",
       "      <td>Admin-0 country</td>\n",
       "      <td>5.0</td>\n",
       "      <td>Netherlands</td>\n",
       "      <td>NL1</td>\n",
       "      <td>1.0</td>\n",
       "      <td>2.0</td>\n",
       "      <td>Country</td>\n",
       "      <td>Netherlands</td>\n",
       "      <td>NLD</td>\n",
       "      <td>...</td>\n",
       "      <td>Europe</td>\n",
       "      <td>Europe</td>\n",
       "      <td>Western Europe</td>\n",
       "      <td>Europe &amp; Central Asia</td>\n",
       "      <td>11.0</td>\n",
       "      <td>11.0</td>\n",
       "      <td>5.0</td>\n",
       "      <td>-99.0</td>\n",
       "      <td>1.0</td>\n",
       "      <td>MULTIPOLYGON (((-68.23729 12.02680, -68.24254 ...</td>\n",
       "    </tr>\n",
       "    <tr>\n",
       "      <th>12</th>\n",
       "      <td>0.0</td>\n",
       "      <td>Admin-0 country</td>\n",
       "      <td>3.0</td>\n",
       "      <td>Greece</td>\n",
       "      <td>GRC</td>\n",
       "      <td>0.0</td>\n",
       "      <td>2.0</td>\n",
       "      <td>Sovereign country</td>\n",
       "      <td>Greece</td>\n",
       "      <td>GRC</td>\n",
       "      <td>...</td>\n",
       "      <td>Europe</td>\n",
       "      <td>Europe</td>\n",
       "      <td>Southern Europe</td>\n",
       "      <td>Europe &amp; Central Asia</td>\n",
       "      <td>6.0</td>\n",
       "      <td>6.0</td>\n",
       "      <td>6.0</td>\n",
       "      <td>-99.0</td>\n",
       "      <td>1.0</td>\n",
       "      <td>MULTIPOLYGON (((24.13526 34.82176, 24.13526 34...</td>\n",
       "    </tr>\n",
       "    <tr>\n",
       "      <th>13</th>\n",
       "      <td>0.0</td>\n",
       "      <td>Admin-0 country</td>\n",
       "      <td>6.0</td>\n",
       "      <td>Slovakia</td>\n",
       "      <td>SVK</td>\n",
       "      <td>0.0</td>\n",
       "      <td>2.0</td>\n",
       "      <td>Sovereign country</td>\n",
       "      <td>Slovakia</td>\n",
       "      <td>SVK</td>\n",
       "      <td>...</td>\n",
       "      <td>Europe</td>\n",
       "      <td>Europe</td>\n",
       "      <td>Eastern Europe</td>\n",
       "      <td>Europe &amp; Central Asia</td>\n",
       "      <td>8.0</td>\n",
       "      <td>8.0</td>\n",
       "      <td>4.0</td>\n",
       "      <td>-99.0</td>\n",
       "      <td>1.0</td>\n",
       "      <td>POLYGON ((19.70632 49.38753, 19.72658 49.38887...</td>\n",
       "    </tr>\n",
       "    <tr>\n",
       "      <th>14</th>\n",
       "      <td>0.0</td>\n",
       "      <td>Admin-0 country</td>\n",
       "      <td>3.0</td>\n",
       "      <td>Ireland</td>\n",
       "      <td>IRL</td>\n",
       "      <td>0.0</td>\n",
       "      <td>2.0</td>\n",
       "      <td>Sovereign country</td>\n",
       "      <td>Ireland</td>\n",
       "      <td>IRL</td>\n",
       "      <td>...</td>\n",
       "      <td>Europe</td>\n",
       "      <td>Europe</td>\n",
       "      <td>Northern Europe</td>\n",
       "      <td>Europe &amp; Central Asia</td>\n",
       "      <td>7.0</td>\n",
       "      <td>7.0</td>\n",
       "      <td>4.0</td>\n",
       "      <td>-99.0</td>\n",
       "      <td>1.0</td>\n",
       "      <td>MULTIPOLYGON (((-9.82409 51.63890, -9.81697 51...</td>\n",
       "    </tr>\n",
       "    <tr>\n",
       "      <th>15</th>\n",
       "      <td>0.0</td>\n",
       "      <td>Admin-0 country</td>\n",
       "      <td>3.0</td>\n",
       "      <td>Romania</td>\n",
       "      <td>ROU</td>\n",
       "      <td>0.0</td>\n",
       "      <td>2.0</td>\n",
       "      <td>Sovereign country</td>\n",
       "      <td>Romania</td>\n",
       "      <td>ROU</td>\n",
       "      <td>...</td>\n",
       "      <td>Europe</td>\n",
       "      <td>Europe</td>\n",
       "      <td>Eastern Europe</td>\n",
       "      <td>Europe &amp; Central Asia</td>\n",
       "      <td>7.0</td>\n",
       "      <td>7.0</td>\n",
       "      <td>4.0</td>\n",
       "      <td>-99.0</td>\n",
       "      <td>1.0</td>\n",
       "      <td>POLYGON ((26.72238 48.25977, 26.73313 48.27075...</td>\n",
       "    </tr>\n",
       "    <tr>\n",
       "      <th>16</th>\n",
       "      <td>0.0</td>\n",
       "      <td>Admin-0 country</td>\n",
       "      <td>5.0</td>\n",
       "      <td>Latvia</td>\n",
       "      <td>LVA</td>\n",
       "      <td>0.0</td>\n",
       "      <td>2.0</td>\n",
       "      <td>Sovereign country</td>\n",
       "      <td>Latvia</td>\n",
       "      <td>LVA</td>\n",
       "      <td>...</td>\n",
       "      <td>Europe</td>\n",
       "      <td>Europe</td>\n",
       "      <td>Northern Europe</td>\n",
       "      <td>Europe &amp; Central Asia</td>\n",
       "      <td>6.0</td>\n",
       "      <td>6.0</td>\n",
       "      <td>4.0</td>\n",
       "      <td>-99.0</td>\n",
       "      <td>1.0</td>\n",
       "      <td>POLYGON ((25.33368 58.03181, 25.33988 58.03258...</td>\n",
       "    </tr>\n",
       "    <tr>\n",
       "      <th>17</th>\n",
       "      <td>0.0</td>\n",
       "      <td>Admin-0 country</td>\n",
       "      <td>3.0</td>\n",
       "      <td>Poland</td>\n",
       "      <td>POL</td>\n",
       "      <td>0.0</td>\n",
       "      <td>2.0</td>\n",
       "      <td>Sovereign country</td>\n",
       "      <td>Poland</td>\n",
       "      <td>POL</td>\n",
       "      <td>...</td>\n",
       "      <td>Europe</td>\n",
       "      <td>Europe</td>\n",
       "      <td>Eastern Europe</td>\n",
       "      <td>Europe &amp; Central Asia</td>\n",
       "      <td>6.0</td>\n",
       "      <td>6.0</td>\n",
       "      <td>4.0</td>\n",
       "      <td>-99.0</td>\n",
       "      <td>1.0</td>\n",
       "      <td>POLYGON ((19.00213 54.34492, 19.37721 54.37763...</td>\n",
       "    </tr>\n",
       "    <tr>\n",
       "      <th>18</th>\n",
       "      <td>0.0</td>\n",
       "      <td>Admin-0 country</td>\n",
       "      <td>2.0</td>\n",
       "      <td>Italy</td>\n",
       "      <td>ITA</td>\n",
       "      <td>0.0</td>\n",
       "      <td>2.0</td>\n",
       "      <td>Sovereign country</td>\n",
       "      <td>Italy</td>\n",
       "      <td>ITA</td>\n",
       "      <td>...</td>\n",
       "      <td>Europe</td>\n",
       "      <td>Europe</td>\n",
       "      <td>Southern Europe</td>\n",
       "      <td>Europe &amp; Central Asia</td>\n",
       "      <td>5.0</td>\n",
       "      <td>5.0</td>\n",
       "      <td>5.0</td>\n",
       "      <td>-99.0</td>\n",
       "      <td>1.0</td>\n",
       "      <td>MULTIPOLYGON (((12.62127 35.49234, 12.61109 35...</td>\n",
       "    </tr>\n",
       "    <tr>\n",
       "      <th>19</th>\n",
       "      <td>0.0</td>\n",
       "      <td>Admin-0 country</td>\n",
       "      <td>2.0</td>\n",
       "      <td>Germany</td>\n",
       "      <td>DEU</td>\n",
       "      <td>0.0</td>\n",
       "      <td>2.0</td>\n",
       "      <td>Sovereign country</td>\n",
       "      <td>Germany</td>\n",
       "      <td>DEU</td>\n",
       "      <td>...</td>\n",
       "      <td>Europe</td>\n",
       "      <td>Europe</td>\n",
       "      <td>Western Europe</td>\n",
       "      <td>Europe &amp; Central Asia</td>\n",
       "      <td>7.0</td>\n",
       "      <td>7.0</td>\n",
       "      <td>4.0</td>\n",
       "      <td>-99.0</td>\n",
       "      <td>1.0</td>\n",
       "      <td>MULTIPOLYGON (((6.74220 53.57836, 6.74952 53.5...</td>\n",
       "    </tr>\n",
       "    <tr>\n",
       "      <th>20</th>\n",
       "      <td>0.0</td>\n",
       "      <td>Admin-0 country</td>\n",
       "      <td>2.0</td>\n",
       "      <td>Spain</td>\n",
       "      <td>ESP</td>\n",
       "      <td>0.0</td>\n",
       "      <td>2.0</td>\n",
       "      <td>Sovereign country</td>\n",
       "      <td>Spain</td>\n",
       "      <td>ESP</td>\n",
       "      <td>...</td>\n",
       "      <td>Europe</td>\n",
       "      <td>Europe</td>\n",
       "      <td>Southern Europe</td>\n",
       "      <td>Europe &amp; Central Asia</td>\n",
       "      <td>5.0</td>\n",
       "      <td>5.0</td>\n",
       "      <td>3.0</td>\n",
       "      <td>-99.0</td>\n",
       "      <td>1.0</td>\n",
       "      <td>MULTIPOLYGON (((-17.88512 27.79792, -17.92642 ...</td>\n",
       "    </tr>\n",
       "    <tr>\n",
       "      <th>21</th>\n",
       "      <td>0.0</td>\n",
       "      <td>Admin-0 country</td>\n",
       "      <td>2.0</td>\n",
       "      <td>United Kingdom</td>\n",
       "      <td>GB1</td>\n",
       "      <td>1.0</td>\n",
       "      <td>2.0</td>\n",
       "      <td>Country</td>\n",
       "      <td>United Kingdom</td>\n",
       "      <td>GBR</td>\n",
       "      <td>...</td>\n",
       "      <td>Europe</td>\n",
       "      <td>Europe</td>\n",
       "      <td>Northern Europe</td>\n",
       "      <td>Europe &amp; Central Asia</td>\n",
       "      <td>14.0</td>\n",
       "      <td>14.0</td>\n",
       "      <td>4.0</td>\n",
       "      <td>-99.0</td>\n",
       "      <td>1.0</td>\n",
       "      <td>MULTIPOLYGON (((-6.28751 49.91401, -6.29727 49...</td>\n",
       "    </tr>\n",
       "    <tr>\n",
       "      <th>22</th>\n",
       "      <td>0.0</td>\n",
       "      <td>Admin-0 country</td>\n",
       "      <td>5.0</td>\n",
       "      <td>Lithuania</td>\n",
       "      <td>LTU</td>\n",
       "      <td>0.0</td>\n",
       "      <td>2.0</td>\n",
       "      <td>Sovereign country</td>\n",
       "      <td>Lithuania</td>\n",
       "      <td>LTU</td>\n",
       "      <td>...</td>\n",
       "      <td>Europe</td>\n",
       "      <td>Europe</td>\n",
       "      <td>Northern Europe</td>\n",
       "      <td>Europe &amp; Central Asia</td>\n",
       "      <td>9.0</td>\n",
       "      <td>9.0</td>\n",
       "      <td>5.0</td>\n",
       "      <td>-99.0</td>\n",
       "      <td>1.0</td>\n",
       "      <td>MULTIPOLYGON (((20.98894 55.29133, 20.98943 55...</td>\n",
       "    </tr>\n",
       "    <tr>\n",
       "      <th>23</th>\n",
       "      <td>0.0</td>\n",
       "      <td>Admin-0 country</td>\n",
       "      <td>6.0</td>\n",
       "      <td>Croatia</td>\n",
       "      <td>HRV</td>\n",
       "      <td>0.0</td>\n",
       "      <td>2.0</td>\n",
       "      <td>Sovereign country</td>\n",
       "      <td>Croatia</td>\n",
       "      <td>HRV</td>\n",
       "      <td>...</td>\n",
       "      <td>Europe</td>\n",
       "      <td>Europe</td>\n",
       "      <td>Southern Europe</td>\n",
       "      <td>Europe &amp; Central Asia</td>\n",
       "      <td>7.0</td>\n",
       "      <td>7.0</td>\n",
       "      <td>4.0</td>\n",
       "      <td>-99.0</td>\n",
       "      <td>1.0</td>\n",
       "      <td>MULTIPOLYGON (((16.93393 42.77094, 16.93637 42...</td>\n",
       "    </tr>\n",
       "    <tr>\n",
       "      <th>24</th>\n",
       "      <td>0.0</td>\n",
       "      <td>Admin-0 country</td>\n",
       "      <td>3.0</td>\n",
       "      <td>Sweden</td>\n",
       "      <td>SWE</td>\n",
       "      <td>0.0</td>\n",
       "      <td>2.0</td>\n",
       "      <td>Sovereign country</td>\n",
       "      <td>Sweden</td>\n",
       "      <td>SWE</td>\n",
       "      <td>...</td>\n",
       "      <td>Europe</td>\n",
       "      <td>Europe</td>\n",
       "      <td>Northern Europe</td>\n",
       "      <td>Europe &amp; Central Asia</td>\n",
       "      <td>6.0</td>\n",
       "      <td>6.0</td>\n",
       "      <td>4.0</td>\n",
       "      <td>-99.0</td>\n",
       "      <td>1.0</td>\n",
       "      <td>MULTIPOLYGON (((15.67530 56.12010, 15.68336 56...</td>\n",
       "    </tr>\n",
       "    <tr>\n",
       "      <th>25</th>\n",
       "      <td>0.0</td>\n",
       "      <td>Admin-0 country</td>\n",
       "      <td>2.0</td>\n",
       "      <td>Portugal</td>\n",
       "      <td>PRT</td>\n",
       "      <td>0.0</td>\n",
       "      <td>2.0</td>\n",
       "      <td>Sovereign country</td>\n",
       "      <td>Portugal</td>\n",
       "      <td>PRT</td>\n",
       "      <td>...</td>\n",
       "      <td>Europe</td>\n",
       "      <td>Europe</td>\n",
       "      <td>Southern Europe</td>\n",
       "      <td>Europe &amp; Central Asia</td>\n",
       "      <td>8.0</td>\n",
       "      <td>8.0</td>\n",
       "      <td>5.0</td>\n",
       "      <td>-99.0</td>\n",
       "      <td>1.0</td>\n",
       "      <td>MULTIPOLYGON (((-16.02310 30.03229, -16.02302 ...</td>\n",
       "    </tr>\n",
       "    <tr>\n",
       "      <th>26</th>\n",
       "      <td>0.0</td>\n",
       "      <td>Admin-0 country</td>\n",
       "      <td>6.0</td>\n",
       "      <td>Luxembourg</td>\n",
       "      <td>LUX</td>\n",
       "      <td>0.0</td>\n",
       "      <td>2.0</td>\n",
       "      <td>Sovereign country</td>\n",
       "      <td>Luxembourg</td>\n",
       "      <td>LUX</td>\n",
       "      <td>...</td>\n",
       "      <td>Europe</td>\n",
       "      <td>Europe</td>\n",
       "      <td>Western Europe</td>\n",
       "      <td>Europe &amp; Central Asia</td>\n",
       "      <td>10.0</td>\n",
       "      <td>10.0</td>\n",
       "      <td>4.0</td>\n",
       "      <td>5.0</td>\n",
       "      <td>1.0</td>\n",
       "      <td>POLYGON ((6.03863 50.14841, 6.06137 50.15074, ...</td>\n",
       "    </tr>\n",
       "    <tr>\n",
       "      <th>27</th>\n",
       "      <td>0.0</td>\n",
       "      <td>Admin-0 country</td>\n",
       "      <td>4.0</td>\n",
       "      <td>Austria</td>\n",
       "      <td>AUT</td>\n",
       "      <td>0.0</td>\n",
       "      <td>2.0</td>\n",
       "      <td>Sovereign country</td>\n",
       "      <td>Austria</td>\n",
       "      <td>AUT</td>\n",
       "      <td>...</td>\n",
       "      <td>Europe</td>\n",
       "      <td>Europe</td>\n",
       "      <td>Western Europe</td>\n",
       "      <td>Europe &amp; Central Asia</td>\n",
       "      <td>7.0</td>\n",
       "      <td>7.0</td>\n",
       "      <td>5.0</td>\n",
       "      <td>-99.0</td>\n",
       "      <td>1.0</td>\n",
       "      <td>POLYGON ((15.16179 48.93722, 15.23807 48.95076...</td>\n",
       "    </tr>\n",
       "  </tbody>\n",
       "</table>\n",
       "<p>28 rows × 66 columns</p>\n",
       "</div>"
      ],
      "text/plain": [
       "    scalerank       featurecla  labelrank      sovereignt sov_a3  adm0_dif  \\\n",
       "0         1.0  Admin-0 country        5.0          Cyprus    CYP       0.0   \n",
       "1         0.0  Admin-0 country        2.0          France    FR1       1.0   \n",
       "2         0.0  Admin-0 country        6.0         Estonia    EST       0.0   \n",
       "3         0.0  Admin-0 country        4.0         Denmark    DN1       1.0   \n",
       "4         0.0  Admin-0 country        3.0         Finland    FI1       1.0   \n",
       "5         0.0  Admin-0 country        6.0        Slovenia    SVN       0.0   \n",
       "6         0.0  Admin-0 country        5.0         Hungary    HUN       0.0   \n",
       "7         0.0  Admin-0 country        4.0        Bulgaria    BGR       0.0   \n",
       "8         5.0  Admin-0 country        5.0           Malta    MLT       0.0   \n",
       "9         0.0  Admin-0 country        2.0         Belgium    BEL       0.0   \n",
       "10        0.0  Admin-0 country        5.0  Czech Republic    CZE       0.0   \n",
       "11        0.0  Admin-0 country        5.0     Netherlands    NL1       1.0   \n",
       "12        0.0  Admin-0 country        3.0          Greece    GRC       0.0   \n",
       "13        0.0  Admin-0 country        6.0        Slovakia    SVK       0.0   \n",
       "14        0.0  Admin-0 country        3.0         Ireland    IRL       0.0   \n",
       "15        0.0  Admin-0 country        3.0         Romania    ROU       0.0   \n",
       "16        0.0  Admin-0 country        5.0          Latvia    LVA       0.0   \n",
       "17        0.0  Admin-0 country        3.0          Poland    POL       0.0   \n",
       "18        0.0  Admin-0 country        2.0           Italy    ITA       0.0   \n",
       "19        0.0  Admin-0 country        2.0         Germany    DEU       0.0   \n",
       "20        0.0  Admin-0 country        2.0           Spain    ESP       0.0   \n",
       "21        0.0  Admin-0 country        2.0  United Kingdom    GB1       1.0   \n",
       "22        0.0  Admin-0 country        5.0       Lithuania    LTU       0.0   \n",
       "23        0.0  Admin-0 country        6.0         Croatia    HRV       0.0   \n",
       "24        0.0  Admin-0 country        3.0          Sweden    SWE       0.0   \n",
       "25        0.0  Admin-0 country        2.0        Portugal    PRT       0.0   \n",
       "26        0.0  Admin-0 country        6.0      Luxembourg    LUX       0.0   \n",
       "27        0.0  Admin-0 country        4.0         Austria    AUT       0.0   \n",
       "\n",
       "    level               type           admin adm0_a3  ...  continent  \\\n",
       "0     2.0  Sovereign country          Cyprus     CYP  ...       Asia   \n",
       "1     2.0            Country          France     FRA  ...     Europe   \n",
       "2     2.0  Sovereign country         Estonia     EST  ...     Europe   \n",
       "3     2.0            Country         Denmark     DNK  ...     Europe   \n",
       "4     2.0            Country         Finland     FIN  ...     Europe   \n",
       "5     2.0  Sovereign country        Slovenia     SVN  ...     Europe   \n",
       "6     2.0  Sovereign country         Hungary     HUN  ...     Europe   \n",
       "7     2.0  Sovereign country        Bulgaria     BGR  ...     Europe   \n",
       "8     2.0  Sovereign country           Malta     MLT  ...     Europe   \n",
       "9     2.0  Sovereign country         Belgium     BEL  ...     Europe   \n",
       "10    2.0  Sovereign country  Czech Republic     CZE  ...     Europe   \n",
       "11    2.0            Country     Netherlands     NLD  ...     Europe   \n",
       "12    2.0  Sovereign country          Greece     GRC  ...     Europe   \n",
       "13    2.0  Sovereign country        Slovakia     SVK  ...     Europe   \n",
       "14    2.0  Sovereign country         Ireland     IRL  ...     Europe   \n",
       "15    2.0  Sovereign country         Romania     ROU  ...     Europe   \n",
       "16    2.0  Sovereign country          Latvia     LVA  ...     Europe   \n",
       "17    2.0  Sovereign country          Poland     POL  ...     Europe   \n",
       "18    2.0  Sovereign country           Italy     ITA  ...     Europe   \n",
       "19    2.0  Sovereign country         Germany     DEU  ...     Europe   \n",
       "20    2.0  Sovereign country           Spain     ESP  ...     Europe   \n",
       "21    2.0            Country  United Kingdom     GBR  ...     Europe   \n",
       "22    2.0  Sovereign country       Lithuania     LTU  ...     Europe   \n",
       "23    2.0  Sovereign country         Croatia     HRV  ...     Europe   \n",
       "24    2.0  Sovereign country          Sweden     SWE  ...     Europe   \n",
       "25    2.0  Sovereign country        Portugal     PRT  ...     Europe   \n",
       "26    2.0  Sovereign country      Luxembourg     LUX  ...     Europe   \n",
       "27    2.0  Sovereign country         Austria     AUT  ...     Europe   \n",
       "\n",
       "   region_un        subregion                   region_wb name_len long_len  \\\n",
       "0       Asia     Western Asia       Europe & Central Asia      6.0      6.0   \n",
       "1     Europe   Western Europe       Europe & Central Asia      6.0      6.0   \n",
       "2     Europe  Northern Europe       Europe & Central Asia      7.0      7.0   \n",
       "3     Europe  Northern Europe       Europe & Central Asia      7.0      7.0   \n",
       "4     Europe  Northern Europe       Europe & Central Asia      7.0      7.0   \n",
       "5     Europe  Southern Europe       Europe & Central Asia      8.0      8.0   \n",
       "6     Europe   Eastern Europe       Europe & Central Asia      7.0      7.0   \n",
       "7     Europe   Eastern Europe       Europe & Central Asia      8.0      8.0   \n",
       "8     Europe  Southern Europe  Middle East & North Africa      5.0      5.0   \n",
       "9     Europe   Western Europe       Europe & Central Asia      7.0      7.0   \n",
       "10    Europe   Eastern Europe       Europe & Central Asia     10.0     14.0   \n",
       "11    Europe   Western Europe       Europe & Central Asia     11.0     11.0   \n",
       "12    Europe  Southern Europe       Europe & Central Asia      6.0      6.0   \n",
       "13    Europe   Eastern Europe       Europe & Central Asia      8.0      8.0   \n",
       "14    Europe  Northern Europe       Europe & Central Asia      7.0      7.0   \n",
       "15    Europe   Eastern Europe       Europe & Central Asia      7.0      7.0   \n",
       "16    Europe  Northern Europe       Europe & Central Asia      6.0      6.0   \n",
       "17    Europe   Eastern Europe       Europe & Central Asia      6.0      6.0   \n",
       "18    Europe  Southern Europe       Europe & Central Asia      5.0      5.0   \n",
       "19    Europe   Western Europe       Europe & Central Asia      7.0      7.0   \n",
       "20    Europe  Southern Europe       Europe & Central Asia      5.0      5.0   \n",
       "21    Europe  Northern Europe       Europe & Central Asia     14.0     14.0   \n",
       "22    Europe  Northern Europe       Europe & Central Asia      9.0      9.0   \n",
       "23    Europe  Southern Europe       Europe & Central Asia      7.0      7.0   \n",
       "24    Europe  Northern Europe       Europe & Central Asia      6.0      6.0   \n",
       "25    Europe  Southern Europe       Europe & Central Asia      8.0      8.0   \n",
       "26    Europe   Western Europe       Europe & Central Asia     10.0     10.0   \n",
       "27    Europe   Western Europe       Europe & Central Asia      7.0      7.0   \n",
       "\n",
       "    abbrev_len  tiny homepart  \\\n",
       "0          4.0 -99.0      1.0   \n",
       "1          3.0 -99.0      1.0   \n",
       "2          4.0 -99.0      1.0   \n",
       "3          4.0 -99.0      1.0   \n",
       "4          4.0 -99.0      1.0   \n",
       "5          4.0 -99.0      1.0   \n",
       "6          4.0 -99.0      1.0   \n",
       "7          5.0 -99.0      1.0   \n",
       "8          5.0   3.0      1.0   \n",
       "9          5.0 -99.0      1.0   \n",
       "10         8.0 -99.0      1.0   \n",
       "11         5.0 -99.0      1.0   \n",
       "12         6.0 -99.0      1.0   \n",
       "13         4.0 -99.0      1.0   \n",
       "14         4.0 -99.0      1.0   \n",
       "15         4.0 -99.0      1.0   \n",
       "16         4.0 -99.0      1.0   \n",
       "17         4.0 -99.0      1.0   \n",
       "18         5.0 -99.0      1.0   \n",
       "19         4.0 -99.0      1.0   \n",
       "20         3.0 -99.0      1.0   \n",
       "21         4.0 -99.0      1.0   \n",
       "22         5.0 -99.0      1.0   \n",
       "23         4.0 -99.0      1.0   \n",
       "24         4.0 -99.0      1.0   \n",
       "25         5.0 -99.0      1.0   \n",
       "26         4.0   5.0      1.0   \n",
       "27         5.0 -99.0      1.0   \n",
       "\n",
       "                                             geometry  \n",
       "0   MULTIPOLYGON (((33.77399 34.98867, 33.77792 34...  \n",
       "1   MULTIPOLYGON (((55.50131 -20.87322, 55.51401 -...  \n",
       "2   MULTIPOLYGON (((23.27019 57.78563, 23.25025 57...  \n",
       "3   MULTIPOLYGON (((11.25603 54.95458, 11.30348 54...  \n",
       "4   MULTIPOLYGON (((22.44370 59.85147, 22.42774 59...  \n",
       "5   POLYGON ((16.34343 46.71418, 16.35728 46.71583...  \n",
       "6   POLYGON ((20.98149 48.51686, 21.00650 48.51815...  \n",
       "7   POLYGON ((22.91956 43.83422, 23.13185 43.84794...  \n",
       "8   MULTIPOLYGON (((14.56715 35.84561, 14.56178 35...  \n",
       "9   POLYGON ((4.81545 51.43107, 4.82268 51.41368, ...  \n",
       "10  POLYGON ((14.39781 51.01311, 14.42582 51.02094...  \n",
       "11  MULTIPOLYGON (((-68.23729 12.02680, -68.24254 ...  \n",
       "12  MULTIPOLYGON (((24.13526 34.82176, 24.13526 34...  \n",
       "13  POLYGON ((19.70632 49.38753, 19.72658 49.38887...  \n",
       "14  MULTIPOLYGON (((-9.82409 51.63890, -9.81697 51...  \n",
       "15  POLYGON ((26.72238 48.25977, 26.73313 48.27075...  \n",
       "16  POLYGON ((25.33368 58.03181, 25.33988 58.03258...  \n",
       "17  POLYGON ((19.00213 54.34492, 19.37721 54.37763...  \n",
       "18  MULTIPOLYGON (((12.62127 35.49234, 12.61109 35...  \n",
       "19  MULTIPOLYGON (((6.74220 53.57836, 6.74952 53.5...  \n",
       "20  MULTIPOLYGON (((-17.88512 27.79792, -17.92642 ...  \n",
       "21  MULTIPOLYGON (((-6.28751 49.91401, -6.29727 49...  \n",
       "22  MULTIPOLYGON (((20.98894 55.29133, 20.98943 55...  \n",
       "23  MULTIPOLYGON (((16.93393 42.77094, 16.93637 42...  \n",
       "24  MULTIPOLYGON (((15.67530 56.12010, 15.68336 56...  \n",
       "25  MULTIPOLYGON (((-16.02310 30.03229, -16.02302 ...  \n",
       "26  POLYGON ((6.03863 50.14841, 6.06137 50.15074, ...  \n",
       "27  POLYGON ((15.16179 48.93722, 15.23807 48.95076...  \n",
       "\n",
       "[28 rows x 66 columns]"
      ]
     },
     "execution_count": 19,
     "metadata": {},
     "output_type": "execute_result"
    }
   ],
   "source": [
    "ue"
   ]
  },
  {
   "cell_type": "markdown",
   "metadata": {},
   "source": [
    "Un fichier de données géographiques"
   ]
  },
  {
   "cell_type": "code",
   "execution_count": 20,
   "metadata": {},
   "outputs": [
    {
     "data": {
      "text/plain": [
       "Index(['scalerank', 'featurecla', 'labelrank', 'sovereignt', 'sov_a3',\n",
       "       'adm0_dif', 'level', 'type', 'admin', 'adm0_a3', 'geou_dif', 'geounit',\n",
       "       'gu_a3', 'su_dif', 'subunit', 'su_a3', 'brk_diff', 'name', 'name_long',\n",
       "       'brk_a3', 'brk_name', 'brk_group', 'abbrev', 'postal', 'formal_en',\n",
       "       'formal_fr', 'note_adm0', 'note_brk', 'name_sort', 'name_alt',\n",
       "       'mapcolor7', 'mapcolor8', 'mapcolor9', 'mapcolor13', 'pop_est',\n",
       "       'gdp_md_est', 'pop_year', 'lastcensus', 'gdp_year', 'economy',\n",
       "       'income_grp', 'wikipedia', 'fips_10', 'iso_a2', 'iso_a3', 'iso_n3',\n",
       "       'un_a3', 'wb_a2', 'wb_a3', 'woe_id', 'woe_id_eh', 'woe_note',\n",
       "       'adm0_a3_is', 'adm0_a3_us', 'adm0_a3_un', 'adm0_a3_wb', 'continent',\n",
       "       'region_un', 'subregion', 'region_wb', 'name_len', 'long_len',\n",
       "       'abbrev_len', 'tiny', 'homepart', 'geometry'],\n",
       "      dtype='object')"
      ]
     },
     "execution_count": 20,
     "metadata": {},
     "output_type": "execute_result"
    }
   ],
   "source": [
    "ue.columns"
   ]
  },
  {
   "cell_type": "code",
   "execution_count": 21,
   "metadata": {},
   "outputs": [
    {
     "data": {
      "text/plain": [
       "0     MULTIPOLYGON (((33.77399 34.98867, 33.77792 34...\n",
       "1     MULTIPOLYGON (((55.50131 -20.87322, 55.51401 -...\n",
       "2     MULTIPOLYGON (((23.27019 57.78563, 23.25025 57...\n",
       "3     MULTIPOLYGON (((11.25603 54.95458, 11.30348 54...\n",
       "4     MULTIPOLYGON (((22.44370 59.85147, 22.42774 59...\n",
       "5     POLYGON ((16.34343 46.71418, 16.35728 46.71583...\n",
       "6     POLYGON ((20.98149 48.51686, 21.00650 48.51815...\n",
       "7     POLYGON ((22.91956 43.83422, 23.13185 43.84794...\n",
       "8     MULTIPOLYGON (((14.56715 35.84561, 14.56178 35...\n",
       "9     POLYGON ((4.81545 51.43107, 4.82268 51.41368, ...\n",
       "10    POLYGON ((14.39781 51.01311, 14.42582 51.02094...\n",
       "11    MULTIPOLYGON (((-68.23729 12.02680, -68.24254 ...\n",
       "12    MULTIPOLYGON (((24.13526 34.82176, 24.13526 34...\n",
       "13    POLYGON ((19.70632 49.38753, 19.72658 49.38887...\n",
       "14    MULTIPOLYGON (((-9.82409 51.63890, -9.81697 51...\n",
       "15    POLYGON ((26.72238 48.25977, 26.73313 48.27075...\n",
       "16    POLYGON ((25.33368 58.03181, 25.33988 58.03258...\n",
       "17    POLYGON ((19.00213 54.34492, 19.37721 54.37763...\n",
       "18    MULTIPOLYGON (((12.62127 35.49234, 12.61109 35...\n",
       "19    MULTIPOLYGON (((6.74220 53.57836, 6.74952 53.5...\n",
       "20    MULTIPOLYGON (((-17.88512 27.79792, -17.92642 ...\n",
       "21    MULTIPOLYGON (((-6.28751 49.91401, -6.29727 49...\n",
       "22    MULTIPOLYGON (((20.98894 55.29133, 20.98943 55...\n",
       "23    MULTIPOLYGON (((16.93393 42.77094, 16.93637 42...\n",
       "24    MULTIPOLYGON (((15.67530 56.12010, 15.68336 56...\n",
       "25    MULTIPOLYGON (((-16.02310 30.03229, -16.02302 ...\n",
       "26    POLYGON ((6.03863 50.14841, 6.06137 50.15074, ...\n",
       "27    POLYGON ((15.16179 48.93722, 15.23807 48.95076...\n",
       "Name: geometry, dtype: geometry"
      ]
     },
     "execution_count": 21,
     "metadata": {},
     "output_type": "execute_result"
    }
   ],
   "source": [
    "ue[\"geometry\"]"
   ]
  },
  {
   "cell_type": "markdown",
   "metadata": {},
   "source": [
    "Un système de projection"
   ]
  },
  {
   "cell_type": "code",
   "execution_count": 22,
   "metadata": {},
   "outputs": [
    {
     "data": {
      "text/plain": [
       "<Geographic 2D CRS: EPSG:4326>\n",
       "Name: WGS 84\n",
       "Axis Info [ellipsoidal]:\n",
       "- Lat[north]: Geodetic latitude (degree)\n",
       "- Lon[east]: Geodetic longitude (degree)\n",
       "Area of Use:\n",
       "- name: World.\n",
       "- bounds: (-180.0, -90.0, 180.0, 90.0)\n",
       "Datum: World Geodetic System 1984 ensemble\n",
       "- Ellipsoid: WGS 84\n",
       "- Prime Meridian: Greenwich"
      ]
     },
     "execution_count": 22,
     "metadata": {},
     "output_type": "execute_result"
    }
   ],
   "source": [
    "ue.crs"
   ]
  },
  {
   "cell_type": "markdown",
   "metadata": {},
   "source": [
    "Que l'on peut éventuellement changer"
   ]
  },
  {
   "cell_type": "markdown",
   "metadata": {},
   "source": [
    "Des informations"
   ]
  },
  {
   "cell_type": "code",
   "execution_count": 23,
   "metadata": {},
   "outputs": [
    {
     "data": {
      "text/plain": [
       "0       531640.0\n",
       "1     64057792.0\n",
       "2      1299371.0\n",
       "3      5500510.0\n",
       "4      5250275.0\n",
       "5      2005692.0\n",
       "6      9905596.0\n",
       "7      7204687.0\n",
       "8       405165.0\n",
       "9     10414336.0\n",
       "10    10211904.0\n",
       "11    16715999.0\n",
       "12    10737428.0\n",
       "13     5463046.0\n",
       "14     4203200.0\n",
       "15    22215421.0\n",
       "16     2231503.0\n",
       "17    38482919.0\n",
       "18    58126212.0\n",
       "19    82329758.0\n",
       "20    40525002.0\n",
       "21    62262000.0\n",
       "22     3555179.0\n",
       "23     4489409.0\n",
       "24     9059651.0\n",
       "25    10707924.0\n",
       "26      491775.0\n",
       "27     8210281.0\n",
       "Name: pop_est, dtype: float64"
      ]
     },
     "execution_count": 23,
     "metadata": {},
     "output_type": "execute_result"
    }
   ],
   "source": [
    "ue[\"pop_est\"]"
   ]
  },
  {
   "cell_type": "code",
   "execution_count": 24,
   "metadata": {},
   "outputs": [],
   "source": [
    "europe = ue"
   ]
  },
  {
   "cell_type": "code",
   "execution_count": 25,
   "metadata": {
    "scrolled": true
   },
   "outputs": [
    {
     "data": {
      "text/plain": [
       "<AxesSubplot:>"
      ]
     },
     "execution_count": 25,
     "metadata": {},
     "output_type": "execute_result"
    },
    {
     "data": {
      "image/png": "[encoded data removed]",
      "text/plain": [
       "<Figure size 432x288 with 1 Axes>"
      ]
     },
     "metadata": {
      "needs_background": "light"
     },
     "output_type": "display_data"
    }
   ],
   "source": [
    "europe.plot()"
   ]
  },
  {
   "cell_type": "code",
   "execution_count": 26,
   "metadata": {},
   "outputs": [
    {
     "data": {
      "text/plain": [
       "<AxesSubplot:>"
      ]
     },
     "execution_count": 26,
     "metadata": {},
     "output_type": "execute_result"
    },
    {
     "data": {
      "image/png": "[encoded data removed]",
      "text/plain": [
       "<Figure size 432x288 with 1 Axes>"
      ]
     },
     "metadata": {
      "needs_background": "light"
     },
     "output_type": "display_data"
    }
   ],
   "source": [
    "europe.plot(column=\"pop_est\")"
   ]
  },
  {
   "cell_type": "markdown",
   "metadata": {},
   "source": [
    "Possibilité de manipuler ce fichier"
   ]
  },
  {
   "cell_type": "code",
   "execution_count": 27,
   "metadata": {},
   "outputs": [],
   "source": [
    "suisse = europe[europe[\"name\"]==\"France\"]"
   ]
  },
  {
   "cell_type": "code",
   "execution_count": 28,
   "metadata": {},
   "outputs": [
    {
     "data": {
      "text/plain": [
       "<AxesSubplot:>"
      ]
     },
     "execution_count": 28,
     "metadata": {},
     "output_type": "execute_result"
    },
    {
     "data": {
      "image/png": "[encoded data removed]",
      "text/plain": [
       "<Figure size 432x288 with 1 Axes>"
      ]
     },
     "metadata": {
      "needs_background": "light"
     },
     "output_type": "display_data"
    }
   ],
   "source": [
    "suisse.plot()"
   ]
  },
  {
   "cell_type": "markdown",
   "metadata": {},
   "source": [
    "Enlever le Royaume-Uni ? Enlever la Réunion ?"
   ]
  },
  {
   "cell_type": "markdown",
   "metadata": {},
   "source": [
    "Et maintenant, ajouter la suisse ?\n",
    "\n",
    "- https://geodata.lib.berkeley.edu/catalog/stanford-jn788wp9910"
   ]
  },
  {
   "cell_type": "code",
   "execution_count": 30,
   "metadata": {},
   "outputs": [],
   "source": [
    "fichier = \"Data/suisse/CHE_adm1.shp\"\n",
    "\n",
    "suisse = gpd.read_file(fichier)"
   ]
  },
  {
   "cell_type": "code",
   "execution_count": 31,
   "metadata": {},
   "outputs": [
    {
     "data": {
      "text/plain": [
       "<AxesSubplot:>"
      ]
     },
     "execution_count": 31,
     "metadata": {},
     "output_type": "execute_result"
    },
    {
     "data": {
      "image/png": "[encoded data removed]",
      "text/plain": [
       "<Figure size 432x288 with 1 Axes>"
      ]
     },
     "metadata": {
      "needs_background": "light"
     },
     "output_type": "display_data"
    }
   ],
   "source": [
    "suisse.plot()"
   ]
  },
  {
   "cell_type": "code",
   "execution_count": 32,
   "metadata": {},
   "outputs": [
    {
     "data": {
      "text/plain": [
       "<Geographic 2D CRS: EPSG:4326>\n",
       "Name: WGS 84\n",
       "Axis Info [ellipsoidal]:\n",
       "- Lat[north]: Geodetic latitude (degree)\n",
       "- Lon[east]: Geodetic longitude (degree)\n",
       "Area of Use:\n",
       "- name: World.\n",
       "- bounds: (-180.0, -90.0, 180.0, 90.0)\n",
       "Datum: World Geodetic System 1984 ensemble\n",
       "- Ellipsoid: WGS 84\n",
       "- Prime Meridian: Greenwich"
      ]
     },
     "execution_count": 32,
     "metadata": {},
     "output_type": "execute_result"
    }
   ],
   "source": [
    "suisse.crs"
   ]
  },
  {
   "cell_type": "code",
   "execution_count": 33,
   "metadata": {},
   "outputs": [],
   "source": [
    "suisse_p = suisse.dissolve(by=\"NAME_0\",aggfunc='first')"
   ]
  },
  {
   "cell_type": "code",
   "execution_count": 34,
   "metadata": {},
   "outputs": [
    {
     "data": {
      "text/plain": [
       "<AxesSubplot:>"
      ]
     },
     "execution_count": 34,
     "metadata": {},
     "output_type": "execute_result"
    },
    {
     "data": {
      "image/png": "[encoded data removed]",
      "text/plain": [
       "<Figure size 432x288 with 1 Axes>"
      ]
     },
     "metadata": {
      "needs_background": "light"
     },
     "output_type": "display_data"
    }
   ],
   "source": [
    "suisse_p.plot()"
   ]
  },
  {
   "cell_type": "markdown",
   "metadata": {},
   "source": [
    "Ajouter la suisse à l'Union Européenne"
   ]
  },
  {
   "cell_type": "code",
   "execution_count": 84,
   "metadata": {},
   "outputs": [
    {
     "data": {
      "text/plain": [
       "Index(['scalerank', 'featurecla', 'labelrank', 'sovereignt', 'sov_a3',\n",
       "       'adm0_dif', 'level', 'type', 'admin', 'adm0_a3', 'geou_dif', 'geounit',\n",
       "       'gu_a3', 'su_dif', 'subunit', 'su_a3', 'brk_diff', 'name', 'name_long',\n",
       "       'brk_a3', 'brk_name', 'brk_group', 'abbrev', 'postal', 'formal_en',\n",
       "       'formal_fr', 'note_adm0', 'note_brk', 'name_sort', 'name_alt',\n",
       "       'mapcolor7', 'mapcolor8', 'mapcolor9', 'mapcolor13', 'pop_est',\n",
       "       'gdp_md_est', 'pop_year', 'lastcensus', 'gdp_year', 'economy',\n",
       "       'income_grp', 'wikipedia', 'fips_10', 'iso_a2', 'iso_a3', 'iso_n3',\n",
       "       'un_a3', 'wb_a2', 'wb_a3', 'woe_id', 'woe_id_eh', 'woe_note',\n",
       "       'adm0_a3_is', 'adm0_a3_us', 'adm0_a3_un', 'adm0_a3_wb', 'continent',\n",
       "       'region_un', 'subregion', 'region_wb', 'name_len', 'long_len',\n",
       "       'abbrev_len', 'tiny', 'homepart', 'geometry'],\n",
       "      dtype='object')"
      ]
     },
     "execution_count": 84,
     "metadata": {},
     "output_type": "execute_result"
    }
   ],
   "source": [
    "europe.keys()"
   ]
  },
  {
   "cell_type": "code",
   "execution_count": 112,
   "metadata": {},
   "outputs": [
    {
     "data": {
      "text/html": [
       "<div>\n",
       "<style scoped>\n",
       "    .dataframe tbody tr th:only-of-type {\n",
       "        vertical-align: middle;\n",
       "    }\n",
       "\n",
       "    .dataframe tbody tr th {\n",
       "        vertical-align: top;\n",
       "    }\n",
       "\n",
       "    .dataframe thead th {\n",
       "        text-align: right;\n",
       "    }\n",
       "</style>\n",
       "<table border=\"1\" class=\"dataframe\">\n",
       "  <thead>\n",
       "    <tr style=\"text-align: right;\">\n",
       "      <th></th>\n",
       "      <th>geometry</th>\n",
       "      <th>ID_0</th>\n",
       "      <th>ISO</th>\n",
       "      <th>ID_1</th>\n",
       "      <th>NAME_1</th>\n",
       "      <th>HASC_1</th>\n",
       "      <th>CCN_1</th>\n",
       "      <th>CCA_1</th>\n",
       "      <th>TYPE_1</th>\n",
       "      <th>ENGTYPE_1</th>\n",
       "      <th>NL_NAME_1</th>\n",
       "      <th>VARNAME_1</th>\n",
       "    </tr>\n",
       "    <tr>\n",
       "      <th>NAME_0</th>\n",
       "      <th></th>\n",
       "      <th></th>\n",
       "      <th></th>\n",
       "      <th></th>\n",
       "      <th></th>\n",
       "      <th></th>\n",
       "      <th></th>\n",
       "      <th></th>\n",
       "      <th></th>\n",
       "      <th></th>\n",
       "      <th></th>\n",
       "      <th></th>\n",
       "    </tr>\n",
       "  </thead>\n",
       "  <tbody>\n",
       "    <tr>\n",
       "      <th>Switzerland</th>\n",
       "      <td>MULTIPOLYGON (((6.23123 46.30991, 6.23293 46.3...</td>\n",
       "      <td>223</td>\n",
       "      <td>CHE</td>\n",
       "      <td>1</td>\n",
       "      <td>Aargau</td>\n",
       "      <td>CH.AG</td>\n",
       "      <td>0</td>\n",
       "      <td>None</td>\n",
       "      <td>Canton|Kanton|Chantun</td>\n",
       "      <td>Canton</td>\n",
       "      <td>None</td>\n",
       "      <td>Argovia|Arg¢via|Argovie</td>\n",
       "    </tr>\n",
       "  </tbody>\n",
       "</table>\n",
       "</div>"
      ],
      "text/plain": [
       "                                                      geometry  ID_0  ISO  \\\n",
       "NAME_0                                                                      \n",
       "Switzerland  MULTIPOLYGON (((6.23123 46.30991, 6.23293 46.3...   223  CHE   \n",
       "\n",
       "             ID_1  NAME_1 HASC_1  CCN_1 CCA_1                 TYPE_1  \\\n",
       "NAME_0                                                                 \n",
       "Switzerland     1  Aargau  CH.AG      0  None  Canton|Kanton|Chantun   \n",
       "\n",
       "            ENGTYPE_1 NL_NAME_1                VARNAME_1  \n",
       "NAME_0                                                    \n",
       "Switzerland    Canton      None  Argovia|Arg¢via|Argovie  "
      ]
     },
     "execution_count": 112,
     "metadata": {},
     "output_type": "execute_result"
    }
   ],
   "source": [
    "suisse_p"
   ]
  },
  {
   "cell_type": "code",
   "execution_count": 101,
   "metadata": {},
   "outputs": [],
   "source": [
    "europe_mod = europe[[\"name\",\"geometry\"]].set_index(\"name\")"
   ]
  },
  {
   "cell_type": "code",
   "execution_count": 109,
   "metadata": {},
   "outputs": [],
   "source": [
    "europe_mod = europe_mod.append(suisse_p[europe_mod.columns])"
   ]
  },
  {
   "cell_type": "code",
   "execution_count": 113,
   "metadata": {},
   "outputs": [
    {
     "data": {
      "text/plain": [
       "<AxesSubplot:>"
      ]
     },
     "execution_count": 113,
     "metadata": {},
     "output_type": "execute_result"
    },
    {
     "data": {
      "image/png": "[encoded data removed]",
      "text/plain": [
       "<Figure size 432x288 with 1 Axes>"
      ]
     },
     "metadata": {
      "needs_background": "light"
     },
     "output_type": "display_data"
    }
   ],
   "source": [
    "europe_mod.plot()"
   ]
  },
  {
   "cell_type": "markdown",
   "metadata": {},
   "source": [
    "## Ajouter des informations\n",
    "\n",
    "Maintenant qu'il est clair que c'est un jeu de données avec différentes informations, rien ne nous empêche de rajouter une colonne.\n",
    "\n",
    "On peut par exemple s'interface avec Wikipédia pour récupérer une information, par ex. la longueur de la page wikipédia associée au pays"
   ]
  },
  {
   "cell_type": "code",
   "execution_count": 114,
   "metadata": {},
   "outputs": [],
   "source": [
    "import wikipedia"
   ]
  },
  {
   "cell_type": "code",
   "execution_count": 115,
   "metadata": {},
   "outputs": [
    {
     "data": {
      "text/plain": [
       "['France',\n",
       " 'France national football team',\n",
       " 'French cuisine',\n",
       " 'French of France',\n",
       " 'Coupe de France',\n",
       " 'List of French monarchs',\n",
       " 'French colonial empire',\n",
       " 'Departments of France',\n",
       " 'President of France',\n",
       " 'Vichy France']"
      ]
     },
     "execution_count": 115,
     "metadata": {},
     "output_type": "execute_result"
    }
   ],
   "source": [
    "wikipedia.search(\"France\")"
   ]
  },
  {
   "cell_type": "code",
   "execution_count": 41,
   "metadata": {},
   "outputs": [],
   "source": [
    "p = wikipedia.page(\"France\")"
   ]
  },
  {
   "cell_type": "code",
   "execution_count": 42,
   "metadata": {},
   "outputs": [
    {
     "data": {
      "text/plain": [
       "140219"
      ]
     },
     "execution_count": 42,
     "metadata": {},
     "output_type": "execute_result"
    }
   ],
   "source": [
    "len(p.content)"
   ]
  },
  {
   "cell_type": "markdown",
   "metadata": {},
   "source": [
    "Il suffit de faire une boucle"
   ]
  },
  {
   "cell_type": "markdown",
   "metadata": {},
   "source": [
    "Essayer aussi d'installer et utiliser `wptools`."
   ]
  },
  {
   "cell_type": "markdown",
   "metadata": {},
   "source": [
    "## Aller vers une carte plus complexe et la visualisation\n",
    "\n",
    "- géolocaliser des élément à mettre sur la carte (construire de nouveaux points, par ex. Lausanne)\n",
    "- mettre certaines frontières en gras (par ex. la suisse)\n",
    "- colorer les pays en fonction de certains critères ?\n",
    "- insérer une icone sur certaines coordonnées\n",
    "- superposer avec une image satellite ??? (je ne sais pas comment faire)"
   ]
  },
  {
   "cell_type": "code",
   "execution_count": 43,
   "metadata": {},
   "outputs": [],
   "source": [
    "import geocoder"
   ]
  },
  {
   "cell_type": "code",
   "execution_count": 44,
   "metadata": {},
   "outputs": [],
   "source": [
    "req = geocoder.osm(\"Lausanne, Suisse\")"
   ]
  },
  {
   "cell_type": "code",
   "execution_count": 45,
   "metadata": {},
   "outputs": [
    {
     "data": {
      "image/svg+xml": [
       "<svg xmlns=\"http://www.w3.org/2000/svg\" xmlns:xlink=\"http://www.w3.org/1999/xlink\" width=\"100.0\" height=\"100.0\" viewBox=\"45.5218269 5.6327025 2.0 2.0\" preserveAspectRatio=\"xMinYMin meet\"><g transform=\"matrix(1,0,0,-1,0,13.265405)\"><circle cx=\"46.5218269\" cy=\"6.6327025\" r=\"0.06\" stroke=\"#555555\" stroke-width=\"0.02\" fill=\"#66cc99\" opacity=\"0.6\" /></g></svg>"
      ],
      "text/plain": [
       "<shapely.geometry.point.Point at 0x1648786a0>"
      ]
     },
     "execution_count": 45,
     "metadata": {},
     "output_type": "execute_result"
    }
   ],
   "source": [
    "Point(req.latlng)"
   ]
  },
  {
   "cell_type": "code",
   "execution_count": 46,
   "metadata": {},
   "outputs": [
    {
     "data": {
      "text/plain": [
       "[46.5218269, 6.6327025]"
      ]
     },
     "execution_count": 46,
     "metadata": {},
     "output_type": "execute_result"
    }
   ],
   "source": [
    "req.latlng"
   ]
  },
  {
   "cell_type": "code",
   "execution_count": 62,
   "metadata": {},
   "outputs": [],
   "source": [
    "req.latlng??"
   ]
  },
  {
   "cell_type": "markdown",
   "metadata": {},
   "source": [
    "Nous avons parlé API auparavent. \n",
    "Ici `latlong` est probablement un API qui aurais plus être mieux pensée:\n",
    "\n",
    "  - L'appeler `longlat`, vue que la longitude est en premier. \n",
    "  - Utiliser un `namedtuple` (où une `dataclass` si vraiment recent en Pyton)\n",
    "      - On pourrait utiliser `.long`, `.lat` qui est moins ambigue que 0,1\n",
    "      - immutable, pas de risque de modifier les coordonnées par erreur."
   ]
  },
  {
   "cell_type": "code",
   "execution_count": 66,
   "metadata": {},
   "outputs": [
    {
     "data": {
      "text/plain": [
       "(46.5218269, 6.6327025, 46.5218269, 6.6327025)"
      ]
     },
     "execution_count": 66,
     "metadata": {},
     "output_type": "execute_result"
    }
   ],
   "source": [
    "from collections import namedtuple\n",
    "LngLat = namedtuple('LongLat', ['long','lat'])\n",
    "l = LngLat(*req.latlng)\n",
    "l[0], l[1], l.long, l.lat"
   ]
  },
  {
   "cell_type": "code",
   "execution_count": 82,
   "metadata": {},
   "outputs": [
    {
     "data": {
      "text/plain": [
       "(1.6327024999999997, 11.6327025, 41.5218269, 51.5218269)"
      ]
     },
     "execution_count": 82,
     "metadata": {},
     "output_type": "execute_result"
    },
    {
     "data": {
      "image/png": "[encoded data removed]",
      "text/plain": [
       "<Figure size 720x720 with 1 Axes>"
      ]
     },
     "metadata": {
      "needs_background": "light"
     },
     "output_type": "display_data"
    }
   ],
   "source": [
    "import matplotlib.pyplot as plt\n",
    "fig,ax = plt.subplots(figsize=(10,10))\n",
    "europe_mod.plot(ax=ax, linewidth=1, edgecolor='white', color='C0')\n",
    "long, lat = req.latlng\n",
    "ax.plot(lat, long, color='C1', marker=\"o\")\n",
    "ax.set_xlim(lat-5,lat+5)\n",
    "ax.set_ylim(long-5,long+5)\n",
    "ax.axis(False)"
   ]
  },
  {
   "cell_type": "markdown",
   "metadata": {},
   "source": [
    "## Routiniser notre script"
   ]
  },
  {
   "cell_type": "markdown",
   "metadata": {},
   "source": [
    "Faire une fonction qui prend en entrée une coordonnée GPS et donne le pays associé et des informations issues de wikipédia"
   ]
  },
  {
   "cell_type": "markdown",
   "metadata": {},
   "source": [
    "On peut utiliser la fonction contains de Geopandas qui permet de savoir si un élément est contenu"
   ]
  },
  {
   "cell_type": "code",
   "execution_count": 48,
   "metadata": {},
   "outputs": [
    {
     "data": {
      "text/plain": [
       "name\n",
       "Cyprus            False\n",
       "France            False\n",
       "Estonia           False\n",
       "Denmark           False\n",
       "Finland           False\n",
       "Slovenia          False\n",
       "Hungary           False\n",
       "Bulgaria          False\n",
       "Malta             False\n",
       "Belgium           False\n",
       "Czech Rep.        False\n",
       "Netherlands       False\n",
       "Greece            False\n",
       "Slovakia          False\n",
       "Ireland           False\n",
       "Romania           False\n",
       "Latvia            False\n",
       "Poland            False\n",
       "Italy             False\n",
       "Germany           False\n",
       "Spain             False\n",
       "United Kingdom    False\n",
       "Lithuania         False\n",
       "Croatia           False\n",
       "Sweden            False\n",
       "Portugal          False\n",
       "Luxembourg        False\n",
       "Austria           False\n",
       "Suisse             True\n",
       "dtype: bool"
      ]
     },
     "execution_count": 48,
     "metadata": {},
     "output_type": "execute_result"
    }
   ],
   "source": [
    "p = Point(req.latlng[1],req.latlng[0])\n",
    "europe_mod.contains(p)"
   ]
  },
  {
   "cell_type": "markdown",
   "metadata": {},
   "source": [
    "## Outil on ligne de commande. "
   ]
  },
  {
   "cell_type": "markdown",
   "metadata": {},
   "source": [
    "Il se peut que vous ayer a faire se traitement and grand nombre de fois, il peut être pénible de demarer un notebook a chaque fois. Avoir les functions ci dessus vont être très utiles. Nous allons rapidement voir comment faire un un script que l'on peut utiliser en ligne de commande. Tant que nous y somme nous allons utiliser les mêmes function pour developper un serveur web."
   ]
  },
  {
   "cell_type": "markdown",
   "metadata": {},
   "source": [
    "Placer le suivant dans un fichier `.py`:\n",
    "\n",
    "```python\n",
    "\n",
    "# sys sera utilisé pour acceder aux parametres en lignes de commande\n",
    "import sys\n",
    "import io\n",
    "\n",
    "import geocoder\n",
    "\n",
    "import matplotlib\n",
    "# Special instruction quand on affiche pas\n",
    "# les image dirrectement a faire _avant_ \n",
    "# tout autre import matplotlib\n",
    "matplotlib.use('agg')\n",
    "\n",
    "import matplotlib.pyplot as plt\n",
    "import argparse\n",
    "import wptools \n",
    "\n",
    "from functools import lru_cache\n",
    "import flask\n",
    "from flask import Flask, Response\n",
    "app = Flask(__name__)\n",
    "\n",
    "\n",
    "\n",
    "import geopandas as gpd\n",
    "europe_file = \"../Formation-Unil/Data/europe/european-union-countries.shp\"\n",
    "europe = gpd.read_file(europe_file)\n",
    "suisse_file = \"../Formation-Unil/Data/suisse/CHE_adm1.shp\"\n",
    "suisse = gpd.read_file(suisse_file)\n",
    "suisse_p = suisse.dissolve(by=\"NAME_0\",aggfunc='first')\n",
    "europe_mod = europe[[\"name\",\"geometry\"]].set_index(\"name\")\n",
    "europe_mod = europe_mod.append(suisse_p[europe_mod.columns])\n",
    "\n",
    "\n",
    "@lru_cache   # si location et radius ne changent pas met les resultats en cache.\n",
    "def _fig(location, radius):\n",
    "    req = geocoder.osm(location)\n",
    "    fig,ax = plt.subplots(figsize=(10,10))\n",
    "    europe_mod.plot(ax=ax, linewidth=1, edgecolor='white', color='C0')\n",
    "    long, lat = req.latlng\n",
    "    ax.plot(lat, long, color='C1', marker=\"o\")\n",
    "    ax.set_xlim(lat-radius,lat+radius)\n",
    "    ax.set_ylim(long-radius,long+radius)\n",
    "    ax.axis(False)\n",
    "    infobox = wptools.page(location).get_parse().data['infobox']\n",
    "    elevation = infobox.get('elevation', None)\n",
    "    area = infobox.get('area')\n",
    "    ax.set_title(f'Carte de {location} | {elevation}m | {area}$km^2$')\n",
    "\n",
    "    nom_de_fichier = f\"{location}.png\"\n",
    "    return fig\n",
    "\n",
    "\n",
    "def main(location, radius):\n",
    "    fig = _fig(location, radius)\n",
    "    fig.savefig(f\"{location}.png\")\n",
    "    print(f\"saved as {nom_de_fichier}\")\n",
    "\n",
    "    \n",
    "# serveur web.\n",
    "@app.route('/<path:location>.png')\n",
    "def handle(location):\n",
    "    radius = 5\n",
    "    buf = io.BytesIO()\n",
    "    fig = _fig(location, radius)\n",
    "    fig.savefig(buf, format='png')\n",
    "    buf.seek(0)\n",
    "    return Response(buf.read(), mimetype='image/png', headers={\"Content-Disposition\": \"inline\"})\n",
    "\n",
    "\n",
    "# Quand on fait `python <fichier>.py` ce bloc va être executé. \n",
    "# Pas si on fait `import <fichier>`.\n",
    "if __name__ == '__main__':\n",
    "    parser = argparse.ArgumentParser(description='Save a PNG file of given location')\n",
    "    parser.add_argument('location', metavar='loc', type=str, nargs=1,\n",
    "                    help='where')\n",
    "    parser.add_argument('--radius', dest='radius',\n",
    "                    type=int, default=5,\n",
    "                    help='Radius around location to draw')\n",
    "    parser.add_argument('--server', dest='server', action='store_true',\n",
    "                    help='Start a falsk server')\n",
    "\n",
    "\n",
    "    args = parser.parse_args()\n",
    "    if args.server:\n",
    "        app.run()\n",
    "    else:\n",
    "        print(args.location)\n",
    "        print(args.radius)\n",
    "        main(args.location[0], args.radius)\n",
    "```"
   ]
  },
  {
   "cell_type": "markdown",
   "metadata": {},
   "source": [
    "Essayons:\n",
    "\n",
    "```\n",
    "$ python <fichier>.py --help\n",
    "$ python <fichier>.py zurich\n",
    "$ python <fichier>.py ...\n",
    "```"
   ]
  },
  {
   "cell_type": "markdown",
   "metadata": {},
   "source": [
    "Regardons:\n",
    "```\n",
    "$ python <fichier>.py ... --server\n",
    "```"
   ]
  },
  {
   "cell_type": "markdown",
   "metadata": {},
   "source": [
    "## Faire des traitements avancés sur une carte en termes de visualisation"
   ]
  },
  {
   "cell_type": "markdown",
   "metadata": {},
   "source": [
    "Les points à aborder :\n",
    "\n",
    "- Shapefile France\n",
    "- Geopandas\n",
    "- Faire de la manipulation d'un tableau GéoPandas\n",
    "- sélectionner une zone avec union + plygone\n",
    "- Visualisation complexe et modifier la carte\n",
    "- faire un script qui prend en entrée un rayon et un centre\n",
    "- coupler avec osm pour localiser\n",
    "- faire un script one line\n",
    "- GitHub"
   ]
  },
  {
   "cell_type": "code",
   "execution_count": null,
   "metadata": {},
   "outputs": [],
   "source": []
  }
 ],
 "metadata": {
  "kernelspec": {
   "display_name": "Python 3",
   "language": "python",
   "name": "python3"
  },
  "language_info": {
   "codemirror_mode": {
    "name": "ipython",
    "version": 3
   },
   "file_extension": ".py",
   "mimetype": "text/x-python",
   "name": "python",
   "nbconvert_exporter": "python",
   "pygments_lexer": "ipython3",
   "version": "3.8.10"
  }
 },
 "nbformat": 4,
 "nbformat_minor": 4
}
